{
 "cells": [
  {
   "cell_type": "code",
   "execution_count": 1,
   "metadata": {
    "ExecuteTime": {
     "end_time": "2022-12-20T15:11:25.145336Z",
     "start_time": "2022-12-20T15:11:24.689684Z"
    }
   },
   "outputs": [],
   "source": [
    "import gym\n",
    "import tqdm\n",
    "import time\n",
    "import numpy as np\n",
    "import matplotlib.pyplot as plt"
   ]
  },
  {
   "cell_type": "code",
   "execution_count": 2,
   "metadata": {
    "ExecuteTime": {
     "end_time": "2022-12-20T15:11:25.154234Z",
     "start_time": "2022-12-20T15:11:25.147516Z"
    }
   },
   "outputs": [],
   "source": [
    "def test_stats(env, policy, trajectory_len, n_action):\n",
    "    return np.mean([test(env, policy, 100, n_actions, render=False) for i in range(25)])\n",
    "def test(env, policy, trajectory_len, n_actions, render = False, ):\n",
    "    state = env.reset()\n",
    "    total_reward = 0\n",
    "    \n",
    "    for _ in tqdm.tqdm(range(trajectory_len), disable=not render):\n",
    "        action = get_action(policy, state)\n",
    "        state, reward, done, _ = env.step(action)\n",
    "        total_reward += reward\n",
    "        if render: \n",
    "            env.render()\n",
    "            time.sleep(0.25)\n",
    "        if  done: \n",
    "            break\n",
    "    return total_reward"
   ]
  },
  {
   "cell_type": "markdown",
   "metadata": {},
   "source": [
    "### $\\varepsilon$-Greedy Policy:\n",
    "$$\n",
    "\\begin{array}{l}\n",
    "\\pi(a|s) =\n",
    "\\left\\{\n",
    "\\begin{array}{ll}\n",
    "1 - \\varepsilon + \\varepsilon / m,& \\text{ если } a \\in \\mathrm{argmax}_{a' \\in \\mathcal{A}}\\, Q(s,a'),\\\\\n",
    "\\varepsilon / m,& \\text{ иначе }\n",
    "\\end{array}\n",
    "\\right.\n",
    "\\end{array}\n",
    "$$"
   ]
  },
  {
   "cell_type": "code",
   "execution_count": 3,
   "metadata": {
    "ExecuteTime": {
     "end_time": "2022-12-20T15:11:25.476603Z",
     "start_time": "2022-12-20T15:11:25.467942Z"
    }
   },
   "outputs": [],
   "source": [
    "def get_trajectory(env, policy):\n",
    "    rewards = []\n",
    "    actions = []\n",
    "    states = []\n",
    "    state = env.reset()\n",
    "    while True:\n",
    "        states.append(state)\n",
    "        action = get_action(policy, state)\n",
    "        actions.append(action)\n",
    "        state, reward, done, _ = env.step(action)\n",
    "        rewards.append(reward)\n",
    "        if done:\n",
    "            break\n",
    "    return states, actions, rewards"
   ]
  },
  {
   "cell_type": "code",
   "execution_count": 4,
   "metadata": {
    "ExecuteTime": {
     "end_time": "2022-12-20T15:11:25.877168Z",
     "start_time": "2022-12-20T15:11:25.866577Z"
    }
   },
   "outputs": [],
   "source": [
    "def epsilon_greedy_policy(eps, q_value):\n",
    "    n_actions = q_value.shape[1]\n",
    "    pol = np.zeros(q_value.shape)+ eps/n_actions\n",
    "    idx = np.argmax(q_value, axis=1)\n",
    "    pol[np.arange(q_value.shape[0]),idx] += 1-eps\n",
    "    return pol\n",
    "def epsilon_greedy_policy_action(eps, state, q_value):\n",
    "    n_actions = q_value.shape[1]\n",
    "    pol = np.zeros((n_actions,))+ eps/n_actions\n",
    "    idx = np.argmax(q_value[state])\n",
    "    pol[idx] += 1 - eps\n",
    "    return np.random.choice(n_actions, p=pol)"
   ]
  },
  {
   "cell_type": "code",
   "execution_count": 5,
   "metadata": {
    "ExecuteTime": {
     "end_time": "2022-12-20T15:11:26.339750Z",
     "start_time": "2022-12-20T15:11:26.334388Z"
    }
   },
   "outputs": [],
   "source": [
    "def get_action(policy, state):\n",
    "    return np.random.choice(policy.shape[1], p=policy[state])"
   ]
  },
  {
   "cell_type": "code",
   "execution_count": 17,
   "metadata": {
    "ExecuteTime": {
     "end_time": "2022-12-20T04:55:05.183215Z",
     "start_time": "2022-12-20T04:55:05.173724Z"
    }
   },
   "outputs": [
    {
     "data": {
      "text/plain": [
       "array([[0.92666667, 0.03666667, 0.03666667],\n",
       "       [0.03666667, 0.92666667, 0.03666667],\n",
       "       [0.92666667, 0.03666667, 0.03666667],\n",
       "       [0.92666667, 0.03666667, 0.03666667],\n",
       "       [0.92666667, 0.03666667, 0.03666667]])"
      ]
     },
     "execution_count": 17,
     "metadata": {},
     "output_type": "execute_result"
    }
   ],
   "source": [
    "eps = 1\n",
    "q_value = np.array(\\\n",
    "          [[0.5,0.3,0.2],\n",
    "           [0.1,0.7,0.2],\n",
    "           [0.6,0.2,0.3],\n",
    "           [0.4,0.3,0.3],\n",
    "           [0.3333,0.3333,0.3333]])\n",
    "new_policy = epsilon_greedy_policy(0.11, q_value)\n",
    "new_policy"
   ]
  },
  {
   "cell_type": "code",
   "execution_count": 18,
   "metadata": {
    "ExecuteTime": {
     "end_time": "2022-12-20T04:55:05.420596Z",
     "start_time": "2022-12-20T04:55:05.369739Z"
    }
   },
   "outputs": [],
   "source": [
    "acts = [get_action(new_policy, 1) for _ in range(1000)]"
   ]
  },
  {
   "cell_type": "code",
   "execution_count": 19,
   "metadata": {
    "ExecuteTime": {
     "end_time": "2022-12-20T04:55:05.756860Z",
     "start_time": "2022-12-20T04:55:05.571188Z"
    }
   },
   "outputs": [
    {
     "data": {
      "text/plain": [
       "(array([ 25.,   0.,   0.,   0.,   0., 939.,   0.,   0.,   0.,  36.]),\n",
       " array([0. , 0.2, 0.4, 0.6, 0.8, 1. , 1.2, 1.4, 1.6, 1.8, 2. ]),\n",
       " <a list of 10 Patch objects>)"
      ]
     },
     "execution_count": 19,
     "metadata": {},
     "output_type": "execute_result"
    },
    {
     "data": {
      "image/png": "[encoded data removed]",
      "text/plain": [
       "<Figure size 432x288 with 1 Axes>"
      ]
     },
     "metadata": {
      "needs_background": "light"
     },
     "output_type": "display_data"
    }
   ],
   "source": [
    "plt.hist(acts)"
   ]
  },
  {
   "cell_type": "code",
   "execution_count": 20,
   "metadata": {
    "ExecuteTime": {
     "end_time": "2022-12-20T04:55:05.816546Z",
     "start_time": "2022-12-20T04:55:05.792159Z"
    }
   },
   "outputs": [
    {
     "name": "stdout",
     "output_type": "stream",
     "text": [
      "198\n",
      "197\n",
      "196\n",
      "195\n",
      "194\n",
      "193\n",
      "192\n",
      "191\n",
      "190\n",
      "189\n",
      "188\n",
      "187\n",
      "186\n",
      "185\n",
      "184\n",
      "183\n",
      "182\n",
      "181\n",
      "180\n",
      "179\n",
      "178\n",
      "177\n",
      "176\n",
      "175\n",
      "174\n",
      "173\n",
      "172\n",
      "171\n",
      "170\n",
      "169\n",
      "168\n",
      "167\n",
      "166\n",
      "165\n",
      "164\n",
      "163\n",
      "162\n",
      "161\n",
      "160\n",
      "159\n",
      "158\n",
      "157\n",
      "156\n",
      "155\n",
      "154\n",
      "153\n",
      "152\n",
      "151\n",
      "150\n",
      "149\n",
      "148\n",
      "147\n",
      "146\n",
      "145\n",
      "144\n",
      "143\n",
      "142\n",
      "141\n",
      "140\n",
      "139\n",
      "138\n",
      "137\n",
      "136\n",
      "135\n",
      "134\n",
      "133\n",
      "132\n",
      "131\n",
      "130\n",
      "129\n",
      "128\n",
      "127\n",
      "126\n",
      "125\n",
      "124\n",
      "123\n",
      "122\n",
      "121\n",
      "120\n",
      "119\n",
      "118\n",
      "117\n",
      "116\n",
      "115\n",
      "114\n",
      "113\n",
      "112\n",
      "111\n",
      "110\n",
      "109\n",
      "108\n",
      "107\n",
      "106\n",
      "105\n",
      "104\n",
      "103\n",
      "102\n",
      "101\n",
      "100\n",
      "99\n",
      "98\n",
      "97\n",
      "96\n",
      "95\n",
      "94\n",
      "93\n",
      "92\n",
      "91\n",
      "90\n",
      "89\n",
      "88\n",
      "87\n",
      "86\n",
      "85\n",
      "84\n",
      "83\n",
      "82\n",
      "81\n",
      "80\n",
      "79\n",
      "78\n",
      "77\n",
      "76\n",
      "75\n",
      "74\n",
      "73\n",
      "72\n",
      "71\n",
      "70\n",
      "69\n",
      "68\n",
      "67\n",
      "66\n",
      "65\n",
      "64\n",
      "63\n",
      "62\n",
      "61\n",
      "60\n",
      "59\n",
      "58\n",
      "57\n",
      "56\n",
      "55\n",
      "54\n",
      "53\n",
      "52\n",
      "51\n",
      "50\n",
      "49\n",
      "48\n",
      "47\n",
      "46\n",
      "45\n",
      "44\n",
      "43\n",
      "42\n",
      "41\n",
      "40\n",
      "39\n",
      "38\n",
      "37\n",
      "36\n",
      "35\n",
      "34\n",
      "33\n",
      "32\n",
      "31\n",
      "30\n",
      "29\n",
      "28\n",
      "27\n",
      "26\n",
      "25\n",
      "24\n",
      "23\n",
      "22\n",
      "21\n",
      "20\n",
      "19\n",
      "18\n",
      "17\n",
      "16\n",
      "15\n",
      "14\n",
      "13\n",
      "12\n",
      "11\n",
      "10\n",
      "9\n",
      "8\n",
      "7\n",
      "6\n",
      "5\n",
      "4\n",
      "3\n",
      "2\n",
      "1\n",
      "0\n"
     ]
    }
   ],
   "source": [
    "returns = np.zeros((len(rewards)))\n",
    "gamma = 1\n",
    "for t in range(len(rewards) - 2, -1, -1):\n",
    "    print(t)\n",
    "    returns[t] = rewards[t] + gamma * returns[t + 1]"
   ]
  },
  {
   "cell_type": "code",
   "execution_count": 21,
   "metadata": {
    "ExecuteTime": {
     "end_time": "2022-12-20T04:55:07.210616Z",
     "start_time": "2022-12-20T04:55:07.203066Z"
    }
   },
   "outputs": [
    {
     "data": {
      "text/plain": [
       "array([-703., -702., -701., -700., -699., -698., -697., -696., -695.,\n",
       "       -694., -693., -692., -682., -681., -680., -670., -669., -668.,\n",
       "       -667., -666., -665., -655., -654., -653., -652., -642., -641.,\n",
       "       -640., -639., -638., -628., -627., -626., -625., -624., -623.,\n",
       "       -622., -621., -620., -619., -618., -617., -616., -615., -605.,\n",
       "       -595., -594., -593., -592., -582., -581., -580., -579., -578.,\n",
       "       -568., -558., -548., -538., -528., -518., -517., -516., -515.,\n",
       "       -514., -513., -512., -511., -510., -509., -508., -498., -497.,\n",
       "       -496., -495., -494., -493., -483., -473., -472., -471., -470.,\n",
       "       -460., -450., -440., -430., -429., -428., -427., -426., -425.,\n",
       "       -424., -423., -413., -403., -402., -401., -400., -399., -398.,\n",
       "       -388., -378., -377., -376., -375., -374., -373., -363., -362.,\n",
       "       -352., -351., -350., -340., -339., -338., -337., -336., -335.,\n",
       "       -325., -315., -305., -304., -303., -302., -292., -291., -290.,\n",
       "       -280., -279., -269., -259., -258., -257., -256., -255., -254.,\n",
       "       -253., -252., -251., -250., -249., -248., -247., -246., -245.,\n",
       "       -235., -234., -224., -223., -222., -221., -211., -201., -191.,\n",
       "       -181., -180., -179., -169., -168., -167., -157., -147., -137.,\n",
       "       -136., -135., -125., -124., -123., -122., -121., -111., -101.,\n",
       "       -100.,  -99.,  -98.,  -88.,  -87.,  -77.,  -76.,  -75.,  -74.,\n",
       "        -73.,  -63.,  -62.,  -61.,  -60.,  -59.,  -58.,  -48.,  -38.,\n",
       "        -37.,  -36.,  -26.,  -25.,  -24.,  -23.,  -13.,  -12.,  -11.,\n",
       "         -1.,    0.])"
      ]
     },
     "execution_count": 21,
     "metadata": {},
     "output_type": "execute_result"
    }
   ],
   "source": [
    "returns"
   ]
  },
  {
   "cell_type": "code",
   "execution_count": 22,
   "metadata": {
    "ExecuteTime": {
     "end_time": "2022-12-20T04:55:07.604272Z",
     "start_time": "2022-12-20T04:55:07.593147Z"
    }
   },
   "outputs": [
    {
     "data": {
      "text/plain": [
       "array([6., 5., 3., 0.])"
      ]
     },
     "execution_count": 22,
     "metadata": {},
     "output_type": "execute_result"
    }
   ],
   "source": [
    "rewards = [1,2,3,4]\n",
    "\n",
    "def gratitude(gamma, rewards):\n",
    "    G = np.zeros((len(rewards),))\n",
    "    T = len(rewards)\n",
    "    for t in range(T-1):\n",
    "        for k in range(t, T-1):\n",
    "#             print(k,t, k-t, G[t])\n",
    "            G[t] += gamma**(k-t) * rewards[k]\n",
    "    return G\n",
    "\n",
    "gratitude(1, rewards)"
   ]
  },
  {
   "cell_type": "markdown",
   "metadata": {},
   "source": [
    "### Monte-Carlo Algorithm\n",
    "\n",
    "Пусть $Q(s,a) = 0$, $N(s,a) = 0$ и $\\varepsilon = 1$.\n",
    "\n",
    "Для каждого эпизода $k \\in \\overline{1,K}$ делаем:\n",
    "\n",
    "1. Согласно $\\pi = \\varepsilon\\text{-greedy}(Q)$ получаем траекторию $\\tau = (S_0,A_0,\\ldots,S_T)$ и награды $(R_0,\\ldots,R_{T-1})$. По ним определяем $(G_0,\\ldots,G_{T-1}):$\n",
    "$$\n",
    "G_t = \\sum\\limits_{k=t}^{T-1} \\gamma^{k-t} R_t,\\quad G_{T-1} = R_{T-1},\\quad G_{T-2} = R_{T-2} + \\gamma R_{T-1},\\quad G_i = R_i + \\gamma G_{i+1},\\quad G_{T} = Q(S_T,\\pi_{\\text{greedy}}(S_T)).\n",
    "$$\n",
    "\n",
    "2. Для каждого $t \\in \\overline{0,T-1}$ обновляем $Q$ и $N$:\n",
    "\n",
    "$$\n",
    "Q(S_t,A_t) \\leftarrow Q(S_t,A_t) + \\frac{1}{N(S_t,A_t) + 1}\\big(G_t - Q(S_t,A_t)\\big),\n",
    "$$\n",
    "\n",
    "$$\n",
    "N(S_t,A_t) \\leftarrow N(S_t,A_t) + 1\n",
    "$$\n",
    "Уменьшаем $\\varepsilon$\n",
    "\n",
    "$$\\pi^{k+1}(a|s) = \\begin{cases}\n",
    "1-\\varepsilon+\\varepsilon/m, \\text{if } a \\in \\text{argmax}_{a'\\in\\mathcal{A}}Q^k(s,a')\\\\\n",
    "\\varepsilon/m, \\text{otherwise}\n",
    "\\end{cases}$$\n",
    "где $m=|\\mathcal{A}|$"
   ]
  },
  {
   "cell_type": "code",
   "execution_count": 72,
   "metadata": {
    "ExecuteTime": {
     "end_time": "2022-12-20T05:26:01.495063Z",
     "start_time": "2022-12-20T05:22:05.813772Z"
    }
   },
   "outputs": [
    {
     "name": "stderr",
     "output_type": "stream",
     "text": [
      "/home/shmalex/.conda/envs/py37/lib/python3.7/site-packages/ipykernel_launcher.py:12: TqdmDeprecationWarning: This function will be removed in tqdm==5.0.0\n",
      "Please use `tqdm.notebook.tqdm` instead of `tqdm.tqdm_notebook`\n",
      "  if sys.path[0] == '':\n"
     ]
    },
    {
     "data": {
      "application/vnd.jupyter.widget-view+json": {
       "model_id": "36dc872d4fa84185b0829af10f5725ea",
       "version_major": 2,
       "version_minor": 0
      },
      "text/plain": [
       "HBox(children=(HTML(value=''), FloatProgress(value=0.0, max=1000.0), HTML(value='')))"
      ]
     },
     "metadata": {},
     "output_type": "display_data"
    },
    {
     "name": "stdout",
     "output_type": "stream",
     "text": [
      "\n"
     ]
    }
   ],
   "source": [
    "env = gym.make('Taxi-v3')\n",
    "n_states = env.observation_space.n\n",
    "n_actions = env.action_space.n\n",
    "eps = 1\n",
    "gamma = 0.99\n",
    "N = np.zeros((n_states, n_actions))\n",
    "Q = np.zeros((n_states, n_actions))\n",
    "K = 1000\n",
    "stats = []\n",
    "policies = []\n",
    "total_rewards = []\n",
    "for ki in tqdm.tqdm_notebook(range(K)):\n",
    "    policy = epsilon_greedy_policy(eps, Q)\n",
    "    policies.append(policy)\n",
    "    stats.append(test_stats(env, policy, 100, n_actions))\n",
    "\n",
    "    states, actions, rewards = get_trajectory(env, policy)\n",
    "    total_rewards.append(np.sum(rewards))\n",
    "    G = gratitude(gamma, rewards)\n",
    "    # updating Q\n",
    "    for g, a, s in zip(G, actions, states):\n",
    "        Q[s,a] += (g - Q[s,a])/(N[s,a]+1)\n",
    "        N[s,a] += 1\n",
    "\n",
    "    eps=1-ki/K"
   ]
  },
  {
   "cell_type": "code",
   "execution_count": 73,
   "metadata": {
    "ExecuteTime": {
     "end_time": "2022-12-20T05:26:01.502571Z",
     "start_time": "2022-12-20T05:26:01.497837Z"
    }
   },
   "outputs": [
    {
     "data": {
      "text/plain": [
       "0.0010000000000000009"
      ]
     },
     "execution_count": 73,
     "metadata": {},
     "output_type": "execute_result"
    }
   ],
   "source": [
    "eps"
   ]
  },
  {
   "cell_type": "code",
   "execution_count": 74,
   "metadata": {
    "ExecuteTime": {
     "end_time": "2022-12-20T05:26:08.555037Z",
     "start_time": "2022-12-20T05:26:01.504868Z"
    }
   },
   "outputs": [
    {
     "name": "stderr",
     "output_type": "stream",
     "text": [
      "  0%|          | 0/100 [12:17<?, ?it/s]\n"
     ]
    }
   ],
   "source": [
    "data = []\n",
    "for p in policies:\n",
    "    max_action = np.argmax(p, axis=1)\n",
    "    data= data+list(zip(range(len(max_action)), max_action))"
   ]
  },
  {
   "cell_type": "code",
   "execution_count": 75,
   "metadata": {
    "ExecuteTime": {
     "end_time": "2022-12-20T05:26:10.058722Z",
     "start_time": "2022-12-20T05:26:08.556803Z"
    }
   },
   "outputs": [
    {
     "data": {
      "text/plain": [
       "<matplotlib.collections.PathCollection at 0x7fcc4b461a90>"
      ]
     },
     "execution_count": 75,
     "metadata": {},
     "output_type": "execute_result"
    },
    {
     "data": {
      "image/png": "[encoded data removed]",
      "text/plain": [
       "<Figure size 1296x432 with 1 Axes>"
      ]
     },
     "metadata": {
      "needs_background": "light"
     },
     "output_type": "display_data"
    }
   ],
   "source": [
    "data = np.array(data)\n",
    "plt.figure(figsize=(18,6))\n",
    "plt.scatter(data[data[::,0]<500][::,0], data[data[::,0]<500][::,1], alpha=0.01)"
   ]
  },
  {
   "cell_type": "code",
   "execution_count": 76,
   "metadata": {
    "ExecuteTime": {
     "end_time": "2022-12-20T05:26:10.206031Z",
     "start_time": "2022-12-20T05:26:10.060417Z"
    }
   },
   "outputs": [
    {
     "data": {
      "text/plain": [
       "<matplotlib.collections.PathCollection at 0x7fcc4b1ce590>"
      ]
     },
     "execution_count": 76,
     "metadata": {},
     "output_type": "execute_result"
    },
    {
     "data": {
      "image/png": "[encoded data removed]",
      "text/plain": [
       "<Figure size 432x288 with 1 Axes>"
      ]
     },
     "metadata": {
      "needs_background": "light"
     },
     "output_type": "display_data"
    }
   ],
   "source": [
    "plt.scatter(range(len(stats)), stats)"
   ]
  },
  {
   "cell_type": "code",
   "execution_count": 79,
   "metadata": {
    "ExecuteTime": {
     "end_time": "2022-12-20T05:26:18.275155Z",
     "start_time": "2022-12-20T05:26:18.270043Z"
    }
   },
   "outputs": [
    {
     "data": {
      "text/plain": [
       "948"
      ]
     },
     "execution_count": 79,
     "metadata": {},
     "output_type": "execute_result"
    }
   ],
   "source": [
    "np.argmax(total_rewards)"
   ]
  },
  {
   "cell_type": "code",
   "execution_count": 80,
   "metadata": {
    "ExecuteTime": {
     "end_time": "2022-12-20T05:26:19.498941Z",
     "start_time": "2022-12-20T05:26:19.495339Z"
    }
   },
   "outputs": [],
   "source": [
    "max_policies = policies[np.argmax(total_rewards)]"
   ]
  },
  {
   "cell_type": "code",
   "execution_count": 81,
   "metadata": {
    "ExecuteTime": {
     "end_time": "2022-12-20T05:26:21.997330Z",
     "start_time": "2022-12-20T05:26:21.816933Z"
    }
   },
   "outputs": [
    {
     "data": {
      "text/plain": [
       "[<matplotlib.lines.Line2D at 0x7fcc4b2d0d50>]"
      ]
     },
     "execution_count": 81,
     "metadata": {},
     "output_type": "execute_result"
    },
    {
     "data": {
      "image/png": "[encoded data removed]",
      "text/plain": [
       "<Figure size 432x288 with 1 Axes>"
      ]
     },
     "metadata": {
      "needs_background": "light"
     },
     "output_type": "display_data"
    }
   ],
   "source": [
    "plt.plot(range(len(total_rewards)), total_rewards)"
   ]
  },
  {
   "cell_type": "code",
   "execution_count": 43,
   "metadata": {
    "ExecuteTime": {
     "end_time": "2022-12-20T05:08:33.138501Z",
     "start_time": "2022-12-20T05:08:32.957689Z"
    }
   },
   "outputs": [
    {
     "data": {
      "text/plain": [
       "[<matplotlib.lines.Line2D at 0x7fcc4b41a390>]"
      ]
     },
     "execution_count": 43,
     "metadata": {},
     "output_type": "execute_result"
    },
    {
     "data": {
      "image/png": "[encoded data removed]",
      "text/plain": [
       "<Figure size 432x288 with 1 Axes>"
      ]
     },
     "metadata": {
      "needs_background": "light"
     },
     "output_type": "display_data"
    }
   ],
   "source": [
    "plt.plot(range(len(total_rewards)), total_rewards)"
   ]
  },
  {
   "cell_type": "code",
   "execution_count": 82,
   "metadata": {
    "ExecuteTime": {
     "end_time": "2022-12-20T05:26:56.568571Z",
     "start_time": "2022-12-20T05:26:29.199817Z"
    }
   },
   "outputs": [
    {
     "name": "stderr",
     "output_type": "stream",
     "text": [
      "  0%|          | 0/100 [00:00<?, ?it/s]/home/shmalex/.conda/envs/py37/lib/python3.7/site-packages/gym/core.py:50: DeprecationWarning: \u001b[33mWARN: You are calling render method, but you didn't specified the argument render_mode at environment initialization. To maintain backward compatibility, the environment will render in human mode.\n",
      "If you want to render in human mode, initialize the environment in this way: gym.make('EnvName', render_mode='human') and don't call the render method.\n",
      "See here for more information: https://www.gymlibrary.ml/content/api/\u001b[0m\n",
      "  \"You are calling render method, \"\n",
      "100%|██████████| 100/100 [00:27<00:00,  3.66it/s]\n"
     ]
    },
    {
     "data": {
      "text/plain": [
       "-118"
      ]
     },
     "execution_count": 82,
     "metadata": {},
     "output_type": "execute_result"
    }
   ],
   "source": [
    "test(env, max_policies, 100, n_actions, render=True)"
   ]
  },
  {
   "cell_type": "code",
   "execution_count": 51,
   "metadata": {
    "ExecuteTime": {
     "end_time": "2022-12-19T19:30:27.176123Z",
     "start_time": "2022-12-19T19:30:27.171231Z"
    }
   },
   "outputs": [
    {
     "data": {
      "text/plain": [
       "0.132619555894753"
      ]
     },
     "execution_count": 51,
     "metadata": {},
     "output_type": "execute_result"
    }
   ],
   "source": [
    "eps"
   ]
  },
  {
   "cell_type": "code",
   "execution_count": 83,
   "metadata": {
    "ExecuteTime": {
     "end_time": "2022-12-20T05:27:27.698561Z",
     "start_time": "2022-12-20T05:27:26.703349Z"
    }
   },
   "outputs": [
    {
     "name": "stderr",
     "output_type": "stream",
     "text": [
      "100%|██████████| 100/100 [00:00<00:00, 101.37it/s]\n"
     ]
    }
   ],
   "source": [
    "exp_rwrds = [test(env, max_policies, 100, n_actions, render=False) for i in tqdm.tqdm(range(100))]"
   ]
  },
  {
   "cell_type": "code",
   "execution_count": 84,
   "metadata": {
    "ExecuteTime": {
     "end_time": "2022-12-20T05:27:29.329055Z",
     "start_time": "2022-12-20T05:27:29.039267Z"
    }
   },
   "outputs": [
    {
     "data": {
      "image/png": "[encoded data removed]",
      "text/plain": [
       "<Figure size 432x288 with 1 Axes>"
      ]
     },
     "metadata": {
      "needs_background": "light"
     },
     "output_type": "display_data"
    }
   ],
   "source": [
    "plt.hist(exp_rwrds, bins=50)\n",
    "plt.show()"
   ]
  },
  {
   "cell_type": "markdown",
   "metadata": {},
   "source": [
    "### SARSA Algorithm \n",
    "Пусть $Q(s,a) = 0$ и $\\varepsilon = 1$.\n",
    "\n",
    "Для каждого эпизода $k$ делаем:\n",
    "\n",
    "Пока эпизод не закончен делаем:\n",
    "\n",
    "1. Находясь в состоянии $S_t$ совершаем действие $A_t \\sim \\pi(\\cdot|S_t)$, \n",
    "где $\\pi = \\varepsilon\\text{-greedy}(Q)$, получаем награду $R_t$, переходим в состояние $S_{t+1}$, совершаем действие $A_{t+1} \\sim \\pi(\\cdot|S_{t+1})$\n",
    "\n",
    "2. По $(S_t,A_t,R_t,S_{t+1},A_{t+1})$ обновляем $Q$:\n",
    "$$\n",
    "Q(S_t,A_t) \\leftarrow Q(S_t,A_t) + \\alpha(R_t + \\gamma Q(S_{t+1},A_{t+1}) - Q(S_t,A_t))\n",
    "$$\n",
    "\n",
    "Уменьшаем $\\varepsilon$\n"
   ]
  },
  {
   "cell_type": "code",
   "execution_count": 9,
   "metadata": {
    "ExecuteTime": {
     "end_time": "2022-12-20T15:12:27.651806Z",
     "start_time": "2022-12-20T15:12:10.042734Z"
    }
   },
   "outputs": [
    {
     "name": "stderr",
     "output_type": "stream",
     "text": [
      "/home/shmalex/.conda/envs/py37/lib/python3.7/site-packages/ipykernel_launcher.py:15: TqdmDeprecationWarning: This function will be removed in tqdm==5.0.0\n",
      "Please use `tqdm.notebook.tqdm` instead of `tqdm.tqdm_notebook`\n",
      "  from ipykernel import kernelapp as app\n"
     ]
    },
    {
     "data": {
      "application/vnd.jupyter.widget-view+json": {
       "model_id": "1bfc38b18526454bb4dc6992dda47b93",
       "version_major": 2,
       "version_minor": 0
      },
      "text/plain": [
       "HBox(children=(HTML(value=''), FloatProgress(value=0.0, max=1000.0), HTML(value='')))"
      ]
     },
     "metadata": {},
     "output_type": "display_data"
    },
    {
     "name": "stdout",
     "output_type": "stream",
     "text": [
      "\n"
     ]
    }
   ],
   "source": [
    "env = gym.make('Taxi-v3')\n",
    "n_states = env.observation_space.n\n",
    "n_actions = env.action_space.n\n",
    "alpha = 0.9\n",
    "eps = 0.9\n",
    "gamma = 0.99\n",
    "Q = np.zeros((n_states, n_actions))\n",
    "K = 1000\n",
    "\n",
    "stats = []\n",
    "policies = []\n",
    "total_rewards = []\n",
    "\n",
    "\n",
    "for ki in tqdm.tqdm_notebook(range(K)):\n",
    "    rewards = []\n",
    "    state = env.reset()\n",
    "    action = epsilon_greedy_policy_action(eps, state, Q)\n",
    "    \n",
    "    actions = [action]\n",
    "    states = [state]\n",
    "\n",
    "    while True:\n",
    "        state, reward, done, _ = env.step(action)\n",
    "        rewards.append(reward)\n",
    "        states.append(state)\n",
    "        action = epsilon_greedy_policy_action(eps, state, Q)\n",
    "        actions.append(action)\n",
    "        if done:\n",
    "            break\n",
    "        # updating Q\n",
    "        Q[states[-2],actions[-2]] += alpha*(reward + gamma*Q[states[-2],actions[-2]])-Q[states[-2],actions[-2]]\n",
    "\n",
    "    total_rewards.append(np.sum(rewards))\n",
    "    eps=1-ki/K"
   ]
  },
  {
   "cell_type": "code",
   "execution_count": 10,
   "metadata": {
    "ExecuteTime": {
     "end_time": "2022-12-20T15:12:30.792794Z",
     "start_time": "2022-12-20T15:12:30.621455Z"
    }
   },
   "outputs": [
    {
     "data": {
      "text/plain": [
       "[<matplotlib.lines.Line2D at 0x7f1d1d8d7790>]"
      ]
     },
     "execution_count": 10,
     "metadata": {},
     "output_type": "execute_result"
    },
    {
     "data": {
      "image/png": "[encoded data removed]",
      "text/plain": [
       "<Figure size 432x288 with 1 Axes>"
      ]
     },
     "metadata": {
      "needs_background": "light"
     },
     "output_type": "display_data"
    }
   ],
   "source": [
    "plt.plot(range(len(total_rewards)), total_rewards)"
   ]
  },
  {
   "cell_type": "markdown",
   "metadata": {},
   "source": [
    "### Q-Learning Algorithm\n",
    "\n",
    "Пусть $Q(s,a) = 0$ и $\\varepsilon = 1$.\n",
    "\n",
    "Для каждого эпизода $k$ делаем:\n",
    "\n",
    "Пока эпизод не закончен делаем:\n",
    "\n",
    "1. Находясь в состоянии $S_t$ совершаем действие $A_t \\sim \\pi(\\cdot|S_t)$, \n",
    "где $\\pi = \\varepsilon\\text{-greedy}(Q)$, получаем награду $R_t$  переходим в состояние $S_{t+1}$.\n",
    "\n",
    "2. По $(S_t,A_t,R_t,S_{t+1})$ обновляем $Q$:\n",
    "$$\n",
    "Q(S_t,A_t) \\leftarrow Q(S_t,A_t) + \\alpha(R_t + \\gamma \\max\\limits_{a'} Q(S_{t+1},a') - Q(S_t,A_t))\n",
    "$$\n",
    "\n",
    "Уменьшаем $\\varepsilon$"
   ]
  },
  {
   "cell_type": "code",
   "execution_count": 12,
   "metadata": {
    "ExecuteTime": {
     "end_time": "2022-12-20T15:13:08.445886Z",
     "start_time": "2022-12-20T15:13:01.229128Z"
    }
   },
   "outputs": [
    {
     "name": "stderr",
     "output_type": "stream",
     "text": [
      "/home/shmalex/.conda/envs/py37/lib/python3.7/site-packages/ipykernel_launcher.py:15: TqdmDeprecationWarning: This function will be removed in tqdm==5.0.0\n",
      "Please use `tqdm.notebook.tqdm` instead of `tqdm.tqdm_notebook`\n",
      "  from ipykernel import kernelapp as app\n"
     ]
    },
    {
     "data": {
      "application/vnd.jupyter.widget-view+json": {
       "model_id": "ff141258dbe54537a688084495b76bfb",
       "version_major": 2,
       "version_minor": 0
      },
      "text/plain": [
       "HBox(children=(HTML(value=''), FloatProgress(value=0.0, max=1000.0), HTML(value='')))"
      ]
     },
     "metadata": {},
     "output_type": "display_data"
    },
    {
     "name": "stdout",
     "output_type": "stream",
     "text": [
      "\n"
     ]
    }
   ],
   "source": [
    "env = gym.make('Taxi-v3')\n",
    "n_states = env.observation_space.n\n",
    "n_actions = env.action_space.n\n",
    "alpha = 0.9\n",
    "eps = 0.9\n",
    "gamma = 0.99\n",
    "Q = np.zeros((n_states, n_actions))\n",
    "K = 1000\n",
    "\n",
    "stats = []\n",
    "policies = []\n",
    "total_rewards = []\n",
    "\n",
    "\n",
    "for ki in tqdm.tqdm_notebook(range(K)):\n",
    "    rewards = []\n",
    "    state = env.reset()\n",
    "    action = epsilon_greedy_policy_action(eps, state, Q)\n",
    "    \n",
    "    actions = [action]\n",
    "    states = [state]\n",
    "\n",
    "    while True:\n",
    "        state, reward, done, _ = env.step(action)\n",
    "        rewards.append(reward)\n",
    "        states.append(state)\n",
    "        action = epsilon_greedy_policy_action(eps, state, Q)\n",
    "        actions.append(action)\n",
    "        if done:\n",
    "            break\n",
    "\n",
    "        # updating Q\n",
    "        Q[states[-2],actions[-2]] += alpha*(reward + gamma*max(Q[states[-1]]))-Q[states[-2],actions[-2]]\n",
    "\n",
    "    total_rewards.append(np.sum(rewards))\n",
    "    eps=1-ki/K"
   ]
  },
  {
   "cell_type": "code",
   "execution_count": 7,
   "metadata": {
    "ExecuteTime": {
     "end_time": "2022-12-20T15:10:42.669430Z",
     "start_time": "2022-12-20T15:10:42.527928Z"
    }
   },
   "outputs": [
    {
     "data": {
      "text/plain": [
       "[<matplotlib.lines.Line2D at 0x7f28bed35450>]"
      ]
     },
     "execution_count": 7,
     "metadata": {},
     "output_type": "execute_result"
    },
    {
     "data": {
      "image/png": "[encoded data removed]",
      "text/plain": [
       "<Figure size 432x288 with 1 Axes>"
      ]
     },
     "metadata": {
      "needs_background": "light"
     },
     "output_type": "display_data"
    }
   ],
   "source": [
    "plt.plot(range(len(total_rewards)), total_rewards)"
   ]
  },
  {
   "cell_type": "code",
   "execution_count": null,
   "metadata": {},
   "outputs": [],
   "source": []
  }
 ],
 "metadata": {
  "kernelspec": {
   "display_name": "py37",
   "language": "python",
   "name": "py37"
  },
  "language_info": {
   "codemirror_mode": {
    "name": "ipython",
    "version": 3
   },
   "file_extension": ".py",
   "mimetype": "text/x-python",
   "name": "python",
   "nbconvert_exporter": "python",
   "pygments_lexer": "ipython3",
   "version": "3.7.6"
  }
 },
 "nbformat": 4,
 "nbformat_minor": 5
}
