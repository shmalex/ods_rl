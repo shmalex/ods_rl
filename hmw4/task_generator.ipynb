{
 "cells": [
  {
   "cell_type": "code",
   "execution_count": 1,
   "metadata": {
    "ExecuteTime": {
     "end_time": "2022-12-21T18:49:48.435412Z",
     "start_time": "2022-12-21T18:49:48.430893Z"
    }
   },
   "outputs": [],
   "source": [
    "import inspect\n",
    "import collections"
   ]
  },
  {
   "cell_type": "code",
   "execution_count": 7,
   "metadata": {
    "ExecuteTime": {
     "end_time": "2022-12-21T18:52:36.284820Z",
     "start_time": "2022-12-21T18:52:36.281314Z"
    }
   },
   "outputs": [],
   "source": [
    "def t(**kwargs):\n",
    "    print(kwargs)\n",
    "    print(type(kwargs))\n",
    "    return kwargs"
   ]
  },
  {
   "cell_type": "code",
   "execution_count": 8,
   "metadata": {
    "ExecuteTime": {
     "end_time": "2022-12-21T18:52:38.622948Z",
     "start_time": "2022-12-21T18:52:38.617074Z"
    }
   },
   "outputs": [
    {
     "name": "stdout",
     "output_type": "stream",
     "text": [
      "{'a': 10, 'v': 100, 'c': 'asd'}\n",
      "<class 'dict'>\n"
     ]
    }
   ],
   "source": [
    "kwargs = t(a=10, v=100, c =\"asd\")"
   ]
  },
  {
   "cell_type": "code",
   "execution_count": 12,
   "metadata": {
    "ExecuteTime": {
     "end_time": "2022-12-21T18:52:55.718620Z",
     "start_time": "2022-12-21T18:52:55.711751Z"
    }
   },
   "outputs": [
    {
     "data": {
      "text/plain": [
       "['a', 'c', 'v']"
      ]
     },
     "execution_count": 12,
     "metadata": {},
     "output_type": "execute_result"
    }
   ],
   "source": []
  },
  {
   "cell_type": "code",
   "execution_count": null,
   "metadata": {},
   "outputs": [],
   "source": []
  }
 ],
 "metadata": {
  "kernelspec": {
   "display_name": "py37",
   "language": "python",
   "name": "py37"
  },
  "language_info": {
   "codemirror_mode": {
    "name": "ipython",
    "version": 3
   },
   "file_extension": ".py",
   "mimetype": "text/x-python",
   "name": "python",
   "nbconvert_exporter": "python",
   "pygments_lexer": "ipython3",
   "version": "3.7.6"
  }
 },
 "nbformat": 4,
 "nbformat_minor": 4
}
