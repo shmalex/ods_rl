{
 "cells": [
  {
   "cell_type": "code",
   "execution_count": 1,
   "id": "radio-acrylic",
   "metadata": {},
   "outputs": [],
   "source": [
    "import os\n",
    "import gym\n",
    "import gym_maze\n",
    "import numpy as np\n",
    "import random\n",
    "import time\n",
    "import tqdm\n",
    "from matplotlib import pyplot as plt\n",
    "\n",
    "import json\n",
    "\n",
    "for i in tqdm.tqdm_notebook(range(1)):\n",
    "    pass\n",
    "for i in tqdm.notebook.tqdm(range(1)):\n",
    "    pass"
   ]
  },
  {
   "cell_type": "code",
   "execution_count": 220,
   "id": "awful-syntax",
   "metadata": {},
   "outputs": [],
   "source": [
    "\n",
    "class CrossEntropyMethod():\n",
    "    def __init__(self, name, state_n, action_n):\n",
    "        self.name = name\n",
    "        self.state_n = state_n\n",
    "        self.action_n = action_n\n",
    "        self.policy = np.ones((self.state_n, self.action_n)) / self.action_n\n",
    "    \n",
    "    def get_action(self, state):\n",
    "        return int(np.random.choice(self.action_n, p=self.policy[state]))\n",
    "    def get_det_action(self, state):\n",
    "        return np.argmax(self.policy[state])\n",
    "    \n",
    "    def update_policy(self, elite_trajectories):\n",
    "        pre_policy = np.zeros((self.state_n, self.action_n))\n",
    "        \n",
    "        # counter\n",
    "        for trajectory in elite_trajectories:\n",
    "            for state, action in zip(trajectory['states'], trajectory['actions']):\n",
    "                pre_policy[state][action] += 1\n",
    "        \n",
    "        # \n",
    "        for state in range(self.state_n):\n",
    "            if sum(pre_policy[state]) == 0:\n",
    "                self.policy[state] = np.ones(self.action_n) / self.action_n\n",
    "            else:\n",
    "                self.policy[state] = pre_policy[state] / sum(pre_policy[state])\n",
    "        self.save_policy()\n",
    "        return None\n",
    "    def laplace_update_policy(self, elite_trajectories):\n",
    "        pre_policy = np.zeros((self.state_n, self.action_n))\n",
    "        \n",
    "        # counter\n",
    "        for trajectory in elite_trajectories:\n",
    "            for state, action in zip(trajectory['states'], trajectory['actions']):\n",
    "                pre_policy[state][action] += 1\n",
    "        \n",
    "        # \n",
    "        for state in range(self.state_n):\n",
    "            if sum(pre_policy[state]) == 0:\n",
    "                self.policy[state] = np.ones(self.action_n) / self.action_n\n",
    "            else:\n",
    "                self.policy[state] = (pre_policy[state]+lambd) / (sum(pre_policy[state])+lambd*self.action_n)\n",
    "        self.save_policy()\n",
    "        return None\n",
    "    def policy_smoothing_update(self, elite_trajectories, lambd):\n",
    "        pre_policy = np.zeros((self.state_n, self.action_n))\n",
    "        \n",
    "        # counter\n",
    "        for trajectory in elite_trajectories:\n",
    "            for state, action in zip(trajectory['states'], trajectory['actions']):\n",
    "                pre_policy[state][action] += 1\n",
    "        \n",
    "        # \n",
    "        for state in range(self.state_n):\n",
    "            if sum(pre_policy[state]) == 0:\n",
    "                new_policy = np.ones(self.action_n) / self.action_n\n",
    "            else:\n",
    "                new_policy = pre_policy[state] / sum(pre_policy[state])\n",
    "            self.policy[state] = lambd*new_policy+ (1-lambd)*self.policy[state]\n",
    "        self.save_policy()\n",
    "        return None\n",
    "    def save_policy(self):\n",
    "        np.save(f'{env.spec.id}-{self.name}', self.policy)\n",
    "    def load_policy(self):\n",
    "        fname = f'{env.spec.id}-{self.name}.npy'\n",
    "        if os.path.exists(fname):\n",
    "            self.policy = np.load(fname)"
   ]
  },
  {
   "cell_type": "code",
   "execution_count": 225,
   "id": "divided-medicaid",
   "metadata": {},
   "outputs": [],
   "source": [
    "def delivered(state):\n",
    "    taxi_row, taxi_col, passenger_location, destination = env.decode(state)\n",
    "    return passenger_location == destination"
   ]
  },
  {
   "cell_type": "code",
   "execution_count": 7,
   "id": "monetary-stylus",
   "metadata": {},
   "outputs": [],
   "source": [
    "#test\n",
    "env = gym.make(\"Taxi-v3\")\n"
   ]
  },
  {
   "cell_type": "code",
   "execution_count": 154,
   "id": "greek-episode",
   "metadata": {},
   "outputs": [],
   "source": [
    "action_n = 6\n",
    "state_n = 500\n",
    "trajectory_len = 200\n",
    "agent2 = CrossEntropyMethod('agent2', state_n, action_n)\n",
    "# agent2.policy = np.load('./Taxi-v3-laplase_100_200_160_0.9_0.99.npy')\n",
    "# agent2.policy = np.load('./Taxi-v3-laplase_100_200_320_0.9_0.9.npy')\n",
    "# agent2.policy = np.load('./Taxi-v3-laplase_100_200_1280_0.9_0.5.npy')\n",
    "# agent2.policy = np.load('./Taxi-v3-true-laplase_100_200_1280_0.9_0.2.npy')"
   ]
  },
  {
   "cell_type": "code",
   "execution_count": 20,
   "id": "horizontal-amount",
   "metadata": {},
   "outputs": [
    {
     "name": "stdout",
     "output_type": "stream",
     "text": [
      "3 2 1 0\n",
      "0 0 0 0 5\n"
     ]
    }
   ],
   "source": [
    "\n",
    "final_rewards = []\n",
    "state = env.reset()\n",
    "env.render()\n",
    "time.sleep(1)\n",
    "taxi_row, taxi_col, passenger_location, destination = env.decode(state)\n",
    "print(taxi_row, taxi_col, passenger_location, destination)\n",
    "test_reward = 0\n",
    "for step in range(trajectory_len):\n",
    "    action = agent2.get_action(state)\n",
    "    state, reward, done, _ = env.step(action)\n",
    "    test_reward += reward\n",
    "    env.render()\n",
    "    if done:\n",
    "        break\n",
    "    time.sleep(0.125)\n",
    "taxi_row, taxi_col, passenger_location, f_destination = (env.decode(state))\n",
    "print(taxi_row, taxi_col, passenger_location, destination, action)\n",
    "final_rewards.append([test_reward, action, step])\n",
    "#     print('Test Reward', test_reward)\n"
   ]
  },
  {
   "cell_type": "code",
   "execution_count": 226,
   "id": "overall-confidentiality",
   "metadata": {},
   "outputs": [],
   "source": [
    "def sample_policy(policy, action_n):\n",
    "    ret_policy = np.zeros(policy.shape)\n",
    "#     print(ret_policy)\n",
    "    actions = np.arange(action_n)\n",
    "    for i, p in enumerate(policy):\n",
    "        idx =np.random.choice(actions, p=p)\n",
    "#         print(idx)\n",
    "        ret_policy[i][idx] = 1\n",
    "    return ret_policy\n"
   ]
  },
  {
   "cell_type": "code",
   "execution_count": 224,
   "id": "blind-ottawa",
   "metadata": {},
   "outputs": [
    {
     "data": {
      "text/plain": [
       "array([[0., 0., 1., 0.],\n",
       "       [1., 0., 0., 0.],\n",
       "       [0., 1., 0., 0.]])"
      ]
     },
     "execution_count": 224,
     "metadata": {},
     "output_type": "execute_result"
    }
   ],
   "source": [
    "policy = [\n",
    "         [0.1,0.2,0.3,0.4],\n",
    "         [0.4,0.2,0.3,0.1],\n",
    "         [0.1,0.4,0.3,0.2]]\n",
    "\n",
    "policy = np.array(policy)\n",
    "\n",
    "sample_policy(policy, 4)"
   ]
  },
  {
   "cell_type": "code",
   "execution_count": 227,
   "id": "joint-insurance",
   "metadata": {},
   "outputs": [],
   "source": [
    "def get_trajectory(env, agent, trajectory_len):\n",
    "    trajectory = {\n",
    "        'states':[], \n",
    "        'actions':[],\n",
    "        'total_reward': 0}\n",
    "    state = env.reset()\n",
    "    trajectory['states'].append(state)\n",
    "    for _ in range(trajectory_len):\n",
    "#         action = agent.get_action(state)\n",
    "        action = agent.get_det_action(state)\n",
    "        trajectory['actions'].append(action)\n",
    "        state, reward, done, _ = env.step(action)\n",
    "        trajectory['states'].append(state)\n",
    "        trajectory['total_reward'] += reward\n",
    "        if done:\n",
    "            break\n",
    "    return trajectory"
   ]
  },
  {
   "cell_type": "code",
   "execution_count": 254,
   "id": "guided-civilian",
   "metadata": {},
   "outputs": [],
   "source": [
    "action_n = 6\n",
    "state_n = 500\n",
    "episode_n = 100\n",
    "trajectory_len = 100\n",
    "trajectory_n = 10\n",
    "det_policy_n = 100\n",
    "q_param = 0.9\n",
    "lambd = 0.1"
   ]
  },
  {
   "cell_type": "code",
   "execution_count": 261,
   "id": "floating-street",
   "metadata": {},
   "outputs": [],
   "source": [
    "def get_elite_det_trajectories(det_trajectories,\n",
    "                                det_policies_mean_total_reward,\n",
    "                                q_param):\n",
    "#     total_rewards = [trajectory['total_reward'] for trajectory in det_policies_mean_total_reward]\n",
    "    quantile = np.quantile(det_policies_mean_total_reward, q=q_param)\n",
    "    ret_policy = []\n",
    "    cnt = 0\n",
    "    for mtr, traj in zip(det_policies_mean_total_reward, det_trajectories):\n",
    "        if mtr > quantile:\n",
    "            cnt+=1 \n",
    "            ret_policy += traj\n",
    "#     print(cnt)\n",
    "    return ret_policy\n"
   ]
  },
  {
   "cell_type": "code",
   "execution_count": 262,
   "id": "constitutional-journal",
   "metadata": {},
   "outputs": [],
   "source": [
    "def get_tasks(episodes_n, trajectories_len, trajectories_n, det_policies_n, q_params, lambdas):\n",
    "    tasks = []\n",
    "    for episode_n in episodes_n:\n",
    "        for trajectory_len in trajectories_len:\n",
    "            for trajectory_n in trajectories_n:\n",
    "                for det_policy_n in det_policies_n:\n",
    "                    for q_param in q_params:\n",
    "                        for lambd in lambdas:\n",
    "                            tasks.append((episode_n, trajectory_len, trajectory_n, det_policy_n, q_param, lambd))\n",
    "    return tasks"
   ]
  },
  {
   "cell_type": "code",
   "execution_count": 263,
   "id": "removed-bullet",
   "metadata": {
    "scrolled": false
   },
   "outputs": [],
   "source": [
    "def experiment(episode_n, trajectory_len, trajectory_n, det_policy_n, q_param, lambd, position):\n",
    "    exp = {\n",
    "        'det_policy_n': det_policy_n,\n",
    "        'episode_n':episode_n,\n",
    "        'trajectory_len':trajectory_len,\n",
    "        'trajectory_n':trajectory_n,\n",
    "        'q_param':q_param,\n",
    "        'lamd':lambd,\n",
    "        'episode_data':[]\n",
    "    }\n",
    "    name = f'det_CEM_{episode_n}_{trajectory_len}_{trajectory_n}_{q_param}_{lambd}_{det_policy_n}'\n",
    "\n",
    "    agent = CrossEntropyMethod(name, state_n, action_n)\n",
    "    env = gym.make(\"Taxi-v3\")\n",
    "    episode_data = []\n",
    "    for _ in tqdm.notebook.tqdm(range(episode_n), desc='Episodes', position=0):\n",
    "\n",
    "        saved_policy = agent.policy\n",
    "    #     det_policies = []\n",
    "        det_trajectories =[]\n",
    "        det_policies_mean_total_reward = []\n",
    "\n",
    "        for _ in range(det_policy_n):\n",
    "            det_policy = sample_policy(saved_policy, action_n)\n",
    "    #         det_policies.append(det_policy)\n",
    "\n",
    "            agent.policy = det_policy\n",
    "            trajectories = [get_trajectory(env, agent, trajectory_len) for _ in range(trajectory_n)]\n",
    "            det_trajectories.append(trajectories)\n",
    "\n",
    "            mean_total_reward = np.mean([trajectory['total_reward'] for trajectory in trajectories])\n",
    "            det_policies_mean_total_reward.append(mean_total_reward)\n",
    "\n",
    "        elite_trajectories = get_elite_det_trajectories(det_trajectories,\n",
    "                                                        det_policies_mean_total_reward,\n",
    "                                                        q_param)\n",
    "#         print(np.mean(det_policies_mean_total_reward), det_policies_mean_total_reward, len(elite_trajectories))\n",
    "        episode_data.append((det_policies_mean_total_reward, len(elite_trajectories)))\n",
    "        if len(elite_trajectories) > 0:\n",
    "            agent.update_policy(elite_trajectories)\n",
    "        else:\n",
    "            agent.policy = saved_policy\n",
    "        #         print(mean_total_reward, len(elite_trajectories))\n",
    "        exp['episode_data'] = episode_data\n",
    "        json.dump(exp, open(f'./experiments/{agent.name}.json','w'))"
   ]
  },
  {
   "cell_type": "code",
   "execution_count": 269,
   "id": "banner-irrigation",
   "metadata": {
    "scrolled": false
   },
   "outputs": [
    {
     "data": {
      "application/vnd.jupyter.widget-view+json": {
       "model_id": "8b128fb17be54d6893ca4f2a99b0350a",
       "version_major": 2,
       "version_minor": 0
      },
      "text/plain": [
       "HBox(children=(HTML(value='Tasks'), FloatProgress(value=0.0, max=1.0), HTML(value='')))"
      ]
     },
     "metadata": {},
     "output_type": "display_data"
    },
    {
     "name": "stdout",
     "output_type": "stream",
     "text": [
      "(100, 20, 20, 200, 0.5, 0.1)\n"
     ]
    },
    {
     "data": {
      "application/vnd.jupyter.widget-view+json": {
       "model_id": "529584fa49644b42ad7f2fe82a0975b3",
       "version_major": 2,
       "version_minor": 0
      },
      "text/plain": [
       "HBox(children=(HTML(value='Episodes'), FloatProgress(value=0.0), HTML(value='')))"
      ]
     },
     "metadata": {},
     "output_type": "display_data"
    },
    {
     "name": "stdout",
     "output_type": "stream",
     "text": [
      "\n",
      "\n"
     ]
    }
   ],
   "source": [
    "episodes_n = [100]\n",
    "trajectories_len = [20]\n",
    "trajectories_n =  [20]\n",
    "det_policies_n = [200]\n",
    "q_params = [0.5]\n",
    "# q_params = [0.1, 0.5, 0.9]\n",
    "lambdas = [0.1]\n",
    "\n",
    "tasks = get_tasks(episodes_n, trajectories_len, trajectories_n, det_policies_n, q_params, lambdas)\n",
    "\n",
    "for task in tqdm.notebook.tqdm(tasks, desc='Tasks'):\n",
    "    print(task)\n",
    "    experiment(*task, position=3)"
   ]
  },
  {
   "cell_type": "code",
   "execution_count": 272,
   "id": "green-diagram",
   "metadata": {},
   "outputs": [
    {
     "data": {
      "application/vnd.jupyter.widget-view+json": {
       "model_id": "d93511d7b9894122aa2bfc6f10761bee",
       "version_major": 2,
       "version_minor": 0
      },
      "text/plain": [
       "HBox(children=(HTML(value='Tasks'), FloatProgress(value=0.0, max=1.0), HTML(value='')))"
      ]
     },
     "metadata": {},
     "output_type": "display_data"
    },
    {
     "name": "stdout",
     "output_type": "stream",
     "text": [
      "(200, 35, 20, 100, 0.5, 0.1)\n"
     ]
    },
    {
     "data": {
      "application/vnd.jupyter.widget-view+json": {
       "model_id": "a3e5a03984564a03b94b08a2a334de0e",
       "version_major": 2,
       "version_minor": 0
      },
      "text/plain": [
       "HBox(children=(HTML(value='Episodes'), FloatProgress(value=0.0, max=200.0), HTML(value='')))"
      ]
     },
     "metadata": {},
     "output_type": "display_data"
    },
    {
     "name": "stdout",
     "output_type": "stream",
     "text": [
      "\n",
      "\n"
     ]
    }
   ],
   "source": [
    "episodes_n = [200]\n",
    "trajectories_len = [35]\n",
    "trajectories_n =  [20]\n",
    "det_policies_n = [100]\n",
    "q_params = [0.5]\n",
    "# q_params = [0.1, 0.5, 0.9]\n",
    "lambdas = [0.1]\n",
    "\n",
    "tasks = get_tasks(episodes_n, trajectories_len, trajectories_n, det_policies_n, q_params, lambdas)\n",
    "\n",
    "for task in tqdm.notebook.tqdm(tasks, desc='Tasks'):\n",
    "    print(task)\n",
    "    experiment(*task, position=3)"
   ]
  },
  {
   "cell_type": "code",
   "execution_count": 253,
   "id": "brave-brazil",
   "metadata": {},
   "outputs": [
    {
     "data": {
      "image/png": "[encoded data removed]",
      "text/plain": [
       "<Figure size 432x288 with 1 Axes>"
      ]
     },
     "metadata": {
      "needs_background": "light"
     },
     "output_type": "display_data"
    }
   ],
   "source": [
    "for ed in exp['episode_data']:\n",
    "    plt.scatter(range(len(ed[0])), ed[0])"
   ]
  },
  {
   "cell_type": "code",
   "execution_count": 200,
   "id": "lesser-motel",
   "metadata": {},
   "outputs": [],
   "source": [
    "import json"
   ]
  },
  {
   "cell_type": "code",
   "execution_count": 163,
   "id": "numerous-mainstream",
   "metadata": {},
   "outputs": [
    {
     "name": "stderr",
     "output_type": "stream",
     "text": [
      "  2%|▏         | 17/1000 [00:03<03:28,  4.71it/s]\n"
     ]
    },
    {
     "ename": "KeyboardInterrupt",
     "evalue": "",
     "output_type": "error",
     "traceback": [
      "\u001b[0;31m---------------------------------------------------------------------------\u001b[0m",
      "\u001b[0;31mKeyboardInterrupt\u001b[0m                         Traceback (most recent call last)",
      "\u001b[0;32m<ipython-input-163-b16df9a9244a>\u001b[0m in \u001b[0;36m<module>\u001b[0;34m\u001b[0m\n\u001b[1;32m      9\u001b[0m     \u001b[0msaved_policy\u001b[0m \u001b[0;34m=\u001b[0m \u001b[0magent2\u001b[0m\u001b[0;34m.\u001b[0m\u001b[0mpolicy\u001b[0m\u001b[0;34m\u001b[0m\u001b[0;34m\u001b[0m\u001b[0m\n\u001b[1;32m     10\u001b[0m     \u001b[0;32mfor\u001b[0m \u001b[0m_\u001b[0m \u001b[0;32min\u001b[0m \u001b[0mrange\u001b[0m\u001b[0;34m(\u001b[0m\u001b[0mdet_policy_n\u001b[0m\u001b[0;34m)\u001b[0m\u001b[0;34m:\u001b[0m\u001b[0;34m\u001b[0m\u001b[0;34m\u001b[0m\u001b[0m\n\u001b[0;32m---> 11\u001b[0;31m         \u001b[0mdet_policy\u001b[0m \u001b[0;34m=\u001b[0m \u001b[0msample_policy\u001b[0m\u001b[0;34m(\u001b[0m\u001b[0magent2\u001b[0m\u001b[0;34m.\u001b[0m\u001b[0mpolicy\u001b[0m\u001b[0;34m,\u001b[0m \u001b[0maction_n\u001b[0m\u001b[0;34m)\u001b[0m\u001b[0;34m\u001b[0m\u001b[0;34m\u001b[0m\u001b[0m\n\u001b[0m\u001b[1;32m     12\u001b[0m         \u001b[0;32mfor\u001b[0m \u001b[0mstep\u001b[0m \u001b[0;32min\u001b[0m \u001b[0mrange\u001b[0m\u001b[0;34m(\u001b[0m\u001b[0mtrajectory_len\u001b[0m\u001b[0;34m)\u001b[0m\u001b[0;34m:\u001b[0m\u001b[0;34m\u001b[0m\u001b[0;34m\u001b[0m\u001b[0m\n\u001b[1;32m     13\u001b[0m \u001b[0;31m#             action = agent2.get_action(state)\u001b[0m\u001b[0;34m\u001b[0m\u001b[0;34m\u001b[0m\u001b[0;34m\u001b[0m\u001b[0m\n",
      "\u001b[0;32m<ipython-input-162-1d5e7d4ea29d>\u001b[0m in \u001b[0;36msample_policy\u001b[0;34m(policy, action_n)\u001b[0m\n\u001b[1;32m      4\u001b[0m     \u001b[0mactions\u001b[0m \u001b[0;34m=\u001b[0m \u001b[0mnp\u001b[0m\u001b[0;34m.\u001b[0m\u001b[0marange\u001b[0m\u001b[0;34m(\u001b[0m\u001b[0maction_n\u001b[0m\u001b[0;34m)\u001b[0m\u001b[0;34m\u001b[0m\u001b[0;34m\u001b[0m\u001b[0m\n\u001b[1;32m      5\u001b[0m     \u001b[0;32mfor\u001b[0m \u001b[0mi\u001b[0m\u001b[0;34m,\u001b[0m \u001b[0mp\u001b[0m \u001b[0;32min\u001b[0m \u001b[0menumerate\u001b[0m\u001b[0;34m(\u001b[0m\u001b[0mpolicy\u001b[0m\u001b[0;34m)\u001b[0m\u001b[0;34m:\u001b[0m\u001b[0;34m\u001b[0m\u001b[0;34m\u001b[0m\u001b[0m\n\u001b[0;32m----> 6\u001b[0;31m         \u001b[0midx\u001b[0m \u001b[0;34m=\u001b[0m\u001b[0mnp\u001b[0m\u001b[0;34m.\u001b[0m\u001b[0mrandom\u001b[0m\u001b[0;34m.\u001b[0m\u001b[0mchoice\u001b[0m\u001b[0;34m(\u001b[0m\u001b[0mactions\u001b[0m\u001b[0;34m,\u001b[0m \u001b[0mp\u001b[0m\u001b[0;34m=\u001b[0m\u001b[0mp\u001b[0m\u001b[0;34m)\u001b[0m\u001b[0;34m\u001b[0m\u001b[0;34m\u001b[0m\u001b[0m\n\u001b[0m\u001b[1;32m      7\u001b[0m \u001b[0;31m#         print(idx)\u001b[0m\u001b[0;34m\u001b[0m\u001b[0;34m\u001b[0m\u001b[0;34m\u001b[0m\u001b[0m\n\u001b[1;32m      8\u001b[0m         \u001b[0mret_policy\u001b[0m\u001b[0;34m[\u001b[0m\u001b[0mi\u001b[0m\u001b[0;34m]\u001b[0m\u001b[0;34m[\u001b[0m\u001b[0midx\u001b[0m\u001b[0;34m]\u001b[0m \u001b[0;34m=\u001b[0m \u001b[0;36m1\u001b[0m\u001b[0;34m\u001b[0m\u001b[0;34m\u001b[0m\u001b[0m\n",
      "\u001b[0;31mKeyboardInterrupt\u001b[0m: "
     ]
    }
   ],
   "source": [
    "# TEST\n",
    "env = gym.make(\"Taxi-v3\")\n",
    "\n",
    "final_rewards = []\n",
    "for _ in tqdm.tqdm(range(1000)):\n",
    "    state = env.reset()\n",
    "    taxi_row, taxi_col, passenger_location, destination = env.decode(state)\n",
    "    test_reward = 0\n",
    "    for step in range(trajectory_len):\n",
    "        action = agent2.get_action(state)\n",
    "        state, reward, done, _ = env.step(action)\n",
    "        test_reward += reward\n",
    "        if done:\n",
    "            print(st)\n",
    "            break\n",
    "    taxi_row, taxi_col, passenger_location, f_destination = (env.decode(state))\n",
    "    final_rewards.append([test_reward, step, delivered(state)])\n",
    "\n",
    "final_rewards = np.array(final_rewards)"
   ]
  },
  {
   "cell_type": "code",
   "execution_count": 92,
   "id": "binding-salem",
   "metadata": {},
   "outputs": [
    {
     "data": {
      "text/plain": [
       "1"
      ]
     },
     "execution_count": 92,
     "metadata": {},
     "output_type": "execute_result"
    }
   ],
   "source": [
    "max(final_rewards[::,2])"
   ]
  },
  {
   "cell_type": "code",
   "execution_count": 90,
   "id": "printable-nowhere",
   "metadata": {},
   "outputs": [
    {
     "data": {
      "image/png": "[encoded data removed]",
      "text/plain": [
       "<Figure size 720x360 with 2 Axes>"
      ]
     },
     "metadata": {
      "needs_background": "light"
     },
     "output_type": "display_data"
    }
   ],
   "source": [
    "fig, ax = plt.subplots(figsize = (10, 5))\n",
    "ax2 = ax.twinx()\n",
    "ax.hist(final_rewards[final_rewards[::,2]==0][::,0], bins=50, alpha=0.5, color='r')\n",
    "ax2.hist(final_rewards[final_rewards[::,2]==1][::,0], bins=50, alpha=0.5, color='g')\n",
    "ax.set_xlabel('Reward')\n",
    "ax.set_ylabel('Count of unsuccessfull rides', color = 'r')\n",
    "ax2.set_ylabel('Count of successfull rides', color = 'g')\n",
    "plt.tight_layout()\n",
    "plt.show()"
   ]
  },
  {
   "cell_type": "code",
   "execution_count": 49,
   "id": "coupled-mediterranean",
   "metadata": {},
   "outputs": [
    {
     "data": {
      "image/png": "[encoded data removed]",
      "text/plain": [
       "<Figure size 432x288 with 1 Axes>"
      ]
     },
     "metadata": {
      "needs_background": "light"
     },
     "output_type": "display_data"
    }
   ],
   "source": [
    "plt.hist(final_rewards[final_rewards[::,2]==0][::,0], bins=50, alpha=0.5)\n",
    "plt.show()"
   ]
  },
  {
   "cell_type": "code",
   "execution_count": null,
   "id": "soviet-novel",
   "metadata": {},
   "outputs": [],
   "source": []
  },
  {
   "cell_type": "code",
   "execution_count": null,
   "id": "dental-charter",
   "metadata": {},
   "outputs": [],
   "source": []
  },
  {
   "cell_type": "code",
   "execution_count": null,
   "id": "exterior-wednesday",
   "metadata": {},
   "outputs": [],
   "source": []
  },
  {
   "cell_type": "code",
   "execution_count": null,
   "id": "distinguished-partnership",
   "metadata": {},
   "outputs": [],
   "source": []
  },
  {
   "cell_type": "code",
   "execution_count": null,
   "id": "numerical-preparation",
   "metadata": {},
   "outputs": [],
   "source": []
  },
  {
   "cell_type": "code",
   "execution_count": null,
   "id": "threaded-harvey",
   "metadata": {},
   "outputs": [],
   "source": []
  },
  {
   "cell_type": "code",
   "execution_count": null,
   "id": "aggressive-personal",
   "metadata": {},
   "outputs": [],
   "source": []
  }
 ],
 "metadata": {
  "kernelspec": {
   "display_name": "py37",
   "language": "python",
   "name": "py37"
  },
  "language_info": {
   "codemirror_mode": {
    "name": "ipython",
    "version": 3
   },
   "file_extension": ".py",
   "mimetype": "text/x-python",
   "name": "python",
   "nbconvert_exporter": "python",
   "pygments_lexer": "ipython3",
   "version": "3.7.6"
  }
 },
 "nbformat": 4,
 "nbformat_minor": 5
}
