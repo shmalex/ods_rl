{
 "cells": [
  {
   "cell_type": "code",
   "execution_count": 171,
   "metadata": {
    "ExecuteTime": {
     "end_time": "2022-11-06T02:49:15.389967Z",
     "start_time": "2022-11-06T02:49:15.387051Z"
    }
   },
   "outputs": [],
   "source": [
    "import warnings\n",
    "warnings.filterwarnings(\"ignore\", category=DeprecationWarning) "
   ]
  },
  {
   "cell_type": "code",
   "execution_count": 172,
   "metadata": {
    "ExecuteTime": {
     "end_time": "2022-11-06T02:49:16.682402Z",
     "start_time": "2022-11-06T02:49:16.477354Z"
    }
   },
   "outputs": [],
   "source": [
    "import gym\n",
    "import gym_maze\n",
    "import time\n",
    "import random\n",
    "import numpy as np\n",
    "import tqdm\n",
    "import glob\n",
    "from PIL import Image\n"
   ]
  },
  {
   "cell_type": "code",
   "execution_count": 173,
   "metadata": {
    "ExecuteTime": {
     "end_time": "2022-11-06T02:49:18.267318Z",
     "start_time": "2022-11-06T02:49:18.260756Z"
    }
   },
   "outputs": [
    {
     "data": {
      "text/plain": [
       "['/home/shmalex/.conda/envs/py37/lib/python3.7/site-packages/gym_maze-0.4-py3.7.egg/gym_maze']"
      ]
     },
     "execution_count": 173,
     "metadata": {},
     "output_type": "execute_result"
    }
   ],
   "source": [
    "gym_maze.__path__"
   ]
  },
  {
   "cell_type": "code",
   "execution_count": 174,
   "metadata": {
    "ExecuteTime": {
     "end_time": "2022-11-06T05:32:39.164909Z",
     "start_time": "2022-11-06T05:32:38.809040Z"
    }
   },
   "outputs": [],
   "source": [
    "env = gym.make('maze-sample-10x10-v0')"
   ]
  },
  {
   "cell_type": "code",
   "execution_count": null,
   "metadata": {},
   "outputs": [],
   "source": []
  },
  {
   "cell_type": "code",
   "execution_count": 175,
   "metadata": {
    "ExecuteTime": {
     "end_time": "2022-11-06T05:32:46.068724Z",
     "start_time": "2022-11-06T05:32:46.064929Z"
    }
   },
   "outputs": [],
   "source": [
    "def get_state(obs):\n",
    "    return int(obs[1] * np.sqrt(state_n)+obs[0])"
   ]
  },
  {
   "cell_type": "code",
   "execution_count": 176,
   "metadata": {
    "ExecuteTime": {
     "end_time": "2022-11-06T04:16:43.580362Z",
     "start_time": "2022-11-06T04:16:43.575878Z"
    }
   },
   "outputs": [],
   "source": [
    "def policy_evaluation(policy, ):\n",
    "    pass"
   ]
  },
  {
   "cell_type": "code",
   "execution_count": 177,
   "metadata": {
    "ExecuteTime": {
     "end_time": "2022-11-06T05:32:48.526701Z",
     "start_time": "2022-11-06T05:32:48.519760Z"
    }
   },
   "outputs": [],
   "source": [
    "class RandomAgent():\n",
    "    def __init__(self, action_n):\n",
    "        self.action_n = action_n\n",
    "        return None\n",
    "    def get_action(self, state):\n",
    "        return random.randint(0, self.action_n-1)"
   ]
  },
  {
   "cell_type": "code",
   "execution_count": 178,
   "metadata": {
    "ExecuteTime": {
     "end_time": "2022-11-06T05:32:49.716955Z",
     "start_time": "2022-11-06T05:32:49.703696Z"
    }
   },
   "outputs": [],
   "source": [
    "class CrossEntropyMethod():\n",
    "    def __init__(self, state_n, action_n):\n",
    "        self.state_n = state_n\n",
    "        self.action_n = action_n\n",
    "        self.policy = np.ones((self.state_n, self.action_n)) / self.action_n\n",
    "    \n",
    "    def get_action(self, state):\n",
    "        return int(np.random.choice(np.arange(self.action_n), p=self.policy[state]))\n",
    "    \n",
    "    def update_policy(self, elite_trajectories):\n",
    "        pre_policy = np.zeros((self.state_n, self.action_n))\n",
    "        \n",
    "        for trajectory in elite_trajectories:\n",
    "            for state, action in zip(trajectory['states'], trajectory['actions']):\n",
    "                pre_policy[state][action] += 1\n",
    "                \n",
    "        for state in range(self.state_n):\n",
    "            if sum(pre_policy[state]) == 0:\n",
    "                self.policy[state] = np.ones(self.action_n) / self.action_n\n",
    "            else:\n",
    "#                 self.policy[state] = pre_policy[state] / sum(pre_policy[state])\n",
    "                self.policy[state] = (pre_policy[state]+lambd) / (sum(pre_policy[state])+lambd*self.action_n)\n",
    "                \n",
    "        return None\n",
    "    def laplace_smoothing_update(self, elite_trajectories, lambd):\n",
    "        pre_policy = np.zeros((self.state_n, self.action_n))\n",
    "        \n",
    "        # counter\n",
    "        for trajectory in elite_trajectories:\n",
    "            for state, action in zip(trajectory['states'], trajectory['actions']):\n",
    "                pre_policy[state][action] += 1\n",
    "        \n",
    "        # \n",
    "        for state in range(self.state_n):\n",
    "            if sum(pre_policy[state]) == 0:\n",
    "                self.policy[state] = np.ones(self.action_n) / self.action_n\n",
    "            else:\n",
    "                self.policy[state] = (pre_policy[state]+lambd) / (sum(pre_policy[state])+lambd*self.action_n)\n",
    "        return None\n",
    "    def policy_smoothing_update(self, elite_trajectories, lambd):\n",
    "        pre_policy = np.zeros((self.state_n, self.action_n))\n",
    "        \n",
    "        # counter\n",
    "        for trajectory in elite_trajectories:\n",
    "            for state, action in zip(trajectory['states'], trajectory['actions']):\n",
    "                pre_policy[state][action] += 1\n",
    "        \n",
    "        # \n",
    "        for state in range(self.state_n):\n",
    "            if sum(pre_policy[state]) == 0:\n",
    "                new_policy = np.ones(self.action_n) / self.action_n\n",
    "            else:\n",
    "                new_policy = pre_policy[state] / sum(pre_policy[state])\n",
    "            self.policy[state] = lambd*new_policy+ (1-lambd)*self.policy[state]\n",
    "        return None"
   ]
  },
  {
   "cell_type": "code",
   "execution_count": 179,
   "metadata": {
    "ExecuteTime": {
     "end_time": "2022-11-06T05:32:50.252684Z",
     "start_time": "2022-11-06T05:32:50.241086Z"
    }
   },
   "outputs": [],
   "source": [
    "def get_trajectory(agent, trajectory_len):\n",
    "    trajectory = {\n",
    "        'states':[], \n",
    "        'actions':[],\n",
    "        'total_reward': 0}\n",
    "\n",
    "    obs = env.reset()\n",
    "    state = get_state(obs)\n",
    "    trajectory['states'].append(state)\n",
    "    \n",
    "    \n",
    "    for _ in range(trajectory_len):\n",
    "        action = agent.get_action(state)\n",
    "#         print(action)\n",
    "        trajectory['actions'].append(action)\n",
    "        \n",
    "        obs, reward, done, _ = env.step(action)\n",
    "        state = get_state(obs)\n",
    "        trajectory['states'].append(state)\n",
    "        trajectory['total_reward'] += reward\n",
    "#         env.render()\n",
    "#         time.sleep(0.5)\n",
    "        if done:\n",
    "#             print(done)\n",
    "            break\n",
    "    return trajectory"
   ]
  },
  {
   "cell_type": "code",
   "execution_count": 180,
   "metadata": {
    "ExecuteTime": {
     "end_time": "2022-11-06T05:32:50.959698Z",
     "start_time": "2022-11-06T05:32:50.953472Z"
    }
   },
   "outputs": [],
   "source": [
    "def get_elite_trajectories(trajectories, q_param):\n",
    "    total_rewards = [trajectory['total_reward'] for trajectory in trajectories]\n",
    "    quantile = np.quantile(total_rewards, q=q_param) \n",
    "    return [trajectory for trajectory in trajectories if trajectory['total_reward'] > quantile]\n"
   ]
  },
  {
   "cell_type": "code",
   "execution_count": 181,
   "metadata": {},
   "outputs": [],
   "source": [
    "def save_policy_plot(policy):\n",
    "    global N\n",
    "    ax = sns.heatmap(policy, linewidth=0.5,  cmap=\"YlGnBu\")\n",
    "    plt.savefig(f'./policy_maze/{N:06}.jpg')\n",
    "    plt.close()\n",
    "    N +=1\n",
    "def create_gif():\n",
    "    # filepaths\n",
    "    fp_in = \"./policy_maze/*.jpg\"\n",
    "    fp_out = \"./policy_maze_policy_smoothing.gif\"\n",
    "\n",
    "    # https://pillow.readthedocs.io/en/stable/handbook/image-file-formats.html#gif\n",
    "    imgs = (Image.open(f) for f in sorted(glob.glob(fp_in)))\n",
    "    img = next(imgs)  # extract first image from iterator\n",
    "    img.save(fp=fp_out, format='GIF', append_images=imgs,\n",
    "             save_all=True, duration=200, loop=0)\n"
   ]
  },
  {
   "cell_type": "code",
   "execution_count": 157,
   "metadata": {},
   "outputs": [],
   "source": [
    "create_gif()"
   ]
  },
  {
   "cell_type": "markdown",
   "metadata": {
    "ExecuteTime": {
     "end_time": "2022-11-06T05:22:01.729502Z",
     "start_time": "2022-11-06T05:22:01.724992Z"
    }
   },
   "source": [
    "agent = RandomAgent(action_n)"
   ]
  },
  {
   "cell_type": "code",
   "execution_count": 182,
   "metadata": {
    "ExecuteTime": {
     "end_time": "2022-11-06T05:35:03.567240Z",
     "start_time": "2022-11-06T05:35:03.190943Z"
    }
   },
   "outputs": [
    {
     "name": "stderr",
     "output_type": "stream",
     "text": [
      "/home/shmalex/.conda/envs/py37/lib/python3.7/site-packages/gym/utils/passive_env_checker.py:175: UserWarning: \u001b[33mWARN: Future gym versions will require that `Env.reset` can be passed a `seed` instead of using `Env.seed` for resetting the environment random number generator.\u001b[0m\n",
      "  \"Future gym versions will require that `Env.reset` can be passed a `seed` instead of using `Env.seed` for resetting the environment random number generator.\"\n",
      "/home/shmalex/.conda/envs/py37/lib/python3.7/site-packages/gym/utils/passive_env_checker.py:191: UserWarning: \u001b[33mWARN: Future gym versions will require that `Env.reset` can be passed `return_info` to return information from the environment resetting.\u001b[0m\n",
      "  \"Future gym versions will require that `Env.reset` can be passed `return_info` to return information from the environment resetting.\"\n",
      "/home/shmalex/.conda/envs/py37/lib/python3.7/site-packages/gym/utils/passive_env_checker.py:196: UserWarning: \u001b[33mWARN: Future gym versions will require that `Env.reset` can be passed `options` to allow the environment initialisation to be passed additional information.\u001b[0m\n",
      "  \"Future gym versions will require that `Env.reset` can be passed `options` to allow the environment initialisation to be passed additional information.\"\n",
      "/home/shmalex/.conda/envs/py37/lib/python3.7/site-packages/gym/utils/passive_env_checker.py:142: UserWarning: \u001b[33mWARN: The obs returned by the `reset()` method was expecting numpy array dtype to be int64, actual type: float64\u001b[0m\n",
      "  f\"{pre} was expecting numpy array dtype to be {observation_space.dtype}, actual type: {obs.dtype}\"\n",
      "/home/shmalex/.conda/envs/py37/lib/python3.7/site-packages/gym/utils/passive_env_checker.py:165: UserWarning: \u001b[33mWARN: The obs returned by the `reset()` method is not within the observation space.\u001b[0m\n",
      "  logger.warn(f\"{pre} is not within the observation space.\")\n"
     ]
    }
   ],
   "source": [
    "env = gym.make('maze-sample-5x5-v0')\n",
    "obs = env.reset()"
   ]
  },
  {
   "cell_type": "code",
   "execution_count": 183,
   "metadata": {
    "ExecuteTime": {
     "end_time": "2022-11-06T05:35:06.489528Z",
     "start_time": "2022-11-06T05:35:06.485820Z"
    }
   },
   "outputs": [],
   "source": [
    "state_n = 5*5\n",
    "\n",
    "action_n = 4\n"
   ]
  },
  {
   "cell_type": "code",
   "execution_count": 184,
   "metadata": {
    "ExecuteTime": {
     "end_time": "2022-11-06T05:35:06.791351Z",
     "start_time": "2022-11-06T05:35:06.786730Z"
    }
   },
   "outputs": [],
   "source": [
    "episode_n = 50\n",
    "trajectory_n = 50\n",
    "trajectory_len = 75\n",
    "q_param = 0.7\n",
    "lambd = 0.1\n",
    "agent = CrossEntropyMethod(state_n, action_n)"
   ]
  },
  {
   "cell_type": "code",
   "execution_count": null,
   "metadata": {},
   "outputs": [],
   "source": [
    "policy_smoothing_update"
   ]
  },
  {
   "cell_type": "code",
   "execution_count": 185,
   "metadata": {},
   "outputs": [
    {
     "data": {
      "text/plain": [
       "array([[0.25, 0.25, 0.25, 0.25],\n",
       "       [0.25, 0.25, 0.25, 0.25],\n",
       "       [0.25, 0.25, 0.25, 0.25],\n",
       "       [0.25, 0.25, 0.25, 0.25],\n",
       "       [0.25, 0.25, 0.25, 0.25],\n",
       "       [0.25, 0.25, 0.25, 0.25],\n",
       "       [0.25, 0.25, 0.25, 0.25],\n",
       "       [0.25, 0.25, 0.25, 0.25],\n",
       "       [0.25, 0.25, 0.25, 0.25],\n",
       "       [0.25, 0.25, 0.25, 0.25],\n",
       "       [0.25, 0.25, 0.25, 0.25],\n",
       "       [0.25, 0.25, 0.25, 0.25],\n",
       "       [0.25, 0.25, 0.25, 0.25],\n",
       "       [0.25, 0.25, 0.25, 0.25],\n",
       "       [0.25, 0.25, 0.25, 0.25],\n",
       "       [0.25, 0.25, 0.25, 0.25],\n",
       "       [0.25, 0.25, 0.25, 0.25],\n",
       "       [0.25, 0.25, 0.25, 0.25],\n",
       "       [0.25, 0.25, 0.25, 0.25],\n",
       "       [0.25, 0.25, 0.25, 0.25],\n",
       "       [0.25, 0.25, 0.25, 0.25],\n",
       "       [0.25, 0.25, 0.25, 0.25],\n",
       "       [0.25, 0.25, 0.25, 0.25],\n",
       "       [0.25, 0.25, 0.25, 0.25],\n",
       "       [0.25, 0.25, 0.25, 0.25]])"
      ]
     },
     "execution_count": 185,
     "metadata": {},
     "output_type": "execute_result"
    }
   ],
   "source": [
    "agent.policy"
   ]
  },
  {
   "cell_type": "code",
   "execution_count": 210,
   "metadata": {},
   "outputs": [
    {
     "data": {
      "text/plain": [
       "50"
      ]
     },
     "execution_count": 210,
     "metadata": {},
     "output_type": "execute_result"
    }
   ],
   "source": [
    "trajectory_n"
   ]
  },
  {
   "cell_type": "code",
   "execution_count": 211,
   "metadata": {},
   "outputs": [],
   "source": [
    "trajectories = [get_trajectory(agent, trajectory_len) for _ in range(trajectory_n)]\n"
   ]
  },
  {
   "cell_type": "code",
   "execution_count": 195,
   "metadata": {},
   "outputs": [
    {
     "data": {
      "text/plain": [
       "-0.3000000000000002"
      ]
     },
     "execution_count": 195,
     "metadata": {},
     "output_type": "execute_result"
    }
   ],
   "source": [
    "quantile"
   ]
  },
  {
   "cell_type": "code",
   "execution_count": 212,
   "metadata": {},
   "outputs": [
    {
     "data": {
      "text/plain": [
       "(array([49.,  0.,  0.,  0.,  0.,  0.,  0.,  0.,  0.,  1.]),\n",
       " array([-0.3   , -0.1916, -0.0832,  0.0252,  0.1336,  0.242 ,  0.3504,\n",
       "         0.4588,  0.5672,  0.6756,  0.784 ]),\n",
       " <a list of 10 Patch objects>)"
      ]
     },
     "execution_count": 212,
     "metadata": {},
     "output_type": "execute_result"
    },
    {
     "data": {
      "image/png": "[encoded data removed]",
      "text/plain": [
       "<Figure size 432x288 with 1 Axes>"
      ]
     },
     "metadata": {
      "needs_background": "light"
     },
     "output_type": "display_data"
    }
   ],
   "source": [
    "plt.hist([trajectory['total_reward'] for trajectory in trajectories])"
   ]
  },
  {
   "cell_type": "code",
   "execution_count": 196,
   "metadata": {},
   "outputs": [],
   "source": [
    "total_rewards = [trajectory['total_reward'] for trajectory in trajectories]\n",
    "quantile = np.quantile(total_rewards, q=q_param) \n",
    "elit_traj = [trajectory for trajectory in trajectories if trajectory['total_reward'] > quantile]\n"
   ]
  },
  {
   "cell_type": "code",
   "execution_count": 213,
   "metadata": {},
   "outputs": [],
   "source": [
    "et = elit_traj[0]"
   ]
  },
  {
   "cell_type": "code",
   "execution_count": 214,
   "metadata": {},
   "outputs": [
    {
     "data": {
      "text/plain": [
       "{'states': [0,\n",
       "  0,\n",
       "  0,\n",
       "  1,\n",
       "  6,\n",
       "  6,\n",
       "  1,\n",
       "  2,\n",
       "  7,\n",
       "  12,\n",
       "  12,\n",
       "  12,\n",
       "  12,\n",
       "  12,\n",
       "  17,\n",
       "  17,\n",
       "  17,\n",
       "  12,\n",
       "  12,\n",
       "  12,\n",
       "  17,\n",
       "  22,\n",
       "  23,\n",
       "  23,\n",
       "  23,\n",
       "  23,\n",
       "  23,\n",
       "  18,\n",
       "  23,\n",
       "  23,\n",
       "  18,\n",
       "  18,\n",
       "  23,\n",
       "  22,\n",
       "  22,\n",
       "  22,\n",
       "  21,\n",
       "  21,\n",
       "  22,\n",
       "  17,\n",
       "  22,\n",
       "  23,\n",
       "  18,\n",
       "  18,\n",
       "  13,\n",
       "  13,\n",
       "  8,\n",
       "  8,\n",
       "  8,\n",
       "  9,\n",
       "  4,\n",
       "  3,\n",
       "  4,\n",
       "  4,\n",
       "  4,\n",
       "  9,\n",
       "  14,\n",
       "  19,\n",
       "  14,\n",
       "  9,\n",
       "  14,\n",
       "  14,\n",
       "  19,\n",
       "  24],\n",
       " 'actions': [1,\n",
       "  0,\n",
       "  2,\n",
       "  1,\n",
       "  3,\n",
       "  0,\n",
       "  2,\n",
       "  1,\n",
       "  1,\n",
       "  2,\n",
       "  2,\n",
       "  3,\n",
       "  3,\n",
       "  1,\n",
       "  2,\n",
       "  2,\n",
       "  0,\n",
       "  3,\n",
       "  3,\n",
       "  1,\n",
       "  1,\n",
       "  2,\n",
       "  1,\n",
       "  1,\n",
       "  2,\n",
       "  2,\n",
       "  0,\n",
       "  1,\n",
       "  2,\n",
       "  0,\n",
       "  3,\n",
       "  1,\n",
       "  3,\n",
       "  1,\n",
       "  1,\n",
       "  3,\n",
       "  3,\n",
       "  2,\n",
       "  0,\n",
       "  1,\n",
       "  2,\n",
       "  0,\n",
       "  2,\n",
       "  0,\n",
       "  2,\n",
       "  0,\n",
       "  0,\n",
       "  0,\n",
       "  2,\n",
       "  0,\n",
       "  3,\n",
       "  2,\n",
       "  2,\n",
       "  0,\n",
       "  1,\n",
       "  1,\n",
       "  1,\n",
       "  0,\n",
       "  0,\n",
       "  1,\n",
       "  2,\n",
       "  1,\n",
       "  1],\n",
       " 'total_reward': 0.7519999999999998}"
      ]
     },
     "execution_count": 214,
     "metadata": {},
     "output_type": "execute_result"
    }
   ],
   "source": [
    "et"
   ]
  },
  {
   "cell_type": "code",
   "execution_count": 209,
   "metadata": {},
   "outputs": [
    {
     "data": {
      "text/plain": [
       "(array([3., 2., 1., 1., 4., 0., 2., 1., 3., 3., 0., 0., 8., 2., 4., 0., 0.,\n",
       "        5., 5., 2., 0., 2., 6., 9., 1.]),\n",
       " array([ 0.  ,  0.96,  1.92,  2.88,  3.84,  4.8 ,  5.76,  6.72,  7.68,\n",
       "         8.64,  9.6 , 10.56, 11.52, 12.48, 13.44, 14.4 , 15.36, 16.32,\n",
       "        17.28, 18.24, 19.2 , 20.16, 21.12, 22.08, 23.04, 24.  ]),\n",
       " <a list of 25 Patch objects>)"
      ]
     },
     "execution_count": 209,
     "metadata": {},
     "output_type": "execute_result"
    },
    {
     "data": {
      "image/png": "[encoded data removed]",
      "text/plain": [
       "<Figure size 432x288 with 1 Axes>"
      ]
     },
     "metadata": {
      "needs_background": "light"
     },
     "output_type": "display_data"
    }
   ],
   "source": [
    "plt.hist(et['states'], bins=25)"
   ]
  },
  {
   "cell_type": "code",
   "execution_count": 207,
   "metadata": {},
   "outputs": [
    {
     "data": {
      "text/plain": [
       "(array([15.,  0.,  0., 20.,  0.,  0., 18.,  0.,  0., 10.]),\n",
       " array([0. , 0.3, 0.6, 0.9, 1.2, 1.5, 1.8, 2.1, 2.4, 2.7, 3. ]),\n",
       " <a list of 10 Patch objects>)"
      ]
     },
     "execution_count": 207,
     "metadata": {},
     "output_type": "execute_result"
    },
    {
     "data": {
      "image/png": "[encoded data removed]",
      "text/plain": [
       "<Figure size 432x288 with 1 Axes>"
      ]
     },
     "metadata": {
      "needs_background": "light"
     },
     "output_type": "display_data"
    }
   ],
   "source": [
    "plt.hist(et['actions'])"
   ]
  },
  {
   "cell_type": "code",
   "execution_count": 215,
   "metadata": {},
   "outputs": [
    {
     "data": {
      "text/plain": [
       "array([[0., 0., 0., 0.],\n",
       "       [0., 0., 0., 0.],\n",
       "       [0., 0., 0., 0.],\n",
       "       [0., 0., 0., 0.],\n",
       "       [0., 0., 0., 0.],\n",
       "       [0., 0., 0., 0.],\n",
       "       [0., 0., 0., 0.],\n",
       "       [0., 0., 0., 0.],\n",
       "       [0., 0., 0., 0.],\n",
       "       [0., 0., 0., 0.],\n",
       "       [0., 0., 0., 0.],\n",
       "       [0., 0., 0., 0.],\n",
       "       [0., 0., 0., 0.],\n",
       "       [0., 0., 0., 0.],\n",
       "       [0., 0., 0., 0.],\n",
       "       [0., 0., 0., 0.],\n",
       "       [0., 0., 0., 0.],\n",
       "       [0., 0., 0., 0.],\n",
       "       [0., 0., 0., 0.],\n",
       "       [0., 0., 0., 0.],\n",
       "       [0., 0., 0., 0.],\n",
       "       [0., 0., 0., 0.],\n",
       "       [0., 0., 0., 0.],\n",
       "       [0., 0., 0., 0.],\n",
       "       [0., 0., 0., 0.]])"
      ]
     },
     "execution_count": 215,
     "metadata": {},
     "output_type": "execute_result"
    }
   ],
   "source": [
    "new_policy = np.zeros(shape=(25,4))\n",
    "new_policy"
   ]
  },
  {
   "cell_type": "code",
   "execution_count": 216,
   "metadata": {},
   "outputs": [],
   "source": [
    "for a, s in zip(elit_traj[0]['actions'], elit_traj[0]['states']):\n",
    "    new_policy[s][a]+=1"
   ]
  },
  {
   "cell_type": "code",
   "execution_count": 217,
   "metadata": {},
   "outputs": [
    {
     "data": {
      "text/plain": [
       "array([[1., 1., 1., 0.],\n",
       "       [0., 1., 1., 0.],\n",
       "       [0., 1., 0., 0.],\n",
       "       [0., 0., 1., 0.],\n",
       "       [1., 1., 1., 1.],\n",
       "       [0., 0., 0., 0.],\n",
       "       [1., 0., 0., 1.],\n",
       "       [0., 1., 0., 0.],\n",
       "       [2., 0., 1., 0.],\n",
       "       [1., 2., 0., 0.],\n",
       "       [0., 0., 0., 0.],\n",
       "       [0., 0., 0., 0.],\n",
       "       [0., 2., 2., 4.],\n",
       "       [1., 0., 1., 0.],\n",
       "       [1., 2., 1., 0.],\n",
       "       [0., 0., 0., 0.],\n",
       "       [0., 0., 0., 0.],\n",
       "       [1., 2., 2., 0.],\n",
       "       [1., 2., 1., 1.],\n",
       "       [1., 1., 0., 0.],\n",
       "       [0., 0., 0., 0.],\n",
       "       [0., 0., 1., 1.],\n",
       "       [1., 2., 2., 1.],\n",
       "       [3., 2., 3., 1.],\n",
       "       [0., 0., 0., 0.]])"
      ]
     },
     "execution_count": 217,
     "metadata": {},
     "output_type": "execute_result"
    }
   ],
   "source": [
    "new_policy"
   ]
  },
  {
   "cell_type": "code",
   "execution_count": 218,
   "metadata": {},
   "outputs": [],
   "source": [
    "updated_policy = np.zeros(shape=(25,4))"
   ]
  },
  {
   "cell_type": "code",
   "execution_count": 219,
   "metadata": {},
   "outputs": [
    {
     "name": "stderr",
     "output_type": "stream",
     "text": [
      "/home/shmalex/.conda/envs/py37/lib/python3.7/site-packages/ipykernel_launcher.py:2: RuntimeWarning: invalid value encountered in true_divide\n",
      "  \n"
     ]
    }
   ],
   "source": [
    "for j in range(25):\n",
    "    updated_policy[j] = new_policy[j]/sum(new_policy[j])"
   ]
  },
  {
   "cell_type": "code",
   "execution_count": 220,
   "metadata": {},
   "outputs": [
    {
     "data": {
      "text/plain": [
       "array([[0.33333333, 0.33333333, 0.33333333, 0.        ],\n",
       "       [0.        , 0.5       , 0.5       , 0.        ],\n",
       "       [0.        , 1.        , 0.        , 0.        ],\n",
       "       [0.        , 0.        , 1.        , 0.        ],\n",
       "       [0.25      , 0.25      , 0.25      , 0.25      ],\n",
       "       [       nan,        nan,        nan,        nan],\n",
       "       [0.5       , 0.        , 0.        , 0.5       ],\n",
       "       [0.        , 1.        , 0.        , 0.        ],\n",
       "       [0.66666667, 0.        , 0.33333333, 0.        ],\n",
       "       [0.33333333, 0.66666667, 0.        , 0.        ],\n",
       "       [       nan,        nan,        nan,        nan],\n",
       "       [       nan,        nan,        nan,        nan],\n",
       "       [0.        , 0.25      , 0.25      , 0.5       ],\n",
       "       [0.5       , 0.        , 0.5       , 0.        ],\n",
       "       [0.25      , 0.5       , 0.25      , 0.        ],\n",
       "       [       nan,        nan,        nan,        nan],\n",
       "       [       nan,        nan,        nan,        nan],\n",
       "       [0.2       , 0.4       , 0.4       , 0.        ],\n",
       "       [0.2       , 0.4       , 0.2       , 0.2       ],\n",
       "       [0.5       , 0.5       , 0.        , 0.        ],\n",
       "       [       nan,        nan,        nan,        nan],\n",
       "       [0.        , 0.        , 0.5       , 0.5       ],\n",
       "       [0.16666667, 0.33333333, 0.33333333, 0.16666667],\n",
       "       [0.33333333, 0.22222222, 0.33333333, 0.11111111],\n",
       "       [       nan,        nan,        nan,        nan]])"
      ]
     },
     "execution_count": 220,
     "metadata": {},
     "output_type": "execute_result"
    }
   ],
   "source": [
    "updated_policy"
   ]
  },
  {
   "cell_type": "code",
   "execution_count": 221,
   "metadata": {},
   "outputs": [],
   "source": [
    "agent.policy = updated_policy"
   ]
  },
  {
   "cell_type": "code",
   "execution_count": 222,
   "metadata": {},
   "outputs": [],
   "source": [
    "trajectories = [get_trajectory(agent, trajectory_len) for _ in range(trajectory_n)]\n"
   ]
  },
  {
   "cell_type": "code",
   "execution_count": 197,
   "metadata": {},
   "outputs": [
    {
     "data": {
      "text/plain": [
       "1"
      ]
     },
     "execution_count": 197,
     "metadata": {},
     "output_type": "execute_result"
    }
   ],
   "source": [
    "len(elit_traj)"
   ]
  },
  {
   "cell_type": "code",
   "execution_count": 189,
   "metadata": {},
   "outputs": [
    {
     "data": {
      "text/plain": [
       "(array([49.,  0.,  0.,  0.,  0.,  0.,  0.,  0.,  0.,  0.,  0.,  0.,  0.,\n",
       "         0.,  0.,  0.,  0.,  0.,  0.,  0.,  0.,  0.,  0.,  0.,  0.,  0.,\n",
       "         0.,  0.,  0.,  1.]),\n",
       " array([-0.3       , -0.26493333, -0.22986667, -0.1948    , -0.15973333,\n",
       "        -0.12466667, -0.0896    , -0.05453333, -0.01946667,  0.0156    ,\n",
       "         0.05066667,  0.08573333,  0.1208    ,  0.15586667,  0.19093333,\n",
       "         0.226     ,  0.26106667,  0.29613333,  0.3312    ,  0.36626667,\n",
       "         0.40133333,  0.4364    ,  0.47146667,  0.50653333,  0.5416    ,\n",
       "         0.57666667,  0.61173333,  0.6468    ,  0.68186667,  0.71693333,\n",
       "         0.752     ]),\n",
       " <a list of 30 Patch objects>)"
      ]
     },
     "execution_count": 189,
     "metadata": {},
     "output_type": "execute_result"
    },
    {
     "data": {
      "image/png": "[encoded data removed]",
      "text/plain": [
       "<Figure size 432x288 with 1 Axes>"
      ]
     },
     "metadata": {
      "needs_background": "light"
     },
     "output_type": "display_data"
    }
   ],
   "source": [
    "plt.hist([t['total_reward'] for t in trajectories], bins=30)"
   ]
  },
  {
   "cell_type": "code",
   "execution_count": 223,
   "metadata": {},
   "outputs": [
    {
     "data": {
      "text/plain": [
       "(array([10.,  0.,  0.,  0.,  0.,  0.,  0.,  0.,  0.,  0.,  0.,  0.,  0.,\n",
       "         0.,  0.,  0.,  0.,  0.,  0.,  0.,  0.,  0.,  0.,  0.,  0.,  6.,\n",
       "        13.,  9.,  4.,  8.]),\n",
       " array([-0.3       , -0.26026667, -0.22053333, -0.1808    , -0.14106667,\n",
       "        -0.10133333, -0.0616    , -0.02186667,  0.01786667,  0.0576    ,\n",
       "         0.09733333,  0.13706667,  0.1768    ,  0.21653333,  0.25626667,\n",
       "         0.296     ,  0.33573333,  0.37546667,  0.4152    ,  0.45493333,\n",
       "         0.49466667,  0.5344    ,  0.57413333,  0.61386667,  0.6536    ,\n",
       "         0.69333333,  0.73306667,  0.7728    ,  0.81253333,  0.85226667,\n",
       "         0.892     ]),\n",
       " <a list of 30 Patch objects>)"
      ]
     },
     "execution_count": 223,
     "metadata": {},
     "output_type": "execute_result"
    },
    {
     "data": {
      "image/png": "[encoded data removed]",
      "text/plain": [
       "<Figure size 432x288 with 1 Axes>"
      ]
     },
     "metadata": {
      "needs_background": "light"
     },
     "output_type": "display_data"
    }
   ],
   "source": [
    "plt.hist([t['total_reward'] for t in trajectories], bins=30)"
   ]
  },
  {
   "cell_type": "code",
   "execution_count": 224,
   "metadata": {},
   "outputs": [],
   "source": [
    "mean_total_reward = np.mean([trajectory['total_reward'] for trajectory in trajectories])"
   ]
  },
  {
   "cell_type": "code",
   "execution_count": null,
   "metadata": {},
   "outputs": [],
   "source": [
    "q_param"
   ]
  },
  {
   "cell_type": "code",
   "execution_count": 226,
   "metadata": {},
   "outputs": [],
   "source": [
    "total_rewards = [trajectory['total_reward'] for trajectory in trajectories]\n",
    "quantile = np.quantile(total_rewards, q=q_param) \n",
    "elit_traj = [trajectory for trajectory in trajectories if trajectory['total_reward'] > quantile]\n"
   ]
  },
  {
   "cell_type": "code",
   "execution_count": 228,
   "metadata": {},
   "outputs": [
    {
     "data": {
      "text/plain": [
       "0.7959999999999998"
      ]
     },
     "execution_count": 228,
     "metadata": {},
     "output_type": "execute_result"
    }
   ],
   "source": [
    "quantile"
   ]
  },
  {
   "cell_type": "code",
   "execution_count": 229,
   "metadata": {},
   "outputs": [
    {
     "data": {
      "text/plain": [
       "13"
      ]
     },
     "execution_count": 229,
     "metadata": {},
     "output_type": "execute_result"
    }
   ],
   "source": [
    "len(elit_traj)"
   ]
  },
  {
   "cell_type": "code",
   "execution_count": 236,
   "metadata": {},
   "outputs": [],
   "source": [
    "new_policy = np.zeros(shape=(25,4))\n",
    "for et in elit_traj:\n",
    "    for a, s in zip(et['actions'], et['states']):\n",
    "        new_policy[s][a]+=1"
   ]
  },
  {
   "cell_type": "code",
   "execution_count": 237,
   "metadata": {},
   "outputs": [
    {
     "data": {
      "text/plain": [
       "array([[ 3.,  9., 13.,  0.],\n",
       "       [ 0.,  8., 13.,  0.],\n",
       "       [ 0., 13.,  0.,  0.],\n",
       "       [ 0.,  0.,  5.,  0.],\n",
       "       [ 0.,  7.,  6.,  5.],\n",
       "       [ 0.,  0.,  0.,  0.],\n",
       "       [ 8.,  0.,  0.,  9.],\n",
       "       [ 0., 13.,  0.,  0.],\n",
       "       [40.,  0., 13.,  0.],\n",
       "       [ 7., 17.,  0.,  0.],\n",
       "       [ 0.,  0.,  0.,  0.],\n",
       "       [ 0.,  0.,  0.,  0.],\n",
       "       [ 0., 20.,  5., 29.],\n",
       "       [13.,  0., 11.,  0.],\n",
       "       [ 4., 17.,  2.,  0.],\n",
       "       [ 0.,  0.,  0.,  0.],\n",
       "       [ 0.,  0.,  0.,  0.],\n",
       "       [ 7., 16., 11.,  0.],\n",
       "       [13., 11., 10.,  7.],\n",
       "       [ 4., 13.,  0.,  0.],\n",
       "       [ 0.,  0.,  0.,  0.],\n",
       "       [ 0.,  0.,  6.,  8.],\n",
       "       [ 3.,  9., 20.,  6.],\n",
       "       [24., 16., 14.,  7.],\n",
       "       [ 0.,  0.,  0.,  0.]])"
      ]
     },
     "execution_count": 237,
     "metadata": {},
     "output_type": "execute_result"
    }
   ],
   "source": [
    "new_policy"
   ]
  },
  {
   "cell_type": "code",
   "execution_count": 225,
   "metadata": {},
   "outputs": [
    {
     "data": {
      "text/plain": [
       "0.5700799999999998"
      ]
     },
     "execution_count": 225,
     "metadata": {},
     "output_type": "execute_result"
    }
   ],
   "source": [
    "mean_total_reward"
   ]
  },
  {
   "cell_type": "code",
   "execution_count": 273,
   "metadata": {},
   "outputs": [
    {
     "data": {
      "text/plain": [
       "0.7"
      ]
     },
     "execution_count": 273,
     "metadata": {},
     "output_type": "execute_result"
    }
   ],
   "source": [
    "q_param"
   ]
  },
  {
   "cell_type": "code",
   "execution_count": null,
   "metadata": {},
   "outputs": [],
   "source": [
    "elite_trajectories = get_elite_trajectories(trajectories, q_param)\n"
   ]
  },
  {
   "cell_type": "code",
   "execution_count": 274,
   "metadata": {},
   "outputs": [
    {
     "data": {
      "text/plain": [
       "0.7"
      ]
     },
     "execution_count": 274,
     "metadata": {},
     "output_type": "execute_result"
    }
   ],
   "source": [
    "q_param"
   ]
  },
  {
   "cell_type": "code",
   "execution_count": 272,
   "metadata": {
    "ExecuteTime": {
     "end_time": "2022-11-06T05:35:21.592451Z",
     "start_time": "2022-11-06T05:35:07.368424Z"
    }
   },
   "outputs": [
    {
     "data": {
      "application/vnd.jupyter.widget-view+json": {
       "model_id": "78b2b92c799445fea583dd0913842e9a",
       "version_major": 2,
       "version_minor": 0
      },
      "text/plain": [
       "HBox(children=(HTML(value=''), FloatProgress(value=0.0), HTML(value='')))"
      ]
     },
     "metadata": {},
     "output_type": "display_data"
    },
    {
     "name": "stdout",
     "output_type": "stream",
     "text": [
      "-0.3000000000000002\n",
      "-0.3000000000000002\n",
      "-0.3000000000000002\n",
      "-0.3000000000000002\n",
      "-0.3000000000000002\n",
      "-0.3000000000000002\n",
      "-0.3000000000000002\n",
      "-0.3000000000000002\n",
      "-0.3000000000000002\n",
      "-0.3000000000000002\n",
      "-0.3000000000000002\n",
      "-0.3000000000000002\n",
      "-0.3000000000000002\n",
      "-0.3000000000000002\n",
      "-0.3000000000000002\n",
      "-0.3000000000000002\n",
      "-0.3000000000000002\n",
      "-0.3000000000000002\n",
      "-0.3000000000000002\n",
      "-0.3000000000000002\n",
      "-0.3000000000000002\n",
      "-0.3000000000000002\n",
      "-0.3000000000000002\n",
      "-0.3000000000000002\n",
      "-0.3000000000000002\n",
      "-0.3000000000000002\n",
      "-0.3000000000000002\n",
      "-0.3000000000000002\n",
      "-0.3000000000000002\n",
      "0.05199999999999979\n",
      "0.04933333333333312\n",
      "-0.3000000000000002\n",
      "0.42666666666666647\n",
      "0.8426666666666666\n",
      "0.8199999999999998\n",
      "0.8973333333333332\n",
      "0.8653333333333332\n",
      "0.9013333333333332\n",
      "0.8839999999999999\n",
      "0.49466666666666653\n",
      "0.9359999999999999\n",
      "0.7893333333333331\n",
      "0.8946666666666666\n",
      "0.9013333333333332\n",
      "0.8559999999999999\n",
      "0.9173333333333332\n",
      "0.8813333333333332\n",
      "0.8906666666666666\n",
      "0.8466666666666666\n",
      "0.9026666666666666\n",
      "0.9079999999999999\n",
      "0.8999999999999999\n",
      "0.8999999999999999\n",
      "0.8479999999999999\n",
      "0.4546666666666665\n",
      "0.8586666666666666\n",
      "0.8506666666666666\n",
      "0.8973333333333332\n",
      "0.8986666666666666\n",
      "0.8586666666666666\n",
      "0.9226666666666666\n",
      "0.9279999999999999\n",
      "0.9186666666666666\n",
      "0.8799999999999999\n",
      "0.8639999999999999\n",
      "0.8319999999999999\n",
      "0.8906666666666666\n",
      "0.9306666666666666\n",
      "0.9066666666666666\n",
      "0.8866666666666666\n",
      "0.8973333333333332\n",
      "0.8839999999999999\n",
      "0.8853333333333332\n",
      "0.8746666666666666\n",
      "0.8586666666666666\n",
      "0.43733333333333313\n",
      "0.8946666666666666\n",
      "0.9026666666666666\n",
      "0.9093333333333332\n",
      "0.8706666666666666\n",
      "0.8879999999999999\n",
      "0.8786666666666666\n",
      "0.7773333333333331\n",
      "0.7773333333333331\n",
      "0.4133333333333331\n",
      "0.41066666666666646\n",
      "0.08666666666666646\n",
      "0.8919999999999999\n",
      "0.8466666666666666\n",
      "0.8893333333333332\n",
      "0.9119999999999999\n",
      "0.9106666666666666\n",
      "0.8733333333333332\n",
      "0.8506666666666666\n",
      "0.8919999999999999\n",
      "0.8759999999999999\n",
      "0.8626666666666666\n",
      "0.4679999999999998\n",
      "0.8773333333333332\n",
      "0.8159999999999998\n",
      "\n"
     ]
    }
   ],
   "source": [
    "agent = CrossEntropyMethod(state_n, action_n)\n",
    "N = 0\n",
    "for _ in tqdm.tqdm_notebook(range(100)):\n",
    "    trajectories = [get_trajectory(agent, trajectory_len) for _ in range(3)]\n",
    "    \n",
    "    mean_total_reward = np.mean([trajectory['total_reward'] for trajectory in trajectories])\n",
    "    print(mean_total_reward)\n",
    "    \n",
    "    elite_trajectories = get_elite_trajectories(trajectories, q_param)\n",
    "#     save_policy_plot(agent.policy)\n",
    "    if len(elite_trajectories) > 0:\n",
    "#         agent.policy_smoothing_update(elite_trajectories, lambd)\n",
    "#         agent.laplace_smoothing_update(elite_trajectories, lambd)\n",
    "        agent.update_policy(elite_trajectories)\n",
    "        "
   ]
  },
  {
   "cell_type": "code",
   "execution_count": 241,
   "metadata": {},
   "outputs": [],
   "source": [
    "import scipy"
   ]
  },
  {
   "cell_type": "code",
   "execution_count": 242,
   "metadata": {},
   "outputs": [
    {
     "data": {
      "text/plain": [
       "<function scipy.special._logsumexp.softmax(x, axis=None)>"
      ]
     },
     "execution_count": 242,
     "metadata": {},
     "output_type": "execute_result"
    }
   ],
   "source": [
    "scipy.special.softmax"
   ]
  },
  {
   "cell_type": "code",
   "execution_count": 255,
   "metadata": {},
   "outputs": [
    {
     "data": {
      "text/plain": [
       "array([[0., 0., 1., 0.],\n",
       "       [0., 0., 1., 0.],\n",
       "       [0., 1., 0., 0.],\n",
       "       [0., 0., 0., 0.],\n",
       "       [0., 0., 0., 0.],\n",
       "       [0., 0., 0., 0.],\n",
       "       [0., 0., 0., 0.],\n",
       "       [0., 1., 0., 0.],\n",
       "       [0., 0., 1., 0.],\n",
       "       [0., 1., 0., 0.],\n",
       "       [0., 0., 0., 0.],\n",
       "       [0., 0., 0., 0.],\n",
       "       [0., 1., 0., 0.],\n",
       "       [1., 0., 0., 0.],\n",
       "       [0., 1., 0., 0.],\n",
       "       [0., 0., 0., 0.],\n",
       "       [0., 0., 0., 0.],\n",
       "       [0., 1., 0., 0.],\n",
       "       [1., 0., 0., 0.],\n",
       "       [0., 1., 0., 0.],\n",
       "       [0., 0., 0., 0.],\n",
       "       [0., 0., 0., 0.],\n",
       "       [0., 0., 1., 0.],\n",
       "       [1., 0., 0., 0.],\n",
       "       [0., 0., 0., 0.]])"
      ]
     },
     "execution_count": 255,
     "metadata": {},
     "output_type": "execute_result"
    }
   ],
   "source": [
    "np.round(agent.policy)"
   ]
  },
  {
   "cell_type": "code",
   "execution_count": 30,
   "metadata": {},
   "outputs": [
    {
     "name": "stderr",
     "output_type": "stream",
     "text": [
      "/home/shmalex/.conda/envs/py37/lib/python3.7/site-packages/scipy/fft/__init__.py:97: DeprecationWarning: The module numpy.dual is deprecated.  Instead of using dual, use the functions directly from numpy or scipy.\n",
      "  from numpy.dual import register_func\n",
      "/home/shmalex/.conda/envs/py37/lib/python3.7/site-packages/scipy/special/orthogonal.py:81: DeprecationWarning: `np.int` is a deprecated alias for the builtin `int`. To silence this warning, use `int` by itself. Doing this will not modify any behavior and is safe. When replacing `np.int`, you may wish to use e.g. `np.int64` or `np.int32` to specify the precision. If you wish to review your current use, check the release note link for additional information.\n",
      "Deprecated in NumPy 1.20; for more details and guidance: https://numpy.org/devdocs/release/1.20.0-notes.html#deprecations\n",
      "  from numpy import (exp, inf, pi, sqrt, floor, sin, cos, around, int,\n"
     ]
    },
    {
     "data": {
      "image/png": "[encoded data removed]",
      "text/plain": [
       "<Figure size 432x288 with 2 Axes>"
      ]
     },
     "metadata": {
      "needs_background": "light"
     },
     "output_type": "display_data"
    }
   ],
   "source": [
    "from matplotlib import pyplot as plt\n",
    "import seaborn as sns\n",
    "import matplotlib.pylab as plt\n",
    "\n",
    "uniform_data = np.random.rand(10, 12)\n"
   ]
  },
  {
   "cell_type": "code",
   "execution_count": 33,
   "metadata": {},
   "outputs": [
    {
     "data": {
      "image/png": "[encoded data removed]",
      "text/plain": [
       "<Figure size 432x288 with 2 Axes>"
      ]
     },
     "metadata": {
      "needs_background": "light"
     },
     "output_type": "display_data"
    }
   ],
   "source": [
    "# fig, ax = plt.subplots(figsize=(5,10))\n",
    "# plt.figure(figsize=(1,1))\n",
    "# im = ax.imshow(agent.policy, cmap='hot', interpolation='nearest', linewidth=0.5)\n",
    "ax = sns.heatmap(agent.policy, linewidth=0.5,  cmap=\"YlGnBu\")\n",
    "plt.save()"
   ]
  },
  {
   "cell_type": "code",
   "execution_count": 159,
   "metadata": {
    "ExecuteTime": {
     "end_time": "2022-11-06T05:37:33.708585Z",
     "start_time": "2022-11-06T05:37:25.559428Z"
    }
   },
   "outputs": [],
   "source": [
    "#test\n",
    "env = gym.make('maze-sample-5x5-v0')\n",
    "obs = env.reset()\n",
    "state = get_state(obs)\n",
    "\n",
    "for _ in range(trajectory_len):\n",
    "\n",
    "    action = agent.get_action(state)\n",
    "\n",
    "    obs, reward, done, _ = env.step(action)\n",
    "    state = get_state(obs)\n",
    "    \n",
    "    env.render()\n",
    "\n",
    "    if done:\n",
    "        break\n",
    "    time.sleep(0.5)"
   ]
  },
  {
   "cell_type": "code",
   "execution_count": 284,
   "metadata": {
    "ExecuteTime": {
     "end_time": "2022-11-06T05:37:04.528183Z",
     "start_time": "2022-11-06T05:37:04.488875Z"
    }
   },
   "outputs": [
    {
     "data": {
      "text/plain": [
       "<TimeLimit<OrderEnforcing<StepAPICompatibility<PassiveEnvChecker<TaxiEnv<Taxi-v3>>>>>>"
      ]
     },
     "execution_count": 284,
     "metadata": {},
     "output_type": "execute_result"
    }
   ],
   "source": [
    "gym.make(\"Taxi-v3\")\n",
    "\n"
   ]
  },
  {
   "cell_type": "code",
   "execution_count": null,
   "metadata": {},
   "outputs": [],
   "source": [
    "get_trajectory()"
   ]
  },
  {
   "cell_type": "code",
   "execution_count": 189,
   "metadata": {
    "ExecuteTime": {
     "end_time": "2022-11-06T04:58:03.079378Z",
     "start_time": "2022-11-06T04:58:03.072715Z"
    }
   },
   "outputs": [
    {
     "data": {
      "text/plain": [
       "1"
      ]
     },
     "execution_count": 189,
     "metadata": {},
     "output_type": "execute_result"
    }
   ],
   "source": [
    "agent.get_action(1)"
   ]
  },
  {
   "cell_type": "code",
   "execution_count": 126,
   "metadata": {
    "ExecuteTime": {
     "end_time": "2022-11-06T04:40:47.180320Z",
     "start_time": "2022-11-06T04:40:47.174302Z"
    }
   },
   "outputs": [
    {
     "data": {
      "text/plain": [
       "2"
      ]
     },
     "execution_count": 126,
     "metadata": {},
     "output_type": "execute_result"
    }
   ],
   "source": [
    "agent.get_action(0)"
   ]
  },
  {
   "cell_type": "code",
   "execution_count": 133,
   "metadata": {
    "ExecuteTime": {
     "end_time": "2022-11-06T04:42:23.658838Z",
     "start_time": "2022-11-06T04:42:23.072835Z"
    }
   },
   "outputs": [],
   "source": [
    "trajectories = get_trajectory(agent, 5)"
   ]
  },
  {
   "cell_type": "code",
   "execution_count": 134,
   "metadata": {
    "ExecuteTime": {
     "end_time": "2022-11-06T04:42:23.876063Z",
     "start_time": "2022-11-06T04:42:23.870425Z"
    }
   },
   "outputs": [
    {
     "data": {
      "text/plain": [
       "{'states': [0, 0, 0, 0, 0, 1],\n",
       " 'actions': [3, 1, 1, 0, 2],\n",
       " 'total_reward': -0.02}"
      ]
     },
     "execution_count": 134,
     "metadata": {},
     "output_type": "execute_result"
    }
   ],
   "source": [
    "trajectories"
   ]
  },
  {
   "cell_type": "code",
   "execution_count": null,
   "metadata": {},
   "outputs": [],
   "source": []
  },
  {
   "cell_type": "code",
   "execution_count": null,
   "metadata": {},
   "outputs": [],
   "source": []
  },
  {
   "cell_type": "code",
   "execution_count": null,
   "metadata": {},
   "outputs": [],
   "source": []
  },
  {
   "cell_type": "code",
   "execution_count": null,
   "metadata": {},
   "outputs": [],
   "source": []
  },
  {
   "cell_type": "code",
   "execution_count": null,
   "metadata": {},
   "outputs": [],
   "source": []
  },
  {
   "cell_type": "code",
   "execution_count": null,
   "metadata": {},
   "outputs": [],
   "source": []
  },
  {
   "cell_type": "code",
   "execution_count": null,
   "metadata": {},
   "outputs": [],
   "source": []
  },
  {
   "cell_type": "code",
   "execution_count": null,
   "metadata": {},
   "outputs": [],
   "source": []
  },
  {
   "cell_type": "code",
   "execution_count": null,
   "metadata": {},
   "outputs": [],
   "source": []
  },
  {
   "cell_type": "code",
   "execution_count": null,
   "metadata": {},
   "outputs": [],
   "source": []
  },
  {
   "cell_type": "code",
   "execution_count": null,
   "metadata": {},
   "outputs": [],
   "source": []
  },
  {
   "cell_type": "code",
   "execution_count": null,
   "metadata": {},
   "outputs": [],
   "source": []
  },
  {
   "cell_type": "code",
   "execution_count": null,
   "metadata": {},
   "outputs": [],
   "source": []
  },
  {
   "cell_type": "code",
   "execution_count": null,
   "metadata": {},
   "outputs": [],
   "source": []
  },
  {
   "cell_type": "code",
   "execution_count": null,
   "metadata": {},
   "outputs": [],
   "source": []
  },
  {
   "cell_type": "code",
   "execution_count": null,
   "metadata": {},
   "outputs": [],
   "source": []
  },
  {
   "cell_type": "code",
   "execution_count": null,
   "metadata": {},
   "outputs": [],
   "source": []
  },
  {
   "cell_type": "code",
   "execution_count": null,
   "metadata": {},
   "outputs": [],
   "source": []
  },
  {
   "cell_type": "code",
   "execution_count": null,
   "metadata": {},
   "outputs": [],
   "source": []
  },
  {
   "cell_type": "code",
   "execution_count": null,
   "metadata": {},
   "outputs": [],
   "source": []
  },
  {
   "cell_type": "code",
   "execution_count": null,
   "metadata": {},
   "outputs": [],
   "source": []
  },
  {
   "cell_type": "code",
   "execution_count": null,
   "metadata": {},
   "outputs": [],
   "source": []
  },
  {
   "cell_type": "code",
   "execution_count": null,
   "metadata": {},
   "outputs": [],
   "source": []
  }
 ],
 "metadata": {
  "kernelspec": {
   "display_name": "py37",
   "language": "python",
   "name": "py37"
  },
  "language_info": {
   "codemirror_mode": {
    "name": "ipython",
    "version": 3
   },
   "file_extension": ".py",
   "mimetype": "text/x-python",
   "name": "python",
   "nbconvert_exporter": "python",
   "pygments_lexer": "ipython3",
   "version": "3.7.6"
  }
 },
 "nbformat": 4,
 "nbformat_minor": 4
}
