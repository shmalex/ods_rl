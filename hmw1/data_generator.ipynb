{
 "cells": [
  {
   "cell_type": "code",
   "execution_count": 22,
   "id": "completed-platform",
   "metadata": {},
   "outputs": [],
   "source": [
    "import os\n",
    "import gym\n",
    "import gym_maze\n",
    "import numpy as np\n",
    "import random\n",
    "import time\n",
    "import tqdm\n",
    "\n",
    "import json"
   ]
  },
  {
   "cell_type": "code",
   "execution_count": 23,
   "id": "subsequent-tennis",
   "metadata": {},
   "outputs": [
    {
     "name": "stderr",
     "output_type": "stream",
     "text": [
      "/home/shmalex/.conda/envs/py37/lib/python3.7/site-packages/ipykernel_launcher.py:1: TqdmDeprecationWarning: This function will be removed in tqdm==5.0.0\n",
      "Please use `tqdm.notebook.tqdm` instead of `tqdm.tqdm_notebook`\n",
      "  \"\"\"Entry point for launching an IPython kernel.\n"
     ]
    },
    {
     "data": {
      "application/vnd.jupyter.widget-view+json": {
       "model_id": "39f5c122fbc540eeafef217ccf8717b7",
       "version_major": 2,
       "version_minor": 0
      },
      "text/plain": [
       "HBox(children=(HTML(value=''), FloatProgress(value=0.0, max=1.0), HTML(value='')))"
      ]
     },
     "metadata": {},
     "output_type": "display_data"
    },
    {
     "name": "stdout",
     "output_type": "stream",
     "text": [
      "\n"
     ]
    },
    {
     "data": {
      "application/vnd.jupyter.widget-view+json": {
       "model_id": "1b499015c0b548d49e4bcd21c1fab70f",
       "version_major": 2,
       "version_minor": 0
      },
      "text/plain": [
       "HBox(children=(HTML(value=''), FloatProgress(value=0.0, max=1.0), HTML(value='')))"
      ]
     },
     "metadata": {},
     "output_type": "display_data"
    },
    {
     "name": "stdout",
     "output_type": "stream",
     "text": [
      "\n"
     ]
    }
   ],
   "source": [
    "for i in tqdm.tqdm_notebook(range(1)):\n",
    "    pass\n",
    "for i in tqdm.notebook.tqdm(range(1)):\n",
    "    pass"
   ]
  },
  {
   "cell_type": "code",
   "execution_count": 24,
   "id": "supported-index",
   "metadata": {},
   "outputs": [],
   "source": [
    "actions = {0: 'move south',\n",
    "1: 'move north',\n",
    "2: 'move east',\n",
    "3: 'move west',\n",
    "4: 'pickup passenger',\n",
    "5: 'drop off passenger'}\n",
    "    \n",
    "action_n = 6\n",
    "state_n = 500\n",
    "\n",
    "\n",
    "actions = {0: 'move south',\n",
    "1: 'move north',\n",
    "2: 'move east',\n",
    "3: 'move west',\n",
    "4: 'pickup passenger',\n",
    "5: 'drop off passenger'}\n",
    "    \n",
    "\n",
    "positions = {0: 'Red',\n",
    "1: 'Green',\n",
    "2: 'Yellow',\n",
    "3: 'Blue',\n",
    "4: 'in taxi'}"
   ]
  },
  {
   "cell_type": "code",
   "execution_count": 25,
   "id": "missing-prospect",
   "metadata": {},
   "outputs": [],
   "source": [
    "def delivered(state):\n",
    "    taxi_row, taxi_col, passenger_location, destination = env.decode(state)\n",
    "    return passenger_location == destination"
   ]
  },
  {
   "cell_type": "code",
   "execution_count": 41,
   "id": "nasty-technician",
   "metadata": {},
   "outputs": [],
   "source": [
    "class CrossEntropyMethod():\n",
    "    def __init__(self, name, state_n, action_n, lambd):\n",
    "        self.name = name\n",
    "        self.lambd = lambd\n",
    "        self.state_n = state_n\n",
    "        self.action_n = action_n\n",
    "        self.policy = np.ones((self.state_n, self.action_n)) / self.action_n\n",
    "    \n",
    "    def get_action(self, state):\n",
    "        return int(np.random.choice(np.arange(self.action_n), p=self.policy[state]))\n",
    "    \n",
    "    def update_policy(self, elite_trajectories):\n",
    "        pre_policy = np.zeros((self.state_n, self.action_n))\n",
    "        \n",
    "        # counter\n",
    "        for trajectory in elite_trajectories:\n",
    "            for state, action in zip(trajectory['states'], trajectory['actions']):\n",
    "                pre_policy[state][action] += 1\n",
    "        \n",
    "        # \n",
    "        for state in range(self.state_n):\n",
    "            if sum(pre_policy[state]) == 0:\n",
    "                self.policy[state] = np.ones(self.action_n) / self.action_n\n",
    "            else:\n",
    "                self.policy[state] = pre_policy[state] / sum(pre_policy[state])\n",
    "        self.save_policy()\n",
    "        return None\n",
    "    def laplace_update_policy(self, elite_trajectories, lambd):\n",
    "        pre_policy = np.zeros((self.state_n, self.action_n))\n",
    "        \n",
    "        # counter\n",
    "        for trajectory in elite_trajectories:\n",
    "            for state, action in zip(trajectory['states'], trajectory['actions']):\n",
    "                pre_policy[state][action] += 1\n",
    "        \n",
    "        # \n",
    "        for state in range(self.state_n):\n",
    "            if sum(pre_policy[state]) == 0:\n",
    "                self.policy[state] = np.ones(self.action_n) / self.action_n\n",
    "            else:\n",
    "                self.policy[state] = (pre_policy[state]+lambd) / (sum(pre_policy[state])+lambd*self.action_n)\n",
    "        self.save_policy()\n",
    "        return None\n",
    "    def policy_smoothing_update(self, elite_trajectories, lambd):\n",
    "        pre_policy = np.zeros((self.state_n, self.action_n))\n",
    "        \n",
    "        # counter\n",
    "        for trajectory in elite_trajectories:\n",
    "            for state, action in zip(trajectory['states'], trajectory['actions']):\n",
    "                pre_policy[state][action] += 1\n",
    "        \n",
    "        # \n",
    "        for state in range(self.state_n):\n",
    "            if sum(pre_policy[state]) == 0:\n",
    "                new_policy = np.ones(self.action_n) / self.action_n\n",
    "            else:\n",
    "                new_policy = pre_policy[state] / sum(pre_policy[state])\n",
    "            self.policy[state] = lambd*new_policy+ (1-lambd)*self.policy[state]\n",
    "        self.save_policy()\n",
    "        return None\n",
    "    def save_policy(self):\n",
    "        np.save(f'{env.spec.id}-{self.name}', self.policy)\n",
    "    def load_policy(self):\n",
    "        fname = f'{env.spec.id}-{self.name}.npy'\n",
    "        if os.path.exists(fname):\n",
    "            self.policy = np.load(fname)"
   ]
  },
  {
   "cell_type": "code",
   "execution_count": 42,
   "id": "judicial-talent",
   "metadata": {},
   "outputs": [],
   "source": [
    "def get_trajectory(env, agent, trajectory_len):\n",
    "    trajectory = {\n",
    "        'states':[], \n",
    "        'actions':[],\n",
    "        'total_reward': 0}\n",
    "\n",
    "    state = env.reset()\n",
    "    trajectory['states'].append(state)\n",
    "    \n",
    "    for _ in range(trajectory_len):\n",
    "        action = agent.get_action(state)\n",
    "        trajectory['actions'].append(action)\n",
    "        state, reward, done, _ = env.step(action)\n",
    "        trajectory['states'].append(state)\n",
    "        trajectory['total_reward'] += reward\n",
    "        if done:\n",
    "            break\n",
    "    return trajectory"
   ]
  },
  {
   "cell_type": "code",
   "execution_count": 59,
   "id": "indian-teens",
   "metadata": {},
   "outputs": [
    {
     "data": {
      "text/plain": [
       "[-11, -10, -9, -8, -7, -6, -5, -4, -3, -2]"
      ]
     },
     "execution_count": 59,
     "metadata": {},
     "output_type": "execute_result"
    }
   ],
   "source": [
    "a = np.arange(-100, -1)\n",
    "q =     np.quantile(a, q=0.9) \n",
    "[ai for ai in a if ai> q]"
   ]
  },
  {
   "cell_type": "code",
   "execution_count": null,
   "id": "systematic-establishment",
   "metadata": {},
   "outputs": [],
   "source": []
  },
  {
   "cell_type": "code",
   "execution_count": 43,
   "id": "musical-tumor",
   "metadata": {},
   "outputs": [],
   "source": [
    "def get_elite_trajectories(trajectories, q_param):\n",
    "    total_rewards = [trajectory['total_reward'] for trajectory in trajectories]\n",
    "    quantile = np.quantile(total_rewards, q=q_param) \n",
    "    return [trajectory for trajectory in trajectories if trajectory['total_reward'] > quantile]\n"
   ]
  },
  {
   "cell_type": "code",
   "execution_count": 35,
   "id": "recorded-economy",
   "metadata": {},
   "outputs": [],
   "source": [
    "env = gym.make(\"Taxi-v3\")\n"
   ]
  },
  {
   "cell_type": "code",
   "execution_count": 375,
   "id": "functional-stuart",
   "metadata": {},
   "outputs": [
    {
     "name": "stdout",
     "output_type": "stream",
     "text": [
      "50_200_100_0.6\n"
     ]
    }
   ],
   "source": [
    "#Taxi\n",
    "action_n = 6\n",
    "state_n = 500\n",
    "episode_n = 50\n",
    "trajectory_len = 200\n",
    "trajectory_n =  100\n",
    "q_param = 0.8\n",
    "lambd = 0.6\n",
    "env = gym.make(\"Taxi-v3\")\n",
    "name = f'{episode_n}_{trajectory_len}_{trajectory_n}_{lambd}'\n",
    "print(name)\n",
    "agent = CrossEntropyMethod(name, state_n, action_n)"
   ]
  },
  {
   "cell_type": "markdown",
   "id": "accepted-jacket",
   "metadata": {},
   "source": [
    "Laplass experiment\n",
    "\n",
    "E\\[G\\] dependency of trajectory_n vs lambda"
   ]
  },
  {
   "cell_type": "code",
   "execution_count": 44,
   "id": "recent-arrest",
   "metadata": {},
   "outputs": [],
   "source": [
    "def experiment(episode_n, trajectory_len, trajectory_n, q_param, lambd, position):\n",
    "    exp = {\n",
    "        'episode_n':episode_n,\n",
    "        'trajectory_len':trajectory_len,\n",
    "        'trajectory_n':trajectory_n,\n",
    "        'q_param':q_param,\n",
    "        'lamd':lambd,\n",
    "        'episode_data':[]\n",
    "    }\n",
    "    name = f'cem_{episode_n}_{trajectory_len}_{trajectory_n}_{q_param}_{lambd}'\n",
    "    agent = CrossEntropyMethod(name, state_n, action_n, lambd)\n",
    "\n",
    "    env = gym.make(\"Taxi-v3\")\n",
    "    episode_data = []\n",
    "    for _ in tqdm.notebook.tqdm(range(episode_n), desc='Episodes '+str(episode_n)+' '+str(trajectory_n), position=position):\n",
    "        trajectories = [get_trajectory(env, agent, trajectory_len) for _ in range(trajectory_n)]\n",
    "\n",
    "        mean_total_reward = np.mean([trajectory['total_reward'] for trajectory in trajectories])\n",
    "\n",
    "        elite_trajectories = get_elite_trajectories(trajectories, q_param)\n",
    "        episode_data.append((mean_total_reward, len(elite_trajectories)))\n",
    "        if len(elite_trajectories) > 0:\n",
    "            agent.update_policy(elite_trajectories)\n",
    "    exp['episode_data'] = episode_data\n",
    "    json.dump(exp, open(f'./experiments/{name}.json','w'))\n"
   ]
  },
  {
   "cell_type": "code",
   "execution_count": 45,
   "id": "continued-happiness",
   "metadata": {},
   "outputs": [],
   "source": [
    "def policy_smoothing_experiment(episode_n, trajectory_len, trajectory_n, q_param, lambd, position):\n",
    "    exp = {\n",
    "        'episode_n':episode_n,\n",
    "        'trajectory_len':trajectory_len,\n",
    "        'trajectory_n':trajectory_n,\n",
    "        'q_param':q_param,\n",
    "        'lamd':lambd,\n",
    "        'episode_data':[]\n",
    "    }\n",
    "    name = f'policy_{episode_n}_{trajectory_len}_{trajectory_n}_{q_param}_{lambd}'\n",
    "#     print('................')\n",
    "#     print('episode_n', episode_n)\n",
    "#     print('trajectory_len', trajectory_len)\n",
    "#     print('trajectory_n', trajectory_n)\n",
    "#     print('q_param', q_param)\n",
    "#     print('lamdb', lamdb)\n",
    "    agent = CrossEntropyMethod(name, state_n, action_n, lambd)\n",
    "    env = gym.make(\"Taxi-v3\")\n",
    "    episode_data = []\n",
    "    for _ in tqdm.notebook.tqdm(range(episode_n), desc='Episodes '+str(episode_n)+' '+str(trajectory_n), position=position):\n",
    "        trajectories = [get_trajectory(env, agent, trajectory_len) for _ in range(trajectory_n)]\n",
    "\n",
    "        mean_total_reward = np.mean([trajectory['total_reward'] for trajectory in trajectories])\n",
    "\n",
    "        elite_trajectories = get_elite_trajectories(trajectories, q_param)\n",
    "        episode_data.append((mean_total_reward, len(elite_trajectories)))\n",
    "        if len(elite_trajectories) > 0:\n",
    "            agent.policy_smoothing_update(elite_trajectories, lambd)\n",
    "#         print(mean_total_reward, len(elite_trajectories))\n",
    "    exp['episode_data'] = episode_data\n",
    "    json.dump(exp, open(f'./experiments/{name}.json','w'))\n",
    "    # ani = animation.FuncAnimation(fig, animate, interval=1000)\n"
   ]
  },
  {
   "cell_type": "code",
   "execution_count": 46,
   "id": "employed-hudson",
   "metadata": {},
   "outputs": [],
   "source": [
    "def laplase_experiment(episode_n, trajectory_len, trajectory_n, q_param, lambd, position):\n",
    "    exp = {\n",
    "        'episode_n':episode_n,\n",
    "        'trajectory_len':trajectory_len,\n",
    "        'trajectory_n':trajectory_n,\n",
    "        'q_param':q_param,\n",
    "        'lamd':lambd,\n",
    "        'episode_data':[]\n",
    "    }\n",
    "    name = f'laplase_{episode_n}_{trajectory_len}_{trajectory_n}_{q_param}_{lambd}'\n",
    "#     print('................')\n",
    "#     print('episode_n', episode_n)\n",
    "#     print('trajectory_len', trajectory_len)\n",
    "#     print('trajectory_n', trajectory_n)\n",
    "#     print('q_param', q_param)\n",
    "#     print('lamdb', lamdb)\n",
    "    agent = CrossEntropyMethod(name, state_n, action_n, lambd)\n",
    "    env = gym.make(\"Taxi-v3\")\n",
    "    episode_data = []\n",
    "    for _ in tqdm.notebook.tqdm(range(episode_n), desc='Episodes', position=position):\n",
    "        trajectories = [get_trajectory(env, agent, trajectory_len) for _ in range(trajectory_n)]\n",
    "\n",
    "        mean_total_reward = np.mean([trajectory['total_reward'] for trajectory in trajectories])\n",
    "\n",
    "        elite_trajectories = get_elite_trajectories(trajectories, q_param)\n",
    "        episode_data.append((mean_total_reward, len(elite_trajectories)))\n",
    "        if len(elite_trajectories) > 0:\n",
    "            agent.laplace_update_policy(elite_trajectories, lambd)\n",
    "#         print(mean_total_reward, len(elite_trajectories))\n",
    "    exp['episode_data'] = episode_data\n",
    "    json.dump(exp, open(f'./experiments/{name}.json','w'))\n",
    "    # ani = animation.FuncAnimation(fig, animate, interval=1000)\n"
   ]
  },
  {
   "cell_type": "code",
   "execution_count": 47,
   "id": "abroad-camel",
   "metadata": {},
   "outputs": [],
   "source": [
    "def get_tasks(episodes_n, trajectories_len, trajectories_n, q_params, lambdas):\n",
    "    tasks = []\n",
    "    for episode_n in episodes_n:\n",
    "        for trajectory_len in trajectories_len:\n",
    "            for trajectory_n in trajectories_n:\n",
    "                for q_param in q_params:\n",
    "                    for lambd in lambdas:\n",
    "                        tasks.append((episode_n, trajectory_len, trajectory_n, q_param, lambd))\n",
    "    return tasks"
   ]
  },
  {
   "cell_type": "code",
   "execution_count": 74,
   "id": "discrete-father",
   "metadata": {},
   "outputs": [],
   "source": [
    "episodes_n = [20]#, 100]\n",
    "trajectories_len = [200]\n",
    "# trajectories_n =  [20, 40, 80, 160, 320, 640, 1280, 2560, 2560*2, 2560*4]\n",
    "trajectories_n =  [1280]\n",
    "q_params = [0.9]\n",
    "trajectories_n =  [20, 40, 80, 160, 320, 640, 1280, 2560, 2560*2, 2560*4]\n",
    "lambdas = [ 0.1, 0.2, 0.5, 0.8, 0.9, 0.99]\n",
    "# env = gym.make(\"Taxi-v3\")\n",
    "# name = f'{episode_n}_{trajectory_len}_{trajectory_n}_{lambd}'\n",
    "# print(name)\n",
    "# agent = CrossEntropyMethod(name, state_n, action_n)"
   ]
  },
  {
   "cell_type": "code",
   "execution_count": 144,
   "id": "technological-helena",
   "metadata": {},
   "outputs": [],
   "source": [
    "episodes_n = [100]\n",
    "trajectories_len = [200]\n",
    "trajectories_n =  [640]\n",
    "q_params = [0.01, 0.1, 0.2, 0.3, 0.4, 0.5, 0.6, 0.7, 0.8, 0.9, 0.95, 0.99]\n",
    "lambdas = [0.1]#, 0.2, 0.3, 0.4, 0.5, 0.6, 0.7, 0.8]\n",
    "# env = gym.make(\"Taxi-v3\")\n",
    "# name = f'{episode_n}_{trajectory_len}_{trajectory_n}_{lambd}'\n",
    "# print(name)\n",
    "# agent = CrossEntropyMethod(name, state_n, action_n)"
   ]
  },
  {
   "cell_type": "code",
   "execution_count": 49,
   "id": "virtual-interpretation",
   "metadata": {},
   "outputs": [
    {
     "data": {
      "application/vnd.jupyter.widget-view+json": {
       "model_id": "1b4588d1ab7b4fa68fb0fdf495aaf4e9",
       "version_major": 2,
       "version_minor": 0
      },
      "text/plain": [
       "HBox(children=(HTML(value='Tasks'), FloatProgress(value=0.0, max=18.0), HTML(value='')))"
      ]
     },
     "metadata": {},
     "output_type": "display_data"
    },
    {
     "name": "stdout",
     "output_type": "stream",
     "text": [
      "(100, 200, 640, 0.1, 0.1)\n",
      "(100, 200, 640, 0.2, 0.1)\n",
      "(100, 200, 640, 0.3, 0.1)\n",
      "(100, 200, 640, 0.4, 0.1)\n",
      "(100, 200, 640, 0.5, 0.1)\n",
      "(100, 200, 640, 0.6, 0.1)\n",
      "(100, 200, 640, 0.7, 0.1)\n",
      "(100, 200, 640, 0.8, 0.1)\n",
      "(100, 200, 640, 0.9, 0.1)\n",
      "(100, 200, 640, 0.95, 0.1)\n",
      "(100, 200, 640, 0.99, 0.1)\n",
      "(100, 200, 20, 0.2, 0.1)\n",
      "(100, 200, 40, 0.2, 0.1)\n",
      "(100, 200, 80, 0.2, 0.1)\n",
      "(100, 200, 160, 0.2, 0.1)\n",
      "(100, 200, 320, 0.2, 0.1)\n",
      "(100, 200, 640, 0.2, 0.1)\n",
      "(100, 200, 1280, 0.2, 0.1)\n",
      "\n"
     ]
    }
   ],
   "source": [
    "episodes_n = [100]\n",
    "trajectories_len = [200]\n",
    "trajectories_n =  [640]\n",
    "q_params = [0.1, 0.2, 0.3, 0.4, 0.5, 0.6, 0.7, 0.8, 0.9, 0.95, 0.99]\n",
    "lambdas = [0.1]\n",
    "\n",
    "tasks = get_tasks(episodes_n, trajectories_len, trajectories_n, q_params, lambdas)\n",
    "\n",
    "episodes_n = [100]\n",
    "trajectories_len = [200]\n",
    "trajectories_n =  [20, 40, 80, 160, 320, 640, 1280]\n",
    "q_params = [0.2]\n",
    "lambdas = [0.1]\n",
    "\n",
    "tasks += get_tasks(episodes_n, trajectories_len, trajectories_n, q_params, lambdas)\n",
    "\n",
    "for task in tqdm.notebook.tqdm(tasks, desc='Tasks'):\n",
    "    print(task)\n",
    "    experiment(*task, position=3)\n",
    "#     laplase_experiment(*task, position=3)\n",
    "#     policy_smoothing_experiment(*task, position=3)"
   ]
  },
  {
   "cell_type": "code",
   "execution_count": null,
   "id": "academic-establishment",
   "metadata": {},
   "outputs": [],
   "source": [
    "episodes_n = [100]\n",
    "trajectories_len = [200]\n",
    "trajectories_n =  [20, 40, 80, 160, 320, 640, 1280]\n",
    "q_params = [0.2]\n",
    "lambdas = [0.1]\n",
    "\n",
    "tasks = get_tasks(episodes_n, trajectories_len, trajectories_n, q_params, lambdas)\n",
    "for task in tqdm.notebook.tqdm(tasks, desc='Tasks'):\n",
    "    print(task)\n",
    "#     experiment(*task, position=3)\n",
    "    laplase_experiment(*task, position=3)\n",
    "#     policy_smoothing_experiment(*task, position=3)"
   ]
  },
  {
   "cell_type": "code",
   "execution_count": 61,
   "id": "dense-bandwidth",
   "metadata": {},
   "outputs": [
    {
     "data": {
      "application/vnd.jupyter.widget-view+json": {
       "model_id": "7d5e18dafca443d49331e2e7a4bb2d21",
       "version_major": 2,
       "version_minor": 0
      },
      "text/plain": [
       "HBox(children=(HTML(value='Tasks'), FloatProgress(value=0.0, max=9.0), HTML(value='')))"
      ]
     },
     "metadata": {},
     "output_type": "display_data"
    },
    {
     "name": "stdout",
     "output_type": "stream",
     "text": [
      "(100, 200, 640, 0.5, 0.1)\n"
     ]
    },
    {
     "data": {
      "application/vnd.jupyter.widget-view+json": {
       "model_id": "d32559f153ce4b78b5ef822e04532c44",
       "version_major": 2,
       "version_minor": 0
      },
      "text/plain": [
       "HBox(children=(HTML(value='Episodes 100 640'), FloatProgress(value=0.0), HTML(value='')))"
      ]
     },
     "metadata": {},
     "output_type": "display_data"
    },
    {
     "name": "stdout",
     "output_type": "stream",
     "text": [
      "\n",
      "(100, 200, 640, 0.5, 0.2)\n"
     ]
    },
    {
     "data": {
      "application/vnd.jupyter.widget-view+json": {
       "model_id": "52974519529346989ce7dfddfa56a90f",
       "version_major": 2,
       "version_minor": 0
      },
      "text/plain": [
       "HBox(children=(HTML(value='Episodes 100 640'), FloatProgress(value=0.0), HTML(value='')))"
      ]
     },
     "metadata": {},
     "output_type": "display_data"
    },
    {
     "name": "stdout",
     "output_type": "stream",
     "text": [
      "\n",
      "(100, 200, 640, 0.5, 0.3)\n"
     ]
    },
    {
     "data": {
      "application/vnd.jupyter.widget-view+json": {
       "model_id": "46e08d528670451e8f2a9775adf62113",
       "version_major": 2,
       "version_minor": 0
      },
      "text/plain": [
       "HBox(children=(HTML(value='Episodes 100 640'), FloatProgress(value=0.0), HTML(value='')))"
      ]
     },
     "metadata": {},
     "output_type": "display_data"
    },
    {
     "name": "stdout",
     "output_type": "stream",
     "text": [
      "\n",
      "(100, 200, 640, 0.5, 0.4)\n"
     ]
    },
    {
     "data": {
      "application/vnd.jupyter.widget-view+json": {
       "model_id": "55f74febf5f1437dbaf3a6951d0da018",
       "version_major": 2,
       "version_minor": 0
      },
      "text/plain": [
       "HBox(children=(HTML(value='Episodes 100 640'), FloatProgress(value=0.0), HTML(value='')))"
      ]
     },
     "metadata": {},
     "output_type": "display_data"
    },
    {
     "name": "stdout",
     "output_type": "stream",
     "text": [
      "\n",
      "(100, 200, 640, 0.5, 0.5)\n"
     ]
    },
    {
     "data": {
      "application/vnd.jupyter.widget-view+json": {
       "model_id": "5ee9ad8f928f4937a7dea20fee320c12",
       "version_major": 2,
       "version_minor": 0
      },
      "text/plain": [
       "HBox(children=(HTML(value='Episodes 100 640'), FloatProgress(value=0.0), HTML(value='')))"
      ]
     },
     "metadata": {},
     "output_type": "display_data"
    },
    {
     "name": "stdout",
     "output_type": "stream",
     "text": [
      "\n",
      "(100, 200, 640, 0.5, 0.6)\n"
     ]
    },
    {
     "data": {
      "application/vnd.jupyter.widget-view+json": {
       "model_id": "b87e95f1effc4d809bb3c5098d8629c5",
       "version_major": 2,
       "version_minor": 0
      },
      "text/plain": [
       "HBox(children=(HTML(value='Episodes 100 640'), FloatProgress(value=0.0), HTML(value='')))"
      ]
     },
     "metadata": {},
     "output_type": "display_data"
    },
    {
     "name": "stdout",
     "output_type": "stream",
     "text": [
      "\n",
      "(100, 200, 640, 0.5, 0.7)\n"
     ]
    },
    {
     "data": {
      "application/vnd.jupyter.widget-view+json": {
       "model_id": "f4bae0c27d7e43118e245735888e3787",
       "version_major": 2,
       "version_minor": 0
      },
      "text/plain": [
       "HBox(children=(HTML(value='Episodes 100 640'), FloatProgress(value=0.0), HTML(value='')))"
      ]
     },
     "metadata": {},
     "output_type": "display_data"
    },
    {
     "name": "stdout",
     "output_type": "stream",
     "text": [
      "\n",
      "(100, 200, 640, 0.5, 0.8)\n"
     ]
    },
    {
     "data": {
      "application/vnd.jupyter.widget-view+json": {
       "model_id": "03806f1e465c4d6888aa4871d460846c",
       "version_major": 2,
       "version_minor": 0
      },
      "text/plain": [
       "HBox(children=(HTML(value='Episodes 100 640'), FloatProgress(value=0.0), HTML(value='')))"
      ]
     },
     "metadata": {},
     "output_type": "display_data"
    },
    {
     "name": "stdout",
     "output_type": "stream",
     "text": [
      "\n",
      "(100, 200, 640, 0.5, 0.9)\n"
     ]
    },
    {
     "data": {
      "application/vnd.jupyter.widget-view+json": {
       "model_id": "833aa8f0af1b4c13b494af5f71bda6d0",
       "version_major": 2,
       "version_minor": 0
      },
      "text/plain": [
       "HBox(children=(HTML(value='Episodes 100 640'), FloatProgress(value=0.0), HTML(value='')))"
      ]
     },
     "metadata": {},
     "output_type": "display_data"
    },
    {
     "name": "stdout",
     "output_type": "stream",
     "text": [
      "\n",
      "\n"
     ]
    }
   ],
   "source": [
    "episodes_n = [100]\n",
    "trajectories_len = [200]\n",
    "trajectories_n =  [640]\n",
    "q_params = [0.5]\n",
    "lambdas = [0.1, 0.2, 0.3 , 0.4, 0.5, 0.6, 0.7, 0.8, 0.9]\n",
    "\n",
    "tasks = get_tasks(episodes_n, trajectories_len, trajectories_n, q_params, lambdas)\n",
    "for task in tqdm.notebook.tqdm(tasks, desc='Tasks'):\n",
    "    print(task)\n",
    "#     experiment(*task, position=3)\n",
    "#     laplase_experiment(*task, position=3)\n",
    "    policy_smoothing_experiment(*task, position=3)"
   ]
  },
  {
   "cell_type": "code",
   "execution_count": 62,
   "id": "established-navigator",
   "metadata": {},
   "outputs": [
    {
     "data": {
      "application/vnd.jupyter.widget-view+json": {
       "model_id": "f8a09e30bb5c4328a2a781811571dadd",
       "version_major": 2,
       "version_minor": 0
      },
      "text/plain": [
       "HBox(children=(HTML(value='Episodes 100 40'), FloatProgress(value=0.0), HTML(value='')))"
      ]
     },
     "metadata": {},
     "output_type": "display_data"
    },
    {
     "name": "stdout",
     "output_type": "stream",
     "text": [
      "\n"
     ]
    }
   ],
   "source": [
    "experiment(100, 200, 40, 0.5, 0.1, position=3)\n"
   ]
  },
  {
   "cell_type": "code",
   "execution_count": 64,
   "id": "municipal-fiber",
   "metadata": {},
   "outputs": [
    {
     "data": {
      "application/vnd.jupyter.widget-view+json": {
       "model_id": "b3ffb2b793804ad38b4b02d8fc89ed92",
       "version_major": 2,
       "version_minor": 0
      },
      "text/plain": [
       "HBox(children=(HTML(value='Episodes 100 2560'), FloatProgress(value=0.0), HTML(value='')))"
      ]
     },
     "metadata": {},
     "output_type": "display_data"
    },
    {
     "name": "stdout",
     "output_type": "stream",
     "text": [
      "\n"
     ]
    }
   ],
   "source": [
    "experiment(100, 200, 2560, 0.5, 0.1, position=3)\n"
   ]
  },
  {
   "cell_type": "code",
   "execution_count": 65,
   "id": "foreign-maria",
   "metadata": {},
   "outputs": [
    {
     "data": {
      "application/vnd.jupyter.widget-view+json": {
       "model_id": "78e3377352b04b67957c385f174a4fcb",
       "version_major": 2,
       "version_minor": 0
      },
      "text/plain": [
       "HBox(children=(HTML(value='Episodes 100 40'), FloatProgress(value=0.0), HTML(value='')))"
      ]
     },
     "metadata": {},
     "output_type": "display_data"
    },
    {
     "name": "stdout",
     "output_type": "stream",
     "text": [
      "\n"
     ]
    },
    {
     "data": {
      "application/vnd.jupyter.widget-view+json": {
       "model_id": "0418d1ef504c46ebb4a0f613525efff5",
       "version_major": 2,
       "version_minor": 0
      },
      "text/plain": [
       "HBox(children=(HTML(value='Episodes 100 160'), FloatProgress(value=0.0), HTML(value='')))"
      ]
     },
     "metadata": {},
     "output_type": "display_data"
    },
    {
     "name": "stdout",
     "output_type": "stream",
     "text": [
      "\n"
     ]
    },
    {
     "data": {
      "application/vnd.jupyter.widget-view+json": {
       "model_id": "9d08c82a2a1a4059b49fe49ab83e52ae",
       "version_major": 2,
       "version_minor": 0
      },
      "text/plain": [
       "HBox(children=(HTML(value='Episodes 100 2560'), FloatProgress(value=0.0), HTML(value='')))"
      ]
     },
     "metadata": {},
     "output_type": "display_data"
    },
    {
     "name": "stdout",
     "output_type": "stream",
     "text": [
      "\n"
     ]
    }
   ],
   "source": [
    "policy_smoothing_experiment(100, 200, 40, 0.5, 0.5, position=3)\n",
    "policy_smoothing_experiment(100, 200, 160, 0.5, 0.5, position=3)\n",
    "policy_smoothing_experiment(100, 200, 2560, 0.5, 0.5, position=3)\n",
    "\n"
   ]
  },
  {
   "cell_type": "code",
   "execution_count": 66,
   "id": "compressed-feelings",
   "metadata": {},
   "outputs": [
    {
     "data": {
      "application/vnd.jupyter.widget-view+json": {
       "model_id": "3f660c6132d5409d9e857ed7b9f9627e",
       "version_major": 2,
       "version_minor": 0
      },
      "text/plain": [
       "HBox(children=(HTML(value='Episodes'), FloatProgress(value=0.0), HTML(value='')))"
      ]
     },
     "metadata": {},
     "output_type": "display_data"
    },
    {
     "name": "stdout",
     "output_type": "stream",
     "text": [
      "\n"
     ]
    },
    {
     "data": {
      "application/vnd.jupyter.widget-view+json": {
       "model_id": "6e43197099564ed5964e0fb340b046ba",
       "version_major": 2,
       "version_minor": 0
      },
      "text/plain": [
       "HBox(children=(HTML(value='Episodes'), FloatProgress(value=0.0), HTML(value='')))"
      ]
     },
     "metadata": {},
     "output_type": "display_data"
    },
    {
     "name": "stdout",
     "output_type": "stream",
     "text": [
      "\n"
     ]
    },
    {
     "data": {
      "application/vnd.jupyter.widget-view+json": {
       "model_id": "d25dfdd153cc43b9a84b348468322270",
       "version_major": 2,
       "version_minor": 0
      },
      "text/plain": [
       "HBox(children=(HTML(value='Episodes'), FloatProgress(value=0.0), HTML(value='')))"
      ]
     },
     "metadata": {},
     "output_type": "display_data"
    },
    {
     "name": "stdout",
     "output_type": "stream",
     "text": [
      "\n"
     ]
    }
   ],
   "source": [
    "laplase_experiment(100, 200, 40, 0.5, 0.5, position=3)\n",
    "laplase_experiment(100, 200, 160, 0.5, 0.5, position=3)\n",
    "laplase_experiment(100, 200, 2560, 0.5, 0.5, position=3)\n",
    "\n"
   ]
  },
  {
   "cell_type": "code",
   "execution_count": null,
   "id": "divided-trinity",
   "metadata": {},
   "outputs": [],
   "source": [
    "# comparing PS LS CEM\n",
    "episodes_n = [100]\n",
    "trajectories_len = [200]\n",
    "trajectories_n =  [40,  160, 640, 2560]\n",
    "q_params = [0.5]\n",
    "lambdas = [0.5]\n",
    "\n",
    "tasks = get_tasks(episodes_n, trajectories_len, trajectories_n, q_params, lambdas)\n",
    "for task in tqdm.notebook.tqdm(tasks, desc='Tasks'):\n",
    "    print(task)\n",
    "    experiment(*task, position=3)\n",
    "    laplase_experiment(*task, position=3)\n",
    "    policy_smoothing_experiment(*task, position=3)"
   ]
  },
  {
   "cell_type": "code",
   "execution_count": 40,
   "id": "noticed-mongolia",
   "metadata": {},
   "outputs": [
    {
     "name": "stderr",
     "output_type": "stream",
     "text": [
      "Episodes: 100%|██████████| 11/11 [00:02<00:00,  5.16it/s]\n"
     ]
    }
   ],
   "source": [
    "laplase_experiment(11, 200, 10, 0.9, 0.9, 55)"
   ]
  },
  {
   "cell_type": "code",
   "execution_count": 374,
   "id": "cardiac-copying",
   "metadata": {},
   "outputs": [
    {
     "data": {
      "image/png": "[encoded data removed]",
      "text/plain": [
       "<Figure size 1800x720 with 1 Axes>"
      ]
     },
     "metadata": {
      "needs_background": "light"
     },
     "output_type": "display_data"
    }
   ],
   "source": [
    "fig = plt.figure(figsize=(25,10))\n",
    "ax1 = fig.add_subplot(1,1,1)\n",
    "ax1.scatter(range(len(episode_data)), np.array(episode_data)[::,0], s=3)\n",
    "plt.show()\n"
   ]
  },
  {
   "cell_type": "code",
   "execution_count": 37,
   "id": "confident-grass",
   "metadata": {
    "scrolled": true
   },
   "outputs": [
    {
     "name": "stderr",
     "output_type": "stream",
     "text": [
      "  0%|          | 0/100 [00:00<?, ?it/s]\n"
     ]
    },
    {
     "ename": "NameError",
     "evalue": "name 'agent' is not defined",
     "output_type": "error",
     "traceback": [
      "\u001b[0;31m---------------------------------------------------------------------------\u001b[0m",
      "\u001b[0;31mNameError\u001b[0m                                 Traceback (most recent call last)",
      "\u001b[0;32m<ipython-input-37-3cb2dbecb825>\u001b[0m in \u001b[0;36m<module>\u001b[0;34m\u001b[0m\n\u001b[1;32m      2\u001b[0m \u001b[0mepisode_data\u001b[0m \u001b[0;34m=\u001b[0m \u001b[0;34m[\u001b[0m\u001b[0;34m]\u001b[0m\u001b[0;34m\u001b[0m\u001b[0;34m\u001b[0m\u001b[0m\n\u001b[1;32m      3\u001b[0m \u001b[0;32mfor\u001b[0m \u001b[0m_\u001b[0m \u001b[0;32min\u001b[0m \u001b[0mtqdm\u001b[0m\u001b[0;34m.\u001b[0m\u001b[0mtqdm\u001b[0m\u001b[0;34m(\u001b[0m\u001b[0mrange\u001b[0m\u001b[0;34m(\u001b[0m\u001b[0mepisode_n\u001b[0m\u001b[0;34m)\u001b[0m\u001b[0;34m)\u001b[0m\u001b[0;34m:\u001b[0m\u001b[0;34m\u001b[0m\u001b[0;34m\u001b[0m\u001b[0m\n\u001b[0;32m----> 4\u001b[0;31m     \u001b[0mtrajectories\u001b[0m \u001b[0;34m=\u001b[0m \u001b[0;34m[\u001b[0m\u001b[0mget_trajectory\u001b[0m\u001b[0;34m(\u001b[0m\u001b[0magent\u001b[0m\u001b[0;34m,\u001b[0m \u001b[0mtrajectory_len\u001b[0m\u001b[0;34m)\u001b[0m \u001b[0;32mfor\u001b[0m \u001b[0m_\u001b[0m \u001b[0;32min\u001b[0m \u001b[0mrange\u001b[0m\u001b[0;34m(\u001b[0m\u001b[0mtrajectory_n\u001b[0m\u001b[0;34m)\u001b[0m\u001b[0;34m]\u001b[0m\u001b[0;34m\u001b[0m\u001b[0;34m\u001b[0m\u001b[0m\n\u001b[0m\u001b[1;32m      5\u001b[0m \u001b[0;34m\u001b[0m\u001b[0m\n\u001b[1;32m      6\u001b[0m     \u001b[0mmean_total_reward\u001b[0m \u001b[0;34m=\u001b[0m \u001b[0mnp\u001b[0m\u001b[0;34m.\u001b[0m\u001b[0mmean\u001b[0m\u001b[0;34m(\u001b[0m\u001b[0;34m[\u001b[0m\u001b[0mtrajectory\u001b[0m\u001b[0;34m[\u001b[0m\u001b[0;34m'total_reward'\u001b[0m\u001b[0;34m]\u001b[0m \u001b[0;32mfor\u001b[0m \u001b[0mtrajectory\u001b[0m \u001b[0;32min\u001b[0m \u001b[0mtrajectories\u001b[0m\u001b[0;34m]\u001b[0m\u001b[0;34m)\u001b[0m\u001b[0;34m\u001b[0m\u001b[0;34m\u001b[0m\u001b[0m\n",
      "\u001b[0;32m<ipython-input-37-3cb2dbecb825>\u001b[0m in \u001b[0;36m<listcomp>\u001b[0;34m(.0)\u001b[0m\n\u001b[1;32m      2\u001b[0m \u001b[0mepisode_data\u001b[0m \u001b[0;34m=\u001b[0m \u001b[0;34m[\u001b[0m\u001b[0;34m]\u001b[0m\u001b[0;34m\u001b[0m\u001b[0;34m\u001b[0m\u001b[0m\n\u001b[1;32m      3\u001b[0m \u001b[0;32mfor\u001b[0m \u001b[0m_\u001b[0m \u001b[0;32min\u001b[0m \u001b[0mtqdm\u001b[0m\u001b[0;34m.\u001b[0m\u001b[0mtqdm\u001b[0m\u001b[0;34m(\u001b[0m\u001b[0mrange\u001b[0m\u001b[0;34m(\u001b[0m\u001b[0mepisode_n\u001b[0m\u001b[0;34m)\u001b[0m\u001b[0;34m)\u001b[0m\u001b[0;34m:\u001b[0m\u001b[0;34m\u001b[0m\u001b[0;34m\u001b[0m\u001b[0m\n\u001b[0;32m----> 4\u001b[0;31m     \u001b[0mtrajectories\u001b[0m \u001b[0;34m=\u001b[0m \u001b[0;34m[\u001b[0m\u001b[0mget_trajectory\u001b[0m\u001b[0;34m(\u001b[0m\u001b[0magent\u001b[0m\u001b[0;34m,\u001b[0m \u001b[0mtrajectory_len\u001b[0m\u001b[0;34m)\u001b[0m \u001b[0;32mfor\u001b[0m \u001b[0m_\u001b[0m \u001b[0;32min\u001b[0m \u001b[0mrange\u001b[0m\u001b[0;34m(\u001b[0m\u001b[0mtrajectory_n\u001b[0m\u001b[0;34m)\u001b[0m\u001b[0;34m]\u001b[0m\u001b[0;34m\u001b[0m\u001b[0;34m\u001b[0m\u001b[0m\n\u001b[0m\u001b[1;32m      5\u001b[0m \u001b[0;34m\u001b[0m\u001b[0m\n\u001b[1;32m      6\u001b[0m     \u001b[0mmean_total_reward\u001b[0m \u001b[0;34m=\u001b[0m \u001b[0mnp\u001b[0m\u001b[0;34m.\u001b[0m\u001b[0mmean\u001b[0m\u001b[0;34m(\u001b[0m\u001b[0;34m[\u001b[0m\u001b[0mtrajectory\u001b[0m\u001b[0;34m[\u001b[0m\u001b[0;34m'total_reward'\u001b[0m\u001b[0;34m]\u001b[0m \u001b[0;32mfor\u001b[0m \u001b[0mtrajectory\u001b[0m \u001b[0;32min\u001b[0m \u001b[0mtrajectories\u001b[0m\u001b[0;34m]\u001b[0m\u001b[0;34m)\u001b[0m\u001b[0;34m\u001b[0m\u001b[0;34m\u001b[0m\u001b[0m\n",
      "\u001b[0;31mNameError\u001b[0m: name 'agent' is not defined"
     ]
    }
   ],
   "source": [
    "env = gym.make(\"Taxi-v3\")\n",
    "episode_data = []\n",
    "for _ in tqdm.tqdm(range(episode_n)):\n",
    "    trajectories = [get_trajectory(agent, trajectory_len) for _ in range(trajectory_n)]\n",
    "    \n",
    "    mean_total_reward = np.mean([trajectory['total_reward'] for trajectory in trajectories])\n",
    "    \n",
    "    elite_trajectories = get_elite_trajectories(trajectories, q_param)\n",
    "\n",
    "    episode_data.append((mean_total_reward, len(elite_trajectories)))\n",
    "#     print(mean_total_reward, len(elite_trajectories))\n",
    "    \n",
    "    if len(elite_trajectories) > 0:\n",
    "        agent.laplace_update_policy(elite_trajectories)"
   ]
  },
  {
   "cell_type": "code",
   "execution_count": null,
   "id": "assisted-turtle",
   "metadata": {},
   "outputs": [],
   "source": []
  },
  {
   "cell_type": "code",
   "execution_count": 67,
   "id": "threaded-fluid",
   "metadata": {},
   "outputs": [
    {
     "data": {
      "image/png": "[encoded data removed]",
      "text/plain": [
       "<Figure size 720x720 with 1 Axes>"
      ]
     },
     "metadata": {
      "needs_background": "light"
     },
     "output_type": "display_data"
    }
   ],
   "source": [
    "plt.figure(figsize=(10,10))\n",
    "plt.hist(np.array(episode_data)[::,0], bins=50)\n",
    "plt.show()"
   ]
  },
  {
   "cell_type": "code",
   "execution_count": 165,
   "id": "significant-technician",
   "metadata": {},
   "outputs": [
    {
     "data": {
      "text/plain": [
       "20"
      ]
     },
     "execution_count": 165,
     "metadata": {},
     "output_type": "execute_result"
    }
   ],
   "source": [
    "trajectory_len"
   ]
  },
  {
   "cell_type": "code",
   "execution_count": 489,
   "id": "english-niger",
   "metadata": {},
   "outputs": [],
   "source": [
    "agent2 = CrossEntropyMethod('agent2', state_n, action_n)"
   ]
  },
  {
   "cell_type": "code",
   "execution_count": 490,
   "id": "variable-monitor",
   "metadata": {},
   "outputs": [],
   "source": [
    "agent2.policy = np.load('Taxi-v3-500x500.npy')"
   ]
  },
  {
   "cell_type": "code",
   "execution_count": 491,
   "id": "grave-shopping",
   "metadata": {},
   "outputs": [
    {
     "data": {
      "text/plain": [
       "array([[0.16666667, 0.16666667, 0.16666667, 0.16666667, 0.16666667,\n",
       "        0.16666667],\n",
       "       [0.        , 0.        , 0.        , 0.        , 1.        ,\n",
       "        0.        ],\n",
       "       [0.16666667, 0.16666667, 0.16666667, 0.16666667, 0.16666667,\n",
       "        0.16666667],\n",
       "       ...,\n",
       "       [0.        , 1.        , 0.        , 0.        , 0.        ,\n",
       "        0.        ],\n",
       "       [0.16666667, 0.16666667, 0.16666667, 0.16666667, 0.16666667,\n",
       "        0.16666667],\n",
       "       [0.16666667, 0.16666667, 0.16666667, 0.16666667, 0.16666667,\n",
       "        0.16666667]])"
      ]
     },
     "execution_count": 491,
     "metadata": {},
     "output_type": "execute_result"
    }
   ],
   "source": [
    "agent2.policy"
   ]
  },
  {
   "cell_type": "code",
   "execution_count": null,
   "id": "organizational-prospect",
   "metadata": {},
   "outputs": [],
   "source": [
    "episodes_n = [100]\n",
    "trajectories_len = [10]\n",
    "trajectories_n =  [20]\n",
    "det_policies_n = [100]\n",
    "q_params = [0.1, 0.5, 0.9]"
   ]
  },
  {
   "cell_type": "code",
   "execution_count": 70,
   "id": "noble-malaysia",
   "metadata": {},
   "outputs": [
    {
     "name": "stdout",
     "output_type": "stream",
     "text": [
      "60_20_20\n"
     ]
    }
   ],
   "source": [
    "#Taxi\n",
    "action_n = 6\n",
    "state_n = 500\n",
    "episode_n = 60\n",
    "trajectory_len = 20\n",
    "trajectory_n =  20\n",
    "q_param = 0.5\n",
    "# lambd = 0.6\n",
    "env = gym.make(\"Taxi-v3\")\n",
    "name = f'{episode_n}_{trajectory_len}_{trajectory_n}'\n",
    "print(name)\n",
    "agent = CrossEntropyMethod(name, state_n, action_n, 0)"
   ]
  },
  {
   "cell_type": "code",
   "execution_count": null,
   "id": "green-receiver",
   "metadata": {},
   "outputs": [],
   "source": [
    "agent.polic = np.load(open(./Taxi-v3-det_CEM_100_30_10_0.5_0.1.npy))"
   ]
  },
  {
   "cell_type": "code",
   "execution_count": 333,
   "id": "mental-junior",
   "metadata": {},
   "outputs": [
    {
     "name": "stdout",
     "output_type": "stream",
     "text": [
      "4 0 1 2\n",
      "0 3 4 2 3\n"
     ]
    }
   ],
   "source": [
    "#test\n",
    "\n",
    "trajectory_len = 20\n",
    "trajectory_len = 20\n",
    "\n",
    "env = gym.make(\"Taxi-v3\")\n",
    "\n",
    "final_rewards = []\n",
    "state = env.reset()\n",
    "env.render()\n",
    "time.sleep(1)\n",
    "taxi_row, taxi_col, passenger_location, destination = env.decode(state)\n",
    "print(taxi_row, taxi_col, passenger_location, destination)\n",
    "test_reward = 0\n",
    "for step in range(trajectory_len):\n",
    "    action = agent.get_action(state)\n",
    "    state, reward, done, _ = env.step(action)\n",
    "    test_reward += reward\n",
    "    env.render()\n",
    "    if done:\n",
    "#             print(state,f'{test_reward:04}', actions[action])\n",
    "#         зкште\n",
    "        break\n",
    "    time.sleep(0.5)\n",
    "taxi_row, taxi_col, passenger_location, f_destination = (env.decode(state))\n",
    "print(taxi_row, taxi_col, passenger_location, destination, action)\n",
    "final_rewards.append([test_reward, action, step])\n",
    "#     print('Test Reward', test_reward)"
   ]
  },
  {
   "cell_type": "code",
   "execution_count": 502,
   "id": "baking-colony",
   "metadata": {
    "scrolled": true
   },
   "outputs": [
    {
     "data": {
      "application/vnd.jupyter.widget-view+json": {
       "model_id": "e69a89fb9e38475fb0d1209814ca3c48",
       "version_major": 2,
       "version_minor": 0
      },
      "text/plain": [
       "HBox(children=(HTML(value=''), FloatProgress(value=0.0, max=1001.0), HTML(value='')))"
      ]
     },
     "metadata": {},
     "output_type": "display_data"
    },
    {
     "name": "stdout",
     "output_type": "stream",
     "text": [
      "\n"
     ]
    }
   ],
   "source": [
    "#test\n",
    "env = gym.make(\"Taxi-v3\")\n",
    "\n",
    "final_rewards = []\n",
    "for _ in tqdm.notebook.tqdm(range(1001)):\n",
    "    state = env.reset()\n",
    "    taxi_row, taxi_col, passenger_location, destination = env.decode(state)\n",
    "#     print(taxi_row, taxi_col, passenger_location, destination)\n",
    "    test_reward = 0\n",
    "    for step in range(trajectory_len):\n",
    "        action = agent2.get_action(state)\n",
    "        state, reward, done, _ = env.step(action)\n",
    "        test_reward += reward\n",
    "    #     env.render()\n",
    "        if done:\n",
    "#             print(state,f'{test_reward:04}', actions[action])\n",
    "            break\n",
    "    #     time.sleep(0.5)\n",
    "    taxi_row, taxi_col, passenger_location, f_destination = (env.decode(state))\n",
    "#     print(taxi_row, taxi_col, passenger_location, destination, action)\n",
    "    final_rewards.append([test_reward, step, delivered(state)])\n",
    "#     print('Test Reward', test_reward)\n",
    "\n",
    "final_rewards = np.array(final_rewards)"
   ]
  },
  {
   "cell_type": "code",
   "execution_count": 503,
   "id": "controversial-campaign",
   "metadata": {},
   "outputs": [
    {
     "data": {
      "text/plain": [
       "298"
      ]
     },
     "execution_count": 503,
     "metadata": {},
     "output_type": "execute_result"
    }
   ],
   "source": [
    "sum(final_rewards[::,2])"
   ]
  },
  {
   "cell_type": "code",
   "execution_count": 504,
   "id": "unavailable-glory",
   "metadata": {},
   "outputs": [
    {
     "data": {
      "image/png": "[encoded data removed]",
      "text/plain": [
       "<Figure size 432x288 with 1 Axes>"
      ]
     },
     "metadata": {
      "needs_background": "light"
     },
     "output_type": "display_data"
    }
   ],
   "source": [
    "plt.hist(final_rewards[final_rewards[::,2]==1][::,0], bins=50, alpha=0.5)\n",
    "plt.hist(final_rewards[final_rewards[::,2]==0][::,0], bins=50, alpha=0.5)\n",
    "plt.show()"
   ]
  },
  {
   "cell_type": "code",
   "execution_count": 485,
   "id": "civil-capability",
   "metadata": {},
   "outputs": [
    {
     "data": {
      "text/plain": [
       "array([[-776,  199,    0],\n",
       "       [-767,  199,    0],\n",
       "       [-731,  199,    0],\n",
       "       ...,\n",
       "       [-641,  199,    0],\n",
       "       [-839,  199,    0],\n",
       "       [-857,  199,    0]])"
      ]
     },
     "execution_count": 485,
     "metadata": {},
     "output_type": "execute_result"
    }
   ],
   "source": [
    "final_rewards"
   ]
  },
  {
   "cell_type": "code",
   "execution_count": 484,
   "id": "bottom-article",
   "metadata": {},
   "outputs": [
    {
     "data": {
      "text/plain": [
       "(array([  4.,   8.,   4.,   3.,   9., 972.]),\n",
       " array([ 20.        ,  49.83333333,  79.66666667, 109.5       ,\n",
       "        139.33333333, 169.16666667, 199.        ]),\n",
       " <a list of 6 Patch objects>)"
      ]
     },
     "execution_count": 484,
     "metadata": {},
     "output_type": "execute_result"
    },
    {
     "data": {
      "image/png": "[encoded data removed]",
      "text/plain": [
       "<Figure size 432x288 with 1 Axes>"
      ]
     },
     "metadata": {
      "needs_background": "light"
     },
     "output_type": "display_data"
    }
   ],
   "source": [
    "plt.hist(final_rewards[::,1], bins=6)"
   ]
  },
  {
   "cell_type": "code",
   "execution_count": 116,
   "id": "selected-panic",
   "metadata": {},
   "outputs": [
    {
     "data": {
      "image/png": "[encoded data removed]",
      "text/plain": [
       "<Figure size 432x288 with 2 Axes>"
      ]
     },
     "metadata": {
      "needs_background": "light"
     },
     "output_type": "display_data"
    }
   ],
   "source": [
    "import matplotlib.pyplot as plt\n",
    "from matplotlib import cm\n",
    "from matplotlib.ticker import LinearLocator\n",
    "import numpy as np\n",
    "\n",
    "fig, ax = plt.subplots(subplot_kw={\"projection\": \"3d\"})\n",
    "\n",
    "# Make data.\n",
    "X = np.arange(-5, 5, 0.25)\n",
    "Y = np.arange(-5, 5, 0.25)\n",
    "X, Y = np.meshgrid(X, Y)\n",
    "R = np.sqrt(X**2 + Y**2)\n",
    "Z = np.sin(R)\n",
    "\n",
    "# Plot the surface.\n",
    "surf = ax.plot_surface(X, Y, Z, cmap=cm.coolwarm,\n",
    "                       linewidth=0, antialiased=False)\n",
    "\n",
    "# Customize the z axis.\n",
    "ax.set_zlim(-1.01, 1.01)\n",
    "ax.zaxis.set_major_locator(LinearLocator(10))\n",
    "# A StrMethodFormatter is used automatically\n",
    "# ax.zaxis.set_major_formatter('{x:.02f}')\n",
    "\n",
    "# Add a color bar which maps values to colors.\n",
    "fig.colorbar(surf, shrink=0.5, aspect=5)\n",
    "\n",
    "plt.show()\n"
   ]
  },
  {
   "cell_type": "code",
   "execution_count": 121,
   "id": "cardiovascular-worship",
   "metadata": {},
   "outputs": [
    {
     "data": {
      "text/plain": [
       "(40, 40)"
      ]
     },
     "execution_count": 121,
     "metadata": {},
     "output_type": "execute_result"
    }
   ],
   "source": [
    "Y.shape"
   ]
  },
  {
   "cell_type": "code",
   "execution_count": 120,
   "id": "bored-friendly",
   "metadata": {},
   "outputs": [
    {
     "data": {
      "text/plain": [
       "(40, 40)"
      ]
     },
     "execution_count": 120,
     "metadata": {},
     "output_type": "execute_result"
    }
   ],
   "source": [
    "Z.shape"
   ]
  },
  {
   "cell_type": "code",
   "execution_count": 117,
   "id": "rural-complement",
   "metadata": {},
   "outputs": [
    {
     "data": {
      "text/plain": [
       "array([[-5.  , -4.75, -4.5 , ...,  4.25,  4.5 ,  4.75],\n",
       "       [-5.  , -4.75, -4.5 , ...,  4.25,  4.5 ,  4.75],\n",
       "       [-5.  , -4.75, -4.5 , ...,  4.25,  4.5 ,  4.75],\n",
       "       ...,\n",
       "       [-5.  , -4.75, -4.5 , ...,  4.25,  4.5 ,  4.75],\n",
       "       [-5.  , -4.75, -4.5 , ...,  4.25,  4.5 ,  4.75],\n",
       "       [-5.  , -4.75, -4.5 , ...,  4.25,  4.5 ,  4.75]])"
      ]
     },
     "execution_count": 117,
     "metadata": {},
     "output_type": "execute_result"
    }
   ],
   "source": [
    "X"
   ]
  },
  {
   "cell_type": "code",
   "execution_count": 23,
   "id": "confidential-knife",
   "metadata": {},
   "outputs": [],
   "source": [
    "from matplotlib import pyplot as plt"
   ]
  },
  {
   "cell_type": "code",
   "execution_count": 227,
   "id": "dried-stanford",
   "metadata": {},
   "outputs": [
    {
     "data": {
      "image/png": "[encoded data removed]",
      "text/plain": [
       "<Figure size 360x36000 with 1 Axes>"
      ]
     },
     "metadata": {
      "needs_background": "light"
     },
     "output_type": "display_data"
    }
   ],
   "source": [
    "fig, ax = plt.subplots(figsize=(5,500))\n",
    "# plt.figure(figsize=(1,1))\n",
    "im = ax.imshow(agent.policy)"
   ]
  },
  {
   "cell_type": "code",
   "execution_count": null,
   "id": "compliant-power",
   "metadata": {},
   "outputs": [],
   "source": []
  }
 ],
 "metadata": {
  "kernelspec": {
   "display_name": "py37",
   "language": "python",
   "name": "py37"
  },
  "language_info": {
   "codemirror_mode": {
    "name": "ipython",
    "version": 3
   },
   "file_extension": ".py",
   "mimetype": "text/x-python",
   "name": "python",
   "nbconvert_exporter": "python",
   "pygments_lexer": "ipython3",
   "version": "3.7.6"
  }
 },
 "nbformat": 4,
 "nbformat_minor": 5
}
