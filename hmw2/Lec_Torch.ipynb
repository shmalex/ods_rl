{
 "cells": [
  {
   "cell_type": "code",
   "execution_count": 3,
   "id": "bigger-buddy",
   "metadata": {},
   "outputs": [],
   "source": [
    "import torch as t"
   ]
  },
  {
   "cell_type": "code",
   "execution_count": 2,
   "id": "sacred-acting",
   "metadata": {},
   "outputs": [],
   "source": [
    "import numpy as np"
   ]
  },
  {
   "cell_type": "code",
   "execution_count": 26,
   "id": "disabled-creator",
   "metadata": {},
   "outputs": [
    {
     "data": {
      "text/plain": [
       "False"
      ]
     },
     "execution_count": 26,
     "metadata": {},
     "output_type": "execute_result"
    }
   ],
   "source": [
    "torch.cuda.is_available()"
   ]
  },
  {
   "cell_type": "code",
   "execution_count": 20,
   "id": "blessed-patio",
   "metadata": {},
   "outputs": [],
   "source": [
    "a = np.random.random(size=(2,2))\n",
    "b = np.random.random(size=(2,2))"
   ]
  },
  {
   "cell_type": "code",
   "execution_count": 17,
   "id": "cooked-gasoline",
   "metadata": {},
   "outputs": [
    {
     "data": {
      "text/plain": [
       "array([[0.84260884, 0.21995843],\n",
       "       [0.09958914, 0.66556359]])"
      ]
     },
     "execution_count": 17,
     "metadata": {},
     "output_type": "execute_result"
    }
   ],
   "source": [
    "a"
   ]
  },
  {
   "cell_type": "code",
   "execution_count": 21,
   "id": "ethical-birth",
   "metadata": {},
   "outputs": [],
   "source": [
    "at = t.tensor(a)\n",
    "bt = t.tensor(b)\n"
   ]
  },
  {
   "cell_type": "code",
   "execution_count": null,
   "id": "rental-stupid",
   "metadata": {},
   "outputs": [],
   "source": [
    "t.tensor()"
   ]
  },
  {
   "cell_type": "code",
   "execution_count": 22,
   "id": "cooperative-chemical",
   "metadata": {},
   "outputs": [
    {
     "data": {
      "text/plain": [
       "(tensor([[0.6949, 0.2674],\n",
       "         [0.0457, 0.7690]], dtype=torch.float64),\n",
       " tensor([[0.0976, 0.2408],\n",
       "         [0.6195, 0.4466]], dtype=torch.float64))"
      ]
     },
     "execution_count": 22,
     "metadata": {},
     "output_type": "execute_result"
    }
   ],
   "source": [
    "at, bt"
   ]
  },
  {
   "cell_type": "code",
   "execution_count": 72,
   "id": "driven-yeast",
   "metadata": {},
   "outputs": [],
   "source": [
    "gat = t.tensor(2., requires_grad=True)"
   ]
  },
  {
   "cell_type": "code",
   "execution_count": 73,
   "id": "enclosed-america",
   "metadata": {},
   "outputs": [
    {
     "data": {
      "text/plain": [
       "tensor(2., requires_grad=True)"
      ]
     },
     "execution_count": 73,
     "metadata": {},
     "output_type": "execute_result"
    }
   ],
   "source": [
    "gat"
   ]
  },
  {
   "cell_type": "code",
   "execution_count": 74,
   "id": "french-acrylic",
   "metadata": {},
   "outputs": [],
   "source": [
    "m =gat**2"
   ]
  },
  {
   "cell_type": "code",
   "execution_count": 75,
   "id": "floating-hollywood",
   "metadata": {},
   "outputs": [],
   "source": [
    "m2 = m**2"
   ]
  },
  {
   "cell_type": "code",
   "execution_count": 76,
   "id": "olympic-graham",
   "metadata": {},
   "outputs": [],
   "source": [
    "m2.backward()"
   ]
  },
  {
   "cell_type": "code",
   "execution_count": 79,
   "id": "going-making",
   "metadata": {},
   "outputs": [
    {
     "data": {
      "text/plain": [
       "tensor(16., grad_fn=<PowBackward0>)"
      ]
     },
     "execution_count": 79,
     "metadata": {},
     "output_type": "execute_result"
    }
   ],
   "source": [
    "m2"
   ]
  },
  {
   "cell_type": "code",
   "execution_count": 77,
   "id": "bigger-wages",
   "metadata": {},
   "outputs": [
    {
     "data": {
      "text/plain": [
       "tensor(32.)"
      ]
     },
     "execution_count": 77,
     "metadata": {},
     "output_type": "execute_result"
    }
   ],
   "source": [
    "gat.grad"
   ]
  },
  {
   "cell_type": "code",
   "execution_count": 106,
   "id": "proud-facial",
   "metadata": {},
   "outputs": [],
   "source": [
    "x_data = t.linspace(-5, 5, 100)\n",
    "y_data = 2 * x_data - 1"
   ]
  },
  {
   "cell_type": "code",
   "execution_count": 107,
   "id": "sharing-event",
   "metadata": {},
   "outputs": [],
   "source": [
    "import matplotlib.pyplot as plt"
   ]
  },
  {
   "cell_type": "code",
   "execution_count": 143,
   "id": "japanese-dealing",
   "metadata": {},
   "outputs": [],
   "source": [
    "mu, sigma = t.tensor(0.0), t.tensor(1)"
   ]
  },
  {
   "cell_type": "code",
   "execution_count": 144,
   "id": "attached-october",
   "metadata": {},
   "outputs": [],
   "source": [
    "noise = t.normal(mu, sigma, )"
   ]
  },
  {
   "cell_type": "code",
   "execution_count": 145,
   "id": "composite-assurance",
   "metadata": {},
   "outputs": [],
   "source": [
    "noise =t.tensor([t.normal(mu, sigma) for _ in range(len(y_data))])"
   ]
  },
  {
   "cell_type": "code",
   "execution_count": 146,
   "id": "herbal-creativity",
   "metadata": {},
   "outputs": [],
   "source": [
    "y_data = 2 * x_data - 1+noise"
   ]
  },
  {
   "cell_type": "code",
   "execution_count": 147,
   "id": "productive-spending",
   "metadata": {},
   "outputs": [
    {
     "data": {
      "image/png": "[encoded data removed]",
      "text/plain": [
       "<Figure size 432x288 with 1 Axes>"
      ]
     },
     "metadata": {
      "needs_background": "light"
     },
     "output_type": "display_data"
    }
   ],
   "source": [
    "plt.scatter(x_data, y_data)\n",
    "plt.show()"
   ]
  },
  {
   "cell_type": "code",
   "execution_count": 158,
   "id": "heated-proportion",
   "metadata": {},
   "outputs": [
    {
     "name": "stdout",
     "output_type": "stream",
     "text": [
      "33.800045\n",
      "17.255465\n",
      "9.084527\n",
      "5.0408845\n",
      "3.0345337\n",
      "2.0357172\n",
      "1.5363806\n",
      "1.285425\n",
      "1.1584699\n",
      "1.0937259\n",
      "1.0603862\n",
      "1.0430199\n",
      "1.033853\n",
      "1.0289414\n",
      "1.0262668\n",
      "1.0247846\n",
      "1.0239488\n",
      "1.0234692\n",
      "1.0231892\n",
      "1.0230236\n",
      "tensor(1.9304, requires_grad=True) tensor(-1.0109, requires_grad=True)\n"
     ]
    },
    {
     "data": {
      "image/png": "[encoded data removed]",
      "text/plain": [
       "<Figure size 432x288 with 1 Axes>"
      ]
     },
     "metadata": {
      "needs_background": "light"
     },
     "output_type": "display_data"
    }
   ],
   "source": [
    "w = t.tensor(0., requires_grad = True)\n",
    "b = t.tensor(0., requires_grad = True)\n",
    "\n",
    "episodes_n = 20\n",
    "lr = 0.1\n",
    "for _ in range(episodes_n):\n",
    "    y_pred = w * x_data + b\n",
    "    loss = t.mean((y_pred - y_data)**2)\n",
    "    print(loss.data.numpy())\n",
    "    loss.backward()\n",
    "    w.data = w.data - lr * w.grad\n",
    "    b.data = b.data - lr * b.grad\n",
    "    w.grad.zero_()\n",
    "    b.grad.zero_()\n",
    "plt.scatter(x_data, y_data, alpha=0.8)\n",
    "plt.plot(x_data.numpy(), y_pred.detach().numpy(), alpha=0.8, color='red')\n",
    "print(w, b)"
   ]
  },
  {
   "cell_type": "code",
   "execution_count": null,
   "id": "previous-medium",
   "metadata": {},
   "outputs": [],
   "source": []
  }
 ],
 "metadata": {
  "kernelspec": {
   "display_name": "py37",
   "language": "python",
   "name": "py37"
  },
  "language_info": {
   "codemirror_mode": {
    "name": "ipython",
    "version": 3
   },
   "file_extension": ".py",
   "mimetype": "text/x-python",
   "name": "python",
   "nbconvert_exporter": "python",
   "pygments_lexer": "ipython3",
   "version": "3.7.6"
  }
 },
 "nbformat": 4,
 "nbformat_minor": 5
}
