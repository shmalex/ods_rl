{
 "cells": [
  {
   "cell_type": "markdown",
   "id": "14ab2b1f",
   "metadata": {},
   "source": [
    "## Home Work"
   ]
  },
  {
   "cell_type": "markdown",
   "id": "1a3f70f7",
   "metadata": {},
   "source": [
    "### Algorithm:\n",
    "Let $\\pi^0$ and $K\\in\\mathbb{N}$. $%invisible$\n",
    "$%https://www.overleaf.com/learn/latex/Mathematical_fonts$\n",
    "For each $k \\in \\overline{0,K}$,do\n",
    "\n",
    "- (Policy Evaluation)\n",
    "\n",
    "$\\;\\;\\;\\;\\;\\;$$v^{k+1}=R_{\\pi^k}+P_{\\pi^k}v^k$\n",
    "\n",
    "$\\;\\;\\;\\;\\;\\;$Define $q^k(s,a)$ by $v^k(s)$\n",
    "\n",
    "- (Policy improvement) Greedy Policy Imporvement\n",
    "\n",
    "$\\;\\;\\;\\;\\;\\;$$\\pi^{k+1}(a|s) = \\begin{cases}\n",
    "1, \\text{if } a \\in \\text{argmax}_{a'\\in\\mathbb{A}}q^k(s,a')\\\\\n",
    "0, \\text{otherwise}\n",
    "\\end{cases}$\n",
    "\n"
   ]
  },
  {
   "cell_type": "code",
   "execution_count": 7,
   "id": "5b71f8da",
   "metadata": {},
   "outputs": [],
   "source": [
    "import colorama\n",
    "\n",
    "import tqdm\n",
    "import matplotlib.pyplot as plt\n",
    "import graphviz\n",
    "import numpy as np\n",
    "import Frozen_Lake as fl"
   ]
  },
  {
   "cell_type": "code",
   "execution_count": 33,
   "id": "05f0195e",
   "metadata": {},
   "outputs": [
    {
     "data": {
      "text/plain": [
       "array([1, 2, 3])"
      ]
     },
     "execution_count": 33,
     "metadata": {},
     "output_type": "execute_result"
    }
   ],
   "source": [
    "np.array([1,2,3]).copy()"
   ]
  },
  {
   "cell_type": "code",
   "execution_count": 61,
   "id": "03e42b3c",
   "metadata": {},
   "outputs": [],
   "source": [
    "def init_policy(env):\n",
    "\n",
    "    actions_set = set()\n",
    "\n",
    "    row_max = 0\n",
    "    col_max = 0\n",
    "    for state in env.get_all_states():\n",
    "        actions_set.update(env.get_possible_actions(state))\n",
    "        row_max = max(row_max, state[0])\n",
    "        col_max = max(col_max, state[1])\n",
    "\n",
    "    actions = {i:action for i,action in enumerate(sorted(actions_set))}\n",
    "\n",
    "    policy = np.zeros((row_max+1, col_max+1, len(actions_set)))\n",
    "\n",
    "#     print('policies    |states')\n",
    "    for y,x in env.get_all_states():\n",
    "        possible_actions = env.get_possible_actions((y,x))\n",
    "        if len(possible_actions)!=0:\n",
    "            uniform_prob = 1/len(possible_actions)\n",
    "            policy[y][x] = uniform_prob\n",
    "#         print(policy[y][x], y, x,)\n",
    "    return policy, list(sorted(actions_set))\n",
    "\n",
    "def init_values(policy):\n",
    "     return np.zeros((policy.shape[0]*policy.shape[1],))\n",
    "\n",
    "def policy_evaluation_step(policy, values, gamma):\n",
    "    new_values = values.copy()\n",
    "#     new_values = np.zeros(policy.shape[0]*policy.shape[1])\n",
    "\n",
    "    for state in env.get_all_states():\n",
    "        state_y, state_x = state\n",
    "        idx_state_values = state_y*policy.shape[0] + state_x\n",
    "        for action in env.get_possible_actions(state):\n",
    "            policy_prob = policy[state_y][state_x][actions_dict[action]]\n",
    "            for next_state in env.get_next_states(state, action):\n",
    "                next_state_y, next_state_x = next_state\n",
    "                idx_next_state_values = next_state_y*policy.shape[0] + next_state_x\n",
    "\n",
    "                # reward\n",
    "                reward = env.get_reward(state, action, next_state)\n",
    "#                 total_reward += reward\n",
    "                # value\n",
    "                trans_prob = env.get_transition_prob(state, action, next_state)\n",
    "                next_value = values[idx_next_state_values]\n",
    "#                 total_value += gamma * trans_prob * value_func\n",
    "                new_values[idx_state_values] += \\\n",
    "                    policy_prob * trans_prob * (reward + gamma * next_value)\n",
    "#             new_values[idx_state_values] += \\\n",
    "#                 policy_prob * (total_reward + total_value)\n",
    "\n",
    "    return new_values\n",
    "\n",
    "def Q(policy, values, actions_dict):\n",
    "    new_q = np.zeros(policy.shape)\n",
    "\n",
    "    for state in env.get_all_states():\n",
    "        state_y, state_x = state\n",
    "        # actions_dict[action]\n",
    "        for action in env.get_possible_actions(state):\n",
    "            for next_state in env.get_next_states(state, action):\n",
    "                next_state_y, next_state_x = next_state\n",
    "\n",
    "                reward = env.get_reward(state, action, next_state)\n",
    "                prob = env.get_transition_prob(state, action, next_state)\n",
    "                next_value = values[next_state_y*policy.shape[0]+next_state_x]\n",
    "\n",
    "                new_q[state_y][state_x][actions_dict[action]] \\\n",
    "                    += prob *(reward + gamma * next_value)\n",
    "    return new_q\n",
    "\n",
    "def policy_improvement(policy, q):\n",
    "    next_policy = np.zeros(policy.shape)\n",
    "    for state in env.get_all_states():\n",
    "        state_y,state_x = state\n",
    "\n",
    "        idx_action = np.argmax(q[state_y][state_x])\n",
    "        next_policy[state_y][state_x][idx_action] = 1\n",
    "    return next_policy"
   ]
  },
  {
   "cell_type": "code",
   "execution_count": 62,
   "id": "b0e7fe26",
   "metadata": {},
   "outputs": [
    {
     "data": {
      "text/plain": [
       "(0, 0)"
      ]
     },
     "execution_count": 62,
     "metadata": {},
     "output_type": "execute_result"
    }
   ],
   "source": [
    "env = fl.FrozenLakeEnv(map_name=\"4x4\")\n",
    "env.reset()"
   ]
  },
  {
   "cell_type": "code",
   "execution_count": 63,
   "id": "ca1a33e1",
   "metadata": {},
   "outputs": [
    {
     "data": {
      "text/plain": [
       "(['down', 'left', 'right', 'up'], {'down': 0, 'left': 1, 'right': 2, 'up': 3})"
      ]
     },
     "execution_count": 63,
     "metadata": {},
     "output_type": "execute_result"
    }
   ],
   "source": [
    "policy,actions_set = init_policy(env)\n",
    "actions_dict ={action:i for i,action in enumerate(sorted(actions_set))}\n",
    "actions_arr = [0]*4\n",
    "for k,v in actions_dict.items():\n",
    "    actions_arr[v]=k\n",
    "actions_arr, actions_dict"
   ]
  },
  {
   "cell_type": "code",
   "execution_count": 64,
   "id": "d8bc2f75",
   "metadata": {},
   "outputs": [
    {
     "name": "stderr",
     "output_type": "stream",
     "text": [
      " 73%|███████▎  | 73/100 [00:03<00:01, 20.91it/s]/home/shmalex/anaconda3/lib/python3.7/site-packages/ipykernel_launcher.py:49: RuntimeWarning: overflow encountered in double_scalars\n",
      "/home/shmalex/anaconda3/lib/python3.7/site-packages/ipykernel_launcher.py:49: RuntimeWarning: invalid value encountered in double_scalars\n",
      "100%|██████████| 100/100 [00:04<00:00, 20.87it/s]\n"
     ]
    },
    {
     "data": {
      "text/plain": [
       "array([[[1., 0., 0., 0.],\n",
       "        [1., 0., 0., 0.],\n",
       "        [1., 0., 0., 0.],\n",
       "        [1., 0., 0., 0.]],\n",
       "\n",
       "       [[1., 0., 0., 0.],\n",
       "        [1., 0., 0., 0.],\n",
       "        [1., 0., 0., 0.],\n",
       "        [1., 0., 0., 0.]],\n",
       "\n",
       "       [[1., 0., 0., 0.],\n",
       "        [1., 0., 0., 0.],\n",
       "        [1., 0., 0., 0.],\n",
       "        [1., 0., 0., 0.]],\n",
       "\n",
       "       [[1., 0., 0., 0.],\n",
       "        [1., 0., 0., 0.],\n",
       "        [1., 0., 0., 0.],\n",
       "        [1., 0., 0., 0.]]])"
      ]
     },
     "execution_count": 64,
     "metadata": {},
     "output_type": "execute_result"
    }
   ],
   "source": [
    "L = 100\n",
    "K = 100\n",
    "gamma = 0.1\n",
    "\n",
    "values = init_values(policy)\n",
    "q = np.zeros(policy.shape)\n",
    "for k in tqdm.tqdm(range(K), position=0):\n",
    "    for l in range(L):\n",
    "        values = policy_evaluation_step(policy, values, gamma)\n",
    "    q = Q(policy, values, actions_dict)\n",
    "    policy = policy_improvement(policy, q)\n",
    "policy"
   ]
  },
  {
   "cell_type": "code",
   "execution_count": 65,
   "id": "d56e850b",
   "metadata": {},
   "outputs": [],
   "source": [
    "def render_policy(policy, env, actions_arr):\n",
    "    field = []\n",
    "    row = []\n",
    "    for y, x in env.get_all_states():\n",
    "        row.append(actions_arr[np.argmax(policy[x][y])][0])\n",
    "        if x == 3:\n",
    "            field.append(' '.join(row))\n",
    "            row = []\n",
    "    print('\\n'.join(field))"
   ]
  },
  {
   "cell_type": "code",
   "execution_count": 66,
   "id": "59ab453c",
   "metadata": {},
   "outputs": [
    {
     "name": "stdout",
     "output_type": "stream",
     "text": [
      "d d d d\n",
      "d d d d\n",
      "d d d d\n",
      "d d d d\n"
     ]
    }
   ],
   "source": [
    "render_policy(policy, env, actions_arr)"
   ]
  },
  {
   "cell_type": "code",
   "execution_count": 67,
   "id": "220d0bea",
   "metadata": {},
   "outputs": [],
   "source": [
    "def run_test(policy):\n",
    "    total_reward = 0\n",
    "    state = env.reset()\n",
    "    \n",
    "    for step in range(100):\n",
    "        possible_actions = list(sorted(env.get_possible_actions(state)))\n",
    "        state_y, state_x = state\n",
    "        actions_distr = policy[state_y][state_x]\n",
    "\n",
    "        action = np.random.choice(possible_actions,p=actions_distr)\n",
    "        state, reward, done, _ = env.step(action)\n",
    "#         print(state, reward, done, _,action, actions_distr)\n",
    "#         break\n",
    "#         env.render()\n",
    "        total_reward += reward\n",
    "\n",
    "        if done: break\n",
    "    return total_reward, step"
   ]
  },
  {
   "cell_type": "code",
   "execution_count": 68,
   "id": "82369e75",
   "metadata": {},
   "outputs": [],
   "source": [
    "def stats(g, r, s):\n",
    "    sucess = np.sum(r[r==1])/len(r)\n",
    "    fail = 1 - sucess\n",
    "    sucess_len = np.mean(s[r==1])\n",
    "    fail_len = np.mean(s[r==0])\n",
    "    return g, sucess, fail, sucess_len, fail_len"
   ]
  },
  {
   "cell_type": "code",
   "execution_count": 69,
   "id": "6df1c32e",
   "metadata": {},
   "outputs": [
    {
     "data": {
      "text/plain": [
       "(0.0, 1)"
      ]
     },
     "execution_count": 69,
     "metadata": {},
     "output_type": "execute_result"
    }
   ],
   "source": [
    "run_test(policy)"
   ]
  },
  {
   "cell_type": "code",
   "execution_count": 82,
   "id": "df73de6d",
   "metadata": {},
   "outputs": [],
   "source": [
    "def train_MDP(L, K, gamma, tqdm_train):\n",
    "    tqdm_train.reset(total=K)\n",
    "    policy,actions_set = init_policy(env)\n",
    "    actions_dict ={action:i for i,action in enumerate(sorted(actions_set))}\n",
    "    values = init_values(policy)\n",
    "    values\n",
    "    q = np.zeros(policy.shape)\n",
    "\n",
    "    for k in range(K):\n",
    "        tqdm_train.update()\n",
    "        for l in range(L):\n",
    "            values = policy_evaluation_step(policy, values, gamma)\n",
    "        q = Q(policy, values, actions_dict)\n",
    "        policy = policy_improvement(policy, q)\n",
    "    return policy\n",
    "\n",
    "def test_MDP(policy, NN, tqdm_test):\n",
    "    tqdm_test.reset(total=NN)\n",
    "    runs = []\n",
    "    for _ in range(NN):\n",
    "        runs.append(run_test(policy))\n",
    "        tqdm_test.update()\n",
    "    runs = np.array(runs)\n",
    "    rewards, steps = runs[::,0], runs[::,1]\n",
    "    return rewards, steps\n",
    "\n",
    "def experiment(L, K, NN, gamma, tqdm_train, tqdm_test):\n",
    "    # gamma = 0.8\n",
    "    policy = train_MDP(L, K, gamma, tqdm_train)\n",
    "    return test_MDP(policy, NN, tqdm_test)"
   ]
  },
  {
   "cell_type": "code",
   "execution_count": 83,
   "id": "59efa1b9",
   "metadata": {},
   "outputs": [],
   "source": [
    "def experiments(L, K, NN, gammas):\n",
    "    exps=[]\n",
    "    tqdm_gammas = tqdm.tqdm_notebook(total=len(gammas), desc='gammas', position=0)\n",
    "    tqdm_train = tqdm.tqdm_notebook(total=K, desc='train', position=1)\n",
    "    tqdm_test  = tqdm.tqdm_notebook(total=NN, desc='test', position=2)\n",
    "    for gamma in gammas:\n",
    "        tqdm_gammas.set_description('gamma:'+f\"{gamma:0.5}\")\n",
    "        rewards, steps = experiment(L, K, NN, gamma, tqdm_train, tqdm_test)\n",
    "        exps.append(stats(gamma, rewards, steps))\n",
    "        tqdm_gammas.update()\n",
    "    return np.array(exps)"
   ]
  },
  {
   "cell_type": "code",
   "execution_count": 79,
   "id": "12f24661",
   "metadata": {},
   "outputs": [
    {
     "name": "stderr",
     "output_type": "stream",
     "text": [
      "/home/shmalex/anaconda3/lib/python3.7/site-packages/ipykernel_launcher.py:1: TqdmDeprecationWarning: This function will be removed in tqdm==5.0.0\n",
      "Please use `tqdm.notebook.tqdm` instead of `tqdm.tqdm_notebook`\n",
      "  \"\"\"Entry point for launching an IPython kernel.\n"
     ]
    },
    {
     "data": {
      "application/vnd.jupyter.widget-view+json": {
       "model_id": "1e7e3157cbcb4b9eb79fae2c875f1c57",
       "version_major": 2,
       "version_minor": 0
      },
      "text/plain": [
       "train:   0%|          | 0/100 [00:00<?, ?it/s]"
      ]
     },
     "metadata": {},
     "output_type": "display_data"
    }
   ],
   "source": [
    "tqdm_train = tqdm.tqdm_notebook(total=K, desc='train', position=1)\n"
   ]
  },
  {
   "cell_type": "code",
   "execution_count": 88,
   "id": "fa339502",
   "metadata": {
    "scrolled": false
   },
   "outputs": [
    {
     "name": "stderr",
     "output_type": "stream",
     "text": [
      "/home/shmalex/anaconda3/lib/python3.7/site-packages/ipykernel_launcher.py:7: TqdmDeprecationWarning: This function will be removed in tqdm==5.0.0\n",
      "Please use `tqdm.notebook.tqdm` instead of `tqdm.tqdm_notebook`\n",
      "  import sys\n"
     ]
    },
    {
     "data": {
      "application/vnd.jupyter.widget-view+json": {
       "model_id": "848f38fde654478d9626d4efee462951",
       "version_major": 2,
       "version_minor": 0
      },
      "text/plain": [
       "train:   0%|          | 0/100 [00:00<?, ?it/s]"
      ]
     },
     "metadata": {},
     "output_type": "display_data"
    },
    {
     "data": {
      "application/vnd.jupyter.widget-view+json": {
       "model_id": "aaa499b41c244129a97ab82daef26aa3",
       "version_major": 2,
       "version_minor": 0
      },
      "text/plain": [
       "test:   0%|          | 0/5000 [00:00<?, ?it/s]"
      ]
     },
     "metadata": {},
     "output_type": "display_data"
    },
    {
     "name": "stdout",
     "output_type": "stream",
     "text": [
      "|   iter    |  target   |     K     |     L     |   gamma   |\n",
      "-------------------------------------------------------------\n"
     ]
    },
    {
     "name": "stderr",
     "output_type": "stream",
     "text": [
      "/home/shmalex/anaconda3/lib/python3.7/site-packages/numpy/core/fromnumeric.py:3441: RuntimeWarning: Mean of empty slice.\n",
      "  out=out, **kwargs)\n",
      "/home/shmalex/anaconda3/lib/python3.7/site-packages/numpy/core/_methods.py:189: RuntimeWarning: invalid value encountered in double_scalars\n",
      "  ret = ret.dtype.type(ret / rcount)\n"
     ]
    },
    {
     "name": "stdout",
     "output_type": "stream",
     "text": [
      "| \u001b[0m1        \u001b[0m | \u001b[0m0.0      \u001b[0m | \u001b[0m29.13    \u001b[0m | \u001b[0m78.53    \u001b[0m | \u001b[0m0.1786   \u001b[0m |\n",
      "| \u001b[95m2        \u001b[0m | \u001b[95m0.036    \u001b[0m | \u001b[95m74.53    \u001b[0m | \u001b[95m55.02    \u001b[0m | \u001b[95m0.7152   \u001b[0m |\n",
      "| \u001b[0m3        \u001b[0m | \u001b[0m0.0322   \u001b[0m | \u001b[0m91.62    \u001b[0m | \u001b[0m48.89    \u001b[0m | \u001b[0m0.6376   \u001b[0m |\n",
      "| \u001b[0m4        \u001b[0m | \u001b[0m0.0      \u001b[0m | \u001b[0m18.43    \u001b[0m | \u001b[0m18.45    \u001b[0m | \u001b[0m0.9554   \u001b[0m |\n",
      "| \u001b[0m5        \u001b[0m | \u001b[0m0.0298   \u001b[0m | \u001b[0m59.04    \u001b[0m | \u001b[0m25.84    \u001b[0m | \u001b[0m0.8951   \u001b[0m |\n"
     ]
    },
    {
     "name": "stderr",
     "output_type": "stream",
     "text": [
      "/home/shmalex/anaconda3/lib/python3.7/site-packages/ipykernel_launcher.py:49: RuntimeWarning: overflow encountered in double_scalars\n",
      "/home/shmalex/anaconda3/lib/python3.7/site-packages/ipykernel_launcher.py:49: RuntimeWarning: invalid value encountered in double_scalars\n",
      "/home/shmalex/anaconda3/lib/python3.7/site-packages/ipykernel_launcher.py:49: RuntimeWarning: overflow encountered in double_scalars\n",
      "/home/shmalex/anaconda3/lib/python3.7/site-packages/ipykernel_launcher.py:49: RuntimeWarning: invalid value encountered in double_scalars\n"
     ]
    },
    {
     "name": "stdout",
     "output_type": "stream",
     "text": [
      "| \u001b[0m6        \u001b[0m | \u001b[0m0.0348   \u001b[0m | \u001b[0m74.27    \u001b[0m | \u001b[0m57.34    \u001b[0m | \u001b[0m0.5222   \u001b[0m |\n"
     ]
    },
    {
     "name": "stderr",
     "output_type": "stream",
     "text": [
      "/home/shmalex/anaconda3/lib/python3.7/site-packages/numpy/core/fromnumeric.py:3441: RuntimeWarning: Mean of empty slice.\n",
      "  out=out, **kwargs)\n",
      "/home/shmalex/anaconda3/lib/python3.7/site-packages/numpy/core/_methods.py:189: RuntimeWarning: invalid value encountered in double_scalars\n",
      "  ret = ret.dtype.type(ret / rcount)\n"
     ]
    },
    {
     "name": "stdout",
     "output_type": "stream",
     "text": [
      "| \u001b[0m7        \u001b[0m | \u001b[0m0.0      \u001b[0m | \u001b[0m100.0    \u001b[0m | \u001b[0m1.0      \u001b[0m | \u001b[0m0.999    \u001b[0m |\n",
      "| \u001b[0m8        \u001b[0m | \u001b[0m0.0306   \u001b[0m | \u001b[0m100.0    \u001b[0m | \u001b[0m100.0    \u001b[0m | \u001b[0m0.999    \u001b[0m |\n"
     ]
    },
    {
     "name": "stderr",
     "output_type": "stream",
     "text": [
      "/home/shmalex/anaconda3/lib/python3.7/site-packages/ipykernel_launcher.py:49: RuntimeWarning: overflow encountered in double_scalars\n",
      "/home/shmalex/anaconda3/lib/python3.7/site-packages/ipykernel_launcher.py:49: RuntimeWarning: invalid value encountered in double_scalars\n",
      "/home/shmalex/anaconda3/lib/python3.7/site-packages/ipykernel_launcher.py:49: RuntimeWarning: overflow encountered in double_scalars\n",
      "/home/shmalex/anaconda3/lib/python3.7/site-packages/ipykernel_launcher.py:49: RuntimeWarning: invalid value encountered in double_scalars\n"
     ]
    },
    {
     "name": "stdout",
     "output_type": "stream",
     "text": [
      "| \u001b[0m9        \u001b[0m | \u001b[0m0.0358   \u001b[0m | \u001b[0m72.01    \u001b[0m | \u001b[0m100.0    \u001b[0m | \u001b[0m0.999    \u001b[0m |\n"
     ]
    },
    {
     "name": "stderr",
     "output_type": "stream",
     "text": [
      "/home/shmalex/anaconda3/lib/python3.7/site-packages/ipykernel_launcher.py:49: RuntimeWarning: overflow encountered in double_scalars\n",
      "/home/shmalex/anaconda3/lib/python3.7/site-packages/ipykernel_launcher.py:49: RuntimeWarning: invalid value encountered in double_scalars\n"
     ]
    },
    {
     "name": "stdout",
     "output_type": "stream",
     "text": [
      "| \u001b[0m10       \u001b[0m | \u001b[0m0.0348   \u001b[0m | \u001b[0m100.0    \u001b[0m | \u001b[0m74.72    \u001b[0m | \u001b[0m0.999    \u001b[0m |\n"
     ]
    },
    {
     "name": "stderr",
     "output_type": "stream",
     "text": [
      "/home/shmalex/anaconda3/lib/python3.7/site-packages/ipykernel_launcher.py:49: RuntimeWarning: overflow encountered in double_scalars\n",
      "/home/shmalex/anaconda3/lib/python3.7/site-packages/ipykernel_launcher.py:49: RuntimeWarning: invalid value encountered in double_scalars\n"
     ]
    },
    {
     "name": "stdout",
     "output_type": "stream",
     "text": [
      "| \u001b[95m11       \u001b[0m | \u001b[95m0.0388   \u001b[0m | \u001b[95m83.42    \u001b[0m | \u001b[95m85.54    \u001b[0m | \u001b[95m0.2009   \u001b[0m |\n"
     ]
    },
    {
     "name": "stderr",
     "output_type": "stream",
     "text": [
      "/home/shmalex/anaconda3/lib/python3.7/site-packages/numpy/core/fromnumeric.py:3441: RuntimeWarning: Mean of empty slice.\n",
      "  out=out, **kwargs)\n",
      "/home/shmalex/anaconda3/lib/python3.7/site-packages/numpy/core/_methods.py:189: RuntimeWarning: invalid value encountered in double_scalars\n",
      "  ret = ret.dtype.type(ret / rcount)\n"
     ]
    },
    {
     "name": "stdout",
     "output_type": "stream",
     "text": [
      "| \u001b[0m12       \u001b[0m | \u001b[0m0.0      \u001b[0m | \u001b[0m75.86    \u001b[0m | \u001b[0m35.07    \u001b[0m | \u001b[0m0.01     \u001b[0m |\n",
      "| \u001b[0m13       \u001b[0m | \u001b[0m0.0362   \u001b[0m | \u001b[0m88.5     \u001b[0m | \u001b[0m65.38    \u001b[0m | \u001b[0m0.999    \u001b[0m |\n"
     ]
    },
    {
     "name": "stderr",
     "output_type": "stream",
     "text": [
      "/home/shmalex/anaconda3/lib/python3.7/site-packages/ipykernel_launcher.py:49: RuntimeWarning: overflow encountered in double_scalars\n",
      "/home/shmalex/anaconda3/lib/python3.7/site-packages/ipykernel_launcher.py:49: RuntimeWarning: invalid value encountered in double_scalars\n",
      "/home/shmalex/anaconda3/lib/python3.7/site-packages/ipykernel_launcher.py:49: RuntimeWarning: overflow encountered in double_scalars\n",
      "/home/shmalex/anaconda3/lib/python3.7/site-packages/ipykernel_launcher.py:49: RuntimeWarning: invalid value encountered in double_scalars\n"
     ]
    },
    {
     "name": "stdout",
     "output_type": "stream",
     "text": [
      "| \u001b[0m14       \u001b[0m | \u001b[0m0.0364   \u001b[0m | \u001b[0m66.0     \u001b[0m | \u001b[0m83.25    \u001b[0m | \u001b[0m0.999    \u001b[0m |\n"
     ]
    },
    {
     "name": "stderr",
     "output_type": "stream",
     "text": [
      "/home/shmalex/anaconda3/lib/python3.7/site-packages/numpy/core/fromnumeric.py:3441: RuntimeWarning: Mean of empty slice.\n",
      "  out=out, **kwargs)\n",
      "/home/shmalex/anaconda3/lib/python3.7/site-packages/numpy/core/_methods.py:189: RuntimeWarning: invalid value encountered in double_scalars\n",
      "  ret = ret.dtype.type(ret / rcount)\n",
      "/home/shmalex/anaconda3/lib/python3.7/site-packages/ipykernel_launcher.py:49: RuntimeWarning: overflow encountered in double_scalars\n",
      "/home/shmalex/anaconda3/lib/python3.7/site-packages/ipykernel_launcher.py:49: RuntimeWarning: invalid value encountered in double_scalars\n"
     ]
    },
    {
     "name": "stdout",
     "output_type": "stream",
     "text": [
      "| \u001b[0m15       \u001b[0m | \u001b[0m0.0      \u001b[0m | \u001b[0m54.29    \u001b[0m | \u001b[0m2.05     \u001b[0m | \u001b[0m0.3759   \u001b[0m |\n",
      "| \u001b[0m16       \u001b[0m | \u001b[0m0.0302   \u001b[0m | \u001b[0m49.26    \u001b[0m | \u001b[0m44.86    \u001b[0m | \u001b[0m0.999    \u001b[0m |\n"
     ]
    },
    {
     "name": "stderr",
     "output_type": "stream",
     "text": [
      "/home/shmalex/anaconda3/lib/python3.7/site-packages/ipykernel_launcher.py:49: RuntimeWarning: overflow encountered in double_scalars\n",
      "/home/shmalex/anaconda3/lib/python3.7/site-packages/ipykernel_launcher.py:49: RuntimeWarning: invalid value encountered in double_scalars\n"
     ]
    },
    {
     "name": "stdout",
     "output_type": "stream",
     "text": [
      "| \u001b[0m17       \u001b[0m | \u001b[0m0.0344   \u001b[0m | \u001b[0m54.99    \u001b[0m | \u001b[0m99.45    \u001b[0m | \u001b[0m0.2294   \u001b[0m |\n"
     ]
    },
    {
     "name": "stderr",
     "output_type": "stream",
     "text": [
      "/home/shmalex/anaconda3/lib/python3.7/site-packages/numpy/core/fromnumeric.py:3441: RuntimeWarning: Mean of empty slice.\n",
      "  out=out, **kwargs)\n",
      "/home/shmalex/anaconda3/lib/python3.7/site-packages/numpy/core/_methods.py:189: RuntimeWarning: invalid value encountered in double_scalars\n",
      "  ret = ret.dtype.type(ret / rcount)\n"
     ]
    },
    {
     "name": "stdout",
     "output_type": "stream",
     "text": [
      "| \u001b[0m18       \u001b[0m | \u001b[0m0.0      \u001b[0m | \u001b[0m1.234    \u001b[0m | \u001b[0m99.18    \u001b[0m | \u001b[0m0.2861   \u001b[0m |\n",
      "| \u001b[95m19       \u001b[0m | \u001b[95m0.7414   \u001b[0m | \u001b[95m1.0      \u001b[0m | \u001b[95m51.25    \u001b[0m | \u001b[95m0.01     \u001b[0m |\n"
     ]
    },
    {
     "name": "stderr",
     "output_type": "stream",
     "text": [
      "/home/shmalex/anaconda3/lib/python3.7/site-packages/numpy/core/fromnumeric.py:3441: RuntimeWarning: Mean of empty slice.\n",
      "  out=out, **kwargs)\n",
      "/home/shmalex/anaconda3/lib/python3.7/site-packages/numpy/core/_methods.py:189: RuntimeWarning: invalid value encountered in double_scalars\n",
      "  ret = ret.dtype.type(ret / rcount)\n"
     ]
    },
    {
     "name": "stdout",
     "output_type": "stream",
     "text": [
      "| \u001b[0m20       \u001b[0m | \u001b[0m0.0      \u001b[0m | \u001b[0m1.0      \u001b[0m | \u001b[0m58.96    \u001b[0m | \u001b[0m0.999    \u001b[0m |\n",
      "| \u001b[0m21       \u001b[0m | \u001b[0m0.736    \u001b[0m | \u001b[0m1.002    \u001b[0m | \u001b[0m49.93    \u001b[0m | \u001b[0m0.01     \u001b[0m |\n",
      "| \u001b[0m22       \u001b[0m | \u001b[0m0.7308   \u001b[0m | \u001b[0m3.831    \u001b[0m | \u001b[0m50.59    \u001b[0m | \u001b[0m0.01     \u001b[0m |\n"
     ]
    },
    {
     "name": "stderr",
     "output_type": "stream",
     "text": [
      "/home/shmalex/anaconda3/lib/python3.7/site-packages/numpy/core/fromnumeric.py:3441: RuntimeWarning: Mean of empty slice.\n",
      "  out=out, **kwargs)\n",
      "/home/shmalex/anaconda3/lib/python3.7/site-packages/numpy/core/_methods.py:189: RuntimeWarning: invalid value encountered in double_scalars\n",
      "  ret = ret.dtype.type(ret / rcount)\n"
     ]
    },
    {
     "name": "stdout",
     "output_type": "stream",
     "text": [
      "| \u001b[0m23       \u001b[0m | \u001b[0m0.0      \u001b[0m | \u001b[0m5.571    \u001b[0m | \u001b[0m45.6     \u001b[0m | \u001b[0m0.8457   \u001b[0m |\n",
      "| \u001b[0m24       \u001b[0m | \u001b[0m0.734    \u001b[0m | \u001b[0m3.691    \u001b[0m | \u001b[0m52.94    \u001b[0m | \u001b[0m0.01     \u001b[0m |\n"
     ]
    },
    {
     "name": "stderr",
     "output_type": "stream",
     "text": [
      "/home/shmalex/anaconda3/lib/python3.7/site-packages/numpy/core/fromnumeric.py:3441: RuntimeWarning: Mean of empty slice.\n",
      "  out=out, **kwargs)\n",
      "/home/shmalex/anaconda3/lib/python3.7/site-packages/numpy/core/_methods.py:189: RuntimeWarning: invalid value encountered in double_scalars\n",
      "  ret = ret.dtype.type(ret / rcount)\n"
     ]
    },
    {
     "name": "stdout",
     "output_type": "stream",
     "text": [
      "| \u001b[0m25       \u001b[0m | \u001b[0m0.0      \u001b[0m | \u001b[0m7.656    \u001b[0m | \u001b[0m53.2     \u001b[0m | \u001b[0m0.01     \u001b[0m |\n"
     ]
    },
    {
     "name": "stderr",
     "output_type": "stream",
     "text": [
      "/home/shmalex/anaconda3/lib/python3.7/site-packages/numpy/core/fromnumeric.py:3441: RuntimeWarning: Mean of empty slice.\n",
      "  out=out, **kwargs)\n",
      "/home/shmalex/anaconda3/lib/python3.7/site-packages/numpy/core/_methods.py:189: RuntimeWarning: invalid value encountered in double_scalars\n",
      "  ret = ret.dtype.type(ret / rcount)\n"
     ]
    },
    {
     "name": "stdout",
     "output_type": "stream",
     "text": [
      "| \u001b[0m26       \u001b[0m | \u001b[0m0.0      \u001b[0m | \u001b[0m1.542    \u001b[0m | \u001b[0m50.55    \u001b[0m | \u001b[0m0.9271   \u001b[0m |\n"
     ]
    },
    {
     "name": "stderr",
     "output_type": "stream",
     "text": [
      "/home/shmalex/anaconda3/lib/python3.7/site-packages/numpy/core/fromnumeric.py:3441: RuntimeWarning: Mean of empty slice.\n",
      "  out=out, **kwargs)\n",
      "/home/shmalex/anaconda3/lib/python3.7/site-packages/numpy/core/_methods.py:189: RuntimeWarning: invalid value encountered in double_scalars\n",
      "  ret = ret.dtype.type(ret / rcount)\n"
     ]
    },
    {
     "name": "stdout",
     "output_type": "stream",
     "text": [
      "| \u001b[0m27       \u001b[0m | \u001b[0m0.0      \u001b[0m | \u001b[0m3.739    \u001b[0m | \u001b[0m50.7     \u001b[0m | \u001b[0m0.4267   \u001b[0m |\n"
     ]
    },
    {
     "name": "stderr",
     "output_type": "stream",
     "text": [
      "/home/shmalex/anaconda3/lib/python3.7/site-packages/numpy/core/fromnumeric.py:3441: RuntimeWarning: Mean of empty slice.\n",
      "  out=out, **kwargs)\n",
      "/home/shmalex/anaconda3/lib/python3.7/site-packages/numpy/core/_methods.py:189: RuntimeWarning: invalid value encountered in double_scalars\n",
      "  ret = ret.dtype.type(ret / rcount)\n"
     ]
    },
    {
     "name": "stdout",
     "output_type": "stream",
     "text": [
      "| \u001b[0m28       \u001b[0m | \u001b[0m0.0      \u001b[0m | \u001b[0m72.74    \u001b[0m | \u001b[0m9.97     \u001b[0m | \u001b[0m0.4719   \u001b[0m |\n"
     ]
    },
    {
     "name": "stderr",
     "output_type": "stream",
     "text": [
      "/home/shmalex/anaconda3/lib/python3.7/site-packages/ipykernel_launcher.py:49: RuntimeWarning: overflow encountered in double_scalars\n",
      "/home/shmalex/anaconda3/lib/python3.7/site-packages/ipykernel_launcher.py:49: RuntimeWarning: invalid value encountered in double_scalars\n"
     ]
    },
    {
     "name": "stdout",
     "output_type": "stream",
     "text": [
      "| \u001b[0m29       \u001b[0m | \u001b[0m0.0276   \u001b[0m | \u001b[0m49.85    \u001b[0m | \u001b[0m93.51    \u001b[0m | \u001b[0m0.171    \u001b[0m |\n"
     ]
    },
    {
     "name": "stderr",
     "output_type": "stream",
     "text": [
      "/home/shmalex/anaconda3/lib/python3.7/site-packages/ipykernel_launcher.py:49: RuntimeWarning: overflow encountered in double_scalars\n",
      "/home/shmalex/anaconda3/lib/python3.7/site-packages/ipykernel_launcher.py:49: RuntimeWarning: invalid value encountered in double_scalars\n"
     ]
    },
    {
     "name": "stdout",
     "output_type": "stream",
     "text": [
      "| \u001b[0m30       \u001b[0m | \u001b[0m0.0318   \u001b[0m | \u001b[0m89.76    \u001b[0m | \u001b[0m97.14    \u001b[0m | \u001b[0m0.117    \u001b[0m |\n"
     ]
    },
    {
     "name": "stderr",
     "output_type": "stream",
     "text": [
      "/home/shmalex/anaconda3/lib/python3.7/site-packages/ipykernel_launcher.py:49: RuntimeWarning: overflow encountered in double_scalars\n",
      "/home/shmalex/anaconda3/lib/python3.7/site-packages/ipykernel_launcher.py:49: RuntimeWarning: invalid value encountered in double_scalars\n"
     ]
    },
    {
     "name": "stdout",
     "output_type": "stream",
     "text": [
      "| \u001b[0m31       \u001b[0m | \u001b[0m0.0304   \u001b[0m | \u001b[0m92.02    \u001b[0m | \u001b[0m28.67    \u001b[0m | \u001b[0m0.7518   \u001b[0m |\n"
     ]
    },
    {
     "name": "stderr",
     "output_type": "stream",
     "text": [
      "/home/shmalex/anaconda3/lib/python3.7/site-packages/ipykernel_launcher.py:49: RuntimeWarning: overflow encountered in double_scalars\n",
      "/home/shmalex/anaconda3/lib/python3.7/site-packages/ipykernel_launcher.py:49: RuntimeWarning: invalid value encountered in double_scalars\n"
     ]
    },
    {
     "name": "stdout",
     "output_type": "stream",
     "text": [
      "| \u001b[0m32       \u001b[0m | \u001b[0m0.0314   \u001b[0m | \u001b[0m21.7     \u001b[0m | \u001b[0m83.8     \u001b[0m | \u001b[0m0.8985   \u001b[0m |\n"
     ]
    },
    {
     "name": "stderr",
     "output_type": "stream",
     "text": [
      "/home/shmalex/anaconda3/lib/python3.7/site-packages/numpy/core/fromnumeric.py:3441: RuntimeWarning: Mean of empty slice.\n",
      "  out=out, **kwargs)\n",
      "/home/shmalex/anaconda3/lib/python3.7/site-packages/numpy/core/_methods.py:189: RuntimeWarning: invalid value encountered in double_scalars\n",
      "  ret = ret.dtype.type(ret / rcount)\n"
     ]
    },
    {
     "name": "stdout",
     "output_type": "stream",
     "text": [
      "| \u001b[0m33       \u001b[0m | \u001b[0m0.0      \u001b[0m | \u001b[0m3.133    \u001b[0m | \u001b[0m5.496    \u001b[0m | \u001b[0m0.7052   \u001b[0m |\n"
     ]
    },
    {
     "name": "stderr",
     "output_type": "stream",
     "text": [
      "/home/shmalex/anaconda3/lib/python3.7/site-packages/ipykernel_launcher.py:49: RuntimeWarning: overflow encountered in double_scalars\n",
      "/home/shmalex/anaconda3/lib/python3.7/site-packages/ipykernel_launcher.py:49: RuntimeWarning: invalid value encountered in double_scalars\n"
     ]
    },
    {
     "name": "stdout",
     "output_type": "stream",
     "text": [
      "| \u001b[0m34       \u001b[0m | \u001b[0m0.0324   \u001b[0m | \u001b[0m53.7     \u001b[0m | \u001b[0m96.21    \u001b[0m | \u001b[0m0.444    \u001b[0m |\n"
     ]
    },
    {
     "name": "stderr",
     "output_type": "stream",
     "text": [
      "/home/shmalex/anaconda3/lib/python3.7/site-packages/ipykernel_launcher.py:49: RuntimeWarning: overflow encountered in double_scalars\n",
      "/home/shmalex/anaconda3/lib/python3.7/site-packages/ipykernel_launcher.py:49: RuntimeWarning: invalid value encountered in double_scalars\n"
     ]
    },
    {
     "name": "stdout",
     "output_type": "stream",
     "text": [
      "| \u001b[0m35       \u001b[0m | \u001b[0m0.0334   \u001b[0m | \u001b[0m54.9     \u001b[0m | \u001b[0m51.4     \u001b[0m | \u001b[0m0.4225   \u001b[0m |\n"
     ]
    },
    {
     "name": "stderr",
     "output_type": "stream",
     "text": [
      "/home/shmalex/anaconda3/lib/python3.7/site-packages/numpy/core/fromnumeric.py:3441: RuntimeWarning: Mean of empty slice.\n",
      "  out=out, **kwargs)\n",
      "/home/shmalex/anaconda3/lib/python3.7/site-packages/numpy/core/_methods.py:189: RuntimeWarning: invalid value encountered in double_scalars\n",
      "  ret = ret.dtype.type(ret / rcount)\n"
     ]
    },
    {
     "name": "stdout",
     "output_type": "stream",
     "text": [
      "| \u001b[0m36       \u001b[0m | \u001b[0m0.0      \u001b[0m | \u001b[0m42.28    \u001b[0m | \u001b[0m14.38    \u001b[0m | \u001b[0m0.6069   \u001b[0m |\n"
     ]
    },
    {
     "name": "stderr",
     "output_type": "stream",
     "text": [
      "/home/shmalex/anaconda3/lib/python3.7/site-packages/numpy/core/fromnumeric.py:3441: RuntimeWarning: Mean of empty slice.\n",
      "  out=out, **kwargs)\n",
      "/home/shmalex/anaconda3/lib/python3.7/site-packages/numpy/core/_methods.py:189: RuntimeWarning: invalid value encountered in double_scalars\n",
      "  ret = ret.dtype.type(ret / rcount)\n"
     ]
    },
    {
     "name": "stdout",
     "output_type": "stream",
     "text": [
      "| \u001b[0m37       \u001b[0m | \u001b[0m0.0      \u001b[0m | \u001b[0m27.24    \u001b[0m | \u001b[0m61.79    \u001b[0m | \u001b[0m0.3639   \u001b[0m |\n"
     ]
    },
    {
     "name": "stderr",
     "output_type": "stream",
     "text": [
      "/home/shmalex/anaconda3/lib/python3.7/site-packages/numpy/core/fromnumeric.py:3441: RuntimeWarning: Mean of empty slice.\n",
      "  out=out, **kwargs)\n",
      "/home/shmalex/anaconda3/lib/python3.7/site-packages/numpy/core/_methods.py:189: RuntimeWarning: invalid value encountered in double_scalars\n",
      "  ret = ret.dtype.type(ret / rcount)\n"
     ]
    },
    {
     "name": "stdout",
     "output_type": "stream",
     "text": [
      "| \u001b[0m38       \u001b[0m | \u001b[0m0.0      \u001b[0m | \u001b[0m39.46    \u001b[0m | \u001b[0m32.41    \u001b[0m | \u001b[0m0.6466   \u001b[0m |\n"
     ]
    },
    {
     "name": "stderr",
     "output_type": "stream",
     "text": [
      "/home/shmalex/anaconda3/lib/python3.7/site-packages/numpy/core/fromnumeric.py:3441: RuntimeWarning: Mean of empty slice.\n",
      "  out=out, **kwargs)\n",
      "/home/shmalex/anaconda3/lib/python3.7/site-packages/numpy/core/_methods.py:189: RuntimeWarning: invalid value encountered in double_scalars\n",
      "  ret = ret.dtype.type(ret / rcount)\n"
     ]
    },
    {
     "name": "stdout",
     "output_type": "stream",
     "text": [
      "| \u001b[0m39       \u001b[0m | \u001b[0m0.0      \u001b[0m | \u001b[0m9.977    \u001b[0m | \u001b[0m64.26    \u001b[0m | \u001b[0m0.504    \u001b[0m |\n"
     ]
    },
    {
     "name": "stderr",
     "output_type": "stream",
     "text": [
      "/home/shmalex/anaconda3/lib/python3.7/site-packages/ipykernel_launcher.py:49: RuntimeWarning: overflow encountered in double_scalars\n",
      "/home/shmalex/anaconda3/lib/python3.7/site-packages/ipykernel_launcher.py:49: RuntimeWarning: invalid value encountered in double_scalars\n"
     ]
    },
    {
     "name": "stdout",
     "output_type": "stream",
     "text": [
      "| \u001b[0m40       \u001b[0m | \u001b[0m0.0294   \u001b[0m | \u001b[0m80.84    \u001b[0m | \u001b[0m99.41    \u001b[0m | \u001b[0m0.4222   \u001b[0m |\n"
     ]
    },
    {
     "name": "stderr",
     "output_type": "stream",
     "text": [
      "/home/shmalex/anaconda3/lib/python3.7/site-packages/ipykernel_launcher.py:49: RuntimeWarning: overflow encountered in double_scalars\n",
      "/home/shmalex/anaconda3/lib/python3.7/site-packages/ipykernel_launcher.py:49: RuntimeWarning: invalid value encountered in double_scalars\n"
     ]
    },
    {
     "name": "stdout",
     "output_type": "stream",
     "text": [
      "| \u001b[0m41       \u001b[0m | \u001b[0m0.0354   \u001b[0m | \u001b[0m78.99    \u001b[0m | \u001b[0m81.07    \u001b[0m | \u001b[0m0.2299   \u001b[0m |\n"
     ]
    },
    {
     "name": "stderr",
     "output_type": "stream",
     "text": [
      "/home/shmalex/anaconda3/lib/python3.7/site-packages/ipykernel_launcher.py:49: RuntimeWarning: overflow encountered in double_scalars\n",
      "/home/shmalex/anaconda3/lib/python3.7/site-packages/ipykernel_launcher.py:49: RuntimeWarning: invalid value encountered in double_scalars\n"
     ]
    },
    {
     "name": "stdout",
     "output_type": "stream",
     "text": [
      "| \u001b[0m42       \u001b[0m | \u001b[0m0.0332   \u001b[0m | \u001b[0m93.16    \u001b[0m | \u001b[0m95.27    \u001b[0m | \u001b[0m0.6484   \u001b[0m |\n"
     ]
    },
    {
     "name": "stderr",
     "output_type": "stream",
     "text": [
      "/home/shmalex/anaconda3/lib/python3.7/site-packages/ipykernel_launcher.py:49: RuntimeWarning: overflow encountered in double_scalars\n",
      "/home/shmalex/anaconda3/lib/python3.7/site-packages/ipykernel_launcher.py:49: RuntimeWarning: invalid value encountered in double_scalars\n"
     ]
    },
    {
     "name": "stdout",
     "output_type": "stream",
     "text": [
      "| \u001b[0m43       \u001b[0m | \u001b[0m0.0342   \u001b[0m | \u001b[0m67.77    \u001b[0m | \u001b[0m43.31    \u001b[0m | \u001b[0m0.8128   \u001b[0m |\n"
     ]
    },
    {
     "name": "stderr",
     "output_type": "stream",
     "text": [
      "/home/shmalex/anaconda3/lib/python3.7/site-packages/ipykernel_launcher.py:49: RuntimeWarning: overflow encountered in double_scalars\n",
      "/home/shmalex/anaconda3/lib/python3.7/site-packages/ipykernel_launcher.py:49: RuntimeWarning: invalid value encountered in double_scalars\n"
     ]
    },
    {
     "name": "stdout",
     "output_type": "stream",
     "text": [
      "| \u001b[0m44       \u001b[0m | \u001b[0m0.0302   \u001b[0m | \u001b[0m48.3     \u001b[0m | \u001b[0m82.13    \u001b[0m | \u001b[0m0.9652   \u001b[0m |\n"
     ]
    },
    {
     "name": "stderr",
     "output_type": "stream",
     "text": [
      "/home/shmalex/anaconda3/lib/python3.7/site-packages/ipykernel_launcher.py:49: RuntimeWarning: overflow encountered in double_scalars\n",
      "/home/shmalex/anaconda3/lib/python3.7/site-packages/ipykernel_launcher.py:49: RuntimeWarning: invalid value encountered in double_scalars\n"
     ]
    },
    {
     "name": "stdout",
     "output_type": "stream",
     "text": [
      "| \u001b[0m45       \u001b[0m | \u001b[0m0.0334   \u001b[0m | \u001b[0m90.04    \u001b[0m | \u001b[0m91.6     \u001b[0m | \u001b[0m0.2257   \u001b[0m |\n"
     ]
    },
    {
     "name": "stderr",
     "output_type": "stream",
     "text": [
      "/home/shmalex/anaconda3/lib/python3.7/site-packages/ipykernel_launcher.py:49: RuntimeWarning: overflow encountered in double_scalars\n",
      "/home/shmalex/anaconda3/lib/python3.7/site-packages/ipykernel_launcher.py:49: RuntimeWarning: invalid value encountered in double_scalars\n"
     ]
    },
    {
     "name": "stdout",
     "output_type": "stream",
     "text": [
      "| \u001b[0m46       \u001b[0m | \u001b[0m0.0314   \u001b[0m | \u001b[0m56.54    \u001b[0m | \u001b[0m61.73    \u001b[0m | \u001b[0m0.5216   \u001b[0m |\n"
     ]
    },
    {
     "name": "stderr",
     "output_type": "stream",
     "text": [
      "/home/shmalex/anaconda3/lib/python3.7/site-packages/ipykernel_launcher.py:49: RuntimeWarning: overflow encountered in double_scalars\n",
      "/home/shmalex/anaconda3/lib/python3.7/site-packages/ipykernel_launcher.py:49: RuntimeWarning: invalid value encountered in double_scalars\n"
     ]
    },
    {
     "name": "stdout",
     "output_type": "stream",
     "text": [
      "| \u001b[0m47       \u001b[0m | \u001b[0m0.0352   \u001b[0m | \u001b[0m44.48    \u001b[0m | \u001b[0m86.91    \u001b[0m | \u001b[0m0.4824   \u001b[0m |\n"
     ]
    },
    {
     "name": "stderr",
     "output_type": "stream",
     "text": [
      "/home/shmalex/anaconda3/lib/python3.7/site-packages/numpy/core/fromnumeric.py:3441: RuntimeWarning: Mean of empty slice.\n",
      "  out=out, **kwargs)\n",
      "/home/shmalex/anaconda3/lib/python3.7/site-packages/numpy/core/_methods.py:189: RuntimeWarning: invalid value encountered in double_scalars\n",
      "  ret = ret.dtype.type(ret / rcount)\n"
     ]
    },
    {
     "name": "stdout",
     "output_type": "stream",
     "text": [
      "| \u001b[0m48       \u001b[0m | \u001b[0m0.0      \u001b[0m | \u001b[0m22.56    \u001b[0m | \u001b[0m5.041    \u001b[0m | \u001b[0m0.622    \u001b[0m |\n"
     ]
    },
    {
     "name": "stderr",
     "output_type": "stream",
     "text": [
      "/home/shmalex/anaconda3/lib/python3.7/site-packages/numpy/core/fromnumeric.py:3441: RuntimeWarning: Mean of empty slice.\n",
      "  out=out, **kwargs)\n",
      "/home/shmalex/anaconda3/lib/python3.7/site-packages/numpy/core/_methods.py:189: RuntimeWarning: invalid value encountered in double_scalars\n",
      "  ret = ret.dtype.type(ret / rcount)\n"
     ]
    },
    {
     "name": "stdout",
     "output_type": "stream",
     "text": [
      "| \u001b[0m49       \u001b[0m | \u001b[0m0.0      \u001b[0m | \u001b[0m31.69    \u001b[0m | \u001b[0m9.064    \u001b[0m | \u001b[0m0.8993   \u001b[0m |\n",
      "| \u001b[0m50       \u001b[0m | \u001b[0m0.0362   \u001b[0m | \u001b[0m61.56    \u001b[0m | \u001b[0m63.57    \u001b[0m | \u001b[0m0.4217   \u001b[0m |\n"
     ]
    },
    {
     "name": "stderr",
     "output_type": "stream",
     "text": [
      "/home/shmalex/anaconda3/lib/python3.7/site-packages/ipykernel_launcher.py:49: RuntimeWarning: overflow encountered in double_scalars\n",
      "/home/shmalex/anaconda3/lib/python3.7/site-packages/ipykernel_launcher.py:49: RuntimeWarning: invalid value encountered in double_scalars\n",
      "/home/shmalex/anaconda3/lib/python3.7/site-packages/ipykernel_launcher.py:49: RuntimeWarning: overflow encountered in double_scalars\n",
      "/home/shmalex/anaconda3/lib/python3.7/site-packages/ipykernel_launcher.py:49: RuntimeWarning: invalid value encountered in double_scalars\n"
     ]
    },
    {
     "name": "stdout",
     "output_type": "stream",
     "text": [
      "| \u001b[0m51       \u001b[0m | \u001b[0m0.0308   \u001b[0m | \u001b[0m25.23    \u001b[0m | \u001b[0m76.74    \u001b[0m | \u001b[0m0.9905   \u001b[0m |\n"
     ]
    },
    {
     "name": "stderr",
     "output_type": "stream",
     "text": [
      "/home/shmalex/anaconda3/lib/python3.7/site-packages/numpy/core/fromnumeric.py:3441: RuntimeWarning: Mean of empty slice.\n",
      "  out=out, **kwargs)\n",
      "/home/shmalex/anaconda3/lib/python3.7/site-packages/numpy/core/_methods.py:189: RuntimeWarning: invalid value encountered in double_scalars\n",
      "  ret = ret.dtype.type(ret / rcount)\n"
     ]
    },
    {
     "name": "stdout",
     "output_type": "stream",
     "text": [
      "| \u001b[0m52       \u001b[0m | \u001b[0m0.0      \u001b[0m | \u001b[0m16.49    \u001b[0m | \u001b[0m52.55    \u001b[0m | \u001b[0m0.2359   \u001b[0m |\n"
     ]
    },
    {
     "name": "stderr",
     "output_type": "stream",
     "text": [
      "/home/shmalex/anaconda3/lib/python3.7/site-packages/numpy/core/fromnumeric.py:3441: RuntimeWarning: Mean of empty slice.\n",
      "  out=out, **kwargs)\n",
      "/home/shmalex/anaconda3/lib/python3.7/site-packages/numpy/core/_methods.py:189: RuntimeWarning: invalid value encountered in double_scalars\n",
      "  ret = ret.dtype.type(ret / rcount)\n"
     ]
    },
    {
     "name": "stdout",
     "output_type": "stream",
     "text": [
      "| \u001b[0m53       \u001b[0m | \u001b[0m0.0      \u001b[0m | \u001b[0m58.7     \u001b[0m | \u001b[0m12.51    \u001b[0m | \u001b[0m0.8977   \u001b[0m |\n"
     ]
    },
    {
     "name": "stderr",
     "output_type": "stream",
     "text": [
      "/home/shmalex/anaconda3/lib/python3.7/site-packages/ipykernel_launcher.py:49: RuntimeWarning: overflow encountered in double_scalars\n",
      "/home/shmalex/anaconda3/lib/python3.7/site-packages/ipykernel_launcher.py:49: RuntimeWarning: invalid value encountered in double_scalars\n"
     ]
    },
    {
     "name": "stdout",
     "output_type": "stream",
     "text": [
      "| \u001b[0m54       \u001b[0m | \u001b[0m0.0318   \u001b[0m | \u001b[0m80.42    \u001b[0m | \u001b[0m75.15    \u001b[0m | \u001b[0m0.3957   \u001b[0m |\n"
     ]
    },
    {
     "name": "stderr",
     "output_type": "stream",
     "text": [
      "/home/shmalex/anaconda3/lib/python3.7/site-packages/numpy/core/fromnumeric.py:3441: RuntimeWarning: Mean of empty slice.\n",
      "  out=out, **kwargs)\n",
      "/home/shmalex/anaconda3/lib/python3.7/site-packages/numpy/core/_methods.py:189: RuntimeWarning: invalid value encountered in double_scalars\n",
      "  ret = ret.dtype.type(ret / rcount)\n"
     ]
    },
    {
     "name": "stdout",
     "output_type": "stream",
     "text": [
      "| \u001b[0m55       \u001b[0m | \u001b[0m0.0      \u001b[0m | \u001b[0m13.5     \u001b[0m | \u001b[0m12.45    \u001b[0m | \u001b[0m0.777    \u001b[0m |\n"
     ]
    },
    {
     "name": "stderr",
     "output_type": "stream",
     "text": [
      "/home/shmalex/anaconda3/lib/python3.7/site-packages/ipykernel_launcher.py:49: RuntimeWarning: overflow encountered in double_scalars\n",
      "/home/shmalex/anaconda3/lib/python3.7/site-packages/ipykernel_launcher.py:49: RuntimeWarning: invalid value encountered in double_scalars\n"
     ]
    },
    {
     "name": "stdout",
     "output_type": "stream",
     "text": [
      "| \u001b[0m56       \u001b[0m | \u001b[0m0.0358   \u001b[0m | \u001b[0m54.47    \u001b[0m | \u001b[0m84.49    \u001b[0m | \u001b[0m0.7457   \u001b[0m |\n"
     ]
    },
    {
     "name": "stderr",
     "output_type": "stream",
     "text": [
      "/home/shmalex/anaconda3/lib/python3.7/site-packages/ipykernel_launcher.py:49: RuntimeWarning: overflow encountered in double_scalars\n",
      "/home/shmalex/anaconda3/lib/python3.7/site-packages/ipykernel_launcher.py:49: RuntimeWarning: invalid value encountered in double_scalars\n"
     ]
    },
    {
     "name": "stdout",
     "output_type": "stream",
     "text": [
      "| \u001b[0m57       \u001b[0m | \u001b[0m0.038    \u001b[0m | \u001b[0m26.29    \u001b[0m | \u001b[0m93.5     \u001b[0m | \u001b[0m0.3854   \u001b[0m |\n"
     ]
    },
    {
     "name": "stderr",
     "output_type": "stream",
     "text": [
      "/home/shmalex/anaconda3/lib/python3.7/site-packages/ipykernel_launcher.py:49: RuntimeWarning: overflow encountered in double_scalars\n",
      "/home/shmalex/anaconda3/lib/python3.7/site-packages/ipykernel_launcher.py:49: RuntimeWarning: invalid value encountered in double_scalars\n"
     ]
    },
    {
     "name": "stdout",
     "output_type": "stream",
     "text": [
      "| \u001b[0m58       \u001b[0m | \u001b[0m0.036    \u001b[0m | \u001b[0m47.03    \u001b[0m | \u001b[0m69.24    \u001b[0m | \u001b[0m0.348    \u001b[0m |\n"
     ]
    },
    {
     "name": "stderr",
     "output_type": "stream",
     "text": [
      "/home/shmalex/anaconda3/lib/python3.7/site-packages/numpy/core/fromnumeric.py:3441: RuntimeWarning: Mean of empty slice.\n",
      "  out=out, **kwargs)\n",
      "/home/shmalex/anaconda3/lib/python3.7/site-packages/numpy/core/_methods.py:189: RuntimeWarning: invalid value encountered in double_scalars\n",
      "  ret = ret.dtype.type(ret / rcount)\n"
     ]
    },
    {
     "name": "stdout",
     "output_type": "stream",
     "text": [
      "| \u001b[0m59       \u001b[0m | \u001b[0m0.0      \u001b[0m | \u001b[0m4.89     \u001b[0m | \u001b[0m32.04    \u001b[0m | \u001b[0m0.4115   \u001b[0m |\n"
     ]
    },
    {
     "name": "stderr",
     "output_type": "stream",
     "text": [
      "/home/shmalex/anaconda3/lib/python3.7/site-packages/numpy/core/fromnumeric.py:3441: RuntimeWarning: Mean of empty slice.\n",
      "  out=out, **kwargs)\n",
      "/home/shmalex/anaconda3/lib/python3.7/site-packages/numpy/core/_methods.py:189: RuntimeWarning: invalid value encountered in double_scalars\n",
      "  ret = ret.dtype.type(ret / rcount)\n"
     ]
    },
    {
     "name": "stdout",
     "output_type": "stream",
     "text": [
      "| \u001b[0m60       \u001b[0m | \u001b[0m0.0      \u001b[0m | \u001b[0m6.895    \u001b[0m | \u001b[0m66.29    \u001b[0m | \u001b[0m0.6674   \u001b[0m |\n"
     ]
    },
    {
     "name": "stderr",
     "output_type": "stream",
     "text": [
      "/home/shmalex/anaconda3/lib/python3.7/site-packages/numpy/core/fromnumeric.py:3441: RuntimeWarning: Mean of empty slice.\n",
      "  out=out, **kwargs)\n",
      "/home/shmalex/anaconda3/lib/python3.7/site-packages/numpy/core/_methods.py:189: RuntimeWarning: invalid value encountered in double_scalars\n",
      "  ret = ret.dtype.type(ret / rcount)\n"
     ]
    },
    {
     "name": "stdout",
     "output_type": "stream",
     "text": [
      "| \u001b[0m61       \u001b[0m | \u001b[0m0.0      \u001b[0m | \u001b[0m39.98    \u001b[0m | \u001b[0m21.23    \u001b[0m | \u001b[0m0.2533   \u001b[0m |\n"
     ]
    },
    {
     "name": "stderr",
     "output_type": "stream",
     "text": [
      "/home/shmalex/anaconda3/lib/python3.7/site-packages/numpy/core/fromnumeric.py:3441: RuntimeWarning: Mean of empty slice.\n",
      "  out=out, **kwargs)\n",
      "/home/shmalex/anaconda3/lib/python3.7/site-packages/numpy/core/_methods.py:189: RuntimeWarning: invalid value encountered in double_scalars\n",
      "  ret = ret.dtype.type(ret / rcount)\n"
     ]
    },
    {
     "name": "stdout",
     "output_type": "stream",
     "text": [
      "| \u001b[0m62       \u001b[0m | \u001b[0m0.0      \u001b[0m | \u001b[0m7.035    \u001b[0m | \u001b[0m80.52    \u001b[0m | \u001b[0m0.3651   \u001b[0m |\n"
     ]
    },
    {
     "name": "stderr",
     "output_type": "stream",
     "text": [
      "/home/shmalex/anaconda3/lib/python3.7/site-packages/numpy/core/fromnumeric.py:3441: RuntimeWarning: Mean of empty slice.\n",
      "  out=out, **kwargs)\n",
      "/home/shmalex/anaconda3/lib/python3.7/site-packages/numpy/core/_methods.py:189: RuntimeWarning: invalid value encountered in double_scalars\n",
      "  ret = ret.dtype.type(ret / rcount)\n"
     ]
    },
    {
     "name": "stdout",
     "output_type": "stream",
     "text": [
      "| \u001b[0m63       \u001b[0m | \u001b[0m0.0      \u001b[0m | \u001b[0m59.68    \u001b[0m | \u001b[0m12.74    \u001b[0m | \u001b[0m0.4152   \u001b[0m |\n"
     ]
    },
    {
     "name": "stderr",
     "output_type": "stream",
     "text": [
      "/home/shmalex/anaconda3/lib/python3.7/site-packages/numpy/core/fromnumeric.py:3441: RuntimeWarning: Mean of empty slice.\n",
      "  out=out, **kwargs)\n",
      "/home/shmalex/anaconda3/lib/python3.7/site-packages/numpy/core/_methods.py:189: RuntimeWarning: invalid value encountered in double_scalars\n",
      "  ret = ret.dtype.type(ret / rcount)\n"
     ]
    },
    {
     "name": "stdout",
     "output_type": "stream",
     "text": [
      "| \u001b[0m64       \u001b[0m | \u001b[0m0.0      \u001b[0m | \u001b[0m42.47    \u001b[0m | \u001b[0m4.358    \u001b[0m | \u001b[0m0.4675   \u001b[0m |\n"
     ]
    },
    {
     "name": "stderr",
     "output_type": "stream",
     "text": [
      "/home/shmalex/anaconda3/lib/python3.7/site-packages/numpy/core/fromnumeric.py:3441: RuntimeWarning: Mean of empty slice.\n",
      "  out=out, **kwargs)\n",
      "/home/shmalex/anaconda3/lib/python3.7/site-packages/numpy/core/_methods.py:189: RuntimeWarning: invalid value encountered in double_scalars\n",
      "  ret = ret.dtype.type(ret / rcount)\n"
     ]
    },
    {
     "name": "stdout",
     "output_type": "stream",
     "text": [
      "| \u001b[0m65       \u001b[0m | \u001b[0m0.0      \u001b[0m | \u001b[0m22.49    \u001b[0m | \u001b[0m58.42    \u001b[0m | \u001b[0m0.3239   \u001b[0m |\n"
     ]
    },
    {
     "name": "stderr",
     "output_type": "stream",
     "text": [
      "/home/shmalex/anaconda3/lib/python3.7/site-packages/numpy/core/fromnumeric.py:3441: RuntimeWarning: Mean of empty slice.\n",
      "  out=out, **kwargs)\n",
      "/home/shmalex/anaconda3/lib/python3.7/site-packages/numpy/core/_methods.py:189: RuntimeWarning: invalid value encountered in double_scalars\n",
      "  ret = ret.dtype.type(ret / rcount)\n"
     ]
    },
    {
     "name": "stdout",
     "output_type": "stream",
     "text": [
      "| \u001b[0m66       \u001b[0m | \u001b[0m0.0      \u001b[0m | \u001b[0m2.21     \u001b[0m | \u001b[0m26.3     \u001b[0m | \u001b[0m0.211    \u001b[0m |\n",
      "| \u001b[0m67       \u001b[0m | \u001b[0m0.0322   \u001b[0m | \u001b[0m58.83    \u001b[0m | \u001b[0m83.84    \u001b[0m | \u001b[0m0.8835   \u001b[0m |\n"
     ]
    },
    {
     "name": "stderr",
     "output_type": "stream",
     "text": [
      "/home/shmalex/anaconda3/lib/python3.7/site-packages/ipykernel_launcher.py:49: RuntimeWarning: overflow encountered in double_scalars\n",
      "/home/shmalex/anaconda3/lib/python3.7/site-packages/ipykernel_launcher.py:49: RuntimeWarning: invalid value encountered in double_scalars\n",
      "/home/shmalex/anaconda3/lib/python3.7/site-packages/numpy/core/fromnumeric.py:3441: RuntimeWarning: Mean of empty slice.\n",
      "  out=out, **kwargs)\n",
      "/home/shmalex/anaconda3/lib/python3.7/site-packages/numpy/core/_methods.py:189: RuntimeWarning: invalid value encountered in double_scalars\n",
      "  ret = ret.dtype.type(ret / rcount)\n"
     ]
    },
    {
     "name": "stdout",
     "output_type": "stream",
     "text": [
      "| \u001b[0m68       \u001b[0m | \u001b[0m0.0      \u001b[0m | \u001b[0m26.92    \u001b[0m | \u001b[0m70.5     \u001b[0m | \u001b[0m0.4694   \u001b[0m |\n"
     ]
    },
    {
     "name": "stderr",
     "output_type": "stream",
     "text": [
      "/home/shmalex/anaconda3/lib/python3.7/site-packages/numpy/core/fromnumeric.py:3441: RuntimeWarning: Mean of empty slice.\n",
      "  out=out, **kwargs)\n",
      "/home/shmalex/anaconda3/lib/python3.7/site-packages/numpy/core/_methods.py:189: RuntimeWarning: invalid value encountered in double_scalars\n",
      "  ret = ret.dtype.type(ret / rcount)\n"
     ]
    },
    {
     "name": "stdout",
     "output_type": "stream",
     "text": [
      "| \u001b[0m69       \u001b[0m | \u001b[0m0.0      \u001b[0m | \u001b[0m80.41    \u001b[0m | \u001b[0m63.94    \u001b[0m | \u001b[0m0.05997  \u001b[0m |\n"
     ]
    },
    {
     "name": "stderr",
     "output_type": "stream",
     "text": [
      "/home/shmalex/anaconda3/lib/python3.7/site-packages/numpy/core/fromnumeric.py:3441: RuntimeWarning: Mean of empty slice.\n",
      "  out=out, **kwargs)\n",
      "/home/shmalex/anaconda3/lib/python3.7/site-packages/numpy/core/_methods.py:189: RuntimeWarning: invalid value encountered in double_scalars\n",
      "  ret = ret.dtype.type(ret / rcount)\n"
     ]
    },
    {
     "name": "stdout",
     "output_type": "stream",
     "text": [
      "| \u001b[0m70       \u001b[0m | \u001b[0m0.0      \u001b[0m | \u001b[0m46.5     \u001b[0m | \u001b[0m20.65    \u001b[0m | \u001b[0m0.7424   \u001b[0m |\n",
      "| \u001b[0m71       \u001b[0m | \u001b[0m0.032    \u001b[0m | \u001b[0m39.52    \u001b[0m | \u001b[0m87.08    \u001b[0m | \u001b[0m0.6742   \u001b[0m |\n"
     ]
    },
    {
     "name": "stderr",
     "output_type": "stream",
     "text": [
      "/home/shmalex/anaconda3/lib/python3.7/site-packages/ipykernel_launcher.py:49: RuntimeWarning: overflow encountered in double_scalars\n",
      "/home/shmalex/anaconda3/lib/python3.7/site-packages/ipykernel_launcher.py:49: RuntimeWarning: invalid value encountered in double_scalars\n",
      "/home/shmalex/anaconda3/lib/python3.7/site-packages/ipykernel_launcher.py:49: RuntimeWarning: overflow encountered in double_scalars\n",
      "/home/shmalex/anaconda3/lib/python3.7/site-packages/ipykernel_launcher.py:49: RuntimeWarning: invalid value encountered in double_scalars\n"
     ]
    },
    {
     "name": "stdout",
     "output_type": "stream",
     "text": [
      "| \u001b[0m72       \u001b[0m | \u001b[0m0.0322   \u001b[0m | \u001b[0m97.52    \u001b[0m | \u001b[0m98.04    \u001b[0m | \u001b[0m0.6026   \u001b[0m |\n"
     ]
    },
    {
     "name": "stderr",
     "output_type": "stream",
     "text": [
      "/home/shmalex/anaconda3/lib/python3.7/site-packages/ipykernel_launcher.py:49: RuntimeWarning: overflow encountered in double_scalars\n",
      "/home/shmalex/anaconda3/lib/python3.7/site-packages/ipykernel_launcher.py:49: RuntimeWarning: invalid value encountered in double_scalars\n"
     ]
    },
    {
     "name": "stdout",
     "output_type": "stream",
     "text": [
      "| \u001b[0m73       \u001b[0m | \u001b[0m0.0342   \u001b[0m | \u001b[0m46.94    \u001b[0m | \u001b[0m64.21    \u001b[0m | \u001b[0m0.4529   \u001b[0m |\n"
     ]
    },
    {
     "name": "stderr",
     "output_type": "stream",
     "text": [
      "/home/shmalex/anaconda3/lib/python3.7/site-packages/numpy/core/fromnumeric.py:3441: RuntimeWarning: Mean of empty slice.\n",
      "  out=out, **kwargs)\n",
      "/home/shmalex/anaconda3/lib/python3.7/site-packages/numpy/core/_methods.py:189: RuntimeWarning: invalid value encountered in double_scalars\n",
      "  ret = ret.dtype.type(ret / rcount)\n",
      "/home/shmalex/anaconda3/lib/python3.7/site-packages/ipykernel_launcher.py:49: RuntimeWarning: overflow encountered in double_scalars\n"
     ]
    },
    {
     "name": "stdout",
     "output_type": "stream",
     "text": [
      "| \u001b[0m74       \u001b[0m | \u001b[0m0.0      \u001b[0m | \u001b[0m5.603    \u001b[0m | \u001b[0m83.19    \u001b[0m | \u001b[0m0.7138   \u001b[0m |\n",
      "| \u001b[0m75       \u001b[0m | \u001b[0m0.0336   \u001b[0m | \u001b[0m67.04    \u001b[0m | \u001b[0m64.49    \u001b[0m | \u001b[0m0.4495   \u001b[0m |\n"
     ]
    },
    {
     "name": "stderr",
     "output_type": "stream",
     "text": [
      "/home/shmalex/anaconda3/lib/python3.7/site-packages/ipykernel_launcher.py:49: RuntimeWarning: invalid value encountered in double_scalars\n",
      "/home/shmalex/anaconda3/lib/python3.7/site-packages/ipykernel_launcher.py:49: RuntimeWarning: overflow encountered in double_scalars\n",
      "/home/shmalex/anaconda3/lib/python3.7/site-packages/ipykernel_launcher.py:49: RuntimeWarning: invalid value encountered in double_scalars\n"
     ]
    },
    {
     "name": "stdout",
     "output_type": "stream",
     "text": [
      "| \u001b[0m76       \u001b[0m | \u001b[0m0.0348   \u001b[0m | \u001b[0m39.32    \u001b[0m | \u001b[0m87.8     \u001b[0m | \u001b[0m0.6301   \u001b[0m |\n"
     ]
    },
    {
     "name": "stderr",
     "output_type": "stream",
     "text": [
      "/home/shmalex/anaconda3/lib/python3.7/site-packages/numpy/core/fromnumeric.py:3441: RuntimeWarning: Mean of empty slice.\n",
      "  out=out, **kwargs)\n",
      "/home/shmalex/anaconda3/lib/python3.7/site-packages/numpy/core/_methods.py:189: RuntimeWarning: invalid value encountered in double_scalars\n",
      "  ret = ret.dtype.type(ret / rcount)\n"
     ]
    },
    {
     "name": "stdout",
     "output_type": "stream",
     "text": [
      "| \u001b[0m77       \u001b[0m | \u001b[0m0.0      \u001b[0m | \u001b[0m2.515    \u001b[0m | \u001b[0m11.75    \u001b[0m | \u001b[0m0.6123   \u001b[0m |\n",
      "| \u001b[0m78       \u001b[0m | \u001b[0m0.0378   \u001b[0m | \u001b[0m27.74    \u001b[0m | \u001b[0m62.43    \u001b[0m | \u001b[0m0.6121   \u001b[0m |\n"
     ]
    },
    {
     "name": "stderr",
     "output_type": "stream",
     "text": [
      "/home/shmalex/anaconda3/lib/python3.7/site-packages/ipykernel_launcher.py:49: RuntimeWarning: overflow encountered in double_scalars\n",
      "/home/shmalex/anaconda3/lib/python3.7/site-packages/ipykernel_launcher.py:49: RuntimeWarning: invalid value encountered in double_scalars\n",
      "/home/shmalex/anaconda3/lib/python3.7/site-packages/ipykernel_launcher.py:49: RuntimeWarning: overflow encountered in double_scalars\n",
      "/home/shmalex/anaconda3/lib/python3.7/site-packages/ipykernel_launcher.py:49: RuntimeWarning: invalid value encountered in double_scalars\n"
     ]
    },
    {
     "name": "stdout",
     "output_type": "stream",
     "text": [
      "| \u001b[0m79       \u001b[0m | \u001b[0m0.0302   \u001b[0m | \u001b[0m88.57    \u001b[0m | \u001b[0m75.25    \u001b[0m | \u001b[0m0.9625   \u001b[0m |\n"
     ]
    },
    {
     "name": "stderr",
     "output_type": "stream",
     "text": [
      "/home/shmalex/anaconda3/lib/python3.7/site-packages/ipykernel_launcher.py:49: RuntimeWarning: overflow encountered in double_scalars\n",
      "/home/shmalex/anaconda3/lib/python3.7/site-packages/ipykernel_launcher.py:49: RuntimeWarning: invalid value encountered in double_scalars\n"
     ]
    },
    {
     "name": "stdout",
     "output_type": "stream",
     "text": [
      "| \u001b[0m80       \u001b[0m | \u001b[0m0.0296   \u001b[0m | \u001b[0m74.5     \u001b[0m | \u001b[0m76.42    \u001b[0m | \u001b[0m0.8551   \u001b[0m |\n"
     ]
    },
    {
     "name": "stderr",
     "output_type": "stream",
     "text": [
      "/home/shmalex/anaconda3/lib/python3.7/site-packages/numpy/core/fromnumeric.py:3441: RuntimeWarning: Mean of empty slice.\n",
      "  out=out, **kwargs)\n",
      "/home/shmalex/anaconda3/lib/python3.7/site-packages/numpy/core/_methods.py:189: RuntimeWarning: invalid value encountered in double_scalars\n",
      "  ret = ret.dtype.type(ret / rcount)\n"
     ]
    },
    {
     "name": "stdout",
     "output_type": "stream",
     "text": [
      "| \u001b[0m81       \u001b[0m | \u001b[0m0.0      \u001b[0m | \u001b[0m60.35    \u001b[0m | \u001b[0m45.41    \u001b[0m | \u001b[0m0.1873   \u001b[0m |\n"
     ]
    },
    {
     "name": "stderr",
     "output_type": "stream",
     "text": [
      "/home/shmalex/anaconda3/lib/python3.7/site-packages/numpy/core/fromnumeric.py:3441: RuntimeWarning: Mean of empty slice.\n",
      "  out=out, **kwargs)\n",
      "/home/shmalex/anaconda3/lib/python3.7/site-packages/numpy/core/_methods.py:189: RuntimeWarning: invalid value encountered in double_scalars\n",
      "  ret = ret.dtype.type(ret / rcount)\n"
     ]
    },
    {
     "name": "stdout",
     "output_type": "stream",
     "text": [
      "| \u001b[0m82       \u001b[0m | \u001b[0m0.0      \u001b[0m | \u001b[0m16.26    \u001b[0m | \u001b[0m21.57    \u001b[0m | \u001b[0m0.6878   \u001b[0m |\n",
      "| \u001b[0m83       \u001b[0m | \u001b[0m0.0348   \u001b[0m | \u001b[0m67.4     \u001b[0m | \u001b[0m34.74    \u001b[0m | \u001b[0m0.7972   \u001b[0m |\n"
     ]
    },
    {
     "name": "stderr",
     "output_type": "stream",
     "text": [
      "/home/shmalex/anaconda3/lib/python3.7/site-packages/ipykernel_launcher.py:49: RuntimeWarning: overflow encountered in double_scalars\n",
      "/home/shmalex/anaconda3/lib/python3.7/site-packages/ipykernel_launcher.py:49: RuntimeWarning: invalid value encountered in double_scalars\n",
      "/home/shmalex/anaconda3/lib/python3.7/site-packages/numpy/core/fromnumeric.py:3441: RuntimeWarning: Mean of empty slice.\n",
      "  out=out, **kwargs)\n",
      "/home/shmalex/anaconda3/lib/python3.7/site-packages/numpy/core/_methods.py:189: RuntimeWarning: invalid value encountered in double_scalars\n",
      "  ret = ret.dtype.type(ret / rcount)\n"
     ]
    },
    {
     "name": "stdout",
     "output_type": "stream",
     "text": [
      "| \u001b[0m84       \u001b[0m | \u001b[0m0.0      \u001b[0m | \u001b[0m13.37    \u001b[0m | \u001b[0m95.14    \u001b[0m | \u001b[0m0.09294  \u001b[0m |\n"
     ]
    },
    {
     "name": "stderr",
     "output_type": "stream",
     "text": [
      "/home/shmalex/anaconda3/lib/python3.7/site-packages/numpy/core/fromnumeric.py:3441: RuntimeWarning: Mean of empty slice.\n",
      "  out=out, **kwargs)\n",
      "/home/shmalex/anaconda3/lib/python3.7/site-packages/numpy/core/_methods.py:189: RuntimeWarning: invalid value encountered in double_scalars\n",
      "  ret = ret.dtype.type(ret / rcount)\n"
     ]
    },
    {
     "name": "stdout",
     "output_type": "stream",
     "text": [
      "| \u001b[0m85       \u001b[0m | \u001b[0m0.0      \u001b[0m | \u001b[0m18.04    \u001b[0m | \u001b[0m12.73    \u001b[0m | \u001b[0m0.4745   \u001b[0m |\n"
     ]
    },
    {
     "name": "stderr",
     "output_type": "stream",
     "text": [
      "/home/shmalex/anaconda3/lib/python3.7/site-packages/numpy/core/fromnumeric.py:3441: RuntimeWarning: Mean of empty slice.\n",
      "  out=out, **kwargs)\n",
      "/home/shmalex/anaconda3/lib/python3.7/site-packages/numpy/core/_methods.py:189: RuntimeWarning: invalid value encountered in double_scalars\n",
      "  ret = ret.dtype.type(ret / rcount)\n"
     ]
    },
    {
     "name": "stdout",
     "output_type": "stream",
     "text": [
      "| \u001b[0m86       \u001b[0m | \u001b[0m0.0      \u001b[0m | \u001b[0m13.13    \u001b[0m | \u001b[0m75.5     \u001b[0m | \u001b[0m0.3031   \u001b[0m |\n"
     ]
    },
    {
     "name": "stderr",
     "output_type": "stream",
     "text": [
      "/home/shmalex/anaconda3/lib/python3.7/site-packages/numpy/core/fromnumeric.py:3441: RuntimeWarning: Mean of empty slice.\n",
      "  out=out, **kwargs)\n",
      "/home/shmalex/anaconda3/lib/python3.7/site-packages/numpy/core/_methods.py:189: RuntimeWarning: invalid value encountered in double_scalars\n",
      "  ret = ret.dtype.type(ret / rcount)\n"
     ]
    },
    {
     "name": "stdout",
     "output_type": "stream",
     "text": [
      "| \u001b[0m87       \u001b[0m | \u001b[0m0.0      \u001b[0m | \u001b[0m28.88    \u001b[0m | \u001b[0m99.09    \u001b[0m | \u001b[0m0.2947   \u001b[0m |\n"
     ]
    },
    {
     "name": "stderr",
     "output_type": "stream",
     "text": [
      "/home/shmalex/anaconda3/lib/python3.7/site-packages/numpy/core/fromnumeric.py:3441: RuntimeWarning: Mean of empty slice.\n",
      "  out=out, **kwargs)\n",
      "/home/shmalex/anaconda3/lib/python3.7/site-packages/numpy/core/_methods.py:189: RuntimeWarning: invalid value encountered in double_scalars\n",
      "  ret = ret.dtype.type(ret / rcount)\n"
     ]
    },
    {
     "name": "stdout",
     "output_type": "stream",
     "text": [
      "| \u001b[0m88       \u001b[0m | \u001b[0m0.0      \u001b[0m | \u001b[0m61.73    \u001b[0m | \u001b[0m10.41    \u001b[0m | \u001b[0m0.1378   \u001b[0m |\n"
     ]
    },
    {
     "name": "stderr",
     "output_type": "stream",
     "text": [
      "/home/shmalex/anaconda3/lib/python3.7/site-packages/ipykernel_launcher.py:49: RuntimeWarning: overflow encountered in double_scalars\n",
      "/home/shmalex/anaconda3/lib/python3.7/site-packages/ipykernel_launcher.py:49: RuntimeWarning: invalid value encountered in double_scalars\n"
     ]
    },
    {
     "name": "stdout",
     "output_type": "stream",
     "text": [
      "| \u001b[0m89       \u001b[0m | \u001b[0m0.0318   \u001b[0m | \u001b[0m55.49    \u001b[0m | \u001b[0m30.85    \u001b[0m | \u001b[0m0.7082   \u001b[0m |\n"
     ]
    },
    {
     "name": "stderr",
     "output_type": "stream",
     "text": [
      "/home/shmalex/anaconda3/lib/python3.7/site-packages/ipykernel_launcher.py:49: RuntimeWarning: overflow encountered in double_scalars\n",
      "/home/shmalex/anaconda3/lib/python3.7/site-packages/ipykernel_launcher.py:49: RuntimeWarning: invalid value encountered in double_scalars\n"
     ]
    },
    {
     "name": "stdout",
     "output_type": "stream",
     "text": [
      "| \u001b[0m90       \u001b[0m | \u001b[0m0.0296   \u001b[0m | \u001b[0m76.91    \u001b[0m | \u001b[0m62.66    \u001b[0m | \u001b[0m0.9794   \u001b[0m |\n"
     ]
    },
    {
     "name": "stderr",
     "output_type": "stream",
     "text": [
      "/home/shmalex/anaconda3/lib/python3.7/site-packages/ipykernel_launcher.py:49: RuntimeWarning: overflow encountered in double_scalars\n",
      "/home/shmalex/anaconda3/lib/python3.7/site-packages/ipykernel_launcher.py:49: RuntimeWarning: invalid value encountered in double_scalars\n"
     ]
    },
    {
     "name": "stdout",
     "output_type": "stream",
     "text": [
      "| \u001b[0m91       \u001b[0m | \u001b[0m0.0296   \u001b[0m | \u001b[0m71.03    \u001b[0m | \u001b[0m66.4     \u001b[0m | \u001b[0m0.9419   \u001b[0m |\n"
     ]
    },
    {
     "name": "stderr",
     "output_type": "stream",
     "text": [
      "/home/shmalex/anaconda3/lib/python3.7/site-packages/numpy/core/fromnumeric.py:3441: RuntimeWarning: Mean of empty slice.\n",
      "  out=out, **kwargs)\n",
      "/home/shmalex/anaconda3/lib/python3.7/site-packages/numpy/core/_methods.py:189: RuntimeWarning: invalid value encountered in double_scalars\n",
      "  ret = ret.dtype.type(ret / rcount)\n"
     ]
    },
    {
     "name": "stdout",
     "output_type": "stream",
     "text": [
      "| \u001b[0m92       \u001b[0m | \u001b[0m0.0      \u001b[0m | \u001b[0m45.11    \u001b[0m | \u001b[0m65.65    \u001b[0m | \u001b[0m0.08556  \u001b[0m |\n",
      "| \u001b[0m93       \u001b[0m | \u001b[0m0.0324   \u001b[0m | \u001b[0m40.97    \u001b[0m | \u001b[0m46.44    \u001b[0m | \u001b[0m0.8257   \u001b[0m |\n"
     ]
    },
    {
     "name": "stderr",
     "output_type": "stream",
     "text": [
      "/home/shmalex/anaconda3/lib/python3.7/site-packages/ipykernel_launcher.py:49: RuntimeWarning: overflow encountered in double_scalars\n",
      "/home/shmalex/anaconda3/lib/python3.7/site-packages/ipykernel_launcher.py:49: RuntimeWarning: invalid value encountered in double_scalars\n",
      "/home/shmalex/anaconda3/lib/python3.7/site-packages/numpy/core/fromnumeric.py:3441: RuntimeWarning: Mean of empty slice.\n",
      "  out=out, **kwargs)\n",
      "/home/shmalex/anaconda3/lib/python3.7/site-packages/numpy/core/_methods.py:189: RuntimeWarning: invalid value encountered in double_scalars\n",
      "  ret = ret.dtype.type(ret / rcount)\n"
     ]
    },
    {
     "name": "stdout",
     "output_type": "stream",
     "text": [
      "| \u001b[0m94       \u001b[0m | \u001b[0m0.0      \u001b[0m | \u001b[0m6.888    \u001b[0m | \u001b[0m54.73    \u001b[0m | \u001b[0m0.2402   \u001b[0m |\n"
     ]
    },
    {
     "name": "stderr",
     "output_type": "stream",
     "text": [
      "/home/shmalex/anaconda3/lib/python3.7/site-packages/numpy/core/fromnumeric.py:3441: RuntimeWarning: Mean of empty slice.\n",
      "  out=out, **kwargs)\n",
      "/home/shmalex/anaconda3/lib/python3.7/site-packages/numpy/core/_methods.py:189: RuntimeWarning: invalid value encountered in double_scalars\n",
      "  ret = ret.dtype.type(ret / rcount)\n",
      "/home/shmalex/anaconda3/lib/python3.7/site-packages/ipykernel_launcher.py:49: RuntimeWarning: overflow encountered in double_scalars\n",
      "/home/shmalex/anaconda3/lib/python3.7/site-packages/ipykernel_launcher.py:49: RuntimeWarning: invalid value encountered in double_scalars\n"
     ]
    },
    {
     "name": "stdout",
     "output_type": "stream",
     "text": [
      "| \u001b[0m95       \u001b[0m | \u001b[0m0.0      \u001b[0m | \u001b[0m55.06    \u001b[0m | \u001b[0m7.359    \u001b[0m | \u001b[0m0.6054   \u001b[0m |\n",
      "| \u001b[0m96       \u001b[0m | \u001b[0m0.0328   \u001b[0m | \u001b[0m61.06    \u001b[0m | \u001b[0m83.25    \u001b[0m | \u001b[0m0.6628   \u001b[0m |\n"
     ]
    },
    {
     "name": "stderr",
     "output_type": "stream",
     "text": [
      "/home/shmalex/anaconda3/lib/python3.7/site-packages/numpy/core/fromnumeric.py:3441: RuntimeWarning: Mean of empty slice.\n",
      "  out=out, **kwargs)\n",
      "/home/shmalex/anaconda3/lib/python3.7/site-packages/numpy/core/_methods.py:189: RuntimeWarning: invalid value encountered in double_scalars\n",
      "  ret = ret.dtype.type(ret / rcount)\n"
     ]
    },
    {
     "name": "stdout",
     "output_type": "stream",
     "text": [
      "| \u001b[0m97       \u001b[0m | \u001b[0m0.0      \u001b[0m | \u001b[0m64.27    \u001b[0m | \u001b[0m81.74    \u001b[0m | \u001b[0m0.03093  \u001b[0m |\n"
     ]
    },
    {
     "name": "stderr",
     "output_type": "stream",
     "text": [
      "/home/shmalex/anaconda3/lib/python3.7/site-packages/numpy/core/fromnumeric.py:3441: RuntimeWarning: Mean of empty slice.\n",
      "  out=out, **kwargs)\n",
      "/home/shmalex/anaconda3/lib/python3.7/site-packages/numpy/core/_methods.py:189: RuntimeWarning: invalid value encountered in double_scalars\n",
      "  ret = ret.dtype.type(ret / rcount)\n"
     ]
    },
    {
     "name": "stdout",
     "output_type": "stream",
     "text": [
      "| \u001b[0m98       \u001b[0m | \u001b[0m0.0      \u001b[0m | \u001b[0m37.43    \u001b[0m | \u001b[0m81.3     \u001b[0m | \u001b[0m0.115    \u001b[0m |\n",
      "| \u001b[0m99       \u001b[0m | \u001b[0m0.031    \u001b[0m | \u001b[0m31.28    \u001b[0m | \u001b[0m55.5     \u001b[0m | \u001b[0m0.9766   \u001b[0m |\n"
     ]
    },
    {
     "name": "stderr",
     "output_type": "stream",
     "text": [
      "/home/shmalex/anaconda3/lib/python3.7/site-packages/ipykernel_launcher.py:49: RuntimeWarning: overflow encountered in double_scalars\n",
      "/home/shmalex/anaconda3/lib/python3.7/site-packages/ipykernel_launcher.py:49: RuntimeWarning: invalid value encountered in double_scalars\n",
      "/home/shmalex/anaconda3/lib/python3.7/site-packages/ipykernel_launcher.py:49: RuntimeWarning: overflow encountered in double_scalars\n",
      "/home/shmalex/anaconda3/lib/python3.7/site-packages/ipykernel_launcher.py:49: RuntimeWarning: invalid value encountered in double_scalars\n"
     ]
    },
    {
     "name": "stdout",
     "output_type": "stream",
     "text": [
      "| \u001b[0m100      \u001b[0m | \u001b[0m0.0302   \u001b[0m | \u001b[0m93.78    \u001b[0m | \u001b[0m69.8     \u001b[0m | \u001b[0m0.5404   \u001b[0m |\n"
     ]
    },
    {
     "name": "stderr",
     "output_type": "stream",
     "text": [
      "/home/shmalex/anaconda3/lib/python3.7/site-packages/numpy/core/fromnumeric.py:3441: RuntimeWarning: Mean of empty slice.\n",
      "  out=out, **kwargs)\n",
      "/home/shmalex/anaconda3/lib/python3.7/site-packages/numpy/core/_methods.py:189: RuntimeWarning: invalid value encountered in double_scalars\n",
      "  ret = ret.dtype.type(ret / rcount)\n"
     ]
    },
    {
     "name": "stdout",
     "output_type": "stream",
     "text": [
      "| \u001b[0m101      \u001b[0m | \u001b[0m0.0      \u001b[0m | \u001b[0m50.92    \u001b[0m | \u001b[0m70.23    \u001b[0m | \u001b[0m0.06433  \u001b[0m |\n"
     ]
    },
    {
     "name": "stderr",
     "output_type": "stream",
     "text": [
      "/home/shmalex/anaconda3/lib/python3.7/site-packages/numpy/core/fromnumeric.py:3441: RuntimeWarning: Mean of empty slice.\n",
      "  out=out, **kwargs)\n",
      "/home/shmalex/anaconda3/lib/python3.7/site-packages/numpy/core/_methods.py:189: RuntimeWarning: invalid value encountered in double_scalars\n",
      "  ret = ret.dtype.type(ret / rcount)\n",
      "/home/shmalex/anaconda3/lib/python3.7/site-packages/ipykernel_launcher.py:49: RuntimeWarning: overflow encountered in double_scalars\n"
     ]
    },
    {
     "name": "stdout",
     "output_type": "stream",
     "text": [
      "| \u001b[0m102      \u001b[0m | \u001b[0m0.0      \u001b[0m | \u001b[0m25.32    \u001b[0m | \u001b[0m30.86    \u001b[0m | \u001b[0m0.4534   \u001b[0m |\n",
      "| \u001b[0m103      \u001b[0m | \u001b[0m0.0312   \u001b[0m | \u001b[0m95.58    \u001b[0m | \u001b[0m82.95    \u001b[0m | \u001b[0m0.8494   \u001b[0m |\n"
     ]
    },
    {
     "name": "stderr",
     "output_type": "stream",
     "text": [
      "/home/shmalex/anaconda3/lib/python3.7/site-packages/ipykernel_launcher.py:49: RuntimeWarning: invalid value encountered in double_scalars\n",
      "/home/shmalex/anaconda3/lib/python3.7/site-packages/ipykernel_launcher.py:49: RuntimeWarning: overflow encountered in double_scalars\n",
      "/home/shmalex/anaconda3/lib/python3.7/site-packages/ipykernel_launcher.py:49: RuntimeWarning: invalid value encountered in double_scalars\n"
     ]
    },
    {
     "name": "stdout",
     "output_type": "stream",
     "text": [
      "| \u001b[0m104      \u001b[0m | \u001b[0m0.0356   \u001b[0m | \u001b[0m78.3     \u001b[0m | \u001b[0m92.75    \u001b[0m | \u001b[0m0.7049   \u001b[0m |\n",
      "| \u001b[95m105      \u001b[0m | \u001b[95m0.747    \u001b[0m | \u001b[95m36.1     \u001b[0m | \u001b[95m1.287    \u001b[0m | \u001b[95m0.07412  \u001b[0m |\n",
      "=============================================================\n"
     ]
    },
    {
     "ename": "TypeError",
     "evalue": "list indices must be integers or slices, not str",
     "output_type": "error",
     "traceback": [
      "\u001b[0;31m---------------------------------------------------------------------------\u001b[0m",
      "\u001b[0;31mTypeError\u001b[0m                                 Traceback (most recent call last)",
      "\u001b[0;32m<ipython-input-88-2443704e9dea>\u001b[0m in \u001b[0;36m<module>\u001b[0;34m\u001b[0m\n\u001b[1;32m     29\u001b[0m \u001b[0;34m\u001b[0m\u001b[0m\n\u001b[1;32m     30\u001b[0m \u001b[0;31m# Print the hyperparameters that resulted in the best performance\u001b[0m\u001b[0;34m\u001b[0m\u001b[0;34m\u001b[0m\u001b[0;34m\u001b[0m\u001b[0m\n\u001b[0;32m---> 31\u001b[0;31m \u001b[0mprint\u001b[0m\u001b[0;34m(\u001b[0m\u001b[0mbo\u001b[0m\u001b[0;34m.\u001b[0m\u001b[0mres\u001b[0m\u001b[0;34m[\u001b[0m\u001b[0;34m'max'\u001b[0m\u001b[0;34m]\u001b[0m\u001b[0;34m)\u001b[0m\u001b[0;34m\u001b[0m\u001b[0;34m\u001b[0m\u001b[0m\n\u001b[0m",
      "\u001b[0;31mTypeError\u001b[0m: list indices must be integers or slices, not str"
     ]
    }
   ],
   "source": [
    "import numpy as np\n",
    "from bayes_opt import BayesianOptimization\n",
    "\n",
    "L = 100\n",
    "K = 100\n",
    "NN = 5000\n",
    "tqdm_train = tqdm.tqdm_notebook(total=K, desc='train', position=1)\n",
    "tqdm_test  = tqdm.tqdm_notebook(total=NN, desc='test', position=2)\n",
    "\n",
    "# Define the objective function for the MDP\n",
    "def objective(gamma, K, L):\n",
    "    # Train the MDP using the specified learning rate and discount factor\n",
    "    policy = train_MDP(int(L), int(K), gamma, tqdm_train)\n",
    "\n",
    "    # Evaluate the performance of the trained MDP on a validation dataset\n",
    "    rewards, steps = test_MDP(policy, NN,  tqdm_test)\n",
    "    g, sucess, fail, sucess_len, fail_len = stats(gamma, rewards, steps)\n",
    "    # Return the performance of the MDP as the objective value\n",
    "    return sucess\n",
    "\n",
    "# Define the bounds of the hyperparameters\n",
    "bounds = {'gamma': (0.01, 0.999), 'K':(1,100), 'L':(1,100)}\n",
    "\n",
    "# Initialize the Bayesian optimization algorithm\n",
    "bo = BayesianOptimization(objective, bounds)\n",
    "\n",
    "# Run the optimization process for a maximum of 50 iterations\n",
    "bo.maximize(n_iter=100)\n",
    "\n",
    "# Print the hyperparameters that resulted in the best performance\n",
    "print(bo.res['max'])"
   ]
  },
  {
   "cell_type": "code",
   "execution_count": 89,
   "id": "42180262",
   "metadata": {},
   "outputs": [
    {
     "name": "stdout",
     "output_type": "stream",
     "text": [
      "{'target': 0.747, 'params': {'K': 36.10007533573963, 'L': 1.2870418891604611, 'gamma': 0.07412189941264784}}\n"
     ]
    },
    {
     "name": "stderr",
     "output_type": "stream",
     "text": [
      "/home/shmalex/anaconda3/lib/python3.7/site-packages/ipykernel/ipkernel.py:287: DeprecationWarning: `should_run_async` will not call `transform_cell` automatically in the future. Please pass the result to `transformed_cell` argument and any exception that happen during thetransform in `preprocessing_exc_tuple` in IPython 7.17 and above.\n",
      "  and should_run_async(code)\n"
     ]
    }
   ],
   "source": [
    "t = 0\n",
    "max_params = None\n",
    "for res in bo.res:\n",
    "    if (res['target']>t):\n",
    "        max_params = res\n",
    "        t = res['target']\n",
    "print(max_params)"
   ]
  },
  {
   "cell_type": "code",
   "execution_count": 98,
   "id": "297b610b",
   "metadata": {},
   "outputs": [
    {
     "name": "stderr",
     "output_type": "stream",
     "text": [
      "100%|██████████| 36/36 [00:00<00:00, 762.75it/s]\n"
     ]
    },
    {
     "data": {
      "text/plain": [
       "array([[[1., 0., 0., 0.],\n",
       "        [0., 0., 1., 0.],\n",
       "        [1., 0., 0., 0.],\n",
       "        [0., 1., 0., 0.]],\n",
       "\n",
       "       [[1., 0., 0., 0.],\n",
       "        [1., 0., 0., 0.],\n",
       "        [1., 0., 0., 0.],\n",
       "        [1., 0., 0., 0.]],\n",
       "\n",
       "       [[0., 0., 1., 0.],\n",
       "        [1., 0., 0., 0.],\n",
       "        [1., 0., 0., 0.],\n",
       "        [1., 0., 0., 0.]],\n",
       "\n",
       "       [[1., 0., 0., 0.],\n",
       "        [0., 0., 1., 0.],\n",
       "        [1., 0., 0., 0.],\n",
       "        [1., 0., 0., 0.]]])"
      ]
     },
     "execution_count": 98,
     "metadata": {},
     "output_type": "execute_result"
    }
   ],
   "source": [
    "L = 1\n",
    "K = 36\n",
    "gamma = 0.074\n",
    "\n",
    "values = init_values(policy)\n",
    "q = np.zeros(policy.shape)\n",
    "for k in tqdm.tqdm(range(K), position=0):\n",
    "    for l in range(L):\n",
    "        values = policy_evaluation_step(policy, values, gamma)\n",
    "    q = Q(policy, values, actions_dict)\n",
    "    policy = policy_improvement(policy, q)\n",
    "policy"
   ]
  },
  {
   "cell_type": "code",
   "execution_count": 100,
   "id": "e20d791c",
   "metadata": {},
   "outputs": [
    {
     "name": "stderr",
     "output_type": "stream",
     "text": [
      "/home/shmalex/anaconda3/lib/python3.7/site-packages/ipykernel_launcher.py:1: TqdmDeprecationWarning: This function will be removed in tqdm==5.0.0\n",
      "Please use `tqdm.notebook.tqdm` instead of `tqdm.tqdm_notebook`\n",
      "  \"\"\"Entry point for launching an IPython kernel.\n"
     ]
    },
    {
     "data": {
      "application/vnd.jupyter.widget-view+json": {
       "model_id": "0fef62f4877f4dc38c1ca514f87b3d94",
       "version_major": 2,
       "version_minor": 0
      },
      "text/plain": [
       "test:   0%|          | 0/5000 [00:00<?, ?it/s]"
      ]
     },
     "metadata": {},
     "output_type": "display_data"
    }
   ],
   "source": [
    "tqdm_test  = tqdm.tqdm_notebook(total=NN, desc='test', position=2)\n",
    "r, s = test_MDP(policy,5000, tqdm_test)"
   ]
  },
  {
   "cell_type": "code",
   "execution_count": 101,
   "id": "88b0ee67",
   "metadata": {},
   "outputs": [
    {
     "data": {
      "text/plain": [
       "0.7424"
      ]
     },
     "execution_count": 101,
     "metadata": {},
     "output_type": "execute_result"
    }
   ],
   "source": [
    "np.sum(r)/5000"
   ]
  },
  {
   "cell_type": "code",
   "execution_count": null,
   "id": "230c9a64",
   "metadata": {},
   "outputs": [],
   "source": [
    "te"
   ]
  },
  {
   "cell_type": "code",
   "execution_count": 122,
   "id": "7ac9583c",
   "metadata": {},
   "outputs": [
    {
     "name": "stdout",
     "output_type": "stream",
     "text": [
      "0.07, 0.07111111111111111, 0.07222222222222223, 0.07333333333333333, 0.07444444444444445, 0.07555555555555556, 0.07666666666666667, 0.07777777777777778, 0.0788888888888889, 0.08\n"
     ]
    }
   ],
   "source": [
    "gammas = np.linspace(0.07,0.08, num=10)\n",
    "print(', '.join(map(str,gammas)))"
   ]
  },
  {
   "cell_type": "code",
   "execution_count": 119,
   "id": "c4b11315",
   "metadata": {},
   "outputs": [
    {
     "ename": "TypeError",
     "evalue": "sequence item 0: expected str instance, numpy.float64 found",
     "output_type": "error",
     "traceback": [
      "\u001b[0;31m---------------------------------------------------------------------------\u001b[0m",
      "\u001b[0;31mTypeError\u001b[0m                                 Traceback (most recent call last)",
      "\u001b[0;32m<ipython-input-119-53f6edf7ed55>\u001b[0m in \u001b[0;36m<module>\u001b[0;34m\u001b[0m\n\u001b[1;32m      1\u001b[0m \u001b[0mgammas\u001b[0m \u001b[0;34m=\u001b[0m \u001b[0mnp\u001b[0m\u001b[0;34m.\u001b[0m\u001b[0mlinspace\u001b[0m\u001b[0;34m(\u001b[0m\u001b[0;36m0.07\u001b[0m\u001b[0;34m,\u001b[0m\u001b[0;36m0.08\u001b[0m\u001b[0;34m,\u001b[0m \u001b[0mnum\u001b[0m\u001b[0;34m=\u001b[0m\u001b[0;36m10\u001b[0m\u001b[0;34m)\u001b[0m\u001b[0;34m\u001b[0m\u001b[0;34m\u001b[0m\u001b[0m\n\u001b[0;32m----> 2\u001b[0;31m \u001b[0mprint\u001b[0m\u001b[0;34m(\u001b[0m\u001b[0;34m', '\u001b[0m\u001b[0;34m.\u001b[0m\u001b[0mjoin\u001b[0m\u001b[0;34m(\u001b[0m\u001b[0mgammas\u001b[0m\u001b[0;34m)\u001b[0m\u001b[0;34m)\u001b[0m\u001b[0;34m\u001b[0m\u001b[0;34m\u001b[0m\u001b[0m\n\u001b[0m\u001b[1;32m      3\u001b[0m \u001b[0mNN\u001b[0m \u001b[0;34m=\u001b[0m \u001b[0;36m1000\u001b[0m\u001b[0;34m\u001b[0m\u001b[0;34m\u001b[0m\u001b[0m\n\u001b[1;32m      4\u001b[0m \u001b[0mL\u001b[0m \u001b[0;34m=\u001b[0m \u001b[0;36m1\u001b[0m\u001b[0;34m\u001b[0m\u001b[0;34m\u001b[0m\u001b[0m\n\u001b[1;32m      5\u001b[0m \u001b[0mK\u001b[0m \u001b[0;34m=\u001b[0m \u001b[0;36m36\u001b[0m\u001b[0;34m\u001b[0m\u001b[0;34m\u001b[0m\u001b[0m\n",
      "\u001b[0;31mTypeError\u001b[0m: sequence item 0: expected str instance, numpy.float64 found"
     ]
    }
   ],
   "source": [
    "NN = 1000\n",
    "L = 1\n",
    "K = 36\n",
    "exps_07_08_l1 = experiments(L, K, NN, gammas)"
   ]
  },
  {
   "cell_type": "code",
   "execution_count": 110,
   "id": "d97e9b92",
   "metadata": {},
   "outputs": [
    {
     "data": {
      "text/plain": [
       "Text(0.5, 1.0, 'The % of successfull trajectories vs Gamma')"
      ]
     },
     "execution_count": 110,
     "metadata": {},
     "output_type": "execute_result"
    },
    {
     "data": {
      "image/png": "[encoded data removed]",
      "text/plain": [
       "<Figure size 1440x576 with 1 Axes>"
      ]
     },
     "metadata": {
      "needs_background": "light"
     },
     "output_type": "display_data"
    }
   ],
   "source": [
    "# g, sucess, fail, sucess_len, fail_len\n",
    "plt.figure(figsize=(20,8))\n",
    "plt.ylim((0,100))\n",
    "plt.scatter(exps_07_08_l1[::,0],exps_07_08_l1[::,1]*100, alpha=0.8)\n",
    "plt.title('The % of successfull trajectories vs Gamma')"
   ]
  },
  {
   "cell_type": "code",
   "execution_count": 115,
   "id": "db228c70",
   "metadata": {},
   "outputs": [
    {
     "name": "stderr",
     "output_type": "stream",
     "text": [
      "/home/shmalex/anaconda3/lib/python3.7/site-packages/ipykernel_launcher.py:3: TqdmDeprecationWarning: This function will be removed in tqdm==5.0.0\n",
      "Please use `tqdm.notebook.tqdm` instead of `tqdm.tqdm_notebook`\n",
      "  This is separate from the ipykernel package so we can avoid doing imports until\n"
     ]
    },
    {
     "data": {
      "application/vnd.jupyter.widget-view+json": {
       "model_id": "db3c62b5b11747a9969b143ba0ee47d4",
       "version_major": 2,
       "version_minor": 0
      },
      "text/plain": [
       "gammas:   0%|          | 0/10 [00:00<?, ?it/s]"
      ]
     },
     "metadata": {},
     "output_type": "display_data"
    },
    {
     "data": {
      "application/vnd.jupyter.widget-view+json": {
       "model_id": "4bf708e550a44365b67108e072a6573d",
       "version_major": 2,
       "version_minor": 0
      },
      "text/plain": [
       "train:   0%|          | 0/36 [00:00<?, ?it/s]"
      ]
     },
     "metadata": {},
     "output_type": "display_data"
    },
    {
     "data": {
      "application/vnd.jupyter.widget-view+json": {
       "model_id": "36fc9993ed414e8d9d44b7b1e5953dab",
       "version_major": 2,
       "version_minor": 0
      },
      "text/plain": [
       "test:   0%|          | 0/1000 [00:00<?, ?it/s]"
      ]
     },
     "metadata": {},
     "output_type": "display_data"
    }
   ],
   "source": [
    "gammas = np.linspace(0.07,0.08, num=10)\n",
    "\n",
    "NN = 1000\n",
    "L = 2\n",
    "K = 36\n",
    "exps_07_08_l2 = experiments(L, K, NN, gammas)"
   ]
  },
  {
   "cell_type": "code",
   "execution_count": 118,
   "id": "61d96076",
   "metadata": {},
   "outputs": [
    {
     "data": {
      "text/plain": [
       "Text(0.5, 1.0, 'The % of successfull trajectories vs Gamma')"
      ]
     },
     "execution_count": 118,
     "metadata": {},
     "output_type": "execute_result"
    },
    {
     "data": {
      "image/png": "[encoded data removed]",
      "text/plain": [
       "<Figure size 1440x576 with 1 Axes>"
      ]
     },
     "metadata": {
      "needs_background": "light"
     },
     "output_type": "display_data"
    }
   ],
   "source": [
    "# g, sucess, fail, sucess_len, fail_len\n",
    "plt.figure(figsize=(20,8))\n",
    "plt.ylim((0,100))\n",
    "plt.scatter(exps_07_08_l2[::,0],exps_07_08_l2[::,1]*100, alpha=0.8)\n",
    "plt.title('The % of successfull trajectories vs Gamma')"
   ]
  },
  {
   "cell_type": "code",
   "execution_count": 117,
   "id": "986abcd7",
   "metadata": {},
   "outputs": [
    {
     "name": "stdout",
     "output_type": "stream",
     "text": [
      "[0.01 0.12 0.23 0.34 0.45 0.56 0.67 0.78 0.89 1.  ]\n"
     ]
    },
    {
     "name": "stderr",
     "output_type": "stream",
     "text": [
      "/home/shmalex/anaconda3/lib/python3.7/site-packages/ipykernel_launcher.py:3: TqdmDeprecationWarning: This function will be removed in tqdm==5.0.0\n",
      "Please use `tqdm.notebook.tqdm` instead of `tqdm.tqdm_notebook`\n",
      "  This is separate from the ipykernel package so we can avoid doing imports until\n"
     ]
    },
    {
     "data": {
      "application/vnd.jupyter.widget-view+json": {
       "model_id": "e92af38c51194637a9da56772773adf6",
       "version_major": 2,
       "version_minor": 0
      },
      "text/plain": [
       "gammas:   0%|          | 0/10 [00:00<?, ?it/s]"
      ]
     },
     "metadata": {},
     "output_type": "display_data"
    },
    {
     "data": {
      "application/vnd.jupyter.widget-view+json": {
       "model_id": "1b2c10d6f9c947659487eb84c6a0372d",
       "version_major": 2,
       "version_minor": 0
      },
      "text/plain": [
       "train:   0%|          | 0/36 [00:00<?, ?it/s]"
      ]
     },
     "metadata": {},
     "output_type": "display_data"
    },
    {
     "data": {
      "application/vnd.jupyter.widget-view+json": {
       "model_id": "4a21aa05025848ffbee9037fb4b86e48",
       "version_major": 2,
       "version_minor": 0
      },
      "text/plain": [
       "test:   0%|          | 0/1000 [00:00<?, ?it/s]"
      ]
     },
     "metadata": {},
     "output_type": "display_data"
    },
    {
     "ename": "KeyboardInterrupt",
     "evalue": "",
     "output_type": "error",
     "traceback": [
      "\u001b[0;31m---------------------------------------------------------------------------\u001b[0m",
      "\u001b[0;31mKeyboardInterrupt\u001b[0m                         Traceback (most recent call last)",
      "\u001b[0;32m<ipython-input-117-2c51a7bc9681>\u001b[0m in \u001b[0;36m<module>\u001b[0;34m\u001b[0m\n\u001b[1;32m      4\u001b[0m \u001b[0mL\u001b[0m \u001b[0;34m=\u001b[0m \u001b[0;36m1\u001b[0m\u001b[0;34m\u001b[0m\u001b[0;34m\u001b[0m\u001b[0m\n\u001b[1;32m      5\u001b[0m \u001b[0mK\u001b[0m \u001b[0;34m=\u001b[0m \u001b[0;36m36\u001b[0m\u001b[0;34m\u001b[0m\u001b[0;34m\u001b[0m\u001b[0m\n\u001b[0;32m----> 6\u001b[0;31m \u001b[0mexps_01_1_l1\u001b[0m \u001b[0;34m=\u001b[0m \u001b[0mexperiments\u001b[0m\u001b[0;34m(\u001b[0m\u001b[0mL\u001b[0m\u001b[0;34m,\u001b[0m \u001b[0mK\u001b[0m\u001b[0;34m,\u001b[0m \u001b[0mNN\u001b[0m\u001b[0;34m,\u001b[0m \u001b[0mgammas\u001b[0m\u001b[0;34m)\u001b[0m\u001b[0;34m\u001b[0m\u001b[0;34m\u001b[0m\u001b[0m\n\u001b[0m",
      "\u001b[0;32m<ipython-input-83-9992aade205c>\u001b[0m in \u001b[0;36mexperiments\u001b[0;34m(L, K, NN, gammas)\u001b[0m\n\u001b[1;32m      6\u001b[0m     \u001b[0;32mfor\u001b[0m \u001b[0mgamma\u001b[0m \u001b[0;32min\u001b[0m \u001b[0mgammas\u001b[0m\u001b[0;34m:\u001b[0m\u001b[0;34m\u001b[0m\u001b[0;34m\u001b[0m\u001b[0m\n\u001b[1;32m      7\u001b[0m         \u001b[0mtqdm_gammas\u001b[0m\u001b[0;34m.\u001b[0m\u001b[0mset_description\u001b[0m\u001b[0;34m(\u001b[0m\u001b[0;34m'gamma:'\u001b[0m\u001b[0;34m+\u001b[0m\u001b[0;34mf\"{gamma:0.5}\"\u001b[0m\u001b[0;34m)\u001b[0m\u001b[0;34m\u001b[0m\u001b[0;34m\u001b[0m\u001b[0m\n\u001b[0;32m----> 8\u001b[0;31m         \u001b[0mrewards\u001b[0m\u001b[0;34m,\u001b[0m \u001b[0msteps\u001b[0m \u001b[0;34m=\u001b[0m \u001b[0mexperiment\u001b[0m\u001b[0;34m(\u001b[0m\u001b[0mL\u001b[0m\u001b[0;34m,\u001b[0m \u001b[0mK\u001b[0m\u001b[0;34m,\u001b[0m \u001b[0mNN\u001b[0m\u001b[0;34m,\u001b[0m \u001b[0mgamma\u001b[0m\u001b[0;34m,\u001b[0m \u001b[0mtqdm_train\u001b[0m\u001b[0;34m,\u001b[0m \u001b[0mtqdm_test\u001b[0m\u001b[0;34m)\u001b[0m\u001b[0;34m\u001b[0m\u001b[0;34m\u001b[0m\u001b[0m\n\u001b[0m\u001b[1;32m      9\u001b[0m         \u001b[0mexps\u001b[0m\u001b[0;34m.\u001b[0m\u001b[0mappend\u001b[0m\u001b[0;34m(\u001b[0m\u001b[0mstats\u001b[0m\u001b[0;34m(\u001b[0m\u001b[0mgamma\u001b[0m\u001b[0;34m,\u001b[0m \u001b[0mrewards\u001b[0m\u001b[0;34m,\u001b[0m \u001b[0msteps\u001b[0m\u001b[0;34m)\u001b[0m\u001b[0;34m)\u001b[0m\u001b[0;34m\u001b[0m\u001b[0;34m\u001b[0m\u001b[0m\n\u001b[1;32m     10\u001b[0m         \u001b[0mtqdm_gammas\u001b[0m\u001b[0;34m.\u001b[0m\u001b[0mupdate\u001b[0m\u001b[0;34m(\u001b[0m\u001b[0;34m)\u001b[0m\u001b[0;34m\u001b[0m\u001b[0;34m\u001b[0m\u001b[0m\n",
      "\u001b[0;32m<ipython-input-82-706895e67bed>\u001b[0m in \u001b[0;36mexperiment\u001b[0;34m(L, K, NN, gamma, tqdm_train, tqdm_test)\u001b[0m\n\u001b[1;32m     28\u001b[0m     \u001b[0;31m# gamma = 0.8\u001b[0m\u001b[0;34m\u001b[0m\u001b[0;34m\u001b[0m\u001b[0;34m\u001b[0m\u001b[0m\n\u001b[1;32m     29\u001b[0m     \u001b[0mpolicy\u001b[0m \u001b[0;34m=\u001b[0m \u001b[0mtrain_MDP\u001b[0m\u001b[0;34m(\u001b[0m\u001b[0mL\u001b[0m\u001b[0;34m,\u001b[0m \u001b[0mK\u001b[0m\u001b[0;34m,\u001b[0m \u001b[0mgamma\u001b[0m\u001b[0;34m,\u001b[0m \u001b[0mtqdm_train\u001b[0m\u001b[0;34m)\u001b[0m\u001b[0;34m\u001b[0m\u001b[0;34m\u001b[0m\u001b[0m\n\u001b[0;32m---> 30\u001b[0;31m     \u001b[0;32mreturn\u001b[0m \u001b[0mtest_MDP\u001b[0m\u001b[0;34m(\u001b[0m\u001b[0mpolicy\u001b[0m\u001b[0;34m,\u001b[0m \u001b[0mNN\u001b[0m\u001b[0;34m,\u001b[0m \u001b[0mtqdm_test\u001b[0m\u001b[0;34m)\u001b[0m\u001b[0;34m\u001b[0m\u001b[0;34m\u001b[0m\u001b[0m\n\u001b[0m",
      "\u001b[0;32m<ipython-input-82-706895e67bed>\u001b[0m in \u001b[0;36mtest_MDP\u001b[0;34m(policy, NN, tqdm_test)\u001b[0m\n\u001b[1;32m     19\u001b[0m     \u001b[0mruns\u001b[0m \u001b[0;34m=\u001b[0m \u001b[0;34m[\u001b[0m\u001b[0;34m]\u001b[0m\u001b[0;34m\u001b[0m\u001b[0;34m\u001b[0m\u001b[0m\n\u001b[1;32m     20\u001b[0m     \u001b[0;32mfor\u001b[0m \u001b[0m_\u001b[0m \u001b[0;32min\u001b[0m \u001b[0mrange\u001b[0m\u001b[0;34m(\u001b[0m\u001b[0mNN\u001b[0m\u001b[0;34m)\u001b[0m\u001b[0;34m:\u001b[0m\u001b[0;34m\u001b[0m\u001b[0;34m\u001b[0m\u001b[0m\n\u001b[0;32m---> 21\u001b[0;31m         \u001b[0mruns\u001b[0m\u001b[0;34m.\u001b[0m\u001b[0mappend\u001b[0m\u001b[0;34m(\u001b[0m\u001b[0mrun_test\u001b[0m\u001b[0;34m(\u001b[0m\u001b[0mpolicy\u001b[0m\u001b[0;34m)\u001b[0m\u001b[0;34m)\u001b[0m\u001b[0;34m\u001b[0m\u001b[0;34m\u001b[0m\u001b[0m\n\u001b[0m\u001b[1;32m     22\u001b[0m         \u001b[0mtqdm_test\u001b[0m\u001b[0;34m.\u001b[0m\u001b[0mupdate\u001b[0m\u001b[0;34m(\u001b[0m\u001b[0;34m)\u001b[0m\u001b[0;34m\u001b[0m\u001b[0;34m\u001b[0m\u001b[0m\n\u001b[1;32m     23\u001b[0m     \u001b[0mruns\u001b[0m \u001b[0;34m=\u001b[0m \u001b[0mnp\u001b[0m\u001b[0;34m.\u001b[0m\u001b[0marray\u001b[0m\u001b[0;34m(\u001b[0m\u001b[0mruns\u001b[0m\u001b[0;34m)\u001b[0m\u001b[0;34m\u001b[0m\u001b[0;34m\u001b[0m\u001b[0m\n",
      "\u001b[0;32m<ipython-input-67-83cf1b1b8660>\u001b[0m in \u001b[0;36mrun_test\u001b[0;34m(policy)\u001b[0m\n\u001b[1;32m      9\u001b[0m \u001b[0;34m\u001b[0m\u001b[0m\n\u001b[1;32m     10\u001b[0m         \u001b[0maction\u001b[0m \u001b[0;34m=\u001b[0m \u001b[0mnp\u001b[0m\u001b[0;34m.\u001b[0m\u001b[0mrandom\u001b[0m\u001b[0;34m.\u001b[0m\u001b[0mchoice\u001b[0m\u001b[0;34m(\u001b[0m\u001b[0mpossible_actions\u001b[0m\u001b[0;34m,\u001b[0m\u001b[0mp\u001b[0m\u001b[0;34m=\u001b[0m\u001b[0mactions_distr\u001b[0m\u001b[0;34m)\u001b[0m\u001b[0;34m\u001b[0m\u001b[0;34m\u001b[0m\u001b[0m\n\u001b[0;32m---> 11\u001b[0;31m         \u001b[0mstate\u001b[0m\u001b[0;34m,\u001b[0m \u001b[0mreward\u001b[0m\u001b[0;34m,\u001b[0m \u001b[0mdone\u001b[0m\u001b[0;34m,\u001b[0m \u001b[0m_\u001b[0m \u001b[0;34m=\u001b[0m \u001b[0menv\u001b[0m\u001b[0;34m.\u001b[0m\u001b[0mstep\u001b[0m\u001b[0;34m(\u001b[0m\u001b[0maction\u001b[0m\u001b[0;34m)\u001b[0m\u001b[0;34m\u001b[0m\u001b[0;34m\u001b[0m\u001b[0m\n\u001b[0m\u001b[1;32m     12\u001b[0m \u001b[0;31m#         print(state, reward, done, _,action, actions_distr)\u001b[0m\u001b[0;34m\u001b[0m\u001b[0;34m\u001b[0m\u001b[0;34m\u001b[0m\u001b[0m\n\u001b[1;32m     13\u001b[0m \u001b[0;31m#         break\u001b[0m\u001b[0;34m\u001b[0m\u001b[0;34m\u001b[0m\u001b[0;34m\u001b[0m\u001b[0m\n",
      "\u001b[0;32m/mnt/wd2_small/projects/ods_rl/hmw3/Frozen_Lake.py\u001b[0m in \u001b[0;36mstep\u001b[0;34m(self, action)\u001b[0m\n\u001b[1;32m    108\u001b[0m             *self.get_next_states(self._current_state, action).items())\n\u001b[1;32m    109\u001b[0m         next_state = possible_states[self.np_random.choice(\n\u001b[0;32m--> 110\u001b[0;31m             np.arange(len(possible_states)), p=probs)]\n\u001b[0m\u001b[1;32m    111\u001b[0m         \u001b[0mreward\u001b[0m \u001b[0;34m=\u001b[0m \u001b[0mself\u001b[0m\u001b[0;34m.\u001b[0m\u001b[0mget_reward\u001b[0m\u001b[0;34m(\u001b[0m\u001b[0mself\u001b[0m\u001b[0;34m.\u001b[0m\u001b[0m_current_state\u001b[0m\u001b[0;34m,\u001b[0m \u001b[0maction\u001b[0m\u001b[0;34m,\u001b[0m \u001b[0mnext_state\u001b[0m\u001b[0;34m)\u001b[0m\u001b[0;34m\u001b[0m\u001b[0;34m\u001b[0m\u001b[0m\n\u001b[1;32m    112\u001b[0m         \u001b[0mis_done\u001b[0m \u001b[0;34m=\u001b[0m \u001b[0mself\u001b[0m\u001b[0;34m.\u001b[0m\u001b[0mis_terminal\u001b[0m\u001b[0;34m(\u001b[0m\u001b[0mnext_state\u001b[0m\u001b[0;34m)\u001b[0m\u001b[0;34m\u001b[0m\u001b[0;34m\u001b[0m\u001b[0m\n",
      "\u001b[0;31mKeyboardInterrupt\u001b[0m: "
     ]
    }
   ],
   "source": [
    "gammas = np.linspace(0.01,1, num=10)\n",
    "print(gammas)\n",
    "NN = 1000\n",
    "L = 1\n",
    "K = 36\n",
    "exps_01_1_l1 = experiments(L, K, NN, gammas)"
   ]
  },
  {
   "cell_type": "code",
   "execution_count": 117,
   "id": "b4fb9238",
   "metadata": {},
   "outputs": [
    {
     "name": "stdout",
     "output_type": "stream",
     "text": [
      "[0.01 0.12 0.23 0.34 0.45 0.56 0.67 0.78 0.89 1.  ]\n"
     ]
    },
    {
     "name": "stderr",
     "output_type": "stream",
     "text": [
      "/home/shmalex/anaconda3/lib/python3.7/site-packages/ipykernel_launcher.py:3: TqdmDeprecationWarning: This function will be removed in tqdm==5.0.0\n",
      "Please use `tqdm.notebook.tqdm` instead of `tqdm.tqdm_notebook`\n",
      "  This is separate from the ipykernel package so we can avoid doing imports until\n"
     ]
    },
    {
     "data": {
      "application/vnd.jupyter.widget-view+json": {
       "model_id": "e92af38c51194637a9da56772773adf6",
       "version_major": 2,
       "version_minor": 0
      },
      "text/plain": [
       "gammas:   0%|          | 0/10 [00:00<?, ?it/s]"
      ]
     },
     "metadata": {},
     "output_type": "display_data"
    },
    {
     "data": {
      "application/vnd.jupyter.widget-view+json": {
       "model_id": "1b2c10d6f9c947659487eb84c6a0372d",
       "version_major": 2,
       "version_minor": 0
      },
      "text/plain": [
       "train:   0%|          | 0/36 [00:00<?, ?it/s]"
      ]
     },
     "metadata": {},
     "output_type": "display_data"
    },
    {
     "data": {
      "application/vnd.jupyter.widget-view+json": {
       "model_id": "4a21aa05025848ffbee9037fb4b86e48",
       "version_major": 2,
       "version_minor": 0
      },
      "text/plain": [
       "test:   0%|          | 0/1000 [00:00<?, ?it/s]"
      ]
     },
     "metadata": {},
     "output_type": "display_data"
    },
    {
     "ename": "KeyboardInterrupt",
     "evalue": "",
     "output_type": "error",
     "traceback": [
      "\u001b[0;31m---------------------------------------------------------------------------\u001b[0m",
      "\u001b[0;31mKeyboardInterrupt\u001b[0m                         Traceback (most recent call last)",
      "\u001b[0;32m<ipython-input-117-2c51a7bc9681>\u001b[0m in \u001b[0;36m<module>\u001b[0;34m\u001b[0m\n\u001b[1;32m      4\u001b[0m \u001b[0mL\u001b[0m \u001b[0;34m=\u001b[0m \u001b[0;36m1\u001b[0m\u001b[0;34m\u001b[0m\u001b[0;34m\u001b[0m\u001b[0m\n\u001b[1;32m      5\u001b[0m \u001b[0mK\u001b[0m \u001b[0;34m=\u001b[0m \u001b[0;36m36\u001b[0m\u001b[0;34m\u001b[0m\u001b[0;34m\u001b[0m\u001b[0m\n\u001b[0;32m----> 6\u001b[0;31m \u001b[0mexps_01_1_l1\u001b[0m \u001b[0;34m=\u001b[0m \u001b[0mexperiments\u001b[0m\u001b[0;34m(\u001b[0m\u001b[0mL\u001b[0m\u001b[0;34m,\u001b[0m \u001b[0mK\u001b[0m\u001b[0;34m,\u001b[0m \u001b[0mNN\u001b[0m\u001b[0;34m,\u001b[0m \u001b[0mgammas\u001b[0m\u001b[0;34m)\u001b[0m\u001b[0;34m\u001b[0m\u001b[0;34m\u001b[0m\u001b[0m\n\u001b[0m",
      "\u001b[0;32m<ipython-input-83-9992aade205c>\u001b[0m in \u001b[0;36mexperiments\u001b[0;34m(L, K, NN, gammas)\u001b[0m\n\u001b[1;32m      6\u001b[0m     \u001b[0;32mfor\u001b[0m \u001b[0mgamma\u001b[0m \u001b[0;32min\u001b[0m \u001b[0mgammas\u001b[0m\u001b[0;34m:\u001b[0m\u001b[0;34m\u001b[0m\u001b[0;34m\u001b[0m\u001b[0m\n\u001b[1;32m      7\u001b[0m         \u001b[0mtqdm_gammas\u001b[0m\u001b[0;34m.\u001b[0m\u001b[0mset_description\u001b[0m\u001b[0;34m(\u001b[0m\u001b[0;34m'gamma:'\u001b[0m\u001b[0;34m+\u001b[0m\u001b[0;34mf\"{gamma:0.5}\"\u001b[0m\u001b[0;34m)\u001b[0m\u001b[0;34m\u001b[0m\u001b[0;34m\u001b[0m\u001b[0m\n\u001b[0;32m----> 8\u001b[0;31m         \u001b[0mrewards\u001b[0m\u001b[0;34m,\u001b[0m \u001b[0msteps\u001b[0m \u001b[0;34m=\u001b[0m \u001b[0mexperiment\u001b[0m\u001b[0;34m(\u001b[0m\u001b[0mL\u001b[0m\u001b[0;34m,\u001b[0m \u001b[0mK\u001b[0m\u001b[0;34m,\u001b[0m \u001b[0mNN\u001b[0m\u001b[0;34m,\u001b[0m \u001b[0mgamma\u001b[0m\u001b[0;34m,\u001b[0m \u001b[0mtqdm_train\u001b[0m\u001b[0;34m,\u001b[0m \u001b[0mtqdm_test\u001b[0m\u001b[0;34m)\u001b[0m\u001b[0;34m\u001b[0m\u001b[0;34m\u001b[0m\u001b[0m\n\u001b[0m\u001b[1;32m      9\u001b[0m         \u001b[0mexps\u001b[0m\u001b[0;34m.\u001b[0m\u001b[0mappend\u001b[0m\u001b[0;34m(\u001b[0m\u001b[0mstats\u001b[0m\u001b[0;34m(\u001b[0m\u001b[0mgamma\u001b[0m\u001b[0;34m,\u001b[0m \u001b[0mrewards\u001b[0m\u001b[0;34m,\u001b[0m \u001b[0msteps\u001b[0m\u001b[0;34m)\u001b[0m\u001b[0;34m)\u001b[0m\u001b[0;34m\u001b[0m\u001b[0;34m\u001b[0m\u001b[0m\n\u001b[1;32m     10\u001b[0m         \u001b[0mtqdm_gammas\u001b[0m\u001b[0;34m.\u001b[0m\u001b[0mupdate\u001b[0m\u001b[0;34m(\u001b[0m\u001b[0;34m)\u001b[0m\u001b[0;34m\u001b[0m\u001b[0;34m\u001b[0m\u001b[0m\n",
      "\u001b[0;32m<ipython-input-82-706895e67bed>\u001b[0m in \u001b[0;36mexperiment\u001b[0;34m(L, K, NN, gamma, tqdm_train, tqdm_test)\u001b[0m\n\u001b[1;32m     28\u001b[0m     \u001b[0;31m# gamma = 0.8\u001b[0m\u001b[0;34m\u001b[0m\u001b[0;34m\u001b[0m\u001b[0;34m\u001b[0m\u001b[0m\n\u001b[1;32m     29\u001b[0m     \u001b[0mpolicy\u001b[0m \u001b[0;34m=\u001b[0m \u001b[0mtrain_MDP\u001b[0m\u001b[0;34m(\u001b[0m\u001b[0mL\u001b[0m\u001b[0;34m,\u001b[0m \u001b[0mK\u001b[0m\u001b[0;34m,\u001b[0m \u001b[0mgamma\u001b[0m\u001b[0;34m,\u001b[0m \u001b[0mtqdm_train\u001b[0m\u001b[0;34m)\u001b[0m\u001b[0;34m\u001b[0m\u001b[0;34m\u001b[0m\u001b[0m\n\u001b[0;32m---> 30\u001b[0;31m     \u001b[0;32mreturn\u001b[0m \u001b[0mtest_MDP\u001b[0m\u001b[0;34m(\u001b[0m\u001b[0mpolicy\u001b[0m\u001b[0;34m,\u001b[0m \u001b[0mNN\u001b[0m\u001b[0;34m,\u001b[0m \u001b[0mtqdm_test\u001b[0m\u001b[0;34m)\u001b[0m\u001b[0;34m\u001b[0m\u001b[0;34m\u001b[0m\u001b[0m\n\u001b[0m",
      "\u001b[0;32m<ipython-input-82-706895e67bed>\u001b[0m in \u001b[0;36mtest_MDP\u001b[0;34m(policy, NN, tqdm_test)\u001b[0m\n\u001b[1;32m     19\u001b[0m     \u001b[0mruns\u001b[0m \u001b[0;34m=\u001b[0m \u001b[0;34m[\u001b[0m\u001b[0;34m]\u001b[0m\u001b[0;34m\u001b[0m\u001b[0;34m\u001b[0m\u001b[0m\n\u001b[1;32m     20\u001b[0m     \u001b[0;32mfor\u001b[0m \u001b[0m_\u001b[0m \u001b[0;32min\u001b[0m \u001b[0mrange\u001b[0m\u001b[0;34m(\u001b[0m\u001b[0mNN\u001b[0m\u001b[0;34m)\u001b[0m\u001b[0;34m:\u001b[0m\u001b[0;34m\u001b[0m\u001b[0;34m\u001b[0m\u001b[0m\n\u001b[0;32m---> 21\u001b[0;31m         \u001b[0mruns\u001b[0m\u001b[0;34m.\u001b[0m\u001b[0mappend\u001b[0m\u001b[0;34m(\u001b[0m\u001b[0mrun_test\u001b[0m\u001b[0;34m(\u001b[0m\u001b[0mpolicy\u001b[0m\u001b[0;34m)\u001b[0m\u001b[0;34m)\u001b[0m\u001b[0;34m\u001b[0m\u001b[0;34m\u001b[0m\u001b[0m\n\u001b[0m\u001b[1;32m     22\u001b[0m         \u001b[0mtqdm_test\u001b[0m\u001b[0;34m.\u001b[0m\u001b[0mupdate\u001b[0m\u001b[0;34m(\u001b[0m\u001b[0;34m)\u001b[0m\u001b[0;34m\u001b[0m\u001b[0;34m\u001b[0m\u001b[0m\n\u001b[1;32m     23\u001b[0m     \u001b[0mruns\u001b[0m \u001b[0;34m=\u001b[0m \u001b[0mnp\u001b[0m\u001b[0;34m.\u001b[0m\u001b[0marray\u001b[0m\u001b[0;34m(\u001b[0m\u001b[0mruns\u001b[0m\u001b[0;34m)\u001b[0m\u001b[0;34m\u001b[0m\u001b[0;34m\u001b[0m\u001b[0m\n",
      "\u001b[0;32m<ipython-input-67-83cf1b1b8660>\u001b[0m in \u001b[0;36mrun_test\u001b[0;34m(policy)\u001b[0m\n\u001b[1;32m      9\u001b[0m \u001b[0;34m\u001b[0m\u001b[0m\n\u001b[1;32m     10\u001b[0m         \u001b[0maction\u001b[0m \u001b[0;34m=\u001b[0m \u001b[0mnp\u001b[0m\u001b[0;34m.\u001b[0m\u001b[0mrandom\u001b[0m\u001b[0;34m.\u001b[0m\u001b[0mchoice\u001b[0m\u001b[0;34m(\u001b[0m\u001b[0mpossible_actions\u001b[0m\u001b[0;34m,\u001b[0m\u001b[0mp\u001b[0m\u001b[0;34m=\u001b[0m\u001b[0mactions_distr\u001b[0m\u001b[0;34m)\u001b[0m\u001b[0;34m\u001b[0m\u001b[0;34m\u001b[0m\u001b[0m\n\u001b[0;32m---> 11\u001b[0;31m         \u001b[0mstate\u001b[0m\u001b[0;34m,\u001b[0m \u001b[0mreward\u001b[0m\u001b[0;34m,\u001b[0m \u001b[0mdone\u001b[0m\u001b[0;34m,\u001b[0m \u001b[0m_\u001b[0m \u001b[0;34m=\u001b[0m \u001b[0menv\u001b[0m\u001b[0;34m.\u001b[0m\u001b[0mstep\u001b[0m\u001b[0;34m(\u001b[0m\u001b[0maction\u001b[0m\u001b[0;34m)\u001b[0m\u001b[0;34m\u001b[0m\u001b[0;34m\u001b[0m\u001b[0m\n\u001b[0m\u001b[1;32m     12\u001b[0m \u001b[0;31m#         print(state, reward, done, _,action, actions_distr)\u001b[0m\u001b[0;34m\u001b[0m\u001b[0;34m\u001b[0m\u001b[0;34m\u001b[0m\u001b[0m\n\u001b[1;32m     13\u001b[0m \u001b[0;31m#         break\u001b[0m\u001b[0;34m\u001b[0m\u001b[0;34m\u001b[0m\u001b[0;34m\u001b[0m\u001b[0m\n",
      "\u001b[0;32m/mnt/wd2_small/projects/ods_rl/hmw3/Frozen_Lake.py\u001b[0m in \u001b[0;36mstep\u001b[0;34m(self, action)\u001b[0m\n\u001b[1;32m    108\u001b[0m             *self.get_next_states(self._current_state, action).items())\n\u001b[1;32m    109\u001b[0m         next_state = possible_states[self.np_random.choice(\n\u001b[0;32m--> 110\u001b[0;31m             np.arange(len(possible_states)), p=probs)]\n\u001b[0m\u001b[1;32m    111\u001b[0m         \u001b[0mreward\u001b[0m \u001b[0;34m=\u001b[0m \u001b[0mself\u001b[0m\u001b[0;34m.\u001b[0m\u001b[0mget_reward\u001b[0m\u001b[0;34m(\u001b[0m\u001b[0mself\u001b[0m\u001b[0;34m.\u001b[0m\u001b[0m_current_state\u001b[0m\u001b[0;34m,\u001b[0m \u001b[0maction\u001b[0m\u001b[0;34m,\u001b[0m \u001b[0mnext_state\u001b[0m\u001b[0;34m)\u001b[0m\u001b[0;34m\u001b[0m\u001b[0;34m\u001b[0m\u001b[0m\n\u001b[1;32m    112\u001b[0m         \u001b[0mis_done\u001b[0m \u001b[0;34m=\u001b[0m \u001b[0mself\u001b[0m\u001b[0;34m.\u001b[0m\u001b[0mis_terminal\u001b[0m\u001b[0;34m(\u001b[0m\u001b[0mnext_state\u001b[0m\u001b[0;34m)\u001b[0m\u001b[0;34m\u001b[0m\u001b[0;34m\u001b[0m\u001b[0m\n",
      "\u001b[0;31mKeyboardInterrupt\u001b[0m: "
     ]
    }
   ],
   "source": [
    "gammas = np.linspace(0.01,1, num=10)\n",
    "print(gammas)\n",
    "NN = 1000\n",
    "L = 1\n",
    "K = 36\n",
    "exps_01_1_l1 = experiments(L, K, NN, gammas)"
   ]
  },
  {
   "cell_type": "code",
   "execution_count": 116,
   "id": "b2fcd93e",
   "metadata": {},
   "outputs": [
    {
     "data": {
      "text/plain": [
       "Text(0.5, 1.0, 'The % of successfull trajectories vs Gamma')"
      ]
     },
     "execution_count": 116,
     "metadata": {},
     "output_type": "execute_result"
    },
    {
     "data": {
      "image/png": "[encoded data removed]",
      "text/plain": [
       "<Figure size 1440x576 with 1 Axes>"
      ]
     },
     "metadata": {
      "needs_background": "light"
     },
     "output_type": "display_data"
    }
   ],
   "source": [
    "# g, sucess, fail, sucess_len, fail_len\n",
    "plt.figure(figsize=(20,8))\n",
    "plt.ylim((0,100))\n",
    "plt.scatter(exps_01_1_l1[::,0],exps_01_1_l1[::,1]*100, alpha=0.8)\n",
    "plt.title('The % of successfull trajectories vs Gamma')"
   ]
  },
  {
   "cell_type": "code",
   "execution_count": 98,
   "id": "e483d491",
   "metadata": {},
   "outputs": [
    {
     "data": {
      "text/plain": [
       "Text(0.5, 1.0, 'The % of successfull trajectories vs Gamma')"
      ]
     },
     "execution_count": 98,
     "metadata": {},
     "output_type": "execute_result"
    },
    {
     "data": {
      "image/png": "[encoded data removed]",
      "text/plain": [
       "<Figure size 1440x576 with 1 Axes>"
      ]
     },
     "metadata": {
      "needs_background": "light"
     },
     "output_type": "display_data"
    }
   ],
   "source": [
    "# g, sucess, fail, sucess_len, fail_len\n",
    "plt.figure(figsize=(20,8))\n",
    "# plt.ylim((0,100))\n",
    "plt.hist(exps[exps[::,3]<18][::,3], bins=100,)\n",
    "plt.title('The % of successfull trajectories vs Gamma')"
   ]
  },
  {
   "cell_type": "code",
   "execution_count": 71,
   "id": "a06f5ef0",
   "metadata": {},
   "outputs": [
    {
     "name": "stderr",
     "output_type": "stream",
     "text": [
      "/home/shmalex/anaconda3/lib/python3.7/site-packages/ipykernel_launcher.py:3: TqdmDeprecationWarning: This function will be removed in tqdm==5.0.0\n",
      "Please use `tqdm.notebook.tqdm` instead of `tqdm.tqdm_notebook`\n",
      "  This is separate from the ipykernel package so we can avoid doing imports until\n"
     ]
    },
    {
     "data": {
      "application/vnd.jupyter.widget-view+json": {
       "model_id": "",
       "version_major": 2,
       "version_minor": 0
      },
      "text/plain": [
       "gammas:   0%|          | 0/100 [00:00<?, ?it/s]"
      ]
     },
     "metadata": {},
     "output_type": "display_data"
    },
    {
     "data": {
      "application/vnd.jupyter.widget-view+json": {
       "model_id": "",
       "version_major": 2,
       "version_minor": 0
      },
      "text/plain": [
       "train:   0%|          | 0/100 [00:00<?, ?it/s]"
      ]
     },
     "metadata": {},
     "output_type": "display_data"
    },
    {
     "data": {
      "application/vnd.jupyter.widget-view+json": {
       "model_id": "",
       "version_major": 2,
       "version_minor": 0
      },
      "text/plain": [
       "test:   0%|          | 0/5000 [00:00<?, ?it/s]"
      ]
     },
     "metadata": {},
     "output_type": "display_data"
    }
   ],
   "source": [
    "gammas = np.linspace(0.9,0.99, num=100)\n",
    "gammas\n",
    "\n",
    "NN = 5000\n",
    "L = 100\n",
    "K = 100\n",
    "exps_short_9_99 = experiments(L, K, NN, gammas)"
   ]
  },
  {
   "cell_type": "code",
   "execution_count": 72,
   "id": "ed0e9bd0",
   "metadata": {},
   "outputs": [
    {
     "data": {
      "text/plain": [
       "array([0.727 , 0.7306, 0.7398, 0.7432, 0.7406, 0.7382, 0.7248, 0.727 ,\n",
       "       0.7342, 0.7294, 0.7416, 0.7306, 0.7458, 0.7322, 0.7334, 0.7306,\n",
       "       0.738 , 0.7288, 0.725 , 0.7278, 0.7442, 0.7278, 0.7378, 0.7258,\n",
       "       0.729 , 0.735 , 0.7374, 0.7274, 0.7324, 0.7256, 0.74  , 0.7374,\n",
       "       0.7316, 0.7302, 0.7274, 0.7354, 0.7356, 0.7372, 0.7382, 0.7348,\n",
       "       0.7338, 0.747 , 0.742 , 0.7438, 0.7402, 0.7332, 0.7368, 0.7342,\n",
       "       0.7342, 0.7386, 0.7322, 0.7384, 0.737 , 0.7356, 0.74  , 0.7334,\n",
       "       0.7332, 0.7392, 0.743 , 0.7428, 0.723 , 0.7332, 0.7406, 0.734 ,\n",
       "       0.729 , 0.733 , 0.7282, 0.7306, 0.7398, 0.7258, 0.7318, 0.7392,\n",
       "       0.7296, 0.7304, 0.7356, 0.7338, 0.7432, 0.7322, 0.7448, 0.751 ,\n",
       "       0.754 , 0.7504, 0.7674, 0.7596, 0.76  , 0.7588, 0.755 , 0.7604,\n",
       "       0.7624, 0.7598, 0.7628, 0.7596, 0.768 , 0.7574, 0.754 , 0.7688,\n",
       "       0.7624, 0.7598, 0.8576, 0.858 ])"
      ]
     },
     "execution_count": 72,
     "metadata": {},
     "output_type": "execute_result"
    }
   ],
   "source": [
    "exps_short[::,1]"
   ]
  },
  {
   "cell_type": "code",
   "execution_count": 100,
   "id": "c7bda407",
   "metadata": {},
   "outputs": [
    {
     "data": {
      "text/plain": [
       "array([85.7 , 85.64, 85.36, 85.22, 86.6 , 87.4 , 84.9 , 86.48, 85.74,\n",
       "       85.78, 86.12, 85.74, 85.1 , 85.72, 85.76, 85.84, 85.5 , 85.76,\n",
       "       85.7 , 85.56, 86.44, 85.16, 85.72, 85.14, 86.26, 86.34, 85.82,\n",
       "       85.82, 85.66, 86.44, 85.26, 84.86, 85.52, 86.76, 86.06, 85.5 ,\n",
       "       85.44, 86.02, 86.28, 85.22, 86.32, 86.22, 85.88, 85.98, 85.7 ,\n",
       "       86.34, 85.56, 86.62, 85.58, 86.26, 86.18, 86.66, 85.6 , 86.32,\n",
       "       86.94, 86.92, 85.8 , 86.56, 86.38, 86.06, 87.28, 86.6 , 85.02,\n",
       "       86.44, 86.68, 86.28, 86.52, 86.22, 85.84, 86.6 , 85.96, 85.66,\n",
       "       85.82, 85.76, 86.8 , 85.92, 87.56, 86.  , 86.3 , 86.16, 86.48,\n",
       "       86.6 , 86.32, 86.74, 86.6 , 86.7 , 87.02, 85.52, 85.98, 85.82,\n",
       "       51.5 , 52.1 , 52.04, 44.3 , 44.54, 46.1 , 45.2 , 45.22, 43.44,\n",
       "       44.54])"
      ]
     },
     "execution_count": 100,
     "metadata": {},
     "output_type": "execute_result"
    }
   ],
   "source": [
    "exps_short[::,1]*100"
   ]
  },
  {
   "cell_type": "code",
   "execution_count": 74,
   "id": "e4276cbd",
   "metadata": {},
   "outputs": [
    {
     "name": "stderr",
     "output_type": "stream",
     "text": [
      "/home/shmalex/anaconda3/lib/python3.7/site-packages/ipykernel/ipkernel.py:287: DeprecationWarning: `should_run_async` will not call `transform_cell` automatically in the future. Please pass the result to `transformed_cell` argument and any exception that happen during thetransform in `preprocessing_exc_tuple` in IPython 7.17 and above.\n",
      "  and should_run_async(code)\n"
     ]
    },
    {
     "data": {
      "text/plain": [
       "Text(0.5, 1.0, 'The % of successfull trajectories vs Gamma')"
      ]
     },
     "execution_count": 74,
     "metadata": {},
     "output_type": "execute_result"
    },
    {
     "data": {
      "image/png": "[encoded data removed]",
      "text/plain": [
       "<Figure size 1440x576 with 1 Axes>"
      ]
     },
     "metadata": {
      "needs_background": "light"
     },
     "output_type": "display_data"
    }
   ],
   "source": [
    "# g, sucess, fail, sucess_len, fail_len\n",
    "plt.figure(figsize=(20,8))\n",
    "plt.ylim((0,100))\n",
    "plt.scatter(exps_short[::,0],exps_short[::,1]*100, alpha=0.8)\n",
    "plt.title('The % of successfull trajectories vs Gamma')"
   ]
  },
  {
   "cell_type": "code",
   "execution_count": 75,
   "id": "c6090d70",
   "metadata": {},
   "outputs": [
    {
     "name": "stderr",
     "output_type": "stream",
     "text": [
      "/home/shmalex/anaconda3/lib/python3.7/site-packages/ipykernel_launcher.py:3: TqdmDeprecationWarning: This function will be removed in tqdm==5.0.0\n",
      "Please use `tqdm.notebook.tqdm` instead of `tqdm.tqdm_notebook`\n",
      "  This is separate from the ipykernel package so we can avoid doing imports until\n"
     ]
    },
    {
     "data": {
      "application/vnd.jupyter.widget-view+json": {
       "model_id": "",
       "version_major": 2,
       "version_minor": 0
      },
      "text/plain": [
       "gammas:   0%|          | 0/100 [00:00<?, ?it/s]"
      ]
     },
     "metadata": {},
     "output_type": "display_data"
    },
    {
     "data": {
      "application/vnd.jupyter.widget-view+json": {
       "model_id": "",
       "version_major": 2,
       "version_minor": 0
      },
      "text/plain": [
       "train:   0%|          | 0/100 [00:00<?, ?it/s]"
      ]
     },
     "metadata": {},
     "output_type": "display_data"
    },
    {
     "data": {
      "application/vnd.jupyter.widget-view+json": {
       "model_id": "",
       "version_major": 2,
       "version_minor": 0
      },
      "text/plain": [
       "test:   0%|          | 0/5000 [00:00<?, ?it/s]"
      ]
     },
     "metadata": {},
     "output_type": "display_data"
    }
   ],
   "source": [
    "gammas = np.linspace(0.99,0.9999, num=100)\n",
    "gammas\n",
    "\n",
    "NN = 5000\n",
    "L = 100\n",
    "K = 100\n",
    "exps_short = experiments(L, K, NN, gammas)"
   ]
  },
  {
   "cell_type": "code",
   "execution_count": 76,
   "id": "b041fdb5",
   "metadata": {},
   "outputs": [
    {
     "data": {
      "text/plain": [
       "Text(0.5, 1.0, 'The % of successfull trajectories vs Gamma')"
      ]
     },
     "execution_count": 76,
     "metadata": {},
     "output_type": "execute_result"
    },
    {
     "data": {
      "image/png": "[encoded data removed]",
      "text/plain": [
       "<Figure size 1440x576 with 1 Axes>"
      ]
     },
     "metadata": {
      "needs_background": "light"
     },
     "output_type": "display_data"
    }
   ],
   "source": [
    "# g, sucess, fail, sucess_len, fail_len\n",
    "plt.figure(figsize=(20,8))\n",
    "plt.ylim((0,100))\n",
    "plt.scatter(exps_short[::,0],exps_short[::,1]*100, alpha=0.8)\n",
    "plt.title('The % of successfull trajectories vs Gamma')"
   ]
  },
  {
   "cell_type": "code",
   "execution_count": 79,
   "id": "af3cb9a6",
   "metadata": {},
   "outputs": [
    {
     "name": "stderr",
     "output_type": "stream",
     "text": [
      "/home/shmalex/anaconda3/lib/python3.7/site-packages/ipykernel_launcher.py:3: TqdmDeprecationWarning: This function will be removed in tqdm==5.0.0\n",
      "Please use `tqdm.notebook.tqdm` instead of `tqdm.tqdm_notebook`\n",
      "  This is separate from the ipykernel package so we can avoid doing imports until\n"
     ]
    },
    {
     "data": {
      "application/vnd.jupyter.widget-view+json": {
       "model_id": "",
       "version_major": 2,
       "version_minor": 0
      },
      "text/plain": [
       "gammas:   0%|          | 0/100 [00:00<?, ?it/s]"
      ]
     },
     "metadata": {},
     "output_type": "display_data"
    },
    {
     "data": {
      "application/vnd.jupyter.widget-view+json": {
       "model_id": "",
       "version_major": 2,
       "version_minor": 0
      },
      "text/plain": [
       "train:   0%|          | 0/100 [00:00<?, ?it/s]"
      ]
     },
     "metadata": {},
     "output_type": "display_data"
    },
    {
     "data": {
      "application/vnd.jupyter.widget-view+json": {
       "model_id": "",
       "version_major": 2,
       "version_minor": 0
      },
      "text/plain": [
       "test:   0%|          | 0/5000 [00:00<?, ?it/s]"
      ]
     },
     "metadata": {},
     "output_type": "display_data"
    }
   ],
   "source": [
    "gammas = np.linspace(0.998,0.99999, num=100)\n",
    "gammas\n",
    "\n",
    "NN = 5000\n",
    "L = 100\n",
    "K = 100\n",
    "exps_short2 = experiments(L, K, NN, gammas)"
   ]
  },
  {
   "cell_type": "code",
   "execution_count": 81,
   "id": "01f16715",
   "metadata": {},
   "outputs": [
    {
     "data": {
      "text/plain": [
       "Text(0.5, 1.0, 'The % of successfull trajectories vs Gamma')"
      ]
     },
     "execution_count": 81,
     "metadata": {},
     "output_type": "execute_result"
    },
    {
     "data": {
      "image/png": "[encoded data removed]",
      "text/plain": [
       "<Figure size 1440x576 with 1 Axes>"
      ]
     },
     "metadata": {
      "needs_background": "light"
     },
     "output_type": "display_data"
    }
   ],
   "source": [
    "# g, sucess, fail, sucess_len, fail_len\n",
    "plt.figure(figsize=(20,8))\n",
    "plt.ylim((0,100))\n",
    "plt.scatter(exps_short2[::,0],exps_short2[::,1]*100, alpha=0.8)\n",
    "plt.title('The % of successfull trajectories vs Gamma')"
   ]
  },
  {
   "cell_type": "code",
   "execution_count": 74,
   "id": "9e126172",
   "metadata": {},
   "outputs": [
    {
     "name": "stderr",
     "output_type": "stream",
     "text": [
      "/home/shmalex/anaconda3/lib/python3.7/site-packages/ipykernel/ipkernel.py:287: DeprecationWarning: `should_run_async` will not call `transform_cell` automatically in the future. Please pass the result to `transformed_cell` argument and any exception that happen during thetransform in `preprocessing_exc_tuple` in IPython 7.17 and above.\n",
      "  and should_run_async(code)\n"
     ]
    },
    {
     "data": {
      "text/plain": [
       "Text(0.5, 1.0, 'The % of successfull trajectories vs Gamma')"
      ]
     },
     "execution_count": 74,
     "metadata": {},
     "output_type": "execute_result"
    },
    {
     "data": {
      "image/png": "[encoded data removed]",
      "text/plain": [
       "<Figure size 1440x576 with 1 Axes>"
      ]
     },
     "metadata": {
      "needs_background": "light"
     },
     "output_type": "display_data"
    }
   ],
   "source": [
    "# g, sucess, fail, sucess_len, fail_len\n",
    "plt.figure(figsize=(20,8))\n",
    "plt.ylim((0,100))\n",
    "plt.scatter(exps_short[::,0],exps_short[::,1]*100, alpha=0.8)\n",
    "plt.title('The % of successfull trajectories vs Gamma')"
   ]
  },
  {
   "cell_type": "code",
   "execution_count": 90,
   "id": "d203f8c8",
   "metadata": {},
   "outputs": [
    {
     "data": {
      "text/plain": [
       "array([0.988     , 0.98811111, 0.98822222, 0.98833333, 0.98844444,\n",
       "       0.98855556, 0.98866667, 0.98877778, 0.98888889, 0.989     ,\n",
       "       0.98911111, 0.98922222, 0.98933333, 0.98944444, 0.98955556,\n",
       "       0.98966667, 0.98977778, 0.98988889, 0.99      , 0.99011111,\n",
       "       0.99022222, 0.99033333, 0.99044444, 0.99055556, 0.99066667,\n",
       "       0.99077778, 0.99088889, 0.991     , 0.99111111, 0.99122222,\n",
       "       0.99133333, 0.99144444, 0.99155556, 0.99166667, 0.99177778,\n",
       "       0.99188889, 0.992     , 0.99211111, 0.99222222, 0.99233333,\n",
       "       0.99244444, 0.99255556, 0.99266667, 0.99277778, 0.99288889,\n",
       "       0.993     , 0.99311111, 0.99322222, 0.99333333, 0.99344444,\n",
       "       0.99355556, 0.99366667, 0.99377778, 0.99388889, 0.994     ,\n",
       "       0.99411111, 0.99422222, 0.99433333, 0.99444444, 0.99455556,\n",
       "       0.99466667, 0.99477778, 0.99488889, 0.995     , 0.99511111,\n",
       "       0.99522222, 0.99533333, 0.99544444, 0.99555556, 0.99566667,\n",
       "       0.99577778, 0.99588889, 0.996     , 0.99611111, 0.99622222,\n",
       "       0.99633333, 0.99644444, 0.99655556, 0.99666667, 0.99677778,\n",
       "       0.99688889, 0.997     , 0.99711111, 0.99722222, 0.99733333,\n",
       "       0.99744444, 0.99755556, 0.99766667, 0.99777778, 0.99788889,\n",
       "       0.998     , 0.99811111, 0.99822222, 0.99833333, 0.99844444,\n",
       "       0.99855556, 0.99866667, 0.99877778, 0.99888889, 0.999     ])"
      ]
     },
     "execution_count": 90,
     "metadata": {},
     "output_type": "execute_result"
    }
   ],
   "source": [
    "gammas = np.linspace(0.988,0.999, num=100)\n",
    "gammas"
   ]
  },
  {
   "cell_type": "code",
   "execution_count": 91,
   "id": "5c1b51aa",
   "metadata": {},
   "outputs": [
    {
     "name": "stderr",
     "output_type": "stream",
     "text": [
      "/home/shmalex/anaconda3/lib/python3.7/site-packages/ipykernel_launcher.py:3: TqdmDeprecationWarning: This function will be removed in tqdm==5.0.0\n",
      "Please use `tqdm.notebook.tqdm` instead of `tqdm.tqdm_notebook`\n",
      "  This is separate from the ipykernel package so we can avoid doing imports until\n"
     ]
    },
    {
     "data": {
      "application/vnd.jupyter.widget-view+json": {
       "model_id": "e966b369e21d4a4490ee3349b927e42d",
       "version_major": 2,
       "version_minor": 0
      },
      "text/plain": [
       "gammas:   0%|          | 0/100 [00:00<?, ?it/s]"
      ]
     },
     "metadata": {},
     "output_type": "display_data"
    },
    {
     "data": {
      "application/vnd.jupyter.widget-view+json": {
       "model_id": "f19d6c5aa56644a19ca510c5f0b85d0a",
       "version_major": 2,
       "version_minor": 0
      },
      "text/plain": [
       "train:   0%|          | 0/100 [00:00<?, ?it/s]"
      ]
     },
     "metadata": {},
     "output_type": "display_data"
    },
    {
     "data": {
      "application/vnd.jupyter.widget-view+json": {
       "model_id": "07f9b2397d054bc686da796d23a11fca",
       "version_major": 2,
       "version_minor": 0
      },
      "text/plain": [
       "test:   0%|          | 0/5000 [00:00<?, ?it/s]"
      ]
     },
     "metadata": {},
     "output_type": "display_data"
    }
   ],
   "source": [
    "NN = 5000\n",
    "L = 100\n",
    "K = 100\n",
    "exps_short_988_999 = experiments(L, K, NN, gammas)"
   ]
  },
  {
   "cell_type": "code",
   "execution_count": 99,
   "id": "666379b6",
   "metadata": {},
   "outputs": [
    {
     "data": {
      "text/plain": [
       "Text(0.5, 1.0, 'The % of successfull trajectories vs Gamma')"
      ]
     },
     "execution_count": 99,
     "metadata": {},
     "output_type": "execute_result"
    },
    {
     "data": {
      "image/png": "[encoded data removed]",
      "text/plain": [
       "<Figure size 1440x576 with 1 Axes>"
      ]
     },
     "metadata": {
      "needs_background": "light"
     },
     "output_type": "display_data"
    }
   ],
   "source": [
    "plt.figure(figsize=(20,8))\n",
    "# plt.ylim((0,100))\n",
    "plt.scatter(exps_short_988_999[::,0],exps_short_988_999[::,1]*100, alpha=0.8)\n",
    "plt.title('The % of successfull trajectories vs Gamma')"
   ]
  },
  {
   "cell_type": "code",
   "execution_count": 43,
   "id": "1a60a39d",
   "metadata": {},
   "outputs": [
    {
     "name": "stderr",
     "output_type": "stream",
     "text": [
      "/home/shmalex/anaconda3/lib/python3.7/site-packages/ipykernel/ipkernel.py:287: DeprecationWarning: `should_run_async` will not call `transform_cell` automatically in the future. Please pass the result to `transformed_cell` argument and any exception that happen during thetransform in `preprocessing_exc_tuple` in IPython 7.17 and above.\n",
      "  and should_run_async(code)\n",
      "/home/shmalex/anaconda3/lib/python3.7/site-packages/ipykernel_launcher.py:7: TqdmDeprecationWarning: This function will be removed in tqdm==5.0.0\n",
      "Please use `tqdm.notebook.tqdm` instead of `tqdm.tqdm_notebook`\n",
      "  import sys\n"
     ]
    },
    {
     "data": {
      "application/vnd.jupyter.widget-view+json": {
       "model_id": "b57c4f0e2c92400da4d90592cb9af56c",
       "version_major": 2,
       "version_minor": 0
      },
      "text/plain": [
       "train:   0%|          | 0/100 [00:00<?, ?it/s]"
      ]
     },
     "metadata": {},
     "output_type": "display_data"
    },
    {
     "data": {
      "application/vnd.jupyter.widget-view+json": {
       "model_id": "584f6ba9e8b74e32bbb141913204ddae",
       "version_major": 2,
       "version_minor": 0
      },
      "text/plain": [
       "test:   0%|          | 0/5000 [00:00<?, ?it/s]"
      ]
     },
     "metadata": {},
     "output_type": "display_data"
    },
    {
     "name": "stdout",
     "output_type": "stream",
     "text": [
      "|   iter    |  target   |   gamma   |\n",
      "-------------------------------------\n",
      "| \u001b[0m1        \u001b[0m | \u001b[0m0.7358   \u001b[0m | \u001b[0m0.8123   \u001b[0m |\n",
      "| \u001b[95m2        \u001b[0m | \u001b[95m0.7372   \u001b[0m | \u001b[95m0.2078   \u001b[0m |\n",
      "| \u001b[0m3        \u001b[0m | \u001b[0m0.7346   \u001b[0m | \u001b[0m0.0847   \u001b[0m |\n",
      "| \u001b[95m4        \u001b[0m | \u001b[95m0.7556   \u001b[0m | \u001b[95m0.9729   \u001b[0m |\n",
      "| \u001b[0m5        \u001b[0m | \u001b[0m0.7242   \u001b[0m | \u001b[0m0.2485   \u001b[0m |\n",
      "| \u001b[95m6        \u001b[0m | \u001b[95m0.7624   \u001b[0m | \u001b[95m0.9729   \u001b[0m |\n",
      "| \u001b[0m7        \u001b[0m | \u001b[0m0.7604   \u001b[0m | \u001b[0m0.973    \u001b[0m |\n",
      "| \u001b[0m8        \u001b[0m | \u001b[0m0.7576   \u001b[0m | \u001b[0m0.9735   \u001b[0m |\n",
      "| \u001b[95m9        \u001b[0m | \u001b[95m0.7642   \u001b[0m | \u001b[95m0.9739   \u001b[0m |\n",
      "| \u001b[0m10       \u001b[0m | \u001b[0m0.7492   \u001b[0m | \u001b[0m0.9741   \u001b[0m |\n",
      "| \u001b[0m11       \u001b[0m | \u001b[0m0.7348   \u001b[0m | \u001b[0m0.4228   \u001b[0m |\n",
      "| \u001b[0m12       \u001b[0m | \u001b[0m0.7622   \u001b[0m | \u001b[0m0.9876   \u001b[0m |\n",
      "| \u001b[0m13       \u001b[0m | \u001b[0m0.7536   \u001b[0m | \u001b[0m0.9737   \u001b[0m |\n",
      "| \u001b[0m14       \u001b[0m | \u001b[0m0.761    \u001b[0m | \u001b[0m0.9874   \u001b[0m |\n",
      "| \u001b[95m15       \u001b[0m | \u001b[95m0.7644   \u001b[0m | \u001b[95m0.9872   \u001b[0m |\n",
      "| \u001b[0m16       \u001b[0m | \u001b[0m0.7544   \u001b[0m | \u001b[0m0.987    \u001b[0m |\n",
      "| \u001b[95m17       \u001b[0m | \u001b[95m0.7664   \u001b[0m | \u001b[95m0.9879   \u001b[0m |\n",
      "| \u001b[0m18       \u001b[0m | \u001b[0m0.7536   \u001b[0m | \u001b[0m0.9882   \u001b[0m |\n",
      "| \u001b[0m19       \u001b[0m | \u001b[0m0.7206   \u001b[0m | \u001b[0m0.8733   \u001b[0m |\n",
      "| \u001b[0m20       \u001b[0m | \u001b[0m0.7354   \u001b[0m | \u001b[0m0.4452   \u001b[0m |\n",
      "| \u001b[95m21       \u001b[0m | \u001b[95m0.8608   \u001b[0m | \u001b[95m0.989    \u001b[0m |\n",
      "| \u001b[0m22       \u001b[0m | \u001b[0m0.8528   \u001b[0m | \u001b[0m0.9892   \u001b[0m |\n",
      "| \u001b[0m23       \u001b[0m | \u001b[0m0.8608   \u001b[0m | \u001b[0m0.9895   \u001b[0m |\n",
      "| \u001b[95m24       \u001b[0m | \u001b[95m0.8636   \u001b[0m | \u001b[95m0.9895   \u001b[0m |\n",
      "| \u001b[0m25       \u001b[0m | \u001b[0m0.8628   \u001b[0m | \u001b[0m0.9888   \u001b[0m |\n",
      "| \u001b[0m26       \u001b[0m | \u001b[0m0.7268   \u001b[0m | \u001b[0m0.5998   \u001b[0m |\n",
      "| \u001b[0m27       \u001b[0m | \u001b[0m0.739    \u001b[0m | \u001b[0m0.1518   \u001b[0m |\n",
      "| \u001b[0m28       \u001b[0m | \u001b[0m0.7264   \u001b[0m | \u001b[0m0.7881   \u001b[0m |\n",
      "| \u001b[0m29       \u001b[0m | \u001b[0m0.8562   \u001b[0m | \u001b[0m0.99     \u001b[0m |\n",
      "| \u001b[0m30       \u001b[0m | \u001b[0m0.7258   \u001b[0m | \u001b[0m0.2177   \u001b[0m |\n",
      "| \u001b[0m31       \u001b[0m | \u001b[0m0.7326   \u001b[0m | \u001b[0m0.6319   \u001b[0m |\n",
      "| \u001b[0m32       \u001b[0m | \u001b[0m0.7372   \u001b[0m | \u001b[0m0.03299  \u001b[0m |\n",
      "| \u001b[0m33       \u001b[0m | \u001b[0m0.7392   \u001b[0m | \u001b[0m0.5475   \u001b[0m |\n",
      "| \u001b[0m34       \u001b[0m | \u001b[0m0.7342   \u001b[0m | \u001b[0m0.3612   \u001b[0m |\n",
      "| \u001b[0m35       \u001b[0m | \u001b[0m0.7244   \u001b[0m | \u001b[0m0.5594   \u001b[0m |\n",
      "| \u001b[0m36       \u001b[0m | \u001b[0m0.8564   \u001b[0m | \u001b[0m0.9898   \u001b[0m |\n",
      "| \u001b[0m37       \u001b[0m | \u001b[0m0.7408   \u001b[0m | \u001b[0m0.5739   \u001b[0m |\n",
      "| \u001b[0m38       \u001b[0m | \u001b[0m0.739    \u001b[0m | \u001b[0m0.5872   \u001b[0m |\n",
      "| \u001b[0m39       \u001b[0m | \u001b[0m0.7484   \u001b[0m | \u001b[0m0.9242   \u001b[0m |\n",
      "| \u001b[0m40       \u001b[0m | \u001b[0m0.7412   \u001b[0m | \u001b[0m0.7773   \u001b[0m |\n",
      "| \u001b[0m41       \u001b[0m | \u001b[0m0.7332   \u001b[0m | \u001b[0m0.7282   \u001b[0m |\n",
      "| \u001b[0m42       \u001b[0m | \u001b[0m0.7402   \u001b[0m | \u001b[0m0.4356   \u001b[0m |\n",
      "| \u001b[0m43       \u001b[0m | \u001b[0m0.738    \u001b[0m | \u001b[0m0.2792   \u001b[0m |\n",
      "| \u001b[0m44       \u001b[0m | \u001b[0m0.86     \u001b[0m | \u001b[0m0.9889   \u001b[0m |\n",
      "| \u001b[0m45       \u001b[0m | \u001b[0m0.7286   \u001b[0m | \u001b[0m0.609    \u001b[0m |\n",
      "| \u001b[0m46       \u001b[0m | \u001b[0m0.725    \u001b[0m | \u001b[0m0.7468   \u001b[0m |\n",
      "| \u001b[0m47       \u001b[0m | \u001b[0m0.7372   \u001b[0m | \u001b[0m0.4653   \u001b[0m |\n",
      "| \u001b[0m48       \u001b[0m | \u001b[0m0.7248   \u001b[0m | \u001b[0m0.2638   \u001b[0m |\n",
      "| \u001b[0m49       \u001b[0m | \u001b[0m0.7264   \u001b[0m | \u001b[0m0.2391   \u001b[0m |\n",
      "| \u001b[0m50       \u001b[0m | \u001b[0m0.7338   \u001b[0m | \u001b[0m0.7155   \u001b[0m |\n",
      "| \u001b[0m51       \u001b[0m | \u001b[0m0.8502   \u001b[0m | \u001b[0m0.9887   \u001b[0m |\n",
      "| \u001b[0m52       \u001b[0m | \u001b[0m0.736    \u001b[0m | \u001b[0m0.01     \u001b[0m |\n",
      "| \u001b[0m53       \u001b[0m | \u001b[0m0.7304   \u001b[0m | \u001b[0m0.1619   \u001b[0m |\n",
      "| \u001b[0m54       \u001b[0m | \u001b[0m0.7412   \u001b[0m | \u001b[0m0.4112   \u001b[0m |\n",
      "| \u001b[0m55       \u001b[0m | \u001b[0m0.73     \u001b[0m | \u001b[0m0.5252   \u001b[0m |\n",
      "=====================================\n"
     ]
    },
    {
     "ename": "TypeError",
     "evalue": "list indices must be integers or slices, not str",
     "output_type": "error",
     "traceback": [
      "\u001b[0;31m---------------------------------------------------------------------------\u001b[0m",
      "\u001b[0;31mTypeError\u001b[0m                                 Traceback (most recent call last)",
      "\u001b[0;32m<ipython-input-43-1a10ed292a1c>\u001b[0m in \u001b[0;36m<module>\u001b[0;34m\u001b[0m\n\u001b[1;32m     29\u001b[0m \u001b[0;34m\u001b[0m\u001b[0m\n\u001b[1;32m     30\u001b[0m \u001b[0;31m# Print the hyperparameters that resulted in the best performance\u001b[0m\u001b[0;34m\u001b[0m\u001b[0;34m\u001b[0m\u001b[0;34m\u001b[0m\u001b[0m\n\u001b[0;32m---> 31\u001b[0;31m \u001b[0mprint\u001b[0m\u001b[0;34m(\u001b[0m\u001b[0mbo\u001b[0m\u001b[0;34m.\u001b[0m\u001b[0mres\u001b[0m\u001b[0;34m[\u001b[0m\u001b[0;34m'max'\u001b[0m\u001b[0;34m]\u001b[0m\u001b[0;34m)\u001b[0m\u001b[0;34m\u001b[0m\u001b[0;34m\u001b[0m\u001b[0m\n\u001b[0m",
      "\u001b[0;31mTypeError\u001b[0m: list indices must be integers or slices, not str"
     ]
    }
   ],
   "source": [
    "import numpy as np\n",
    "from bayes_opt import BayesianOptimization\n",
    "\n",
    "L = 100\n",
    "K = 100\n",
    "NN = 5000\n",
    "tqdm_train = tqdm.tqdm_notebook(total=K, desc='train', position=1)\n",
    "tqdm_test  = tqdm.tqdm_notebook(total=NN, desc='test', position=2)\n",
    "\n",
    "# Define the objective function for the MDP\n",
    "def objective(gamma):\n",
    "    # Train the MDP using the specified learning rate and discount factor\n",
    "    policy = train_MDP(L, K, gamma, tqdm_train)\n",
    "\n",
    "    # Evaluate the performance of the trained MDP on a validation dataset\n",
    "    rewards, steps = test_MDP(policy, NN,  tqdm_test)\n",
    "    g, sucess, fail, sucess_len, fail_len = stats(gamma, rewards, steps)\n",
    "    # Return the performance of the MDP as the objective value\n",
    "    return sucess\n",
    "\n",
    "# Define the bounds of the hyperparameters\n",
    "bounds = {'gamma': (0.01, 0.99)}\n",
    "\n",
    "# Initialize the Bayesian optimization algorithm\n",
    "bo = BayesianOptimization(objective, bounds)\n",
    "\n",
    "# Run the optimization process for a maximum of 50 iterations\n",
    "bo.maximize(n_iter=50)\n",
    "\n",
    "# Print the hyperparameters that resulted in the best performance\n",
    "print(bo.res['max'])"
   ]
  },
  {
   "cell_type": "code",
   "execution_count": 47,
   "id": "fb7ee756",
   "metadata": {},
   "outputs": [],
   "source": [
    "dones = np.array([(r['target'], r['params']['gamma']) for r in bo.res])"
   ]
  },
  {
   "cell_type": "code",
   "execution_count": 50,
   "id": "6ff90eb6",
   "metadata": {},
   "outputs": [
    {
     "data": {
      "text/plain": [
       "<matplotlib.collections.PathCollection at 0x7f3ff87d1410>"
      ]
     },
     "execution_count": 50,
     "metadata": {},
     "output_type": "execute_result"
    },
    {
     "data": {
      "image/png": "[encoded data removed]",
      "text/plain": [
       "<Figure size 432x288 with 1 Axes>"
      ]
     },
     "metadata": {
      "needs_background": "light"
     },
     "output_type": "display_data"
    }
   ],
   "source": [
    "plt.scatter(dones[::,0], dones[::,1])"
   ]
  },
  {
   "cell_type": "code",
   "execution_count": null,
   "id": "ca73a0c4",
   "metadata": {},
   "outputs": [],
   "source": []
  },
  {
   "cell_type": "code",
   "execution_count": 297,
   "id": "1385b91e",
   "metadata": {},
   "outputs": [
    {
     "data": {
      "text/plain": [
       "array([[ 0.        ,  0.0147    ,  0.9853    , 11.96598639,  6.61230082],\n",
       "       [ 0.11111111,  0.0142    ,  0.9858    , 12.92957746,  6.57892067],\n",
       "       [ 0.22222222,  0.0139    ,  0.9861    , 12.33093525,  6.65175946],\n",
       "       [ 0.33333333,  0.0157    ,  0.9843    , 12.21656051,  6.63679772],\n",
       "       [ 0.44444444,  0.0155    ,  0.9845    , 11.75483871,  6.5523616 ],\n",
       "       [ 0.55555556,  0.0167    ,  0.9833    , 13.4251497 ,  6.5096105 ],\n",
       "       [ 0.66666667,  0.0151    ,  0.9849    , 11.96688742,  6.66422987],\n",
       "       [ 0.77777778,  0.0148    ,  0.9852    , 12.38513514,  6.60535932],\n",
       "       [ 0.88888889,  0.0156    ,  0.9844    , 12.30128205,  6.51787891],\n",
       "       [ 1.        ,  0.014     ,  0.986     , 12.40714286,  6.64371197]])"
      ]
     },
     "execution_count": 297,
     "metadata": {},
     "output_type": "execute_result"
    }
   ],
   "source": [
    "exps"
   ]
  },
  {
   "cell_type": "code",
   "execution_count": 230,
   "id": "9331d607",
   "metadata": {},
   "outputs": [
    {
     "data": {
      "text/plain": [
       "3"
      ]
     },
     "execution_count": 230,
     "metadata": {},
     "output_type": "execute_result"
    }
   ],
   "source": [
    "len(exps)"
   ]
  },
  {
   "cell_type": "code",
   "execution_count": 246,
   "id": "b6030f24",
   "metadata": {},
   "outputs": [
    {
     "ename": "ValueError",
     "evalue": "too many values to unpack (expected 3)",
     "output_type": "error",
     "traceback": [
      "\u001b[0;31m------------------------------------\u001b[0m",
      "\u001b[0;31mValueError\u001b[0mTraceback (most recent call last)",
      "\u001b[0;32m<ipython-input-246-224bc98e7af6>\u001b[0m in \u001b[0;36m<module>\u001b[0;34m\u001b[0m\n\u001b[0;32m----> 1\u001b[0;31m \u001b[0mg\u001b[0m\u001b[0;34m,\u001b[0m \u001b[0mr\u001b[0m\u001b[0;34m,\u001b[0m \u001b[0ms\u001b[0m \u001b[0;34m=\u001b[0m \u001b[0mexps\u001b[0m\u001b[0;34m[\u001b[0m\u001b[0;36m0\u001b[0m\u001b[0;34m]\u001b[0m\u001b[0;34m\u001b[0m\u001b[0;34m\u001b[0m\u001b[0m\n\u001b[0m",
      "\u001b[0;31mValueError\u001b[0m: too many values to unpack (expected 3)"
     ]
    }
   ],
   "source": [
    "g, r, s = exps[0]"
   ]
  },
  {
   "cell_type": "code",
   "execution_count": 233,
   "id": "cd170fa4",
   "metadata": {},
   "outputs": [
    {
     "data": {
      "text/plain": [
       "0.0"
      ]
     },
     "execution_count": 233,
     "metadata": {},
     "output_type": "execute_result"
    }
   ],
   "source": [
    "g"
   ]
  },
  {
   "cell_type": "code",
   "execution_count": 245,
   "id": "f202e69b",
   "metadata": {},
   "outputs": [
    {
     "data": {
      "text/plain": [
       "(0.012, 0.988, 11.666666666666666, 6.618421052631579)"
      ]
     },
     "execution_count": 245,
     "metadata": {},
     "output_type": "execute_result"
    }
   ],
   "source": [
    "stats(g, r, s)"
   ]
  },
  {
   "cell_type": "code",
   "execution_count": 158,
   "id": "cd2f6656",
   "metadata": {},
   "outputs": [],
   "source": [
    "def test_policy(policy):\n",
    "    total_reward = 0\n",
    "    state = env.reset()\n",
    "    for i in range(100):\n",
    "        possible_actions = list(sorted(env.get_possible_actions(state)))\n",
    "#         print(possible_actions)\n",
    "        state_y, state_x = state\n",
    "        actions_distr = policy[state_y][state_x]\n",
    "\n",
    "        action = np.random.choice(possible_actions,p=actions_distr)\n",
    "        state, reward, done, _ = env.step(action)\n",
    "#         print(state, reward, done, _,action, actions_distr)\n",
    "#         env.render()\n",
    "        total_reward += reward\n",
    "\n",
    "        if done: break\n",
    "    return total_reward, i"
   ]
  },
  {
   "cell_type": "code",
   "execution_count": 126,
   "id": "ea5dba6d",
   "metadata": {},
   "outputs": [
    {
     "name": "stderr",
     "output_type": "stream",
     "text": [
      "100%|██████████| 10000/10000 [00:06<00:00, 1459.44it/s]\n"
     ]
    }
   ],
   "source": [
    "NN = 10000\n",
    "runs = [run_test()for _ in tqdm.tqdm(range(NN))]\n",
    "runs = np.array(runs)"
   ]
  },
  {
   "cell_type": "code",
   "execution_count": 114,
   "id": "bcea6af7",
   "metadata": {},
   "outputs": [
    {
     "name": "stderr",
     "output_type": "stream",
     "text": [
      "/home/shmalex/anaconda3/lib/python3.7/site-packages/ipykernel/ipkernel.py:287: DeprecationWarning: `should_run_async` will not call `transform_cell` automatically in the future. Please pass the result to `transformed_cell` argument and any exception that happen during thetransform in `preprocessing_exc_tuple` in IPython 7.17 and above.\n",
      "  and should_run_async(code)\n"
     ]
    }
   ],
   "source": [
    "import matplotlib.pyplot as plt"
   ]
  },
  {
   "cell_type": "code",
   "execution_count": 129,
   "id": "dc5d3e16",
   "metadata": {},
   "outputs": [
    {
     "name": "stdout",
     "output_type": "stream",
     "text": [
      "0.7276 0.2724\n"
     ]
    }
   ],
   "source": [
    "success = np.sum(runs[::,0]==1.)/NN\n",
    "fail = 1-success\n",
    "print(success, fail)"
   ]
  },
  {
   "cell_type": "code",
   "execution_count": 128,
   "id": "34443532",
   "metadata": {},
   "outputs": [
    {
     "data": {
      "image/png": "[encoded data removed]",
      "text/plain": [
       "<Figure size 432x288 with 1 Axes>"
      ]
     },
     "metadata": {
      "needs_background": "light"
     },
     "output_type": "display_data"
    }
   ],
   "source": [
    "plt.hist(runs[runs[::,0]==0.][::,1], color='red' , alpha=0.3, bins=50)\n",
    "plt.hist(runs[runs[::,0]==1.][::,1], color='blue', alpha=0.3, bins=50)\n",
    "plt.show()"
   ]
  },
  {
   "cell_type": "code",
   "execution_count": 40,
   "id": "af85ebdf",
   "metadata": {},
   "outputs": [
    {
     "data": {
      "text/plain": [
       "1.0"
      ]
     },
     "execution_count": 40,
     "metadata": {},
     "output_type": "execute_result"
    }
   ],
   "source": [
    "total_reward"
   ]
  },
  {
   "cell_type": "code",
   "execution_count": 61,
   "id": "a1a32480",
   "metadata": {},
   "outputs": [
    {
     "data": {
      "text/plain": [
       "inf"
      ]
     },
     "execution_count": 61,
     "metadata": {},
     "output_type": "execute_result"
    }
   ],
   "source": [
    "float('Inf')"
   ]
  },
  {
   "cell_type": "code",
   "execution_count": 44,
   "id": "a8ab49a5",
   "metadata": {},
   "outputs": [
    {
     "name": "stderr",
     "output_type": "stream",
     "text": [
      "100%|██████████| 100/100 [00:05<00:00, 19.55it/s]\n"
     ]
    },
    {
     "name": "stdout",
     "output_type": "stream",
     "text": [
      "SFFF\n",
      "*HFH\n",
      "FFFH\n",
      "HFFG\n",
      "\n",
      "SFFF\n",
      "FHFH\n",
      "*FFH\n",
      "HFFG\n",
      "\n",
      "SFFF\n",
      "FHFH\n",
      "F*FH\n",
      "HFFG\n",
      "\n",
      "SFFF\n",
      "FHFH\n",
      "FFFH\n",
      "H*FG\n",
      "\n",
      "SFFF\n",
      "FHFH\n",
      "FFFH\n",
      "HF*G\n",
      "\n",
      "SFFF\n",
      "FHFH\n",
      "FFFH\n",
      "HFF*\n",
      "\n",
      "total reward = 1.0\n"
     ]
    }
   ],
   "source": [
    "from Frozen_Lake import FrozenLakeEnv\n",
    "import numpy as np\n",
    "import time\n",
    "\n",
    "env = FrozenLakeEnv()\n",
    "\n",
    "def init_policy():\n",
    "    policy = {}\n",
    "    for state in env.get_all_states():\n",
    "        policy[state] = {}\n",
    "        for action in env.get_possible_actions(state):\n",
    "            policy[state][action] = 1 / len(env.get_possible_actions(state))\n",
    "    return policy\n",
    "\n",
    "def policy_evaluation_step(policy, values, gamma):\n",
    "    q_values = get_q_values(values, gamma)\n",
    "    \n",
    "    new_values = {}\n",
    "    for state in env.get_all_states():\n",
    "        new_values[state] = 0\n",
    "        for action in env.get_possible_actions(state):\n",
    "            new_values[state] += policy[state][action] * q_values[state][action]\n",
    "    \n",
    "    return new_values\n",
    "\n",
    "def init_values():\n",
    "    return {state: 0 for state in env.get_all_states()}\n",
    "\n",
    "def get_q_values(values, gamma):\n",
    "    q_values = {}\n",
    "    for state in env.get_all_states():\n",
    "        q_values[state] = {}\n",
    "        for action in env.get_possible_actions(state):\n",
    "            q_values[state][action] = 0\n",
    "            for next_state in env.get_next_states(state, action):\n",
    "                reward = env.get_reward(state, action, next_state)\n",
    "                transition_prob = env.get_transition_prob(state, action, next_state)\n",
    "                next_value = values[next_state]\n",
    "                q_values[state][action] += transition_prob * (reward + gamma * next_value)\n",
    "    return q_values\n",
    "\n",
    "def policy_evaluation(policy, gamma, evaluation_step_n):\n",
    "    values = init_values()\n",
    "    for _ in range(evaluation_step_n):\n",
    "        values = policy_evaluation_step(policy, values, gamma)\n",
    "    q_values = get_q_values(values, gamma)\n",
    "    return q_values\n",
    "\n",
    "def policy_improvement(q_values):\n",
    "    new_policy = {}\n",
    "    for state in env.get_all_states():\n",
    "        new_policy[state] = {}\n",
    "        max_action = None\n",
    "        max_q_value = float('-inf')\n",
    "        for action in env.get_possible_actions(state):\n",
    "            if q_values[state][action] > max_q_value:\n",
    "                max_q_value = q_values[state][action]\n",
    "                max_action = action\n",
    "        for action in env.get_possible_actions(state):\n",
    "            new_policy[state][action] = 1 if action == max_action else 0\n",
    "    return new_policy\n",
    "\n",
    "\n",
    "iteration_n = 100\n",
    "evaluation_step_n = 100\n",
    "gamma = 0.9\n",
    "\n",
    "policy = init_policy()\n",
    "for k in tqdm.tqdm(range(iteration_n), position=0):\n",
    "    \n",
    "    q_values = policy_evaluation(policy, gamma, evaluation_step_n)\n",
    "    policy = policy_improvement(q_values)\n",
    "    \n",
    "\n",
    "total_reward = 0\n",
    "state = env.reset()\n",
    "for _ in range(100):\n",
    "    action = np.random.choice(env.get_possible_actions(state), p=list(policy[state].values()))\n",
    "    state, reward, done, _ = env.step(action)\n",
    "    \n",
    "    time.sleep(1)\n",
    "    env.render()\n",
    "    \n",
    "    total_reward += reward\n",
    "    \n",
    "    if done or env.is_terminal(state):\n",
    "        break\n",
    "\n",
    "print(f'total reward = {total_reward}')"
   ]
  },
  {
   "cell_type": "code",
   "execution_count": 49,
   "id": "e637f737",
   "metadata": {},
   "outputs": [
    {
     "name": "stderr",
     "output_type": "stream",
     "text": [
      "/home/shmalex/anaconda3/lib/python3.7/site-packages/ipykernel/ipkernel.py:287: DeprecationWarning: `should_run_async` will not call `transform_cell` automatically in the future. Please pass the result to `transformed_cell` argument and any exception that happen during thetransform in `preprocessing_exc_tuple` in IPython 7.17 and above.\n",
      "  and should_run_async(code)\n"
     ]
    }
   ],
   "source": [
    "plc = np.zeros((4,4,4))\n",
    "for (y,x),a  in policy.items():\n",
    "    for k,v in a.items():\n",
    "        plc[y][x][actions_dict[k]] = v"
   ]
  }
 ],
 "metadata": {
  "kernelspec": {
   "display_name": "Python 3",
   "language": "python",
   "name": "python3"
  },
  "language_info": {
   "codemirror_mode": {
    "name": "ipython",
    "version": 3
   },
   "file_extension": ".py",
   "mimetype": "text/x-python",
   "name": "python",
   "nbconvert_exporter": "python",
   "pygments_lexer": "ipython3",
   "version": "3.7.10"
  }
 },
 "nbformat": 4,
 "nbformat_minor": 5
}
