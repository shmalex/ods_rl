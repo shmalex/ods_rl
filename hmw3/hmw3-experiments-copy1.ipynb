{
 "cells": [
  {
   "cell_type": "markdown",
   "id": "d78c2695",
   "metadata": {},
   "source": [
    "## Home Work"
   ]
  },
  {
   "cell_type": "code",
   "execution_count": 14,
   "id": "1106ef9e",
   "metadata": {},
   "outputs": [],
   "source": [
    "import colorama\n",
    "\n",
    "import tqdm\n",
    "import matplotlib.pyplot as plt\n",
    "import graphviz\n",
    "import numpy as np\n",
    "import Frozen_Lake as fl"
   ]
  },
  {
   "cell_type": "code",
   "execution_count": 2,
   "id": "c751ab74",
   "metadata": {},
   "outputs": [
    {
     "name": "stderr",
     "output_type": "stream",
     "text": [
      "/home/shmalex/anaconda3/lib/python3.7/site-packages/ipykernel/ipkernel.py:287: DeprecationWarning: `should_run_async` will not call `transform_cell` automatically in the future. Please pass the result to `transformed_cell` argument and any exception that happen during thetransform in `preprocessing_exc_tuple` in IPython 7.17 and above.\n",
      "  and should_run_async(code)\n"
     ]
    }
   ],
   "source": [
    "def init_policy(env):\n",
    "\n",
    "    actions_set = set()\n",
    "\n",
    "    row_max = 0\n",
    "    col_max = 0\n",
    "    for state in env.get_all_states():\n",
    "        actions_set.update(env.get_possible_actions(state))\n",
    "        row_max = max(row_max, state[0])\n",
    "        col_max = max(col_max, state[1])\n",
    "\n",
    "    actions = {i:action for i,action in enumerate(sorted(actions_set))}\n",
    "\n",
    "    policy = np.zeros((row_max+1, col_max+1, len(actions_set)))\n",
    "\n",
    "#     print('policies    |states')\n",
    "    for y,x in env.get_all_states():\n",
    "        possible_actions = env.get_possible_actions((y,x))\n",
    "        if len(possible_actions)!=0:\n",
    "            uniform_prob = 1/len(possible_actions)\n",
    "            policy[y][x] = uniform_prob\n",
    "#         print(policy[y][x], y, x,)\n",
    "    return policy, list(sorted(actions_set))\n",
    "\n",
    "def init_values(policy):\n",
    "     return np.zeros((policy.shape[0]*policy.shape[1],))\n",
    "\n",
    "def policy_evaluation_step(policy, values, gamma):\n",
    "    new_values = np.zeros(policy.shape[0]*policy.shape[1])\n",
    "\n",
    "    for state in env.get_all_states():\n",
    "        state_y, state_x = state\n",
    "        idx_state_values = state_y*policy.shape[0] + state_x\n",
    "        for action in env.get_possible_actions(state):\n",
    "            policy_prob = policy[state_y][state_x][actions_dict[action]]\n",
    "            for next_state in env.get_next_states(state, action):\n",
    "                next_state_y, next_state_x = next_state\n",
    "                idx_next_state_values = next_state_y*policy.shape[0] + next_state_x\n",
    "\n",
    "                # reward\n",
    "                reward = env.get_reward(state, action, next_state)\n",
    "#                 total_reward += reward\n",
    "                # value\n",
    "                trans_prob = env.get_transition_prob(state, action, next_state)\n",
    "                next_value = values[idx_next_state_values]\n",
    "#                 total_value += gamma * trans_prob * value_func\n",
    "                new_values[idx_state_values] += \\\n",
    "                    policy_prob * trans_prob * (reward + gamma * next_value)\n",
    "#             new_values[idx_state_values] += \\\n",
    "#                 policy_prob * (total_reward + total_value)\n",
    "\n",
    "    return new_values\n",
    "\n",
    "def Q(policy, values, actions_dict):\n",
    "    new_q = np.zeros(policy.shape)\n",
    "\n",
    "    for state in env.get_all_states():\n",
    "        state_y, state_x = state\n",
    "        # actions_dict[action]\n",
    "        for action in env.get_possible_actions(state):\n",
    "            for next_state in env.get_next_states(state, action):\n",
    "                next_state_y, next_state_x = next_state\n",
    "\n",
    "                reward = env.get_reward(state, action, next_state)\n",
    "                prob = env.get_transition_prob(state, action, next_state)\n",
    "                next_value = values[next_state_y*policy.shape[0]+next_state_x]\n",
    "\n",
    "                new_q[state_y][state_x][actions_dict[action]] \\\n",
    "                    += prob *(reward + gamma * next_value)\n",
    "    return new_q\n",
    "\n",
    "def policy_improvement(policy, q):\n",
    "    next_policy = np.zeros(policy.shape)\n",
    "    for state in env.get_all_states():\n",
    "        state_y,state_x = state\n",
    "\n",
    "        idx_action = np.argmax(q[state_y][state_x])\n",
    "        next_policy[state_y][state_x][idx_action] = 1\n",
    "    return next_policy"
   ]
  },
  {
   "cell_type": "code",
   "execution_count": 3,
   "id": "67ab3722",
   "metadata": {},
   "outputs": [
    {
     "data": {
      "text/plain": [
       "(0, 0)"
      ]
     },
     "execution_count": 3,
     "metadata": {},
     "output_type": "execute_result"
    }
   ],
   "source": [
    "env = fl.FrozenLakeEnv(map_name=\"4x4\")\n",
    "env.reset()"
   ]
  },
  {
   "cell_type": "code",
   "execution_count": 4,
   "id": "b34781ea",
   "metadata": {},
   "outputs": [
    {
     "data": {
      "text/plain": [
       "(['down', 'left', 'right', 'up'], {'down': 0, 'left': 1, 'right': 2, 'up': 3})"
      ]
     },
     "execution_count": 4,
     "metadata": {},
     "output_type": "execute_result"
    }
   ],
   "source": [
    "policy,actions_set = init_policy(env)\n",
    "actions_dict ={action:i for i,action in enumerate(sorted(actions_set))}\n",
    "actions_arr = [0]*4\n",
    "for k,v in actions_dict.items():\n",
    "    actions_arr[v]=k\n",
    "actions_arr, actions_dict"
   ]
  },
  {
   "cell_type": "code",
   "execution_count": 5,
   "id": "cf4a8f14",
   "metadata": {},
   "outputs": [
    {
     "name": "stderr",
     "output_type": "stream",
     "text": [
      "100%|██████████| 100/100 [00:04<00:00, 20.92it/s]\n"
     ]
    },
    {
     "data": {
      "text/plain": [
       "array([[[1., 0., 0., 0.],\n",
       "        [0., 0., 1., 0.],\n",
       "        [1., 0., 0., 0.],\n",
       "        [0., 1., 0., 0.]],\n",
       "\n",
       "       [[1., 0., 0., 0.],\n",
       "        [1., 0., 0., 0.],\n",
       "        [1., 0., 0., 0.],\n",
       "        [1., 0., 0., 0.]],\n",
       "\n",
       "       [[0., 0., 1., 0.],\n",
       "        [1., 0., 0., 0.],\n",
       "        [1., 0., 0., 0.],\n",
       "        [1., 0., 0., 0.]],\n",
       "\n",
       "       [[1., 0., 0., 0.],\n",
       "        [0., 0., 1., 0.],\n",
       "        [0., 0., 1., 0.],\n",
       "        [1., 0., 0., 0.]]])"
      ]
     },
     "execution_count": 5,
     "metadata": {},
     "output_type": "execute_result"
    }
   ],
   "source": [
    "L = 100\n",
    "K = 100\n",
    "gamma = 0.8\n",
    "\n",
    "values = init_values(policy)\n",
    "for k in tqdm.tqdm(range(K), position=0):\n",
    "    for l in range(L):\n",
    "        values = policy_evaluation_step(policy, values, gamma)\n",
    "    q = Q(policy, values, actions_dict)\n",
    "    policy = policy_improvement(policy, q)\n",
    "policy"
   ]
  },
  {
   "cell_type": "code",
   "execution_count": 6,
   "id": "5ebdb165",
   "metadata": {},
   "outputs": [],
   "source": [
    "def render_policy(policy, env, actions_arr):\n",
    "    field = []\n",
    "    row = []\n",
    "    for y, x in env.get_all_states():\n",
    "        row.append(actions_arr[np.argmax(policy[x][y])][0])\n",
    "        if x == 3:\n",
    "            field.append(' '.join(row))\n",
    "            row = []\n",
    "    print('\\n'.join(field))"
   ]
  },
  {
   "cell_type": "code",
   "execution_count": 7,
   "id": "0db8f47d",
   "metadata": {},
   "outputs": [
    {
     "name": "stdout",
     "output_type": "stream",
     "text": [
      "d d r d\n",
      "r d d r\n",
      "d d d r\n",
      "l d d d\n"
     ]
    }
   ],
   "source": [
    "render_policy(policy, env, actions_arr)"
   ]
  },
  {
   "cell_type": "code",
   "execution_count": 40,
   "id": "1b9a0a5d",
   "metadata": {},
   "outputs": [],
   "source": [
    "def run_test(policy):\n",
    "    total_reward = 0\n",
    "    state = env.reset()\n",
    "    \n",
    "    for step in range(100):\n",
    "        possible_actions = list(sorted(env.get_possible_actions(state)))\n",
    "        state_y, state_x = state\n",
    "        actions_distr = policy[state_y][state_x]\n",
    "\n",
    "        action = np.random.choice(possible_actions,p=actions_distr)\n",
    "        state, reward, done, _ = env.step(action)\n",
    "#         print(state, reward, done, _,action, actions_distr)\n",
    "#         break\n",
    "#         env.render()\n",
    "        total_reward += reward\n",
    "\n",
    "        if done: break\n",
    "    return total_reward, step"
   ]
  },
  {
   "cell_type": "code",
   "execution_count": 42,
   "id": "eb95f301",
   "metadata": {},
   "outputs": [],
   "source": [
    "def stats(g, r, s):\n",
    "    sucess = np.sum(r[r==1])/len(r)\n",
    "    fail = 1 - sucess\n",
    "    sucess_len = np.mean(s[r==1])\n",
    "    fail_len = np.mean(s[r==0])\n",
    "    return g, sucess, fail, sucess_len, fail_len"
   ]
  },
  {
   "cell_type": "code",
   "execution_count": 10,
   "id": "2a2fe8a2",
   "metadata": {},
   "outputs": [
    {
     "data": {
      "text/plain": [
       "(1.0, 7)"
      ]
     },
     "execution_count": 10,
     "metadata": {},
     "output_type": "execute_result"
    }
   ],
   "source": [
    "run_test(policy)"
   ]
  },
  {
   "cell_type": "code",
   "execution_count": 34,
   "id": "1724dc25",
   "metadata": {},
   "outputs": [],
   "source": [
    "def train_MDP(L, K, gamma, tqdm_train):\n",
    "    tqdm_train.reset()\n",
    "    policy,actions_set = init_policy(env)\n",
    "    actions_dict ={action:i for i,action in enumerate(sorted(actions_set))}\n",
    "    values = init_values(policy)\n",
    "    values\n",
    "    for k in range(K):\n",
    "        tqdm_train.update()\n",
    "        for l in range(L):\n",
    "            values = policy_evaluation_step(policy, values, gamma)\n",
    "        q = Q(policy, values, actions_dict)\n",
    "        policy = policy_improvement(policy, q)\n",
    "    return policy\n",
    "\n",
    "def test_MDP(policy, NN, tqdm_test):\n",
    "    tqdm_test.reset()\n",
    "    runs = []\n",
    "    for _ in range(NN):\n",
    "        runs.append(run_test(policy))\n",
    "        tqdm_test.update()\n",
    "    runs = np.array(runs)\n",
    "    rewards, steps = runs[::,0], runs[::,1]\n",
    "    return rewards, steps\n",
    "\n",
    "def experiment(L, K, NN, gamma, tqdm_train, tqdm_test):\n",
    "    # gamma = 0.8\n",
    "    policy = train_mdp(L, K, gamma, tqdm_train)\n",
    "    return test_MDP(policy, NN, tqdm_test)"
   ]
  },
  {
   "cell_type": "code",
   "execution_count": 35,
   "id": "ee55fdd4",
   "metadata": {},
   "outputs": [],
   "source": [
    "def experiments(L, K, NN, gammas):\n",
    "    exps=[]\n",
    "    tqdm_gammas = tqdm.tqdm_notebook(total=len(gammas), desc='gammas', position=0)\n",
    "    tqdm_train = tqdm.tqdm_notebook(total=K, desc='train', position=1)\n",
    "    tqdm_test  = tqdm.tqdm_notebook(total=NN, desc='test', position=2)\n",
    "    for gamma in gammas:\n",
    "        tqdm_gammas.set_description('gamma:'+f\"{gamma:0.5}\")\n",
    "        rewards, steps = experiment(L, K, NN, gamma, tqdm_train, tqdm_test)\n",
    "        exps.append(stats(gamma, rewards, steps))\n",
    "        tqdm_gammas.update()\n",
    "    return np.array(exps)"
   ]
  },
  {
   "cell_type": "code",
   "execution_count": 101,
   "id": "dd204227",
   "metadata": {},
   "outputs": [],
   "source": [
    "gammas = np.linspace(0.01,1, num=200)"
   ]
  },
  {
   "cell_type": "code",
   "execution_count": 102,
   "id": "e87f2609",
   "metadata": {},
   "outputs": [
    {
     "name": "stderr",
     "output_type": "stream",
     "text": [
      "/home/shmalex/anaconda3/lib/python3.7/site-packages/ipykernel_launcher.py:3: TqdmDeprecationWarning: This function will be removed in tqdm==5.0.0\n",
      "Please use `tqdm.notebook.tqdm` instead of `tqdm.tqdm_notebook`\n",
      "  This is separate from the ipykernel package so we can avoid doing imports until\n"
     ]
    },
    {
     "data": {
      "application/vnd.jupyter.widget-view+json": {
       "model_id": "990d2a34e295407d81e9011f742ec43d",
       "version_major": 2,
       "version_minor": 0
      },
      "text/plain": [
       "gammas:   0%|          | 0/200 [00:00<?, ?it/s]"
      ]
     },
     "metadata": {},
     "output_type": "display_data"
    },
    {
     "data": {
      "application/vnd.jupyter.widget-view+json": {
       "model_id": "f351ccd5178549aaa64b00954e78f6a2",
       "version_major": 2,
       "version_minor": 0
      },
      "text/plain": [
       "train:   0%|          | 0/100 [00:00<?, ?it/s]"
      ]
     },
     "metadata": {},
     "output_type": "display_data"
    },
    {
     "data": {
      "application/vnd.jupyter.widget-view+json": {
       "model_id": "440a9406cdcc41109df2a69693cde3f4",
       "version_major": 2,
       "version_minor": 0
      },
      "text/plain": [
       "test:   0%|          | 0/5000 [00:00<?, ?it/s]"
      ]
     },
     "metadata": {},
     "output_type": "display_data"
    }
   ],
   "source": [
    "NN = 5000\n",
    "L = 100\n",
    "K = 100\n",
    "exps_01_1 = experiments(L, K, NN, gammas)"
   ]
  },
  {
   "cell_type": "code",
   "execution_count": 104,
   "id": "c62ee94d",
   "metadata": {},
   "outputs": [
    {
     "data": {
      "text/plain": [
       "Text(0.5, 1.0, 'The % of successfull trajectories vs Gamma')"
      ]
     },
     "execution_count": 104,
     "metadata": {},
     "output_type": "execute_result"
    },
    {
     "data": {
      "image/png": "[encoded data removed]",
      "text/plain": [
       "<Figure size 1440x576 with 1 Axes>"
      ]
     },
     "metadata": {
      "needs_background": "light"
     },
     "output_type": "display_data"
    }
   ],
   "source": [
    "# g, sucess, fail, sucess_len, fail_len\n",
    "plt.figure(figsize=(20,8))\n",
    "plt.ylim((0,100))\n",
    "plt.scatter(exps_01_1[::,0],exps_01_1[::,1]*100, alpha=0.8)\n",
    "plt.title('The % of successfull trajectories vs Gamma')"
   ]
  },
  {
   "cell_type": "code",
   "execution_count": 106,
   "id": "5f8078b9",
   "metadata": {},
   "outputs": [
    {
     "data": {
      "text/plain": [
       "0.7343969072164949"
      ]
     },
     "execution_count": 106,
     "metadata": {},
     "output_type": "execute_result"
    }
   ],
   "source": [
    "np.mean(exps_01_1[::,1][:-6])"
   ]
  },
  {
   "cell_type": "code",
   "execution_count": 98,
   "id": "d3c06529",
   "metadata": {},
   "outputs": [
    {
     "data": {
      "text/plain": [
       "Text(0.5, 1.0, 'The % of successfull trajectories vs Gamma')"
      ]
     },
     "execution_count": 98,
     "metadata": {},
     "output_type": "execute_result"
    },
    {
     "data": {
      "image/png": "[encoded data removed]",
      "text/plain": [
       "<Figure size 1440x576 with 1 Axes>"
      ]
     },
     "metadata": {
      "needs_background": "light"
     },
     "output_type": "display_data"
    }
   ],
   "source": [
    "# g, sucess, fail, sucess_len, fail_len\n",
    "plt.figure(figsize=(20,8))\n",
    "# plt.ylim((0,100))\n",
    "plt.hist(exps[exps[::,3]<18][::,3], bins=100,)\n",
    "plt.title('The % of successfull trajectories vs Gamma')"
   ]
  },
  {
   "cell_type": "code",
   "execution_count": 71,
   "id": "127b09df",
   "metadata": {},
   "outputs": [
    {
     "name": "stderr",
     "output_type": "stream",
     "text": [
      "/home/shmalex/anaconda3/lib/python3.7/site-packages/ipykernel_launcher.py:3: TqdmDeprecationWarning: This function will be removed in tqdm==5.0.0\n",
      "Please use `tqdm.notebook.tqdm` instead of `tqdm.tqdm_notebook`\n",
      "  This is separate from the ipykernel package so we can avoid doing imports until\n"
     ]
    },
    {
     "data": {
      "application/vnd.jupyter.widget-view+json": {
       "model_id": "",
       "version_major": 2,
       "version_minor": 0
      },
      "text/plain": [
       "gammas:   0%|          | 0/100 [00:00<?, ?it/s]"
      ]
     },
     "metadata": {},
     "output_type": "display_data"
    },
    {
     "data": {
      "application/vnd.jupyter.widget-view+json": {
       "model_id": "",
       "version_major": 2,
       "version_minor": 0
      },
      "text/plain": [
       "train:   0%|          | 0/100 [00:00<?, ?it/s]"
      ]
     },
     "metadata": {},
     "output_type": "display_data"
    },
    {
     "data": {
      "application/vnd.jupyter.widget-view+json": {
       "model_id": "",
       "version_major": 2,
       "version_minor": 0
      },
      "text/plain": [
       "test:   0%|          | 0/5000 [00:00<?, ?it/s]"
      ]
     },
     "metadata": {},
     "output_type": "display_data"
    }
   ],
   "source": [
    "gammas = np.linspace(0.9,0.99, num=100)\n",
    "gammas\n",
    "\n",
    "NN = 5000\n",
    "L = 100\n",
    "K = 100\n",
    "exps_short_9_99 = experiments(L, K, NN, gammas)"
   ]
  },
  {
   "cell_type": "code",
   "execution_count": 72,
   "id": "ecdee9bd",
   "metadata": {},
   "outputs": [
    {
     "data": {
      "text/plain": [
       "array([0.727 , 0.7306, 0.7398, 0.7432, 0.7406, 0.7382, 0.7248, 0.727 ,\n",
       "       0.7342, 0.7294, 0.7416, 0.7306, 0.7458, 0.7322, 0.7334, 0.7306,\n",
       "       0.738 , 0.7288, 0.725 , 0.7278, 0.7442, 0.7278, 0.7378, 0.7258,\n",
       "       0.729 , 0.735 , 0.7374, 0.7274, 0.7324, 0.7256, 0.74  , 0.7374,\n",
       "       0.7316, 0.7302, 0.7274, 0.7354, 0.7356, 0.7372, 0.7382, 0.7348,\n",
       "       0.7338, 0.747 , 0.742 , 0.7438, 0.7402, 0.7332, 0.7368, 0.7342,\n",
       "       0.7342, 0.7386, 0.7322, 0.7384, 0.737 , 0.7356, 0.74  , 0.7334,\n",
       "       0.7332, 0.7392, 0.743 , 0.7428, 0.723 , 0.7332, 0.7406, 0.734 ,\n",
       "       0.729 , 0.733 , 0.7282, 0.7306, 0.7398, 0.7258, 0.7318, 0.7392,\n",
       "       0.7296, 0.7304, 0.7356, 0.7338, 0.7432, 0.7322, 0.7448, 0.751 ,\n",
       "       0.754 , 0.7504, 0.7674, 0.7596, 0.76  , 0.7588, 0.755 , 0.7604,\n",
       "       0.7624, 0.7598, 0.7628, 0.7596, 0.768 , 0.7574, 0.754 , 0.7688,\n",
       "       0.7624, 0.7598, 0.8576, 0.858 ])"
      ]
     },
     "execution_count": 72,
     "metadata": {},
     "output_type": "execute_result"
    }
   ],
   "source": [
    "exps_short[::,1]"
   ]
  },
  {
   "cell_type": "code",
   "execution_count": 100,
   "id": "ca33ffbe",
   "metadata": {},
   "outputs": [
    {
     "data": {
      "text/plain": [
       "array([85.7 , 85.64, 85.36, 85.22, 86.6 , 87.4 , 84.9 , 86.48, 85.74,\n",
       "       85.78, 86.12, 85.74, 85.1 , 85.72, 85.76, 85.84, 85.5 , 85.76,\n",
       "       85.7 , 85.56, 86.44, 85.16, 85.72, 85.14, 86.26, 86.34, 85.82,\n",
       "       85.82, 85.66, 86.44, 85.26, 84.86, 85.52, 86.76, 86.06, 85.5 ,\n",
       "       85.44, 86.02, 86.28, 85.22, 86.32, 86.22, 85.88, 85.98, 85.7 ,\n",
       "       86.34, 85.56, 86.62, 85.58, 86.26, 86.18, 86.66, 85.6 , 86.32,\n",
       "       86.94, 86.92, 85.8 , 86.56, 86.38, 86.06, 87.28, 86.6 , 85.02,\n",
       "       86.44, 86.68, 86.28, 86.52, 86.22, 85.84, 86.6 , 85.96, 85.66,\n",
       "       85.82, 85.76, 86.8 , 85.92, 87.56, 86.  , 86.3 , 86.16, 86.48,\n",
       "       86.6 , 86.32, 86.74, 86.6 , 86.7 , 87.02, 85.52, 85.98, 85.82,\n",
       "       51.5 , 52.1 , 52.04, 44.3 , 44.54, 46.1 , 45.2 , 45.22, 43.44,\n",
       "       44.54])"
      ]
     },
     "execution_count": 100,
     "metadata": {},
     "output_type": "execute_result"
    }
   ],
   "source": [
    "exps_short[::,1]*100"
   ]
  },
  {
   "cell_type": "code",
   "execution_count": 74,
   "id": "f8bcbe16",
   "metadata": {},
   "outputs": [
    {
     "name": "stderr",
     "output_type": "stream",
     "text": [
      "/home/shmalex/anaconda3/lib/python3.7/site-packages/ipykernel/ipkernel.py:287: DeprecationWarning: `should_run_async` will not call `transform_cell` automatically in the future. Please pass the result to `transformed_cell` argument and any exception that happen during thetransform in `preprocessing_exc_tuple` in IPython 7.17 and above.\n",
      "  and should_run_async(code)\n"
     ]
    },
    {
     "data": {
      "text/plain": [
       "Text(0.5, 1.0, 'The % of successfull trajectories vs Gamma')"
      ]
     },
     "execution_count": 74,
     "metadata": {},
     "output_type": "execute_result"
    },
    {
     "data": {
      "image/png": "[encoded data removed]",
      "text/plain": [
       "<Figure size 1440x576 with 1 Axes>"
      ]
     },
     "metadata": {
      "needs_background": "light"
     },
     "output_type": "display_data"
    }
   ],
   "source": [
    "# g, sucess, fail, sucess_len, fail_len\n",
    "plt.figure(figsize=(20,8))\n",
    "plt.ylim((0,100))\n",
    "plt.scatter(exps_short[::,0],exps_short[::,1]*100, alpha=0.8)\n",
    "plt.title('The % of successfull trajectories vs Gamma')"
   ]
  },
  {
   "cell_type": "code",
   "execution_count": 75,
   "id": "dcbf0d72",
   "metadata": {},
   "outputs": [
    {
     "name": "stderr",
     "output_type": "stream",
     "text": [
      "/home/shmalex/anaconda3/lib/python3.7/site-packages/ipykernel_launcher.py:3: TqdmDeprecationWarning: This function will be removed in tqdm==5.0.0\n",
      "Please use `tqdm.notebook.tqdm` instead of `tqdm.tqdm_notebook`\n",
      "  This is separate from the ipykernel package so we can avoid doing imports until\n"
     ]
    },
    {
     "data": {
      "application/vnd.jupyter.widget-view+json": {
       "model_id": "",
       "version_major": 2,
       "version_minor": 0
      },
      "text/plain": [
       "gammas:   0%|          | 0/100 [00:00<?, ?it/s]"
      ]
     },
     "metadata": {},
     "output_type": "display_data"
    },
    {
     "data": {
      "application/vnd.jupyter.widget-view+json": {
       "model_id": "",
       "version_major": 2,
       "version_minor": 0
      },
      "text/plain": [
       "train:   0%|          | 0/100 [00:00<?, ?it/s]"
      ]
     },
     "metadata": {},
     "output_type": "display_data"
    },
    {
     "data": {
      "application/vnd.jupyter.widget-view+json": {
       "model_id": "",
       "version_major": 2,
       "version_minor": 0
      },
      "text/plain": [
       "test:   0%|          | 0/5000 [00:00<?, ?it/s]"
      ]
     },
     "metadata": {},
     "output_type": "display_data"
    }
   ],
   "source": [
    "gammas = np.linspace(0.99,0.9999, num=100)\n",
    "gammas\n",
    "\n",
    "NN = 5000\n",
    "L = 100\n",
    "K = 100\n",
    "exps_short = experiments(L, K, NN, gammas)"
   ]
  },
  {
   "cell_type": "code",
   "execution_count": 76,
   "id": "d3af2912",
   "metadata": {},
   "outputs": [
    {
     "data": {
      "text/plain": [
       "Text(0.5, 1.0, 'The % of successfull trajectories vs Gamma')"
      ]
     },
     "execution_count": 76,
     "metadata": {},
     "output_type": "execute_result"
    },
    {
     "data": {
      "image/png": "[encoded data removed]",
      "text/plain": [
       "<Figure size 1440x576 with 1 Axes>"
      ]
     },
     "metadata": {
      "needs_background": "light"
     },
     "output_type": "display_data"
    }
   ],
   "source": [
    "# g, sucess, fail, sucess_len, fail_len\n",
    "plt.figure(figsize=(20,8))\n",
    "plt.ylim((0,100))\n",
    "plt.scatter(exps_short[::,0],exps_short[::,1]*100, alpha=0.8)\n",
    "plt.title('The % of successfull trajectories vs Gamma')"
   ]
  },
  {
   "cell_type": "code",
   "execution_count": 79,
   "id": "0d8f1496",
   "metadata": {},
   "outputs": [
    {
     "name": "stderr",
     "output_type": "stream",
     "text": [
      "/home/shmalex/anaconda3/lib/python3.7/site-packages/ipykernel_launcher.py:3: TqdmDeprecationWarning: This function will be removed in tqdm==5.0.0\n",
      "Please use `tqdm.notebook.tqdm` instead of `tqdm.tqdm_notebook`\n",
      "  This is separate from the ipykernel package so we can avoid doing imports until\n"
     ]
    },
    {
     "data": {
      "application/vnd.jupyter.widget-view+json": {
       "model_id": "",
       "version_major": 2,
       "version_minor": 0
      },
      "text/plain": [
       "gammas:   0%|          | 0/100 [00:00<?, ?it/s]"
      ]
     },
     "metadata": {},
     "output_type": "display_data"
    },
    {
     "data": {
      "application/vnd.jupyter.widget-view+json": {
       "model_id": "",
       "version_major": 2,
       "version_minor": 0
      },
      "text/plain": [
       "train:   0%|          | 0/100 [00:00<?, ?it/s]"
      ]
     },
     "metadata": {},
     "output_type": "display_data"
    },
    {
     "data": {
      "application/vnd.jupyter.widget-view+json": {
       "model_id": "",
       "version_major": 2,
       "version_minor": 0
      },
      "text/plain": [
       "test:   0%|          | 0/5000 [00:00<?, ?it/s]"
      ]
     },
     "metadata": {},
     "output_type": "display_data"
    }
   ],
   "source": [
    "gammas = np.linspace(0.998,0.99999, num=100)\n",
    "gammas\n",
    "\n",
    "NN = 5000\n",
    "L = 100\n",
    "K = 100\n",
    "exps_short2 = experiments(L, K, NN, gammas)"
   ]
  },
  {
   "cell_type": "code",
   "execution_count": 81,
   "id": "6008217c",
   "metadata": {},
   "outputs": [
    {
     "data": {
      "text/plain": [
       "Text(0.5, 1.0, 'The % of successfull trajectories vs Gamma')"
      ]
     },
     "execution_count": 81,
     "metadata": {},
     "output_type": "execute_result"
    },
    {
     "data": {
      "image/png": "[encoded data removed]",
      "text/plain": [
       "<Figure size 1440x576 with 1 Axes>"
      ]
     },
     "metadata": {
      "needs_background": "light"
     },
     "output_type": "display_data"
    }
   ],
   "source": [
    "# g, sucess, fail, sucess_len, fail_len\n",
    "plt.figure(figsize=(20,8))\n",
    "plt.ylim((0,100))\n",
    "plt.scatter(exps_short2[::,0],exps_short2[::,1]*100, alpha=0.8)\n",
    "plt.title('The % of successfull trajectories vs Gamma')"
   ]
  },
  {
   "cell_type": "code",
   "execution_count": 74,
   "id": "b9efee18",
   "metadata": {},
   "outputs": [
    {
     "name": "stderr",
     "output_type": "stream",
     "text": [
      "/home/shmalex/anaconda3/lib/python3.7/site-packages/ipykernel/ipkernel.py:287: DeprecationWarning: `should_run_async` will not call `transform_cell` automatically in the future. Please pass the result to `transformed_cell` argument and any exception that happen during thetransform in `preprocessing_exc_tuple` in IPython 7.17 and above.\n",
      "  and should_run_async(code)\n"
     ]
    },
    {
     "data": {
      "text/plain": [
       "Text(0.5, 1.0, 'The % of successfull trajectories vs Gamma')"
      ]
     },
     "execution_count": 74,
     "metadata": {},
     "output_type": "execute_result"
    },
    {
     "data": {
      "image/png": "[encoded data removed]",
      "text/plain": [
       "<Figure size 1440x576 with 1 Axes>"
      ]
     },
     "metadata": {
      "needs_background": "light"
     },
     "output_type": "display_data"
    }
   ],
   "source": [
    "# g, sucess, fail, sucess_len, fail_len\n",
    "plt.figure(figsize=(20,8))\n",
    "plt.ylim((0,100))\n",
    "plt.scatter(exps_short[::,0],exps_short[::,1]*100, alpha=0.8)\n",
    "plt.title('The % of successfull trajectories vs Gamma')"
   ]
  },
  {
   "cell_type": "code",
   "execution_count": 90,
   "id": "c51a58cf",
   "metadata": {},
   "outputs": [
    {
     "data": {
      "text/plain": [
       "array([0.988     , 0.98811111, 0.98822222, 0.98833333, 0.98844444,\n",
       "       0.98855556, 0.98866667, 0.98877778, 0.98888889, 0.989     ,\n",
       "       0.98911111, 0.98922222, 0.98933333, 0.98944444, 0.98955556,\n",
       "       0.98966667, 0.98977778, 0.98988889, 0.99      , 0.99011111,\n",
       "       0.99022222, 0.99033333, 0.99044444, 0.99055556, 0.99066667,\n",
       "       0.99077778, 0.99088889, 0.991     , 0.99111111, 0.99122222,\n",
       "       0.99133333, 0.99144444, 0.99155556, 0.99166667, 0.99177778,\n",
       "       0.99188889, 0.992     , 0.99211111, 0.99222222, 0.99233333,\n",
       "       0.99244444, 0.99255556, 0.99266667, 0.99277778, 0.99288889,\n",
       "       0.993     , 0.99311111, 0.99322222, 0.99333333, 0.99344444,\n",
       "       0.99355556, 0.99366667, 0.99377778, 0.99388889, 0.994     ,\n",
       "       0.99411111, 0.99422222, 0.99433333, 0.99444444, 0.99455556,\n",
       "       0.99466667, 0.99477778, 0.99488889, 0.995     , 0.99511111,\n",
       "       0.99522222, 0.99533333, 0.99544444, 0.99555556, 0.99566667,\n",
       "       0.99577778, 0.99588889, 0.996     , 0.99611111, 0.99622222,\n",
       "       0.99633333, 0.99644444, 0.99655556, 0.99666667, 0.99677778,\n",
       "       0.99688889, 0.997     , 0.99711111, 0.99722222, 0.99733333,\n",
       "       0.99744444, 0.99755556, 0.99766667, 0.99777778, 0.99788889,\n",
       "       0.998     , 0.99811111, 0.99822222, 0.99833333, 0.99844444,\n",
       "       0.99855556, 0.99866667, 0.99877778, 0.99888889, 0.999     ])"
      ]
     },
     "execution_count": 90,
     "metadata": {},
     "output_type": "execute_result"
    }
   ],
   "source": [
    "gammas = np.linspace(0.988,0.999, num=100)\n",
    "gammas"
   ]
  },
  {
   "cell_type": "code",
   "execution_count": 91,
   "id": "a5107a1c",
   "metadata": {},
   "outputs": [
    {
     "name": "stderr",
     "output_type": "stream",
     "text": [
      "/home/shmalex/anaconda3/lib/python3.7/site-packages/ipykernel_launcher.py:3: TqdmDeprecationWarning: This function will be removed in tqdm==5.0.0\n",
      "Please use `tqdm.notebook.tqdm` instead of `tqdm.tqdm_notebook`\n",
      "  This is separate from the ipykernel package so we can avoid doing imports until\n"
     ]
    },
    {
     "data": {
      "application/vnd.jupyter.widget-view+json": {
       "model_id": "e966b369e21d4a4490ee3349b927e42d",
       "version_major": 2,
       "version_minor": 0
      },
      "text/plain": [
       "gammas:   0%|          | 0/100 [00:00<?, ?it/s]"
      ]
     },
     "metadata": {},
     "output_type": "display_data"
    },
    {
     "data": {
      "application/vnd.jupyter.widget-view+json": {
       "model_id": "f19d6c5aa56644a19ca510c5f0b85d0a",
       "version_major": 2,
       "version_minor": 0
      },
      "text/plain": [
       "train:   0%|          | 0/100 [00:00<?, ?it/s]"
      ]
     },
     "metadata": {},
     "output_type": "display_data"
    },
    {
     "data": {
      "application/vnd.jupyter.widget-view+json": {
       "model_id": "07f9b2397d054bc686da796d23a11fca",
       "version_major": 2,
       "version_minor": 0
      },
      "text/plain": [
       "test:   0%|          | 0/5000 [00:00<?, ?it/s]"
      ]
     },
     "metadata": {},
     "output_type": "display_data"
    }
   ],
   "source": [
    "NN = 5000\n",
    "L = 100\n",
    "K = 100\n",
    "exps_short_988_999 = experiments(L, K, NN, gammas)"
   ]
  },
  {
   "cell_type": "code",
   "execution_count": 99,
   "id": "222a313f",
   "metadata": {},
   "outputs": [
    {
     "data": {
      "text/plain": [
       "Text(0.5, 1.0, 'The % of successfull trajectories vs Gamma')"
      ]
     },
     "execution_count": 99,
     "metadata": {},
     "output_type": "execute_result"
    },
    {
     "data": {
      "image/png": "[encoded data removed]",
      "text/plain": [
       "<Figure size 1440x576 with 1 Axes>"
      ]
     },
     "metadata": {
      "needs_background": "light"
     },
     "output_type": "display_data"
    }
   ],
   "source": [
    "plt.figure(figsize=(20,8))\n",
    "# plt.ylim((0,100))\n",
    "plt.scatter(exps_short_988_999[::,0],exps_short_988_999[::,1]*100, alpha=0.8)\n",
    "plt.title('The % of successfull trajectories vs Gamma')"
   ]
  },
  {
   "cell_type": "code",
   "execution_count": 107,
   "id": "81591de6",
   "metadata": {
    "scrolled": false
   },
   "outputs": [
    {
     "name": "stderr",
     "output_type": "stream",
     "text": [
      "/home/shmalex/anaconda3/lib/python3.7/site-packages/ipykernel_launcher.py:7: TqdmDeprecationWarning: This function will be removed in tqdm==5.0.0\n",
      "Please use `tqdm.notebook.tqdm` instead of `tqdm.tqdm_notebook`\n",
      "  import sys\n"
     ]
    },
    {
     "data": {
      "application/vnd.jupyter.widget-view+json": {
       "model_id": "",
       "version_major": 2,
       "version_minor": 0
      },
      "text/plain": [
       "train:   0%|          | 0/100 [00:00<?, ?it/s]"
      ]
     },
     "metadata": {},
     "output_type": "display_data"
    },
    {
     "data": {
      "application/vnd.jupyter.widget-view+json": {
       "model_id": "",
       "version_major": 2,
       "version_minor": 0
      },
      "text/plain": [
       "test:   0%|          | 0/5000 [00:00<?, ?it/s]"
      ]
     },
     "metadata": {},
     "output_type": "display_data"
    },
    {
     "name": "stdout",
     "output_type": "stream",
     "text": [
      "|   iter    |  target   |     K     |     L     |   gamma   |\n",
      "-------------------------------------------------------------\n",
      "| \u001b[0m1        \u001b[0m | \u001b[0m0.7366   \u001b[0m | \u001b[0m18.48    \u001b[0m | \u001b[0m57.6     \u001b[0m | \u001b[0m0.5167   \u001b[0m |\n",
      "| \u001b[95m2        \u001b[0m | \u001b[95m0.8566   \u001b[0m | \u001b[95m35.97    \u001b[0m | \u001b[95m34.69    \u001b[0m | \u001b[95m0.993    \u001b[0m |\n",
      "| \u001b[0m3        \u001b[0m | \u001b[0m0.751    \u001b[0m | \u001b[0m85.66    \u001b[0m | \u001b[0m42.47    \u001b[0m | \u001b[0m0.8384   \u001b[0m |\n",
      "| \u001b[0m4        \u001b[0m | \u001b[0m0.7336   \u001b[0m | \u001b[0m90.42    \u001b[0m | \u001b[0m86.61    \u001b[0m | \u001b[0m0.4754   \u001b[0m |\n",
      "| \u001b[0m5        \u001b[0m | \u001b[0m0.7288   \u001b[0m | \u001b[0m74.32    \u001b[0m | \u001b[0m59.43    \u001b[0m | \u001b[0m0.08711  \u001b[0m |\n",
      "| \u001b[0m6        \u001b[0m | \u001b[0m0.7358   \u001b[0m | \u001b[0m34.89    \u001b[0m | \u001b[0m34.47    \u001b[0m | \u001b[0m0.9194   \u001b[0m |\n",
      "| \u001b[0m7        \u001b[0m | \u001b[0m0.717    \u001b[0m | \u001b[0m83.65    \u001b[0m | \u001b[0m37.56    \u001b[0m | \u001b[0m0.6042   \u001b[0m |\n",
      "| \u001b[0m8        \u001b[0m | \u001b[0m0.725    \u001b[0m | \u001b[0m35.98    \u001b[0m | \u001b[0m34.8     \u001b[0m | \u001b[0m0.8918   \u001b[0m |\n",
      "| \u001b[0m9        \u001b[0m | \u001b[0m0.727    \u001b[0m | \u001b[0m60.68    \u001b[0m | \u001b[0m52.89    \u001b[0m | \u001b[0m0.3892   \u001b[0m |\n",
      "| \u001b[0m10       \u001b[0m | \u001b[0m0.7418   \u001b[0m | \u001b[0m44.5     \u001b[0m | \u001b[0m54.81    \u001b[0m | \u001b[0m0.5549   \u001b[0m |\n",
      "| \u001b[0m11       \u001b[0m | \u001b[0m0.7464   \u001b[0m | \u001b[0m50.83    \u001b[0m | \u001b[0m85.6     \u001b[0m | \u001b[0m0.1489   \u001b[0m |\n",
      "| \u001b[0m12       \u001b[0m | \u001b[0m0.7266   \u001b[0m | \u001b[0m46.67    \u001b[0m | \u001b[0m4.396    \u001b[0m | \u001b[0m0.8716   \u001b[0m |\n",
      "| \u001b[0m13       \u001b[0m | \u001b[0m0.7356   \u001b[0m | \u001b[0m33.28    \u001b[0m | \u001b[0m82.39    \u001b[0m | \u001b[0m0.8036   \u001b[0m |\n",
      "| \u001b[0m14       \u001b[0m | \u001b[0m0.7326   \u001b[0m | \u001b[0m27.87    \u001b[0m | \u001b[0m40.23    \u001b[0m | \u001b[0m0.3575   \u001b[0m |\n",
      "| \u001b[0m15       \u001b[0m | \u001b[0m0.7398   \u001b[0m | \u001b[0m9.986    \u001b[0m | \u001b[0m41.55    \u001b[0m | \u001b[0m0.6743   \u001b[0m |\n",
      "| \u001b[0m16       \u001b[0m | \u001b[0m0.735    \u001b[0m | \u001b[0m15.74    \u001b[0m | \u001b[0m8.911    \u001b[0m | \u001b[0m0.3206   \u001b[0m |\n",
      "| \u001b[0m17       \u001b[0m | \u001b[0m0.725    \u001b[0m | \u001b[0m4.836    \u001b[0m | \u001b[0m6.734    \u001b[0m | \u001b[0m0.7739   \u001b[0m |\n",
      "| \u001b[0m18       \u001b[0m | \u001b[0m0.7382   \u001b[0m | \u001b[0m99.65    \u001b[0m | \u001b[0m15.25    \u001b[0m | \u001b[0m0.3921   \u001b[0m |\n",
      "| \u001b[0m19       \u001b[0m | \u001b[0m0.7376   \u001b[0m | \u001b[0m13.35    \u001b[0m | \u001b[0m67.26    \u001b[0m | \u001b[0m0.6866   \u001b[0m |\n",
      "| \u001b[0m20       \u001b[0m | \u001b[0m0.7294   \u001b[0m | \u001b[0m69.42    \u001b[0m | \u001b[0m81.01    \u001b[0m | \u001b[0m0.9614   \u001b[0m |\n",
      "| \u001b[0m21       \u001b[0m | \u001b[0m0.739    \u001b[0m | \u001b[0m69.46    \u001b[0m | \u001b[0m23.71    \u001b[0m | \u001b[0m0.1204   \u001b[0m |\n",
      "| \u001b[0m22       \u001b[0m | \u001b[0m0.738    \u001b[0m | \u001b[0m25.29    \u001b[0m | \u001b[0m41.35    \u001b[0m | \u001b[0m0.6052   \u001b[0m |\n",
      "| \u001b[0m23       \u001b[0m | \u001b[0m0.72     \u001b[0m | \u001b[0m44.22    \u001b[0m | \u001b[0m30.58    \u001b[0m | \u001b[0m0.6338   \u001b[0m |\n",
      "| \u001b[0m24       \u001b[0m | \u001b[0m0.7342   \u001b[0m | \u001b[0m85.89    \u001b[0m | \u001b[0m97.89    \u001b[0m | \u001b[0m0.7064   \u001b[0m |\n",
      "| \u001b[0m25       \u001b[0m | \u001b[0m0.737    \u001b[0m | \u001b[0m94.06    \u001b[0m | \u001b[0m5.889    \u001b[0m | \u001b[0m0.3267   \u001b[0m |\n",
      "| \u001b[0m26       \u001b[0m | \u001b[0m0.7352   \u001b[0m | \u001b[0m12.14    \u001b[0m | \u001b[0m63.44    \u001b[0m | \u001b[0m0.3468   \u001b[0m |\n",
      "| \u001b[0m27       \u001b[0m | \u001b[0m0.7316   \u001b[0m | \u001b[0m53.9     \u001b[0m | \u001b[0m8.144    \u001b[0m | \u001b[0m0.8386   \u001b[0m |\n",
      "| \u001b[0m28       \u001b[0m | \u001b[0m0.7416   \u001b[0m | \u001b[0m60.57    \u001b[0m | \u001b[0m75.8     \u001b[0m | \u001b[0m0.2123   \u001b[0m |\n",
      "| \u001b[0m29       \u001b[0m | \u001b[0m0.7298   \u001b[0m | \u001b[0m88.41    \u001b[0m | \u001b[0m89.87    \u001b[0m | \u001b[0m0.4998   \u001b[0m |\n",
      "| \u001b[0m30       \u001b[0m | \u001b[0m0.7368   \u001b[0m | \u001b[0m72.25    \u001b[0m | \u001b[0m89.23    \u001b[0m | \u001b[0m0.1149   \u001b[0m |\n",
      "| \u001b[0m31       \u001b[0m | \u001b[0m0.7242   \u001b[0m | \u001b[0m22.59    \u001b[0m | \u001b[0m64.44    \u001b[0m | \u001b[0m0.321    \u001b[0m |\n",
      "| \u001b[0m32       \u001b[0m | \u001b[0m0.7354   \u001b[0m | \u001b[0m45.8     \u001b[0m | \u001b[0m3.108    \u001b[0m | \u001b[0m0.417    \u001b[0m |\n",
      "| \u001b[0m33       \u001b[0m | \u001b[0m0.7364   \u001b[0m | \u001b[0m84.42    \u001b[0m | \u001b[0m75.4     \u001b[0m | \u001b[0m0.8794   \u001b[0m |\n",
      "| \u001b[0m34       \u001b[0m | \u001b[0m0.7406   \u001b[0m | \u001b[0m79.57    \u001b[0m | \u001b[0m86.25    \u001b[0m | \u001b[0m0.3036   \u001b[0m |\n",
      "| \u001b[0m35       \u001b[0m | \u001b[0m0.7256   \u001b[0m | \u001b[0m35.33    \u001b[0m | \u001b[0m80.53    \u001b[0m | \u001b[0m0.06065  \u001b[0m |\n",
      "| \u001b[0m36       \u001b[0m | \u001b[0m0.7352   \u001b[0m | \u001b[0m40.31    \u001b[0m | \u001b[0m56.17    \u001b[0m | \u001b[0m0.6746   \u001b[0m |\n",
      "| \u001b[0m37       \u001b[0m | \u001b[0m0.725    \u001b[0m | \u001b[0m93.59    \u001b[0m | \u001b[0m32.08    \u001b[0m | \u001b[0m0.3707   \u001b[0m |\n",
      "| \u001b[95m38       \u001b[0m | \u001b[95m0.861    \u001b[0m | \u001b[95m72.66    \u001b[0m | \u001b[95m36.02    \u001b[0m | \u001b[95m0.994    \u001b[0m |\n",
      "| \u001b[0m39       \u001b[0m | \u001b[0m0.738    \u001b[0m | \u001b[0m61.42    \u001b[0m | \u001b[0m65.79    \u001b[0m | \u001b[0m0.5563   \u001b[0m |\n",
      "| \u001b[0m40       \u001b[0m | \u001b[0m0.735    \u001b[0m | \u001b[0m18.42    \u001b[0m | \u001b[0m88.07    \u001b[0m | \u001b[0m0.5274   \u001b[0m |\n",
      "| \u001b[0m41       \u001b[0m | \u001b[0m0.73     \u001b[0m | \u001b[0m92.09    \u001b[0m | \u001b[0m55.86    \u001b[0m | \u001b[0m0.4074   \u001b[0m |\n",
      "| \u001b[0m42       \u001b[0m | \u001b[0m0.7352   \u001b[0m | \u001b[0m3.486    \u001b[0m | \u001b[0m9.72     \u001b[0m | \u001b[0m0.3202   \u001b[0m |\n",
      "| \u001b[0m43       \u001b[0m | \u001b[0m0.7298   \u001b[0m | \u001b[0m52.93    \u001b[0m | \u001b[0m95.88    \u001b[0m | \u001b[0m0.08029  \u001b[0m |\n",
      "| \u001b[0m44       \u001b[0m | \u001b[0m0.7338   \u001b[0m | \u001b[0m54.04    \u001b[0m | \u001b[0m22.81    \u001b[0m | \u001b[0m0.4653   \u001b[0m |\n",
      "| \u001b[0m45       \u001b[0m | \u001b[0m0.7368   \u001b[0m | \u001b[0m8.842    \u001b[0m | \u001b[0m14.73    \u001b[0m | \u001b[0m0.805    \u001b[0m |\n",
      "| \u001b[0m46       \u001b[0m | \u001b[0m0.7236   \u001b[0m | \u001b[0m37.14    \u001b[0m | \u001b[0m64.13    \u001b[0m | \u001b[0m0.3072   \u001b[0m |\n",
      "| \u001b[0m47       \u001b[0m | \u001b[0m0.7336   \u001b[0m | \u001b[0m37.59    \u001b[0m | \u001b[0m16.94    \u001b[0m | \u001b[0m0.4868   \u001b[0m |\n",
      "| \u001b[0m48       \u001b[0m | \u001b[0m0.73     \u001b[0m | \u001b[0m20.53    \u001b[0m | \u001b[0m87.7     \u001b[0m | \u001b[0m0.2965   \u001b[0m |\n",
      "| \u001b[0m49       \u001b[0m | \u001b[0m0.7402   \u001b[0m | \u001b[0m46.37    \u001b[0m | \u001b[0m16.84    \u001b[0m | \u001b[0m0.07396  \u001b[0m |\n",
      "| \u001b[0m50       \u001b[0m | \u001b[0m0.7284   \u001b[0m | \u001b[0m46.06    \u001b[0m | \u001b[0m83.04    \u001b[0m | \u001b[0m0.1315   \u001b[0m |\n",
      "| \u001b[0m51       \u001b[0m | \u001b[0m0.7352   \u001b[0m | \u001b[0m18.84    \u001b[0m | \u001b[0m75.03    \u001b[0m | \u001b[0m0.8384   \u001b[0m |\n",
      "| \u001b[0m52       \u001b[0m | \u001b[0m0.7274   \u001b[0m | \u001b[0m89.9     \u001b[0m | \u001b[0m77.68    \u001b[0m | \u001b[0m0.4716   \u001b[0m |\n",
      "| \u001b[0m53       \u001b[0m | \u001b[0m0.7492   \u001b[0m | \u001b[0m8.733    \u001b[0m | \u001b[0m86.08    \u001b[0m | \u001b[0m0.5707   \u001b[0m |\n",
      "| \u001b[0m54       \u001b[0m | \u001b[0m0.724    \u001b[0m | \u001b[0m1.815    \u001b[0m | \u001b[0m25.49    \u001b[0m | \u001b[0m0.3162   \u001b[0m |\n",
      "| \u001b[0m55       \u001b[0m | \u001b[0m0.7402   \u001b[0m | \u001b[0m56.68    \u001b[0m | \u001b[0m43.06    \u001b[0m | \u001b[0m0.8227   \u001b[0m |\n",
      "| \u001b[0m56       \u001b[0m | \u001b[0m0.7426   \u001b[0m | \u001b[0m46.83    \u001b[0m | \u001b[0m75.86    \u001b[0m | \u001b[0m0.3273   \u001b[0m |\n",
      "| \u001b[0m57       \u001b[0m | \u001b[0m0.7398   \u001b[0m | \u001b[0m99.51    \u001b[0m | \u001b[0m59.24    \u001b[0m | \u001b[0m0.2333   \u001b[0m |\n",
      "| \u001b[0m58       \u001b[0m | \u001b[0m0.7332   \u001b[0m | \u001b[0m96.63    \u001b[0m | \u001b[0m13.08    \u001b[0m | \u001b[0m0.2113   \u001b[0m |\n",
      "| \u001b[0m59       \u001b[0m | \u001b[0m0.7256   \u001b[0m | \u001b[0m81.47    \u001b[0m | \u001b[0m43.39    \u001b[0m | \u001b[0m0.4515   \u001b[0m |\n",
      "| \u001b[0m60       \u001b[0m | \u001b[0m0.7364   \u001b[0m | \u001b[0m67.19    \u001b[0m | \u001b[0m89.16    \u001b[0m | \u001b[0m0.6528   \u001b[0m |\n",
      "| \u001b[0m61       \u001b[0m | \u001b[0m0.733    \u001b[0m | \u001b[0m3.713    \u001b[0m | \u001b[0m9.942    \u001b[0m | \u001b[0m0.9423   \u001b[0m |\n",
      "| \u001b[0m62       \u001b[0m | \u001b[0m0.7322   \u001b[0m | \u001b[0m80.77    \u001b[0m | \u001b[0m41.45    \u001b[0m | \u001b[0m0.6323   \u001b[0m |\n",
      "| \u001b[0m63       \u001b[0m | \u001b[0m0.7292   \u001b[0m | \u001b[0m30.24    \u001b[0m | \u001b[0m44.56    \u001b[0m | \u001b[0m0.1379   \u001b[0m |\n",
      "| \u001b[0m64       \u001b[0m | \u001b[0m0.7272   \u001b[0m | \u001b[0m39.37    \u001b[0m | \u001b[0m51.78    \u001b[0m | \u001b[0m0.3062   \u001b[0m |\n",
      "| \u001b[0m65       \u001b[0m | \u001b[0m0.745    \u001b[0m | \u001b[0m56.78    \u001b[0m | \u001b[0m50.31    \u001b[0m | \u001b[0m0.3689   \u001b[0m |\n",
      "| \u001b[0m66       \u001b[0m | \u001b[0m0.7386   \u001b[0m | \u001b[0m98.05    \u001b[0m | \u001b[0m8.22     \u001b[0m | \u001b[0m0.4616   \u001b[0m |\n",
      "| \u001b[0m67       \u001b[0m | \u001b[0m0.7394   \u001b[0m | \u001b[0m10.26    \u001b[0m | \u001b[0m50.2     \u001b[0m | \u001b[0m0.06614  \u001b[0m |\n",
      "| \u001b[0m68       \u001b[0m | \u001b[0m0.7338   \u001b[0m | \u001b[0m17.52    \u001b[0m | \u001b[0m5.007    \u001b[0m | \u001b[0m0.5893   \u001b[0m |\n",
      "| \u001b[0m69       \u001b[0m | \u001b[0m0.7302   \u001b[0m | \u001b[0m21.21    \u001b[0m | \u001b[0m13.82    \u001b[0m | \u001b[0m0.1379   \u001b[0m |\n",
      "| \u001b[0m70       \u001b[0m | \u001b[0m0.7426   \u001b[0m | \u001b[0m80.25    \u001b[0m | \u001b[0m10.67    \u001b[0m | \u001b[0m0.4739   \u001b[0m |\n",
      "| \u001b[0m71       \u001b[0m | \u001b[0m0.743    \u001b[0m | \u001b[0m28.44    \u001b[0m | \u001b[0m41.51    \u001b[0m | \u001b[0m0.4179   \u001b[0m |\n",
      "| \u001b[0m72       \u001b[0m | \u001b[0m0.74     \u001b[0m | \u001b[0m61.04    \u001b[0m | \u001b[0m47.75    \u001b[0m | \u001b[0m0.584    \u001b[0m |\n",
      "| \u001b[0m73       \u001b[0m | \u001b[0m0.7444   \u001b[0m | \u001b[0m94.98    \u001b[0m | \u001b[0m93.23    \u001b[0m | \u001b[0m0.5464   \u001b[0m |\n",
      "| \u001b[0m74       \u001b[0m | \u001b[0m0.7278   \u001b[0m | \u001b[0m75.99    \u001b[0m | \u001b[0m24.64    \u001b[0m | \u001b[0m0.4901   \u001b[0m |\n",
      "| \u001b[0m75       \u001b[0m | \u001b[0m0.7418   \u001b[0m | \u001b[0m78.95    \u001b[0m | \u001b[0m39.33    \u001b[0m | \u001b[0m0.5161   \u001b[0m |\n",
      "| \u001b[0m76       \u001b[0m | \u001b[0m0.7304   \u001b[0m | \u001b[0m62.54    \u001b[0m | \u001b[0m29.6     \u001b[0m | \u001b[0m0.9254   \u001b[0m |\n",
      "| \u001b[0m77       \u001b[0m | \u001b[0m0.7278   \u001b[0m | \u001b[0m49.32    \u001b[0m | \u001b[0m53.24    \u001b[0m | \u001b[0m0.02443  \u001b[0m |\n",
      "| \u001b[0m78       \u001b[0m | \u001b[0m0.7352   \u001b[0m | \u001b[0m71.56    \u001b[0m | \u001b[0m50.18    \u001b[0m | \u001b[0m0.2916   \u001b[0m |\n",
      "| \u001b[0m79       \u001b[0m | \u001b[0m0.7302   \u001b[0m | \u001b[0m71.0     \u001b[0m | \u001b[0m87.58    \u001b[0m | \u001b[0m0.1791   \u001b[0m |\n",
      "| \u001b[0m80       \u001b[0m | \u001b[0m0.7312   \u001b[0m | \u001b[0m54.59    \u001b[0m | \u001b[0m57.91    \u001b[0m | \u001b[0m0.0733   \u001b[0m |\n"
     ]
    },
    {
     "name": "stdout",
     "output_type": "stream",
     "text": [
      "| \u001b[0m81       \u001b[0m | \u001b[0m0.7358   \u001b[0m | \u001b[0m29.61    \u001b[0m | \u001b[0m98.37    \u001b[0m | \u001b[0m0.8581   \u001b[0m |\n",
      "| \u001b[0m82       \u001b[0m | \u001b[0m0.7346   \u001b[0m | \u001b[0m47.57    \u001b[0m | \u001b[0m90.91    \u001b[0m | \u001b[0m0.9302   \u001b[0m |\n",
      "| \u001b[0m83       \u001b[0m | \u001b[0m0.7324   \u001b[0m | \u001b[0m43.39    \u001b[0m | \u001b[0m7.396    \u001b[0m | \u001b[0m0.07771  \u001b[0m |\n",
      "| \u001b[0m84       \u001b[0m | \u001b[0m0.7442   \u001b[0m | \u001b[0m96.91    \u001b[0m | \u001b[0m13.56    \u001b[0m | \u001b[0m0.4716   \u001b[0m |\n",
      "| \u001b[0m85       \u001b[0m | \u001b[0m0.7354   \u001b[0m | \u001b[0m76.81    \u001b[0m | \u001b[0m55.79    \u001b[0m | \u001b[0m0.9124   \u001b[0m |\n",
      "| \u001b[0m86       \u001b[0m | \u001b[0m0.7312   \u001b[0m | \u001b[0m29.44    \u001b[0m | \u001b[0m41.92    \u001b[0m | \u001b[0m0.6783   \u001b[0m |\n",
      "| \u001b[0m87       \u001b[0m | \u001b[0m0.734    \u001b[0m | \u001b[0m39.4     \u001b[0m | \u001b[0m99.7     \u001b[0m | \u001b[0m0.662    \u001b[0m |\n",
      "| \u001b[0m88       \u001b[0m | \u001b[0m0.7388   \u001b[0m | \u001b[0m53.2     \u001b[0m | \u001b[0m60.79    \u001b[0m | \u001b[0m0.5466   \u001b[0m |\n",
      "| \u001b[0m89       \u001b[0m | \u001b[0m0.7284   \u001b[0m | \u001b[0m93.73    \u001b[0m | \u001b[0m59.49    \u001b[0m | \u001b[0m0.9335   \u001b[0m |\n",
      "| \u001b[0m90       \u001b[0m | \u001b[0m0.7348   \u001b[0m | \u001b[0m30.22    \u001b[0m | \u001b[0m63.65    \u001b[0m | \u001b[0m0.181    \u001b[0m |\n",
      "| \u001b[0m91       \u001b[0m | \u001b[0m0.7344   \u001b[0m | \u001b[0m83.01    \u001b[0m | \u001b[0m34.67    \u001b[0m | \u001b[0m0.5146   \u001b[0m |\n",
      "| \u001b[0m92       \u001b[0m | \u001b[0m0.7346   \u001b[0m | \u001b[0m56.28    \u001b[0m | \u001b[0m31.52    \u001b[0m | \u001b[0m0.4866   \u001b[0m |\n",
      "| \u001b[0m93       \u001b[0m | \u001b[0m0.7412   \u001b[0m | \u001b[0m48.61    \u001b[0m | \u001b[0m20.1     \u001b[0m | \u001b[0m0.7553   \u001b[0m |\n",
      "| \u001b[0m94       \u001b[0m | \u001b[0m0.7308   \u001b[0m | \u001b[0m12.52    \u001b[0m | \u001b[0m62.95    \u001b[0m | \u001b[0m0.8133   \u001b[0m |\n",
      "| \u001b[0m95       \u001b[0m | \u001b[0m0.731    \u001b[0m | \u001b[0m61.46    \u001b[0m | \u001b[0m64.04    \u001b[0m | \u001b[0m0.2358   \u001b[0m |\n",
      "| \u001b[0m96       \u001b[0m | \u001b[0m0.737    \u001b[0m | \u001b[0m38.47    \u001b[0m | \u001b[0m19.58    \u001b[0m | \u001b[0m0.3849   \u001b[0m |\n",
      "| \u001b[0m97       \u001b[0m | \u001b[0m0.7312   \u001b[0m | \u001b[0m74.72    \u001b[0m | \u001b[0m46.48    \u001b[0m | \u001b[0m0.3274   \u001b[0m |\n",
      "| \u001b[0m98       \u001b[0m | \u001b[0m0.7392   \u001b[0m | \u001b[0m14.63    \u001b[0m | \u001b[0m2.237    \u001b[0m | \u001b[0m0.4846   \u001b[0m |\n",
      "| \u001b[0m99       \u001b[0m | \u001b[0m0.7318   \u001b[0m | \u001b[0m8.985    \u001b[0m | \u001b[0m52.61    \u001b[0m | \u001b[0m0.176    \u001b[0m |\n",
      "| \u001b[0m100      \u001b[0m | \u001b[0m0.7404   \u001b[0m | \u001b[0m7.127    \u001b[0m | \u001b[0m67.62    \u001b[0m | \u001b[0m0.7069   \u001b[0m |\n",
      "| \u001b[0m101      \u001b[0m | \u001b[0m0.7286   \u001b[0m | \u001b[0m76.43    \u001b[0m | \u001b[0m81.19    \u001b[0m | \u001b[0m0.3997   \u001b[0m |\n",
      "| \u001b[0m102      \u001b[0m | \u001b[0m0.7274   \u001b[0m | \u001b[0m64.94    \u001b[0m | \u001b[0m49.01    \u001b[0m | \u001b[0m0.8148   \u001b[0m |\n",
      "| \u001b[0m103      \u001b[0m | \u001b[0m0.7366   \u001b[0m | \u001b[0m99.9     \u001b[0m | \u001b[0m96.66    \u001b[0m | \u001b[0m0.2179   \u001b[0m |\n",
      "| \u001b[0m104      \u001b[0m | \u001b[0m0.7318   \u001b[0m | \u001b[0m82.78    \u001b[0m | \u001b[0m43.06    \u001b[0m | \u001b[0m0.6565   \u001b[0m |\n",
      "| \u001b[0m105      \u001b[0m | \u001b[0m0.7304   \u001b[0m | \u001b[0m43.44    \u001b[0m | \u001b[0m38.3     \u001b[0m | \u001b[0m0.7393   \u001b[0m |\n",
      "=============================================================\n"
     ]
    },
    {
     "ename": "TypeError",
     "evalue": "list indices must be integers or slices, not str",
     "output_type": "error",
     "traceback": [
      "\u001b[0;31m---------------------------------------------------------------------------\u001b[0m",
      "\u001b[0;31mTypeError\u001b[0m                                 Traceback (most recent call last)",
      "\u001b[0;32m<ipython-input-107-2443704e9dea>\u001b[0m in \u001b[0;36m<module>\u001b[0;34m\u001b[0m\n\u001b[1;32m     29\u001b[0m \u001b[0;34m\u001b[0m\u001b[0m\n\u001b[1;32m     30\u001b[0m \u001b[0;31m# Print the hyperparameters that resulted in the best performance\u001b[0m\u001b[0;34m\u001b[0m\u001b[0;34m\u001b[0m\u001b[0;34m\u001b[0m\u001b[0m\n\u001b[0;32m---> 31\u001b[0;31m \u001b[0mprint\u001b[0m\u001b[0;34m(\u001b[0m\u001b[0mbo\u001b[0m\u001b[0;34m.\u001b[0m\u001b[0mres\u001b[0m\u001b[0;34m[\u001b[0m\u001b[0;34m'max'\u001b[0m\u001b[0;34m]\u001b[0m\u001b[0;34m)\u001b[0m\u001b[0;34m\u001b[0m\u001b[0;34m\u001b[0m\u001b[0m\n\u001b[0m",
      "\u001b[0;31mTypeError\u001b[0m: list indices must be integers or slices, not str"
     ]
    }
   ],
   "source": [
    "import numpy as np\n",
    "from bayes_opt import BayesianOptimization\n",
    "\n",
    "L = 100\n",
    "K = 100\n",
    "NN = 5000\n",
    "tqdm_train = tqdm.tqdm_notebook(total=K, desc='train', position=1)\n",
    "tqdm_test  = tqdm.tqdm_notebook(total=NN, desc='test', position=2)\n",
    "\n",
    "# Define the objective function for the MDP\n",
    "def objective(gamma, K, L):\n",
    "    # Train the MDP using the specified learning rate and discount factor\n",
    "    policy = train_MDP(int(L), int(K), gamma, tqdm_train)\n",
    "\n",
    "    # Evaluate the performance of the trained MDP on a validation dataset\n",
    "    rewards, steps = test_MDP(policy, NN,  tqdm_test)\n",
    "    g, sucess, fail, sucess_len, fail_len = stats(gamma, rewards, steps)\n",
    "    # Return the performance of the MDP as the objective value\n",
    "    return sucess\n",
    "\n",
    "# Define the bounds of the hyperparameters\n",
    "bounds = {'gamma': (0.01, 0.999), 'K':(1,100), 'L':(1,100)}\n",
    "\n",
    "# Initialize the Bayesian optimization algorithm\n",
    "bo = BayesianOptimization(objective, bounds)\n",
    "\n",
    "# Run the optimization process for a maximum of 50 iterations\n",
    "bo.maximize(n_iter=100)\n",
    "\n",
    "# Print the hyperparameters that resulted in the best performance\n",
    "print(bo.res['max'])"
   ]
  },
  {
   "cell_type": "code",
   "execution_count": 110,
   "id": "d9b678aa",
   "metadata": {
    "scrolled": false
   },
   "outputs": [
    {
     "name": "stderr",
     "output_type": "stream",
     "text": [
      "/home/shmalex/anaconda3/lib/python3.7/site-packages/ipykernel_launcher.py:7: TqdmDeprecationWarning: This function will be removed in tqdm==5.0.0\n",
      "Please use `tqdm.notebook.tqdm` instead of `tqdm.tqdm_notebook`\n",
      "  import sys\n"
     ]
    },
    {
     "data": {
      "application/vnd.jupyter.widget-view+json": {
       "model_id": "29f6d7c90b79437fab74a5ff6eec9e07",
       "version_major": 2,
       "version_minor": 0
      },
      "text/plain": [
       "train:   0%|          | 0/100 [00:00<?, ?it/s]"
      ]
     },
     "metadata": {},
     "output_type": "display_data"
    },
    {
     "data": {
      "application/vnd.jupyter.widget-view+json": {
       "model_id": "2251d0cbb2524ee39ba1e93b4703c334",
       "version_major": 2,
       "version_minor": 0
      },
      "text/plain": [
       "test:   0%|          | 0/5000 [00:00<?, ?it/s]"
      ]
     },
     "metadata": {},
     "output_type": "display_data"
    },
    {
     "name": "stdout",
     "output_type": "stream",
     "text": [
      "|   iter    |  target   |     K     |     L     |\n",
      "-------------------------------------------------\n",
      "| \u001b[0m1        \u001b[0m | \u001b[0m0.7488   \u001b[0m | \u001b[0m24.85    \u001b[0m | \u001b[0m1.844    \u001b[0m |\n",
      "| \u001b[95m2        \u001b[0m | \u001b[95m0.8544   \u001b[0m | \u001b[95m84.82    \u001b[0m | \u001b[95m92.81    \u001b[0m |\n",
      "| \u001b[0m3        \u001b[0m | \u001b[0m0.8446   \u001b[0m | \u001b[0m48.5     \u001b[0m | \u001b[0m32.91    \u001b[0m |\n",
      "| \u001b[95m4        \u001b[0m | \u001b[95m0.8558   \u001b[0m | \u001b[95m72.3     \u001b[0m | \u001b[95m21.0     \u001b[0m |\n",
      "| \u001b[95m5        \u001b[0m | \u001b[95m0.8562   \u001b[0m | \u001b[95m47.0     \u001b[0m | \u001b[95m10.92    \u001b[0m |\n",
      "| \u001b[0m6        \u001b[0m | \u001b[0m0.854    \u001b[0m | \u001b[0m48.23    \u001b[0m | \u001b[0m9.875    \u001b[0m |\n",
      "| \u001b[0m7        \u001b[0m | \u001b[0m0.853    \u001b[0m | \u001b[0m79.1     \u001b[0m | \u001b[0m42.65    \u001b[0m |\n",
      "| \u001b[95m8        \u001b[0m | \u001b[95m0.8566   \u001b[0m | \u001b[95m82.25    \u001b[0m | \u001b[95m68.98    \u001b[0m |\n",
      "| \u001b[95m9        \u001b[0m | \u001b[95m0.8672   \u001b[0m | \u001b[95m63.07    \u001b[0m | \u001b[95m81.59    \u001b[0m |\n",
      "| \u001b[0m10       \u001b[0m | \u001b[0m0.8612   \u001b[0m | \u001b[0m58.36    \u001b[0m | \u001b[0m62.86    \u001b[0m |\n",
      "| \u001b[0m11       \u001b[0m | \u001b[0m0.8484   \u001b[0m | \u001b[0m41.6     \u001b[0m | \u001b[0m80.78    \u001b[0m |\n",
      "| \u001b[0m12       \u001b[0m | \u001b[0m0.8514   \u001b[0m | \u001b[0m58.31    \u001b[0m | \u001b[0m99.66    \u001b[0m |\n",
      "| \u001b[0m13       \u001b[0m | \u001b[0m0.8516   \u001b[0m | \u001b[0m99.18    \u001b[0m | \u001b[0m19.64    \u001b[0m |\n",
      "| \u001b[0m14       \u001b[0m | \u001b[0m0.7244   \u001b[0m | \u001b[0m1.808    \u001b[0m | \u001b[0m98.95    \u001b[0m |\n",
      "| \u001b[0m15       \u001b[0m | \u001b[0m0.8612   \u001b[0m | \u001b[0m100.0    \u001b[0m | \u001b[0m52.06    \u001b[0m |\n",
      "| \u001b[0m16       \u001b[0m | \u001b[0m0.7288   \u001b[0m | \u001b[0m1.0      \u001b[0m | \u001b[0m45.29    \u001b[0m |\n",
      "| \u001b[0m17       \u001b[0m | \u001b[0m0.8586   \u001b[0m | \u001b[0m90.08    \u001b[0m | \u001b[0m1.003    \u001b[0m |\n",
      "| \u001b[0m18       \u001b[0m | \u001b[0m0.8624   \u001b[0m | \u001b[0m100.0    \u001b[0m | \u001b[0m100.0    \u001b[0m |\n",
      "| \u001b[95m19       \u001b[0m | \u001b[95m0.8682   \u001b[0m | \u001b[95m100.0    \u001b[0m | \u001b[95m77.92    \u001b[0m |\n",
      "| \u001b[0m20       \u001b[0m | \u001b[0m0.856    \u001b[0m | \u001b[0m100.0    \u001b[0m | \u001b[0m1.0      \u001b[0m |\n",
      "| \u001b[0m21       \u001b[0m | \u001b[0m0.8472   \u001b[0m | \u001b[0m99.77    \u001b[0m | \u001b[0m65.49    \u001b[0m |\n",
      "| \u001b[0m22       \u001b[0m | \u001b[0m0.86     \u001b[0m | \u001b[0m100.0    \u001b[0m | \u001b[0m37.35    \u001b[0m |\n",
      "| \u001b[0m23       \u001b[0m | \u001b[0m0.8606   \u001b[0m | \u001b[0m99.24    \u001b[0m | \u001b[0m87.79    \u001b[0m |\n",
      "| \u001b[0m24       \u001b[0m | \u001b[0m0.8558   \u001b[0m | \u001b[0m73.2     \u001b[0m | \u001b[0m1.291    \u001b[0m |\n",
      "| \u001b[0m25       \u001b[0m | \u001b[0m0.8484   \u001b[0m | \u001b[0m55.41    \u001b[0m | \u001b[0m19.98    \u001b[0m |\n",
      "| \u001b[0m26       \u001b[0m | \u001b[0m0.8514   \u001b[0m | \u001b[0m41.01    \u001b[0m | \u001b[0m59.21    \u001b[0m |\n",
      "| \u001b[0m27       \u001b[0m | \u001b[0m0.8588   \u001b[0m | \u001b[0m52.78    \u001b[0m | \u001b[0m73.33    \u001b[0m |\n",
      "| \u001b[0m28       \u001b[0m | \u001b[0m0.849    \u001b[0m | \u001b[0m72.95    \u001b[0m | \u001b[0m100.0    \u001b[0m |\n",
      "| \u001b[0m29       \u001b[0m | \u001b[0m0.854    \u001b[0m | \u001b[0m75.0     \u001b[0m | \u001b[0m80.43    \u001b[0m |\n",
      "| \u001b[0m30       \u001b[0m | \u001b[0m0.8562   \u001b[0m | \u001b[0m61.12    \u001b[0m | \u001b[0m47.82    \u001b[0m |\n",
      "| \u001b[0m31       \u001b[0m | \u001b[0m0.8504   \u001b[0m | \u001b[0m84.04    \u001b[0m | \u001b[0m14.25    \u001b[0m |\n",
      "| \u001b[0m32       \u001b[0m | \u001b[0m0.8576   \u001b[0m | \u001b[0m72.18    \u001b[0m | \u001b[0m58.79    \u001b[0m |\n",
      "| \u001b[0m33       \u001b[0m | \u001b[0m0.8464   \u001b[0m | \u001b[0m54.17    \u001b[0m | \u001b[0m87.33    \u001b[0m |\n",
      "| \u001b[0m34       \u001b[0m | \u001b[0m0.8594   \u001b[0m | \u001b[0m65.76    \u001b[0m | \u001b[0m71.94    \u001b[0m |\n",
      "| \u001b[0m35       \u001b[0m | \u001b[0m0.8526   \u001b[0m | \u001b[0m89.36    \u001b[0m | \u001b[0m50.94    \u001b[0m |\n",
      "| \u001b[0m36       \u001b[0m | \u001b[0m0.8572   \u001b[0m | \u001b[0m91.81    \u001b[0m | \u001b[0m78.96    \u001b[0m |\n",
      "| \u001b[0m37       \u001b[0m | \u001b[0m0.8566   \u001b[0m | \u001b[0m85.96    \u001b[0m | \u001b[0m30.06    \u001b[0m |\n",
      "| \u001b[0m38       \u001b[0m | \u001b[0m0.8554   \u001b[0m | \u001b[0m38.78    \u001b[0m | \u001b[0m100.0    \u001b[0m |\n",
      "| \u001b[0m39       \u001b[0m | \u001b[0m0.8494   \u001b[0m | \u001b[0m68.3     \u001b[0m | \u001b[0m33.63    \u001b[0m |\n",
      "| \u001b[0m40       \u001b[0m | \u001b[0m0.8458   \u001b[0m | \u001b[0m50.29    \u001b[0m | \u001b[0m52.44    \u001b[0m |\n",
      "| \u001b[0m41       \u001b[0m | \u001b[0m0.8626   \u001b[0m | \u001b[0m30.18    \u001b[0m | \u001b[0m70.62    \u001b[0m |\n",
      "| \u001b[0m42       \u001b[0m | \u001b[0m0.8624   \u001b[0m | \u001b[0m39.11    \u001b[0m | \u001b[0m23.19    \u001b[0m |\n",
      "| \u001b[0m43       \u001b[0m | \u001b[0m0.8596   \u001b[0m | \u001b[0m27.94    \u001b[0m | \u001b[0m82.2     \u001b[0m |\n",
      "| \u001b[0m44       \u001b[0m | \u001b[0m0.8634   \u001b[0m | \u001b[0m90.81    \u001b[0m | \u001b[0m99.67    \u001b[0m |\n",
      "| \u001b[0m45       \u001b[0m | \u001b[0m0.8592   \u001b[0m | \u001b[0m33.42    \u001b[0m | \u001b[0m36.63    \u001b[0m |\n",
      "| \u001b[0m46       \u001b[0m | \u001b[0m0.8572   \u001b[0m | \u001b[0m29.09    \u001b[0m | \u001b[0m53.98    \u001b[0m |\n",
      "| \u001b[0m47       \u001b[0m | \u001b[0m0.8596   \u001b[0m | \u001b[0m21.24    \u001b[0m | \u001b[0m70.73    \u001b[0m |\n",
      "| \u001b[0m48       \u001b[0m | \u001b[0m0.8554   \u001b[0m | \u001b[0m66.81    \u001b[0m | \u001b[0m88.46    \u001b[0m |\n",
      "| \u001b[0m49       \u001b[0m | \u001b[0m0.8516   \u001b[0m | \u001b[0m36.12    \u001b[0m | \u001b[0m45.9     \u001b[0m |\n",
      "| \u001b[0m50       \u001b[0m | \u001b[0m0.8566   \u001b[0m | \u001b[0m100.0    \u001b[0m | \u001b[0m45.03    \u001b[0m |\n",
      "| \u001b[0m51       \u001b[0m | \u001b[0m0.856    \u001b[0m | \u001b[0m25.91    \u001b[0m | \u001b[0m63.22    \u001b[0m |\n",
      "| \u001b[0m52       \u001b[0m | \u001b[0m0.8642   \u001b[0m | \u001b[0m66.82    \u001b[0m | \u001b[0m10.01    \u001b[0m |\n",
      "| \u001b[0m53       \u001b[0m | \u001b[0m0.8604   \u001b[0m | \u001b[0m61.91    \u001b[0m | \u001b[0m1.0      \u001b[0m |\n",
      "| \u001b[0m54       \u001b[0m | \u001b[0m0.8546   \u001b[0m | \u001b[0m29.73    \u001b[0m | \u001b[0m27.19    \u001b[0m |\n",
      "| \u001b[0m55       \u001b[0m | \u001b[0m0.86     \u001b[0m | \u001b[0m99.88    \u001b[0m | \u001b[0m28.54    \u001b[0m |\n",
      "=================================================\n"
     ]
    }
   ],
   "source": [
    "import numpy as np\n",
    "from bayes_opt import BayesianOptimization\n",
    "\n",
    "L = 100\n",
    "K = 100\n",
    "NN = 5000\n",
    "tqdm_train = tqdm.tqdm_notebook(total=K, desc='train', position=1)\n",
    "tqdm_test  = tqdm.tqdm_notebook(total=NN, desc='test', position=2)\n",
    "\n",
    "# Define the objective function for the MDP\n",
    "def objective(K, L):\n",
    "    # Train the MDP using the specified learning rate and discount factor\n",
    "    policy = train_MDP(int(L), int(K),  0.9884, tqdm_train)\n",
    "\n",
    "    # Evaluate the performance of the trained MDP on a validation dataset\n",
    "    rewards, steps = test_MDP(policy, NN,  tqdm_test)\n",
    "    g, sucess, fail, sucess_len, fail_len = stats(gamma, rewards, steps)\n",
    "    # Return the performance of the MDP as the objective value\n",
    "    return sucess\n",
    "\n",
    "# Define the bounds of the hyperparameters\n",
    "bounds = {'K':(1,100), 'L':(1,100)}\n",
    "\n",
    "# Initialize the Bayesian optimization algorithm\n",
    "bo = BayesianOptimization(objective, bounds)\n",
    "\n",
    "# Run the optimization process for a maximum of 50 iterations\n",
    "bo.maximize(n_iter=50)\n",
    "\n",
    "# Print the hyperparameters that resulted in the best performance\n",
    "# print(bo.res['max'])"
   ]
  },
  {
   "cell_type": "code",
   "execution_count": 109,
   "id": "2150c6ee",
   "metadata": {
    "scrolled": false
   },
   "outputs": [
    {
     "name": "stdout",
     "output_type": "stream",
     "text": [
      "{'target': 0.861, 'params': {'K': 72.6573029392998, 'L': 36.01783117565698, 'gamma': 0.9940136717034753}}\n"
     ]
    }
   ],
   "source": [
    "t = 0\n",
    "max_params = None\n",
    "for res in bo.res:\n",
    "    if (res['target']>t):\n",
    "        max_params = res\n",
    "        t = res['target']\n",
    "print(max_params)"
   ]
  },
  {
   "cell_type": "code",
   "execution_count": 47,
   "id": "9f591ca3",
   "metadata": {},
   "outputs": [],
   "source": [
    "dones = np.array([(r['target'], r['params']['gamma']) for r in bo.res])"
   ]
  },
  {
   "cell_type": "code",
   "execution_count": 50,
   "id": "2ac9813f",
   "metadata": {},
   "outputs": [
    {
     "data": {
      "text/plain": [
       "<matplotlib.collections.PathCollection at 0x7f3ff87d1410>"
      ]
     },
     "execution_count": 50,
     "metadata": {},
     "output_type": "execute_result"
    },
    {
     "data": {
      "image/png": "[encoded data removed]",
      "text/plain": [
       "<Figure size 432x288 with 1 Axes>"
      ]
     },
     "metadata": {
      "needs_background": "light"
     },
     "output_type": "display_data"
    }
   ],
   "source": [
    "plt.scatter(dones[::,0], dones[::,1])"
   ]
  },
  {
   "cell_type": "code",
   "execution_count": null,
   "id": "291c2bff",
   "metadata": {},
   "outputs": [],
   "source": []
  },
  {
   "cell_type": "code",
   "execution_count": 297,
   "id": "0be5ba8c",
   "metadata": {},
   "outputs": [
    {
     "data": {
      "text/plain": [
       "array([[ 0.        ,  0.0147    ,  0.9853    , 11.96598639,  6.61230082],\n",
       "       [ 0.11111111,  0.0142    ,  0.9858    , 12.92957746,  6.57892067],\n",
       "       [ 0.22222222,  0.0139    ,  0.9861    , 12.33093525,  6.65175946],\n",
       "       [ 0.33333333,  0.0157    ,  0.9843    , 12.21656051,  6.63679772],\n",
       "       [ 0.44444444,  0.0155    ,  0.9845    , 11.75483871,  6.5523616 ],\n",
       "       [ 0.55555556,  0.0167    ,  0.9833    , 13.4251497 ,  6.5096105 ],\n",
       "       [ 0.66666667,  0.0151    ,  0.9849    , 11.96688742,  6.66422987],\n",
       "       [ 0.77777778,  0.0148    ,  0.9852    , 12.38513514,  6.60535932],\n",
       "       [ 0.88888889,  0.0156    ,  0.9844    , 12.30128205,  6.51787891],\n",
       "       [ 1.        ,  0.014     ,  0.986     , 12.40714286,  6.64371197]])"
      ]
     },
     "execution_count": 297,
     "metadata": {},
     "output_type": "execute_result"
    }
   ],
   "source": [
    "exps"
   ]
  },
  {
   "cell_type": "code",
   "execution_count": 230,
   "id": "2b2e2382",
   "metadata": {},
   "outputs": [
    {
     "data": {
      "text/plain": [
       "3"
      ]
     },
     "execution_count": 230,
     "metadata": {},
     "output_type": "execute_result"
    }
   ],
   "source": [
    "len(exps)"
   ]
  },
  {
   "cell_type": "code",
   "execution_count": 246,
   "id": "6f349e6a",
   "metadata": {},
   "outputs": [
    {
     "ename": "ValueError",
     "evalue": "too many values to unpack (expected 3)",
     "output_type": "error",
     "traceback": [
      "\u001b[0;31m------------------------------------\u001b[0m",
      "\u001b[0;31mValueError\u001b[0mTraceback (most recent call last)",
      "\u001b[0;32m<ipython-input-246-224bc98e7af6>\u001b[0m in \u001b[0;36m<module>\u001b[0;34m\u001b[0m\n\u001b[0;32m----> 1\u001b[0;31m \u001b[0mg\u001b[0m\u001b[0;34m,\u001b[0m \u001b[0mr\u001b[0m\u001b[0;34m,\u001b[0m \u001b[0ms\u001b[0m \u001b[0;34m=\u001b[0m \u001b[0mexps\u001b[0m\u001b[0;34m[\u001b[0m\u001b[0;36m0\u001b[0m\u001b[0;34m]\u001b[0m\u001b[0;34m\u001b[0m\u001b[0;34m\u001b[0m\u001b[0m\n\u001b[0m",
      "\u001b[0;31mValueError\u001b[0m: too many values to unpack (expected 3)"
     ]
    }
   ],
   "source": [
    "g, r, s = exps[0]"
   ]
  },
  {
   "cell_type": "code",
   "execution_count": 233,
   "id": "23e72d08",
   "metadata": {},
   "outputs": [
    {
     "data": {
      "text/plain": [
       "0.0"
      ]
     },
     "execution_count": 233,
     "metadata": {},
     "output_type": "execute_result"
    }
   ],
   "source": [
    "g"
   ]
  },
  {
   "cell_type": "code",
   "execution_count": 245,
   "id": "830bfdf5",
   "metadata": {},
   "outputs": [
    {
     "data": {
      "text/plain": [
       "(0.012, 0.988, 11.666666666666666, 6.618421052631579)"
      ]
     },
     "execution_count": 245,
     "metadata": {},
     "output_type": "execute_result"
    }
   ],
   "source": [
    "stats(g, r, s)"
   ]
  },
  {
   "cell_type": "code",
   "execution_count": 158,
   "id": "4e53cfce",
   "metadata": {},
   "outputs": [],
   "source": [
    "def test_policy(policy):\n",
    "    total_reward = 0\n",
    "    state = env.reset()\n",
    "    for i in range(100):\n",
    "        possible_actions = list(sorted(env.get_possible_actions(state)))\n",
    "#         print(possible_actions)\n",
    "        state_y, state_x = state\n",
    "        actions_distr = policy[state_y][state_x]\n",
    "\n",
    "        action = np.random.choice(possible_actions,p=actions_distr)\n",
    "        state, reward, done, _ = env.step(action)\n",
    "#         print(state, reward, done, _,action, actions_distr)\n",
    "#         env.render()\n",
    "        total_reward += reward\n",
    "\n",
    "        if done: break\n",
    "    return total_reward, i"
   ]
  },
  {
   "cell_type": "code",
   "execution_count": 126,
   "id": "7296ff32",
   "metadata": {},
   "outputs": [
    {
     "name": "stderr",
     "output_type": "stream",
     "text": [
      "100%|██████████| 10000/10000 [00:06<00:00, 1459.44it/s]\n"
     ]
    }
   ],
   "source": [
    "NN = 10000\n",
    "runs = [run_test()for _ in tqdm.tqdm(range(NN))]\n",
    "runs = np.array(runs)"
   ]
  },
  {
   "cell_type": "code",
   "execution_count": 114,
   "id": "e6b5c0ce",
   "metadata": {},
   "outputs": [
    {
     "name": "stderr",
     "output_type": "stream",
     "text": [
      "/home/shmalex/anaconda3/lib/python3.7/site-packages/ipykernel/ipkernel.py:287: DeprecationWarning: `should_run_async` will not call `transform_cell` automatically in the future. Please pass the result to `transformed_cell` argument and any exception that happen during thetransform in `preprocessing_exc_tuple` in IPython 7.17 and above.\n",
      "  and should_run_async(code)\n"
     ]
    }
   ],
   "source": [
    "import matplotlib.pyplot as plt"
   ]
  },
  {
   "cell_type": "code",
   "execution_count": 129,
   "id": "8b77e11d",
   "metadata": {},
   "outputs": [
    {
     "name": "stdout",
     "output_type": "stream",
     "text": [
      "0.7276 0.2724\n"
     ]
    }
   ],
   "source": [
    "success = np.sum(runs[::,0]==1.)/NN\n",
    "fail = 1-success\n",
    "print(success, fail)"
   ]
  },
  {
   "cell_type": "code",
   "execution_count": 128,
   "id": "2817ace2",
   "metadata": {},
   "outputs": [
    {
     "data": {
      "image/png": "[encoded data removed]",
      "text/plain": [
       "<Figure size 432x288 with 1 Axes>"
      ]
     },
     "metadata": {
      "needs_background": "light"
     },
     "output_type": "display_data"
    }
   ],
   "source": [
    "plt.hist(runs[runs[::,0]==0.][::,1], color='red' , alpha=0.3, bins=50)\n",
    "plt.hist(runs[runs[::,0]==1.][::,1], color='blue', alpha=0.3, bins=50)\n",
    "plt.show()"
   ]
  },
  {
   "cell_type": "code",
   "execution_count": 40,
   "id": "05a78b90",
   "metadata": {},
   "outputs": [
    {
     "data": {
      "text/plain": [
       "1.0"
      ]
     },
     "execution_count": 40,
     "metadata": {},
     "output_type": "execute_result"
    }
   ],
   "source": [
    "total_reward"
   ]
  },
  {
   "cell_type": "code",
   "execution_count": 61,
   "id": "e7634063",
   "metadata": {},
   "outputs": [
    {
     "data": {
      "text/plain": [
       "inf"
      ]
     },
     "execution_count": 61,
     "metadata": {},
     "output_type": "execute_result"
    }
   ],
   "source": [
    "float('Inf')"
   ]
  },
  {
   "cell_type": "code",
   "execution_count": 44,
   "id": "28c73279",
   "metadata": {},
   "outputs": [
    {
     "name": "stderr",
     "output_type": "stream",
     "text": [
      "100%|██████████| 100/100 [00:05<00:00, 19.55it/s]\n"
     ]
    },
    {
     "name": "stdout",
     "output_type": "stream",
     "text": [
      "SFFF\n",
      "*HFH\n",
      "FFFH\n",
      "HFFG\n",
      "\n",
      "SFFF\n",
      "FHFH\n",
      "*FFH\n",
      "HFFG\n",
      "\n",
      "SFFF\n",
      "FHFH\n",
      "F*FH\n",
      "HFFG\n",
      "\n",
      "SFFF\n",
      "FHFH\n",
      "FFFH\n",
      "H*FG\n",
      "\n",
      "SFFF\n",
      "FHFH\n",
      "FFFH\n",
      "HF*G\n",
      "\n",
      "SFFF\n",
      "FHFH\n",
      "FFFH\n",
      "HFF*\n",
      "\n",
      "total reward = 1.0\n"
     ]
    }
   ],
   "source": [
    "from Frozen_Lake import FrozenLakeEnv\n",
    "import numpy as np\n",
    "import time\n",
    "\n",
    "env = FrozenLakeEnv()\n",
    "\n",
    "def init_policy():\n",
    "    policy = {}\n",
    "    for state in env.get_all_states():\n",
    "        policy[state] = {}\n",
    "        for action in env.get_possible_actions(state):\n",
    "            policy[state][action] = 1 / len(env.get_possible_actions(state))\n",
    "    return policy\n",
    "\n",
    "def policy_evaluation_step(policy, values, gamma):\n",
    "    q_values = get_q_values(values, gamma)\n",
    "    \n",
    "    new_values = {}\n",
    "    for state in env.get_all_states():\n",
    "        new_values[state] = 0\n",
    "        for action in env.get_possible_actions(state):\n",
    "            new_values[state] += policy[state][action] * q_values[state][action]\n",
    "    \n",
    "    return new_values\n",
    "\n",
    "def init_values():\n",
    "    return {state: 0 for state in env.get_all_states()}\n",
    "\n",
    "def get_q_values(values, gamma):\n",
    "    q_values = {}\n",
    "    for state in env.get_all_states():\n",
    "        q_values[state] = {}\n",
    "        for action in env.get_possible_actions(state):\n",
    "            q_values[state][action] = 0\n",
    "            for next_state in env.get_next_states(state, action):\n",
    "                reward = env.get_reward(state, action, next_state)\n",
    "                transition_prob = env.get_transition_prob(state, action, next_state)\n",
    "                next_value = values[next_state]\n",
    "                q_values[state][action] += transition_prob * (reward + gamma * next_value)\n",
    "    return q_values\n",
    "\n",
    "def policy_evaluation(policy, gamma, evaluation_step_n):\n",
    "    values = init_values()\n",
    "    for _ in range(evaluation_step_n):\n",
    "        values = policy_evaluation_step(policy, values, gamma)\n",
    "    q_values = get_q_values(values, gamma)\n",
    "    return q_values\n",
    "\n",
    "def policy_improvement(q_values):\n",
    "    new_policy = {}\n",
    "    for state in env.get_all_states():\n",
    "        new_policy[state] = {}\n",
    "        max_action = None\n",
    "        max_q_value = float('-inf')\n",
    "        for action in env.get_possible_actions(state):\n",
    "            if q_values[state][action] > max_q_value:\n",
    "                max_q_value = q_values[state][action]\n",
    "                max_action = action\n",
    "        for action in env.get_possible_actions(state):\n",
    "            new_policy[state][action] = 1 if action == max_action else 0\n",
    "    return new_policy\n",
    "\n",
    "\n",
    "iteration_n = 100\n",
    "evaluation_step_n = 100\n",
    "gamma = 0.9\n",
    "\n",
    "policy = init_policy()\n",
    "for k in tqdm.tqdm(range(iteration_n), position=0):\n",
    "    \n",
    "    q_values = policy_evaluation(policy, gamma, evaluation_step_n)\n",
    "    policy = policy_improvement(q_values)\n",
    "    \n",
    "\n",
    "total_reward = 0\n",
    "state = env.reset()\n",
    "for _ in range(100):\n",
    "    action = np.random.choice(env.get_possible_actions(state), p=list(policy[state].values()))\n",
    "    state, reward, done, _ = env.step(action)\n",
    "    \n",
    "    time.sleep(1)\n",
    "    env.render()\n",
    "    \n",
    "    total_reward += reward\n",
    "    \n",
    "    if done or env.is_terminal(state):\n",
    "        break\n",
    "\n",
    "print(f'total reward = {total_reward}')"
   ]
  },
  {
   "cell_type": "code",
   "execution_count": 49,
   "id": "0bda08b3",
   "metadata": {},
   "outputs": [
    {
     "name": "stderr",
     "output_type": "stream",
     "text": [
      "/home/shmalex/anaconda3/lib/python3.7/site-packages/ipykernel/ipkernel.py:287: DeprecationWarning: `should_run_async` will not call `transform_cell` automatically in the future. Please pass the result to `transformed_cell` argument and any exception that happen during thetransform in `preprocessing_exc_tuple` in IPython 7.17 and above.\n",
      "  and should_run_async(code)\n"
     ]
    }
   ],
   "source": [
    "plc = np.zeros((4,4,4))\n",
    "for (y,x),a  in policy.items():\n",
    "    for k,v in a.items():\n",
    "        plc[y][x][actions_dict[k]] = v"
   ]
  }
 ],
 "metadata": {
  "kernelspec": {
   "display_name": "Python 3",
   "language": "python",
   "name": "python3"
  },
  "language_info": {
   "codemirror_mode": {
    "name": "ipython",
    "version": 3
   },
   "file_extension": ".py",
   "mimetype": "text/x-python",
   "name": "python",
   "nbconvert_exporter": "python",
   "pygments_lexer": "ipython3",
   "version": "3.7.10"
  }
 },
 "nbformat": 4,
 "nbformat_minor": 5
}
