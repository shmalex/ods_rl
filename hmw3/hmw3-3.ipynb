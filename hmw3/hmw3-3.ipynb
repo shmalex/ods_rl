{
 "cells": [
  {
   "cell_type": "markdown",
   "id": "566d23a0",
   "metadata": {},
   "source": [
    "## Home Work"
   ]
  },
  {
   "cell_type": "code",
   "execution_count": 1,
   "id": "dd8d582d",
   "metadata": {},
   "outputs": [],
   "source": [
    "import colorama\n",
    "\n",
    "import tqdm\n",
    "import matplotlib.pyplot as plt\n",
    "import graphviz\n",
    "import numpy as np\n",
    "import Frozen_Lake as fl"
   ]
  },
  {
   "cell_type": "code",
   "execution_count": 2,
   "id": "4cbdd1bf",
   "metadata": {},
   "outputs": [
    {
     "name": "stderr",
     "output_type": "stream",
     "text": [
      "/home/shmalex/anaconda3/lib/python3.7/site-packages/ipykernel/ipkernel.py:287: DeprecationWarning: `should_run_async` will not call `transform_cell` automatically in the future. Please pass the result to `transformed_cell` argument and any exception that happen during thetransform in `preprocessing_exc_tuple` in IPython 7.17 and above.\n",
      "  and should_run_async(code)\n"
     ]
    }
   ],
   "source": [
    "def init_policy(env):\n",
    "\n",
    "    actions_set = set()\n",
    "\n",
    "    row_max = 0\n",
    "    col_max = 0\n",
    "    for state in env.get_all_states():\n",
    "        actions_set.update(env.get_possible_actions(state))\n",
    "        row_max = max(row_max, state[0])\n",
    "        col_max = max(col_max, state[1])\n",
    "\n",
    "    actions = {i:action for i,action in enumerate(sorted(actions_set))}\n",
    "\n",
    "    policy = np.zeros((row_max+1, col_max+1, len(actions_set)))\n",
    "\n",
    "#     print('policies    |states')\n",
    "    for y,x in env.get_all_states():\n",
    "        possible_actions = env.get_possible_actions((y,x))\n",
    "        if len(possible_actions)!=0:\n",
    "            uniform_prob = 1/len(possible_actions)\n",
    "            policy[y][x] = uniform_prob\n",
    "#         print(policy[y][x], y, x,)\n",
    "    return policy, list(sorted(actions_set))\n",
    "\n",
    "def init_values(policy):\n",
    "     return np.zeros((policy.shape[0]*policy.shape[1],))\n",
    "\n",
    "def value_iteration(value, gamma):\n",
    "    new_values = np.zeros(policy.shape[0]*policy.shape[1])\n",
    "    for state in env.get_all_states():\n",
    "        state_y, state_x = state\n",
    "        idx_state_values = state_y*policy.shape[0] + state_x\n",
    "        actions = []\n",
    "        for i, action in enumerate(env.get_possible_actions(state)):\n",
    "            state_action = 0\n",
    "            policy_prob = policy[state_y][state_x][actions_dict[action]]\n",
    "            for next_state in env.get_next_states(state, action):\n",
    "                next_state_y, next_state_x = next_state\n",
    "                idx_next_state_values = next_state_y*policy.shape[0] + next_state_x\n",
    "                # reward\n",
    "                reward = env.get_reward(state, action, next_state)\n",
    "                # value\n",
    "                trans_prob = env.get_transition_prob(state, action, next_state)\n",
    "                next_value = values[idx_next_state_values]\n",
    "                state_action += policy_prob * trans_prob * (reward + gamma * next_value)\n",
    "            actions.append(state_action)\n",
    "        if len(actions)!=0:\n",
    "            new_values[idx_state_values] = max(actions)\n",
    "    \n",
    "    return new_values\n",
    "def policy_evalu__ation_step(policy, values, gamma):\n",
    "    new_values = np.zeros(policy.shape[0]*policy.shape[1])\n",
    "\n",
    "    for state in env.get_all_states():\n",
    "        state_y, state_x = state\n",
    "        idx_state_values = state_y*policy.shape[0] + state_x\n",
    "        for action in env.get_possible_actions(state):\n",
    "            policy_prob = policy[state_y][state_x][actions_dict[action]]\n",
    "            for next_state in env.get_next_states(state, action):\n",
    "                next_state_y, next_state_x = next_state\n",
    "                idx_next_state_values = next_state_y*policy.shape[0] + next_state_x\n",
    "\n",
    "                # reward\n",
    "                reward = env.get_reward(state, action, next_state)\n",
    "                # value\n",
    "                trans_prob = env.get_transition_prob(state, action, next_state)\n",
    "                next_value = values[idx_next_state_values]\n",
    "                new_values[idx_state_values] += \\\n",
    "                    policy_prob * trans_prob * (reward + gamma * next_value)\n",
    "\n",
    "    return new_values\n",
    "\n",
    "def Q(policy, values, actions_dict):\n",
    "    new_q = np.zeros(policy.shape)\n",
    "\n",
    "    for state in env.get_all_states():\n",
    "        state_y, state_x = state\n",
    "        # actions_dict[action]\n",
    "        for action in env.get_possible_actions(state):\n",
    "            for next_state in env.get_next_states(state, action):\n",
    "                next_state_y, next_state_x = next_state\n",
    "\n",
    "                reward = env.get_reward(state, action, next_state)\n",
    "                prob = env.get_transition_prob(state, action, next_state)\n",
    "                next_value = values[next_state_y*policy.shape[0]+next_state_x]\n",
    "\n",
    "                new_q[state_y][state_x][actions_dict[action]] \\\n",
    "                    += prob *(reward + gamma * next_value)\n",
    "    return new_q\n",
    "\n",
    "def policy_improvement(policy, q):\n",
    "    next_policy = np.zeros(policy.shape)\n",
    "    for state in env.get_all_states():\n",
    "        state_y,state_x = state\n",
    "\n",
    "        idx_action = np.argmax(q[state_y][state_x])\n",
    "        next_policy[state_y][state_x][idx_action] = 1\n",
    "    return next_policy"
   ]
  },
  {
   "cell_type": "code",
   "execution_count": 3,
   "id": "8f0f0407",
   "metadata": {},
   "outputs": [
    {
     "data": {
      "text/plain": [
       "(0, 0)"
      ]
     },
     "execution_count": 3,
     "metadata": {},
     "output_type": "execute_result"
    }
   ],
   "source": [
    "env = fl.FrozenLakeEnv(map_name=\"4x4\")\n",
    "env.reset()"
   ]
  },
  {
   "cell_type": "code",
   "execution_count": 4,
   "id": "f67a6a05",
   "metadata": {},
   "outputs": [
    {
     "data": {
      "text/plain": [
       "(['down', 'left', 'right', 'up'], {'down': 0, 'left': 1, 'right': 2, 'up': 3})"
      ]
     },
     "execution_count": 4,
     "metadata": {},
     "output_type": "execute_result"
    }
   ],
   "source": [
    "policy,actions_set = init_policy(env)\n",
    "actions_dict ={action:i for i,action in enumerate(sorted(actions_set))}\n",
    "actions_arr = [0]*4\n",
    "for k,v in actions_dict.items():\n",
    "    actions_arr[v]=k\n",
    "actions_arr, actions_dict"
   ]
  },
  {
   "cell_type": "code",
   "execution_count": 5,
   "id": "594c6e37",
   "metadata": {},
   "outputs": [
    {
     "name": "stderr",
     "output_type": "stream",
     "text": [
      "100%|██████████| 100/100 [00:04<00:00, 20.44it/s]\n"
     ]
    },
    {
     "data": {
      "text/plain": [
       "array([[[1., 0., 0., 0.],\n",
       "        [0., 0., 1., 0.],\n",
       "        [1., 0., 0., 0.],\n",
       "        [0., 1., 0., 0.]],\n",
       "\n",
       "       [[1., 0., 0., 0.],\n",
       "        [1., 0., 0., 0.],\n",
       "        [1., 0., 0., 0.],\n",
       "        [1., 0., 0., 0.]],\n",
       "\n",
       "       [[0., 0., 1., 0.],\n",
       "        [1., 0., 0., 0.],\n",
       "        [1., 0., 0., 0.],\n",
       "        [1., 0., 0., 0.]],\n",
       "\n",
       "       [[1., 0., 0., 0.],\n",
       "        [0., 0., 1., 0.],\n",
       "        [0., 0., 1., 0.],\n",
       "        [1., 0., 0., 0.]]])"
      ]
     },
     "execution_count": 5,
     "metadata": {},
     "output_type": "execute_result"
    }
   ],
   "source": [
    "L = 100\n",
    "K = 100\n",
    "gamma = 0.8\n",
    "\n",
    "values = init_values(policy)\n",
    "for k in tqdm.tqdm(range(K), position=0):\n",
    "    for l in range(L):\n",
    "        values = value_iteration(values, gamma)\n",
    "    q = Q(policy, values, actions_dict)\n",
    "    policy = policy_improvement(policy, q)\n",
    "policy"
   ]
  },
  {
   "cell_type": "code",
   "execution_count": 6,
   "id": "bf632e67",
   "metadata": {},
   "outputs": [],
   "source": [
    "def render_policy(policy, env, actions_arr):\n",
    "    field = []\n",
    "    row = []\n",
    "    for y, x in env.get_all_states():\n",
    "        row.append(actions_arr[np.argmax(policy[x][y])][0])\n",
    "        if x == 3:\n",
    "            field.append(' '.join(row))\n",
    "            row = []\n",
    "    print('\\n'.join(field))"
   ]
  },
  {
   "cell_type": "code",
   "execution_count": 7,
   "id": "50c397bf",
   "metadata": {},
   "outputs": [
    {
     "name": "stdout",
     "output_type": "stream",
     "text": [
      "d d r d\n",
      "r d d r\n",
      "d d d r\n",
      "l d d d\n"
     ]
    }
   ],
   "source": [
    "render_policy(policy, env, actions_arr)"
   ]
  },
  {
   "cell_type": "code",
   "execution_count": 8,
   "id": "52c8487f",
   "metadata": {},
   "outputs": [],
   "source": [
    "def run_test(policy):\n",
    "    total_reward = 0\n",
    "    state = env.reset()\n",
    "    \n",
    "    for step in range(100):\n",
    "        possible_actions = list(sorted(env.get_possible_actions(state)))\n",
    "        state_y, state_x = state\n",
    "        actions_distr = policy[state_y][state_x]\n",
    "\n",
    "        action = np.random.choice(possible_actions,p=actions_distr)\n",
    "        state, reward, done, _ = env.step(action)\n",
    "#         print(state, reward, done, _,action, actions_distr)\n",
    "#         break\n",
    "#         env.render()\n",
    "        total_reward += reward\n",
    "\n",
    "        if done: break\n",
    "    return total_reward, step"
   ]
  },
  {
   "cell_type": "code",
   "execution_count": 9,
   "id": "8d52299b",
   "metadata": {},
   "outputs": [],
   "source": [
    "def stats(g, r, s):\n",
    "    sucess = np.sum(r[r==1])/len(r)\n",
    "    fail = 1 - sucess\n",
    "    sucess_len = np.mean(s[r==1])\n",
    "    fail_len = np.mean(s[r==0])\n",
    "    return g, sucess, fail, sucess_len, fail_len"
   ]
  },
  {
   "cell_type": "code",
   "execution_count": 10,
   "id": "47d8e2d0",
   "metadata": {},
   "outputs": [
    {
     "data": {
      "text/plain": [
       "(1.0, 6)"
      ]
     },
     "execution_count": 10,
     "metadata": {},
     "output_type": "execute_result"
    }
   ],
   "source": [
    "run_test(policy)"
   ]
  },
  {
   "cell_type": "code",
   "execution_count": 11,
   "id": "3295bd66",
   "metadata": {},
   "outputs": [],
   "source": [
    "def train_MDP(L, K, gamma, tqdm_train):\n",
    "    tqdm_train.reset()\n",
    "    policy,actions_set = init_policy(env)\n",
    "    actions_dict ={action:i for i,action in enumerate(sorted(actions_set))}\n",
    "    values = init_values(policy)\n",
    "    values\n",
    "    for k in range(K):\n",
    "        tqdm_train.update()\n",
    "        for l in range(L):\n",
    "            values = value_iteration(values, gamma)\n",
    "        q = Q(policy, values, actions_dict)\n",
    "        policy = policy_improvement(policy, q)\n",
    "    return policy\n",
    "\n",
    "def test_MDP(policy, NN, tqdm_test):\n",
    "    tqdm_test.reset()\n",
    "    runs = []\n",
    "    for _ in range(NN):\n",
    "        runs.append(run_test(policy))\n",
    "        tqdm_test.update()\n",
    "    runs = np.array(runs)\n",
    "    rewards, steps = runs[::,0], runs[::,1]\n",
    "    return rewards, steps\n",
    "\n",
    "def experiment(L, K, NN, gamma, tqdm_train, tqdm_test):\n",
    "    # gamma = 0.8\n",
    "    policy = train_mdp(L, K, gamma, tqdm_train)\n",
    "    return test_MDP(policy, NN, tqdm_test)"
   ]
  },
  {
   "cell_type": "code",
   "execution_count": 12,
   "id": "6102e640",
   "metadata": {},
   "outputs": [],
   "source": [
    "def experiments(L, K, NN, gammas):\n",
    "    exps=[]\n",
    "    tqdm_gammas = tqdm.tqdm_notebook(total=len(gammas), desc='gammas', position=0)\n",
    "    tqdm_train = tqdm.tqdm_notebook(total=K, desc='train', position=1)\n",
    "    tqdm_test  = tqdm.tqdm_notebook(total=NN, desc='test', position=2)\n",
    "    for gamma in gammas:\n",
    "        tqdm_gammas.set_description('gamma:'+f\"{gamma:0.5}\")\n",
    "        rewards, steps = experiment(L, K, NN, gamma, tqdm_train, tqdm_test)\n",
    "        exps.append(stats(gamma, rewards, steps))\n",
    "        tqdm_gammas.update()\n",
    "    return np.array(exps)"
   ]
  },
  {
   "cell_type": "markdown",
   "id": "28971023",
   "metadata": {},
   "source": [
    "gammas = np.linspace(0.01,1, num=200)"
   ]
  },
  {
   "cell_type": "markdown",
   "id": "559ad7c9",
   "metadata": {},
   "source": [
    "NN = 5000\n",
    "L = 100\n",
    "K = 100\n",
    "exps_01_1 = experiments(L, K, NN, gammas)"
   ]
  },
  {
   "cell_type": "markdown",
   "id": "3dfd4244",
   "metadata": {},
   "source": [
    "# g, sucess, fail, sucess_len, fail_len\n",
    "plt.figure(figsize=(20,8))\n",
    "plt.ylim((0,100))\n",
    "plt.scatter(exps_01_1[::,0],exps_01_1[::,1]*100, alpha=0.8)\n",
    "plt.title('The % of successfull trajectories vs Gamma')"
   ]
  },
  {
   "cell_type": "markdown",
   "id": "6f2a76fa",
   "metadata": {},
   "source": [
    "np.mean(exps_01_1[::,1][:-6])"
   ]
  },
  {
   "cell_type": "markdown",
   "id": "f88f2bdf",
   "metadata": {},
   "source": [
    "# g, sucess, fail, sucess_len, fail_len\n",
    "plt.figure(figsize=(20,8))\n",
    "# plt.ylim((0,100))\n",
    "plt.hist(exps[exps[::,3]<18][::,3], bins=100,)\n",
    "plt.title('The % of successfull trajectories vs Gamma')"
   ]
  },
  {
   "cell_type": "markdown",
   "id": "33115126",
   "metadata": {},
   "source": [
    "gammas = np.linspace(0.9,0.99, num=100)\n",
    "gammas\n",
    "\n",
    "NN = 5000\n",
    "L = 100\n",
    "K = 100\n",
    "exps_short_9_99 = experiments(L, K, NN, gammas)"
   ]
  },
  {
   "cell_type": "markdown",
   "id": "14d361ef",
   "metadata": {},
   "source": [
    "exps_short[::,1]"
   ]
  },
  {
   "cell_type": "markdown",
   "id": "066b1e60",
   "metadata": {},
   "source": [
    "exps_short[::,1]*100"
   ]
  },
  {
   "cell_type": "markdown",
   "id": "97500321",
   "metadata": {},
   "source": [
    "# g, sucess, fail, sucess_len, fail_len\n",
    "plt.figure(figsize=(20,8))\n",
    "plt.ylim((0,100))\n",
    "plt.scatter(exps_short[::,0],exps_short[::,1]*100, alpha=0.8)\n",
    "plt.title('The % of successfull trajectories vs Gamma')"
   ]
  },
  {
   "cell_type": "markdown",
   "id": "623aea0f",
   "metadata": {},
   "source": [
    "gammas = np.linspace(0.99,0.9999, num=100)\n",
    "gammas\n",
    "\n",
    "NN = 5000\n",
    "L = 100\n",
    "K = 100\n",
    "exps_short = experiments(L, K, NN, gammas)"
   ]
  },
  {
   "cell_type": "markdown",
   "id": "0f88d095",
   "metadata": {},
   "source": [
    "# g, sucess, fail, sucess_len, fail_len\n",
    "plt.figure(figsize=(20,8))\n",
    "plt.ylim((0,100))\n",
    "plt.scatter(exps_short[::,0],exps_short[::,1]*100, alpha=0.8)\n",
    "plt.title('The % of successfull trajectories vs Gamma')"
   ]
  },
  {
   "cell_type": "markdown",
   "id": "268db2d8",
   "metadata": {},
   "source": [
    "gammas = np.linspace(0.998,0.99999, num=100)\n",
    "gammas\n",
    "\n",
    "NN = 5000\n",
    "L = 100\n",
    "K = 100\n",
    "exps_short2 = experiments(L, K, NN, gammas)"
   ]
  },
  {
   "cell_type": "markdown",
   "id": "01105766",
   "metadata": {},
   "source": [
    "# g, sucess, fail, sucess_len, fail_len\n",
    "plt.figure(figsize=(20,8))\n",
    "plt.ylim((0,100))\n",
    "plt.scatter(exps_short2[::,0],exps_short2[::,1]*100, alpha=0.8)\n",
    "plt.title('The % of successfull trajectories vs Gamma')"
   ]
  },
  {
   "cell_type": "markdown",
   "id": "5d79ac60",
   "metadata": {},
   "source": [
    "# g, sucess, fail, sucess_len, fail_len\n",
    "plt.figure(figsize=(20,8))\n",
    "plt.ylim((0,100))\n",
    "plt.scatter(exps_short[::,0],exps_short[::,1]*100, alpha=0.8)\n",
    "plt.title('The % of successfull trajectories vs Gamma')"
   ]
  },
  {
   "cell_type": "markdown",
   "id": "d8fbc303",
   "metadata": {},
   "source": [
    "gammas = np.linspace(0.988,0.999, num=100)\n",
    "gammas"
   ]
  },
  {
   "cell_type": "markdown",
   "id": "ac55b5bf",
   "metadata": {},
   "source": [
    "NN = 5000\n",
    "L = 100\n",
    "K = 100\n",
    "exps_short_988_999 = experiments(L, K, NN, gammas)"
   ]
  },
  {
   "cell_type": "markdown",
   "id": "b4447fb1",
   "metadata": {},
   "source": [
    "plt.figure(figsize=(20,8))\n",
    "# plt.ylim((0,100))\n",
    "plt.scatter(exps_short_988_999[::,0],exps_short_988_999[::,1]*100, alpha=0.8)\n",
    "plt.title('The % of successfull trajectories vs Gamma')"
   ]
  },
  {
   "cell_type": "code",
   "execution_count": 13,
   "id": "91eb25ab",
   "metadata": {
    "scrolled": false
   },
   "outputs": [
    {
     "name": "stderr",
     "output_type": "stream",
     "text": [
      "/home/shmalex/anaconda3/lib/python3.7/site-packages/ipykernel_launcher.py:7: TqdmDeprecationWarning: This function will be removed in tqdm==5.0.0\n",
      "Please use `tqdm.notebook.tqdm` instead of `tqdm.tqdm_notebook`\n",
      "  import sys\n"
     ]
    },
    {
     "data": {
      "application/vnd.jupyter.widget-view+json": {
       "model_id": "f646667bfe61462896ace14457eab367",
       "version_major": 2,
       "version_minor": 0
      },
      "text/plain": [
       "train:   0%|          | 0/100 [00:00<?, ?it/s]"
      ]
     },
     "metadata": {},
     "output_type": "display_data"
    },
    {
     "data": {
      "application/vnd.jupyter.widget-view+json": {
       "model_id": "5848d5aee196493d8cb4ed83aec0c51f",
       "version_major": 2,
       "version_minor": 0
      },
      "text/plain": [
       "test:   0%|          | 0/1000 [00:00<?, ?it/s]"
      ]
     },
     "metadata": {},
     "output_type": "display_data"
    },
    {
     "name": "stdout",
     "output_type": "stream",
     "text": [
      "|   iter    |  target   |     K     |     L     |   gamma   |\n",
      "-------------------------------------------------------------\n",
      "| \u001b[0m1        \u001b[0m | \u001b[0m0.736    \u001b[0m | \u001b[0m61.27    \u001b[0m | \u001b[0m15.36    \u001b[0m | \u001b[0m0.8205   \u001b[0m |\n",
      "| \u001b[95m2        \u001b[0m | \u001b[95m0.739    \u001b[0m | \u001b[95m94.98    \u001b[0m | \u001b[95m14.0     \u001b[0m | \u001b[95m0.8798   \u001b[0m |\n",
      "| \u001b[0m3        \u001b[0m | \u001b[0m0.699    \u001b[0m | \u001b[0m59.49    \u001b[0m | \u001b[0m95.37    \u001b[0m | \u001b[0m0.8519   \u001b[0m |\n",
      "| \u001b[0m4        \u001b[0m | \u001b[0m0.733    \u001b[0m | \u001b[0m4.415    \u001b[0m | \u001b[0m24.59    \u001b[0m | \u001b[0m0.9574   \u001b[0m |\n",
      "| \u001b[0m5        \u001b[0m | \u001b[0m0.737    \u001b[0m | \u001b[0m95.43    \u001b[0m | \u001b[0m87.05    \u001b[0m | \u001b[0m0.832    \u001b[0m |\n",
      "| \u001b[95m6        \u001b[0m | \u001b[95m0.759    \u001b[0m | \u001b[95m96.48    \u001b[0m | \u001b[95m13.47    \u001b[0m | \u001b[95m0.8316   \u001b[0m |\n",
      "| \u001b[0m7        \u001b[0m | \u001b[0m0.748    \u001b[0m | \u001b[0m97.0     \u001b[0m | \u001b[0m12.22    \u001b[0m | \u001b[0m0.8906   \u001b[0m |\n",
      "| \u001b[95m8        \u001b[0m | \u001b[95m0.76     \u001b[0m | \u001b[95m97.51    \u001b[0m | \u001b[95m15.05    \u001b[0m | \u001b[95m0.8046   \u001b[0m |\n",
      "| \u001b[0m9        \u001b[0m | \u001b[0m0.723    \u001b[0m | \u001b[0m99.53    \u001b[0m | \u001b[0m13.85    \u001b[0m | \u001b[0m0.8802   \u001b[0m |\n",
      "| \u001b[0m10       \u001b[0m | \u001b[0m0.74     \u001b[0m | \u001b[0m96.22    \u001b[0m | \u001b[0m17.15    \u001b[0m | \u001b[0m0.9064   \u001b[0m |\n",
      "| \u001b[0m11       \u001b[0m | \u001b[0m0.728    \u001b[0m | \u001b[0m96.55    \u001b[0m | \u001b[0m14.65    \u001b[0m | \u001b[0m0.9745   \u001b[0m |\n",
      "| \u001b[0m12       \u001b[0m | \u001b[0m0.743    \u001b[0m | \u001b[0m95.08    \u001b[0m | \u001b[0m14.01    \u001b[0m | \u001b[0m0.8779   \u001b[0m |\n",
      "| \u001b[0m13       \u001b[0m | \u001b[0m0.741    \u001b[0m | \u001b[0m96.68    \u001b[0m | \u001b[0m13.11    \u001b[0m | \u001b[0m0.8251   \u001b[0m |\n",
      "| \u001b[0m14       \u001b[0m | \u001b[0m0.745    \u001b[0m | \u001b[0m97.18    \u001b[0m | \u001b[0m15.21    \u001b[0m | \u001b[0m0.9125   \u001b[0m |\n",
      "| \u001b[0m15       \u001b[0m | \u001b[0m0.726    \u001b[0m | \u001b[0m96.0     \u001b[0m | \u001b[0m13.51    \u001b[0m | \u001b[0m0.801    \u001b[0m |\n",
      "| \u001b[0m16       \u001b[0m | \u001b[0m0.724    \u001b[0m | \u001b[0m47.67    \u001b[0m | \u001b[0m89.93    \u001b[0m | \u001b[0m0.8064   \u001b[0m |\n",
      "| \u001b[0m17       \u001b[0m | \u001b[0m0.742    \u001b[0m | \u001b[0m83.26    \u001b[0m | \u001b[0m62.59    \u001b[0m | \u001b[0m0.8434   \u001b[0m |\n",
      "| \u001b[0m18       \u001b[0m | \u001b[0m0.694    \u001b[0m | \u001b[0m97.03    \u001b[0m | \u001b[0m13.53    \u001b[0m | \u001b[0m0.8611   \u001b[0m |\n",
      "| \u001b[0m19       \u001b[0m | \u001b[0m0.742    \u001b[0m | \u001b[0m18.23    \u001b[0m | \u001b[0m84.23    \u001b[0m | \u001b[0m0.8256   \u001b[0m |\n",
      "| \u001b[0m20       \u001b[0m | \u001b[0m0.751    \u001b[0m | \u001b[0m96.7     \u001b[0m | \u001b[0m13.45    \u001b[0m | \u001b[0m0.9446   \u001b[0m |\n",
      "| \u001b[0m21       \u001b[0m | \u001b[0m0.75     \u001b[0m | \u001b[0m97.27    \u001b[0m | \u001b[0m14.98    \u001b[0m | \u001b[0m0.8276   \u001b[0m |\n",
      "| \u001b[0m22       \u001b[0m | \u001b[0m0.713    \u001b[0m | \u001b[0m3.773    \u001b[0m | \u001b[0m60.15    \u001b[0m | \u001b[0m0.9386   \u001b[0m |\n",
      "| \u001b[0m23       \u001b[0m | \u001b[0m0.709    \u001b[0m | \u001b[0m96.07    \u001b[0m | \u001b[0m17.11    \u001b[0m | \u001b[0m0.8235   \u001b[0m |\n",
      "| \u001b[0m24       \u001b[0m | \u001b[0m0.745    \u001b[0m | \u001b[0m96.84    \u001b[0m | \u001b[0m12.09    \u001b[0m | \u001b[0m0.9545   \u001b[0m |\n",
      "| \u001b[0m25       \u001b[0m | \u001b[0m0.738    \u001b[0m | \u001b[0m97.38    \u001b[0m | \u001b[0m12.32    \u001b[0m | \u001b[0m0.8649   \u001b[0m |\n",
      "| \u001b[0m26       \u001b[0m | \u001b[0m0.744    \u001b[0m | \u001b[0m97.32    \u001b[0m | \u001b[0m14.99    \u001b[0m | \u001b[0m0.8904   \u001b[0m |\n",
      "| \u001b[0m27       \u001b[0m | \u001b[0m0.711    \u001b[0m | \u001b[0m96.44    \u001b[0m | \u001b[0m13.77    \u001b[0m | \u001b[0m0.9729   \u001b[0m |\n",
      "| \u001b[0m28       \u001b[0m | \u001b[0m0.727    \u001b[0m | \u001b[0m96.39    \u001b[0m | \u001b[0m17.32    \u001b[0m | \u001b[0m0.8592   \u001b[0m |\n",
      "| \u001b[0m29       \u001b[0m | \u001b[0m0.749    \u001b[0m | \u001b[0m78.74    \u001b[0m | \u001b[0m60.85    \u001b[0m | \u001b[0m0.9631   \u001b[0m |\n",
      "| \u001b[0m30       \u001b[0m | \u001b[0m0.734    \u001b[0m | \u001b[0m83.53    \u001b[0m | \u001b[0m62.54    \u001b[0m | \u001b[0m0.9521   \u001b[0m |\n",
      "| \u001b[0m31       \u001b[0m | \u001b[0m0.743    \u001b[0m | \u001b[0m34.46    \u001b[0m | \u001b[0m66.29    \u001b[0m | \u001b[0m0.9484   \u001b[0m |\n",
      "| \u001b[0m32       \u001b[0m | \u001b[0m0.759    \u001b[0m | \u001b[0m97.33    \u001b[0m | \u001b[0m14.67    \u001b[0m | \u001b[0m0.8541   \u001b[0m |\n",
      "| \u001b[0m33       \u001b[0m | \u001b[0m0.735    \u001b[0m | \u001b[0m78.46    \u001b[0m | \u001b[0m60.62    \u001b[0m | \u001b[0m0.9099   \u001b[0m |\n",
      "| \u001b[0m34       \u001b[0m | \u001b[0m0.739    \u001b[0m | \u001b[0m98.47    \u001b[0m | \u001b[0m43.46    \u001b[0m | \u001b[0m0.8779   \u001b[0m |\n",
      "| \u001b[0m35       \u001b[0m | \u001b[0m0.746    \u001b[0m | \u001b[0m96.2     \u001b[0m | \u001b[0m17.13    \u001b[0m | \u001b[0m0.9789   \u001b[0m |\n",
      "| \u001b[0m36       \u001b[0m | \u001b[0m0.723    \u001b[0m | \u001b[0m97.57    \u001b[0m | \u001b[0m14.96    \u001b[0m | \u001b[0m0.8429   \u001b[0m |\n",
      "| \u001b[0m37       \u001b[0m | \u001b[0m0.734    \u001b[0m | \u001b[0m96.82    \u001b[0m | \u001b[0m12.16    \u001b[0m | \u001b[0m0.8143   \u001b[0m |\n",
      "| \u001b[0m38       \u001b[0m | \u001b[0m0.736    \u001b[0m | \u001b[0m78.69    \u001b[0m | \u001b[0m61.01    \u001b[0m | \u001b[0m0.8148   \u001b[0m |\n",
      "| \u001b[0m39       \u001b[0m | \u001b[0m0.74     \u001b[0m | \u001b[0m38.59    \u001b[0m | \u001b[0m88.22    \u001b[0m | \u001b[0m0.8521   \u001b[0m |\n",
      "| \u001b[0m40       \u001b[0m | \u001b[0m0.734    \u001b[0m | \u001b[0m27.36    \u001b[0m | \u001b[0m86.73    \u001b[0m | \u001b[0m0.9594   \u001b[0m |\n",
      "| \u001b[0m41       \u001b[0m | \u001b[0m0.738    \u001b[0m | \u001b[0m81.82    \u001b[0m | \u001b[0m22.33    \u001b[0m | \u001b[0m0.8029   \u001b[0m |\n",
      "| \u001b[0m42       \u001b[0m | \u001b[0m0.723    \u001b[0m | \u001b[0m54.38    \u001b[0m | \u001b[0m92.81    \u001b[0m | \u001b[0m0.9403   \u001b[0m |\n",
      "| \u001b[0m43       \u001b[0m | \u001b[0m0.729    \u001b[0m | \u001b[0m97.46    \u001b[0m | \u001b[0m14.72    \u001b[0m | \u001b[0m0.8922   \u001b[0m |\n",
      "| \u001b[0m44       \u001b[0m | \u001b[0m0.739    \u001b[0m | \u001b[0m33.63    \u001b[0m | \u001b[0m61.48    \u001b[0m | \u001b[0m0.8659   \u001b[0m |\n",
      "| \u001b[0m45       \u001b[0m | \u001b[0m0.727    \u001b[0m | \u001b[0m20.43    \u001b[0m | \u001b[0m5.478    \u001b[0m | \u001b[0m0.8099   \u001b[0m |\n",
      "| \u001b[0m46       \u001b[0m | \u001b[0m0.743    \u001b[0m | \u001b[0m78.68    \u001b[0m | \u001b[0m60.71    \u001b[0m | \u001b[0m0.8181   \u001b[0m |\n",
      "| \u001b[0m47       \u001b[0m | \u001b[0m0.745    \u001b[0m | \u001b[0m61.37    \u001b[0m | \u001b[0m46.13    \u001b[0m | \u001b[0m0.9153   \u001b[0m |\n",
      "| \u001b[0m48       \u001b[0m | \u001b[0m0.745    \u001b[0m | \u001b[0m41.04    \u001b[0m | \u001b[0m6.952    \u001b[0m | \u001b[0m0.9687   \u001b[0m |\n",
      "| \u001b[0m49       \u001b[0m | \u001b[0m0.703    \u001b[0m | \u001b[0m16.62    \u001b[0m | \u001b[0m13.6     \u001b[0m | \u001b[0m0.9945   \u001b[0m |\n",
      "| \u001b[0m50       \u001b[0m | \u001b[0m0.733    \u001b[0m | \u001b[0m61.46    \u001b[0m | \u001b[0m46.1     \u001b[0m | \u001b[0m0.911    \u001b[0m |\n",
      "| \u001b[0m51       \u001b[0m | \u001b[0m0.738    \u001b[0m | \u001b[0m89.2     \u001b[0m | \u001b[0m26.48    \u001b[0m | \u001b[0m0.814    \u001b[0m |\n",
      "| \u001b[0m52       \u001b[0m | \u001b[0m0.706    \u001b[0m | \u001b[0m41.09    \u001b[0m | \u001b[0m7.115    \u001b[0m | \u001b[0m0.9904   \u001b[0m |\n",
      "| \u001b[0m53       \u001b[0m | \u001b[0m0.739    \u001b[0m | \u001b[0m96.61    \u001b[0m | \u001b[0m13.11    \u001b[0m | \u001b[0m0.9526   \u001b[0m |\n",
      "| \u001b[0m54       \u001b[0m | \u001b[0m0.727    \u001b[0m | \u001b[0m83.2     \u001b[0m | \u001b[0m62.61    \u001b[0m | \u001b[0m0.8327   \u001b[0m |\n",
      "| \u001b[0m55       \u001b[0m | \u001b[0m0.733    \u001b[0m | \u001b[0m29.2     \u001b[0m | \u001b[0m80.82    \u001b[0m | \u001b[0m0.8161   \u001b[0m |\n",
      "=============================================================\n"
     ]
    },
    {
     "ename": "TypeError",
     "evalue": "list indices must be integers or slices, not str",
     "output_type": "error",
     "traceback": [
      "\u001b[0;31m---------------------------------------------------------------------------\u001b[0m",
      "\u001b[0;31mTypeError\u001b[0m                                 Traceback (most recent call last)",
      "\u001b[0;32m<ipython-input-13-bc989743a290>\u001b[0m in \u001b[0;36m<module>\u001b[0;34m\u001b[0m\n\u001b[1;32m     29\u001b[0m \u001b[0;34m\u001b[0m\u001b[0m\n\u001b[1;32m     30\u001b[0m \u001b[0;31m# Print the hyperparameters that resulted in the best performance\u001b[0m\u001b[0;34m\u001b[0m\u001b[0;34m\u001b[0m\u001b[0;34m\u001b[0m\u001b[0m\n\u001b[0;32m---> 31\u001b[0;31m \u001b[0mprint\u001b[0m\u001b[0;34m(\u001b[0m\u001b[0mbo\u001b[0m\u001b[0;34m.\u001b[0m\u001b[0mres\u001b[0m\u001b[0;34m[\u001b[0m\u001b[0;34m'max'\u001b[0m\u001b[0;34m]\u001b[0m\u001b[0;34m)\u001b[0m\u001b[0;34m\u001b[0m\u001b[0;34m\u001b[0m\u001b[0m\n\u001b[0m",
      "\u001b[0;31mTypeError\u001b[0m: list indices must be integers or slices, not str"
     ]
    }
   ],
   "source": [
    "import numpy as np\n",
    "from bayes_opt import BayesianOptimization\n",
    "\n",
    "L = 100\n",
    "K = 100\n",
    "NN = 1000\n",
    "tqdm_train = tqdm.tqdm_notebook(total=K, desc='train', position=1)\n",
    "tqdm_test  = tqdm.tqdm_notebook(total=NN, desc='test', position=2)\n",
    "\n",
    "# Define the objective function for the MDP\n",
    "def objective(gamma, K, L):\n",
    "    # Train the MDP using the specified learning rate and discount factor\n",
    "    policy = train_MDP(int(L), int(K), gamma, tqdm_train)\n",
    "\n",
    "    # Evaluate the performance of the trained MDP on a validation dataset\n",
    "    rewards, steps = test_MDP(policy, NN,  tqdm_test)\n",
    "    g, sucess, fail, sucess_len, fail_len = stats(gamma, rewards, steps)\n",
    "    # Return the performance of the MDP as the objective value\n",
    "    return sucess\n",
    "\n",
    "# Define the bounds of the hyperparameters\n",
    "bounds = {'gamma': (0.8, 0.999), 'K':(1,100), 'L':(1,100)}\n",
    "\n",
    "# Initialize the Bayesian optimization algorithm\n",
    "bo = BayesianOptimization(objective, bounds)\n",
    "\n",
    "# Run the optimization process for a maximum of 50 iterations\n",
    "bo.maximize(n_iter=50)\n",
    "\n",
    "# Print the hyperparameters that resulted in the best performance\n",
    "print(bo.res['max'])"
   ]
  },
  {
   "cell_type": "code",
   "execution_count": null,
   "id": "d79748b2",
   "metadata": {
    "scrolled": false
   },
   "outputs": [
    {
     "name": "stderr",
     "output_type": "stream",
     "text": [
      "/home/shmalex/anaconda3/lib/python3.7/site-packages/ipykernel_launcher.py:7: TqdmDeprecationWarning: This function will be removed in tqdm==5.0.0\n",
      "Please use `tqdm.notebook.tqdm` instead of `tqdm.tqdm_notebook`\n",
      "  import sys\n"
     ]
    },
    {
     "data": {
      "application/vnd.jupyter.widget-view+json": {
       "model_id": "29f6d7c90b79437fab74a5ff6eec9e07",
       "version_major": 2,
       "version_minor": 0
      },
      "text/plain": [
       "train:   0%|          | 0/100 [00:00<?, ?it/s]"
      ]
     },
     "metadata": {},
     "output_type": "display_data"
    },
    {
     "data": {
      "application/vnd.jupyter.widget-view+json": {
       "model_id": "2251d0cbb2524ee39ba1e93b4703c334",
       "version_major": 2,
       "version_minor": 0
      },
      "text/plain": [
       "test:   0%|          | 0/5000 [00:00<?, ?it/s]"
      ]
     },
     "metadata": {},
     "output_type": "display_data"
    },
    {
     "name": "stdout",
     "output_type": "stream",
     "text": [
      "|   iter    |  target   |     K     |     L     |\n",
      "-------------------------------------------------\n",
      "| \u001b[0m1        \u001b[0m | \u001b[0m0.7488   \u001b[0m | \u001b[0m24.85    \u001b[0m | \u001b[0m1.844    \u001b[0m |\n",
      "| \u001b[95m2        \u001b[0m | \u001b[95m0.8544   \u001b[0m | \u001b[95m84.82    \u001b[0m | \u001b[95m92.81    \u001b[0m |\n",
      "| \u001b[0m3        \u001b[0m | \u001b[0m0.8446   \u001b[0m | \u001b[0m48.5     \u001b[0m | \u001b[0m32.91    \u001b[0m |\n",
      "| \u001b[95m4        \u001b[0m | \u001b[95m0.8558   \u001b[0m | \u001b[95m72.3     \u001b[0m | \u001b[95m21.0     \u001b[0m |\n",
      "| \u001b[95m5        \u001b[0m | \u001b[95m0.8562   \u001b[0m | \u001b[95m47.0     \u001b[0m | \u001b[95m10.92    \u001b[0m |\n",
      "| \u001b[0m6        \u001b[0m | \u001b[0m0.854    \u001b[0m | \u001b[0m48.23    \u001b[0m | \u001b[0m9.875    \u001b[0m |\n",
      "| \u001b[0m7        \u001b[0m | \u001b[0m0.853    \u001b[0m | \u001b[0m79.1     \u001b[0m | \u001b[0m42.65    \u001b[0m |\n",
      "| \u001b[95m8        \u001b[0m | \u001b[95m0.8566   \u001b[0m | \u001b[95m82.25    \u001b[0m | \u001b[95m68.98    \u001b[0m |\n",
      "| \u001b[95m9        \u001b[0m | \u001b[95m0.8672   \u001b[0m | \u001b[95m63.07    \u001b[0m | \u001b[95m81.59    \u001b[0m |\n",
      "| \u001b[0m10       \u001b[0m | \u001b[0m0.8612   \u001b[0m | \u001b[0m58.36    \u001b[0m | \u001b[0m62.86    \u001b[0m |\n",
      "| \u001b[0m11       \u001b[0m | \u001b[0m0.8484   \u001b[0m | \u001b[0m41.6     \u001b[0m | \u001b[0m80.78    \u001b[0m |\n",
      "| \u001b[0m12       \u001b[0m | \u001b[0m0.8514   \u001b[0m | \u001b[0m58.31    \u001b[0m | \u001b[0m99.66    \u001b[0m |\n",
      "| \u001b[0m13       \u001b[0m | \u001b[0m0.8516   \u001b[0m | \u001b[0m99.18    \u001b[0m | \u001b[0m19.64    \u001b[0m |\n",
      "| \u001b[0m14       \u001b[0m | \u001b[0m0.7244   \u001b[0m | \u001b[0m1.808    \u001b[0m | \u001b[0m98.95    \u001b[0m |\n",
      "| \u001b[0m15       \u001b[0m | \u001b[0m0.8612   \u001b[0m | \u001b[0m100.0    \u001b[0m | \u001b[0m52.06    \u001b[0m |\n",
      "| \u001b[0m16       \u001b[0m | \u001b[0m0.7288   \u001b[0m | \u001b[0m1.0      \u001b[0m | \u001b[0m45.29    \u001b[0m |\n",
      "| \u001b[0m17       \u001b[0m | \u001b[0m0.8586   \u001b[0m | \u001b[0m90.08    \u001b[0m | \u001b[0m1.003    \u001b[0m |\n",
      "| \u001b[0m18       \u001b[0m | \u001b[0m0.8624   \u001b[0m | \u001b[0m100.0    \u001b[0m | \u001b[0m100.0    \u001b[0m |\n",
      "| \u001b[95m19       \u001b[0m | \u001b[95m0.8682   \u001b[0m | \u001b[95m100.0    \u001b[0m | \u001b[95m77.92    \u001b[0m |\n",
      "| \u001b[0m20       \u001b[0m | \u001b[0m0.856    \u001b[0m | \u001b[0m100.0    \u001b[0m | \u001b[0m1.0      \u001b[0m |\n",
      "| \u001b[0m21       \u001b[0m | \u001b[0m0.8472   \u001b[0m | \u001b[0m99.77    \u001b[0m | \u001b[0m65.49    \u001b[0m |\n",
      "| \u001b[0m22       \u001b[0m | \u001b[0m0.86     \u001b[0m | \u001b[0m100.0    \u001b[0m | \u001b[0m37.35    \u001b[0m |\n",
      "| \u001b[0m23       \u001b[0m | \u001b[0m0.8606   \u001b[0m | \u001b[0m99.24    \u001b[0m | \u001b[0m87.79    \u001b[0m |\n",
      "| \u001b[0m24       \u001b[0m | \u001b[0m0.8558   \u001b[0m | \u001b[0m73.2     \u001b[0m | \u001b[0m1.291    \u001b[0m |\n",
      "| \u001b[0m25       \u001b[0m | \u001b[0m0.8484   \u001b[0m | \u001b[0m55.41    \u001b[0m | \u001b[0m19.98    \u001b[0m |\n",
      "| \u001b[0m26       \u001b[0m | \u001b[0m0.8514   \u001b[0m | \u001b[0m41.01    \u001b[0m | \u001b[0m59.21    \u001b[0m |\n",
      "| \u001b[0m27       \u001b[0m | \u001b[0m0.8588   \u001b[0m | \u001b[0m52.78    \u001b[0m | \u001b[0m73.33    \u001b[0m |\n",
      "| \u001b[0m28       \u001b[0m | \u001b[0m0.849    \u001b[0m | \u001b[0m72.95    \u001b[0m | \u001b[0m100.0    \u001b[0m |\n",
      "| \u001b[0m29       \u001b[0m | \u001b[0m0.854    \u001b[0m | \u001b[0m75.0     \u001b[0m | \u001b[0m80.43    \u001b[0m |\n",
      "| \u001b[0m30       \u001b[0m | \u001b[0m0.8562   \u001b[0m | \u001b[0m61.12    \u001b[0m | \u001b[0m47.82    \u001b[0m |\n",
      "| \u001b[0m31       \u001b[0m | \u001b[0m0.8504   \u001b[0m | \u001b[0m84.04    \u001b[0m | \u001b[0m14.25    \u001b[0m |\n",
      "| \u001b[0m32       \u001b[0m | \u001b[0m0.8576   \u001b[0m | \u001b[0m72.18    \u001b[0m | \u001b[0m58.79    \u001b[0m |\n",
      "| \u001b[0m33       \u001b[0m | \u001b[0m0.8464   \u001b[0m | \u001b[0m54.17    \u001b[0m | \u001b[0m87.33    \u001b[0m |\n",
      "| \u001b[0m34       \u001b[0m | \u001b[0m0.8594   \u001b[0m | \u001b[0m65.76    \u001b[0m | \u001b[0m71.94    \u001b[0m |\n"
     ]
    }
   ],
   "source": [
    "import numpy as np\n",
    "from bayes_opt import BayesianOptimization\n",
    "\n",
    "L = 100\n",
    "K = 100\n",
    "NN = 5000\n",
    "tqdm_train = tqdm.tqdm_notebook(total=K, desc='train', position=1)\n",
    "tqdm_test  = tqdm.tqdm_notebook(total=NN, desc='test', position=2)\n",
    "\n",
    "# Define the objective function for the MDP\n",
    "def objective(K, L):\n",
    "    # Train the MDP using the specified learning rate and discount factor\n",
    "    policy = train_MDP(int(L), int(K),  0.9884, tqdm_train)\n",
    "\n",
    "    # Evaluate the performance of the trained MDP on a validation dataset\n",
    "    rewards, steps = test_MDP(policy, NN,  tqdm_test)\n",
    "    g, sucess, fail, sucess_len, fail_len = stats(gamma, rewards, steps)\n",
    "    # Return the performance of the MDP as the objective value\n",
    "    return sucess\n",
    "\n",
    "# Define the bounds of the hyperparameters\n",
    "bounds = {'K':(1,100), 'L':(1,100)}\n",
    "\n",
    "# Initialize the Bayesian optimization algorithm\n",
    "bo = BayesianOptimization(objective, bounds)\n",
    "\n",
    "# Run the optimization process for a maximum of 50 iterations\n",
    "bo.maximize(n_iter=50)\n",
    "\n",
    "# Print the hyperparameters that resulted in the best performance\n",
    "# print(bo.res['max'])"
   ]
  },
  {
   "cell_type": "code",
   "execution_count": 14,
   "id": "25e1ac68",
   "metadata": {
    "scrolled": false
   },
   "outputs": [
    {
     "name": "stdout",
     "output_type": "stream",
     "text": [
      "{'target': 0.76, 'params': {'K': 97.51249788054457, 'L': 15.053673244262425, 'gamma': 0.8045601807441422}}\n"
     ]
    },
    {
     "name": "stderr",
     "output_type": "stream",
     "text": [
      "/home/shmalex/anaconda3/lib/python3.7/site-packages/ipykernel/ipkernel.py:287: DeprecationWarning: `should_run_async` will not call `transform_cell` automatically in the future. Please pass the result to `transformed_cell` argument and any exception that happen during thetransform in `preprocessing_exc_tuple` in IPython 7.17 and above.\n",
      "  and should_run_async(code)\n"
     ]
    }
   ],
   "source": [
    "t = 0\n",
    "max_params = None\n",
    "for res in bo.res:\n",
    "    if (res['target']>t):\n",
    "        max_params = res\n",
    "        t = res['target']\n",
    "print(max_params)"
   ]
  },
  {
   "cell_type": "code",
   "execution_count": 47,
   "id": "63d00722",
   "metadata": {},
   "outputs": [],
   "source": [
    "dones = np.array([(r['target'], r['params']['gamma']) for r in bo.res])"
   ]
  },
  {
   "cell_type": "code",
   "execution_count": 50,
   "id": "81c69df7",
   "metadata": {},
   "outputs": [
    {
     "data": {
      "text/plain": [
       "<matplotlib.collections.PathCollection at 0x7f3ff87d1410>"
      ]
     },
     "execution_count": 50,
     "metadata": {},
     "output_type": "execute_result"
    },
    {
     "data": {
      "image/png": "[encoded data removed]",
      "text/plain": [
       "<Figure size 432x288 with 1 Axes>"
      ]
     },
     "metadata": {
      "needs_background": "light"
     },
     "output_type": "display_data"
    }
   ],
   "source": [
    "plt.scatter(dones[::,0], dones[::,1])"
   ]
  },
  {
   "cell_type": "code",
   "execution_count": null,
   "id": "46393fec",
   "metadata": {},
   "outputs": [],
   "source": []
  },
  {
   "cell_type": "code",
   "execution_count": 297,
   "id": "03131d00",
   "metadata": {},
   "outputs": [
    {
     "data": {
      "text/plain": [
       "array([[ 0.        ,  0.0147    ,  0.9853    , 11.96598639,  6.61230082],\n",
       "       [ 0.11111111,  0.0142    ,  0.9858    , 12.92957746,  6.57892067],\n",
       "       [ 0.22222222,  0.0139    ,  0.9861    , 12.33093525,  6.65175946],\n",
       "       [ 0.33333333,  0.0157    ,  0.9843    , 12.21656051,  6.63679772],\n",
       "       [ 0.44444444,  0.0155    ,  0.9845    , 11.75483871,  6.5523616 ],\n",
       "       [ 0.55555556,  0.0167    ,  0.9833    , 13.4251497 ,  6.5096105 ],\n",
       "       [ 0.66666667,  0.0151    ,  0.9849    , 11.96688742,  6.66422987],\n",
       "       [ 0.77777778,  0.0148    ,  0.9852    , 12.38513514,  6.60535932],\n",
       "       [ 0.88888889,  0.0156    ,  0.9844    , 12.30128205,  6.51787891],\n",
       "       [ 1.        ,  0.014     ,  0.986     , 12.40714286,  6.64371197]])"
      ]
     },
     "execution_count": 297,
     "metadata": {},
     "output_type": "execute_result"
    }
   ],
   "source": [
    "exps"
   ]
  },
  {
   "cell_type": "code",
   "execution_count": 230,
   "id": "fa5f7249",
   "metadata": {},
   "outputs": [
    {
     "data": {
      "text/plain": [
       "3"
      ]
     },
     "execution_count": 230,
     "metadata": {},
     "output_type": "execute_result"
    }
   ],
   "source": [
    "len(exps)"
   ]
  },
  {
   "cell_type": "code",
   "execution_count": 246,
   "id": "2d3bb130",
   "metadata": {},
   "outputs": [
    {
     "ename": "ValueError",
     "evalue": "too many values to unpack (expected 3)",
     "output_type": "error",
     "traceback": [
      "\u001b[0;31m------------------------------------\u001b[0m",
      "\u001b[0;31mValueError\u001b[0mTraceback (most recent call last)",
      "\u001b[0;32m<ipython-input-246-224bc98e7af6>\u001b[0m in \u001b[0;36m<module>\u001b[0;34m\u001b[0m\n\u001b[0;32m----> 1\u001b[0;31m \u001b[0mg\u001b[0m\u001b[0;34m,\u001b[0m \u001b[0mr\u001b[0m\u001b[0;34m,\u001b[0m \u001b[0ms\u001b[0m \u001b[0;34m=\u001b[0m \u001b[0mexps\u001b[0m\u001b[0;34m[\u001b[0m\u001b[0;36m0\u001b[0m\u001b[0;34m]\u001b[0m\u001b[0;34m\u001b[0m\u001b[0;34m\u001b[0m\u001b[0m\n\u001b[0m",
      "\u001b[0;31mValueError\u001b[0m: too many values to unpack (expected 3)"
     ]
    }
   ],
   "source": [
    "g, r, s = exps[0]"
   ]
  },
  {
   "cell_type": "code",
   "execution_count": 233,
   "id": "26618b4d",
   "metadata": {},
   "outputs": [
    {
     "data": {
      "text/plain": [
       "0.0"
      ]
     },
     "execution_count": 233,
     "metadata": {},
     "output_type": "execute_result"
    }
   ],
   "source": [
    "g"
   ]
  },
  {
   "cell_type": "code",
   "execution_count": 245,
   "id": "2eae7719",
   "metadata": {},
   "outputs": [
    {
     "data": {
      "text/plain": [
       "(0.012, 0.988, 11.666666666666666, 6.618421052631579)"
      ]
     },
     "execution_count": 245,
     "metadata": {},
     "output_type": "execute_result"
    }
   ],
   "source": [
    "stats(g, r, s)"
   ]
  },
  {
   "cell_type": "code",
   "execution_count": 158,
   "id": "58c3e909",
   "metadata": {},
   "outputs": [],
   "source": [
    "def test_policy(policy):\n",
    "    total_reward = 0\n",
    "    state = env.reset()\n",
    "    for i in range(100):\n",
    "        possible_actions = list(sorted(env.get_possible_actions(state)))\n",
    "#         print(possible_actions)\n",
    "        state_y, state_x = state\n",
    "        actions_distr = policy[state_y][state_x]\n",
    "\n",
    "        action = np.random.choice(possible_actions,p=actions_distr)\n",
    "        state, reward, done, _ = env.step(action)\n",
    "#         print(state, reward, done, _,action, actions_distr)\n",
    "#         env.render()\n",
    "        total_reward += reward\n",
    "\n",
    "        if done: break\n",
    "    return total_reward, i"
   ]
  },
  {
   "cell_type": "code",
   "execution_count": 126,
   "id": "2e6c73f6",
   "metadata": {},
   "outputs": [
    {
     "name": "stderr",
     "output_type": "stream",
     "text": [
      "100%|██████████| 10000/10000 [00:06<00:00, 1459.44it/s]\n"
     ]
    }
   ],
   "source": [
    "NN = 10000\n",
    "runs = [run_test()for _ in tqdm.tqdm(range(NN))]\n",
    "runs = np.array(runs)"
   ]
  },
  {
   "cell_type": "code",
   "execution_count": 114,
   "id": "43b288f7",
   "metadata": {},
   "outputs": [
    {
     "name": "stderr",
     "output_type": "stream",
     "text": [
      "/home/shmalex/anaconda3/lib/python3.7/site-packages/ipykernel/ipkernel.py:287: DeprecationWarning: `should_run_async` will not call `transform_cell` automatically in the future. Please pass the result to `transformed_cell` argument and any exception that happen during thetransform in `preprocessing_exc_tuple` in IPython 7.17 and above.\n",
      "  and should_run_async(code)\n"
     ]
    }
   ],
   "source": [
    "import matplotlib.pyplot as plt"
   ]
  },
  {
   "cell_type": "code",
   "execution_count": 129,
   "id": "63778228",
   "metadata": {},
   "outputs": [
    {
     "name": "stdout",
     "output_type": "stream",
     "text": [
      "0.7276 0.2724\n"
     ]
    }
   ],
   "source": [
    "success = np.sum(runs[::,0]==1.)/NN\n",
    "fail = 1-success\n",
    "print(success, fail)"
   ]
  },
  {
   "cell_type": "code",
   "execution_count": 128,
   "id": "c68acfa0",
   "metadata": {},
   "outputs": [
    {
     "data": {
      "image/png": "[encoded data removed]",
      "text/plain": [
       "<Figure size 432x288 with 1 Axes>"
      ]
     },
     "metadata": {
      "needs_background": "light"
     },
     "output_type": "display_data"
    }
   ],
   "source": [
    "plt.hist(runs[runs[::,0]==0.][::,1], color='red' , alpha=0.3, bins=50)\n",
    "plt.hist(runs[runs[::,0]==1.][::,1], color='blue', alpha=0.3, bins=50)\n",
    "plt.show()"
   ]
  },
  {
   "cell_type": "code",
   "execution_count": 40,
   "id": "dd16c726",
   "metadata": {},
   "outputs": [
    {
     "data": {
      "text/plain": [
       "1.0"
      ]
     },
     "execution_count": 40,
     "metadata": {},
     "output_type": "execute_result"
    }
   ],
   "source": [
    "total_reward"
   ]
  },
  {
   "cell_type": "code",
   "execution_count": 61,
   "id": "e752bec2",
   "metadata": {},
   "outputs": [
    {
     "data": {
      "text/plain": [
       "inf"
      ]
     },
     "execution_count": 61,
     "metadata": {},
     "output_type": "execute_result"
    }
   ],
   "source": [
    "float('Inf')"
   ]
  },
  {
   "cell_type": "code",
   "execution_count": 15,
   "id": "332952b5",
   "metadata": {},
   "outputs": [
    {
     "name": "stderr",
     "output_type": "stream",
     "text": [
      "/home/shmalex/anaconda3/lib/python3.7/site-packages/ipykernel/ipkernel.py:287: DeprecationWarning: `should_run_async` will not call `transform_cell` automatically in the future. Please pass the result to `transformed_cell` argument and any exception that happen during thetransform in `preprocessing_exc_tuple` in IPython 7.17 and above.\n",
      "  and should_run_async(code)\n",
      " 62%|██████▏   | 62/100 [00:02<00:01, 23.50it/s]\n"
     ]
    },
    {
     "ename": "KeyboardInterrupt",
     "evalue": "",
     "output_type": "error",
     "traceback": [
      "\u001b[0;31m---------------------------------------------------------------------------\u001b[0m",
      "\u001b[0;31mKeyboardInterrupt\u001b[0m                         Traceback (most recent call last)",
      "\u001b[0;32m<ipython-input-15-c1c0c2a6ad92>\u001b[0m in \u001b[0;36m<module>\u001b[0;34m\u001b[0m\n\u001b[1;32m     69\u001b[0m \u001b[0;32mfor\u001b[0m \u001b[0mk\u001b[0m \u001b[0;32min\u001b[0m \u001b[0mtqdm\u001b[0m\u001b[0;34m.\u001b[0m\u001b[0mtqdm\u001b[0m\u001b[0;34m(\u001b[0m\u001b[0mrange\u001b[0m\u001b[0;34m(\u001b[0m\u001b[0miteration_n\u001b[0m\u001b[0;34m)\u001b[0m\u001b[0;34m,\u001b[0m \u001b[0mposition\u001b[0m\u001b[0;34m=\u001b[0m\u001b[0;36m0\u001b[0m\u001b[0;34m)\u001b[0m\u001b[0;34m:\u001b[0m\u001b[0;34m\u001b[0m\u001b[0;34m\u001b[0m\u001b[0m\n\u001b[1;32m     70\u001b[0m \u001b[0;34m\u001b[0m\u001b[0m\n\u001b[0;32m---> 71\u001b[0;31m     \u001b[0mq_values\u001b[0m \u001b[0;34m=\u001b[0m \u001b[0mpolicy_evaluation\u001b[0m\u001b[0;34m(\u001b[0m\u001b[0mpolicy\u001b[0m\u001b[0;34m,\u001b[0m \u001b[0mgamma\u001b[0m\u001b[0;34m,\u001b[0m \u001b[0mevaluation_step_n\u001b[0m\u001b[0;34m)\u001b[0m\u001b[0;34m\u001b[0m\u001b[0;34m\u001b[0m\u001b[0m\n\u001b[0m\u001b[1;32m     72\u001b[0m     \u001b[0mpolicy\u001b[0m \u001b[0;34m=\u001b[0m \u001b[0mpolicy_improvement\u001b[0m\u001b[0;34m(\u001b[0m\u001b[0mq_values\u001b[0m\u001b[0;34m)\u001b[0m\u001b[0;34m\u001b[0m\u001b[0;34m\u001b[0m\u001b[0m\n\u001b[1;32m     73\u001b[0m \u001b[0;34m\u001b[0m\u001b[0m\n",
      "\u001b[0;32m<ipython-input-15-c1c0c2a6ad92>\u001b[0m in \u001b[0;36mpolicy_evaluation\u001b[0;34m(policy, gamma, evaluation_step_n)\u001b[0m\n\u001b[1;32m     43\u001b[0m     \u001b[0mvalues\u001b[0m \u001b[0;34m=\u001b[0m \u001b[0minit_values\u001b[0m\u001b[0;34m(\u001b[0m\u001b[0;34m)\u001b[0m\u001b[0;34m\u001b[0m\u001b[0;34m\u001b[0m\u001b[0m\n\u001b[1;32m     44\u001b[0m     \u001b[0;32mfor\u001b[0m \u001b[0m_\u001b[0m \u001b[0;32min\u001b[0m \u001b[0mrange\u001b[0m\u001b[0;34m(\u001b[0m\u001b[0mevaluation_step_n\u001b[0m\u001b[0;34m)\u001b[0m\u001b[0;34m:\u001b[0m\u001b[0;34m\u001b[0m\u001b[0;34m\u001b[0m\u001b[0m\n\u001b[0;32m---> 45\u001b[0;31m         \u001b[0mvalues\u001b[0m \u001b[0;34m=\u001b[0m \u001b[0mpolicy_evaluation_step\u001b[0m\u001b[0;34m(\u001b[0m\u001b[0mpolicy\u001b[0m\u001b[0;34m,\u001b[0m \u001b[0mvalues\u001b[0m\u001b[0;34m,\u001b[0m \u001b[0mgamma\u001b[0m\u001b[0;34m)\u001b[0m\u001b[0;34m\u001b[0m\u001b[0;34m\u001b[0m\u001b[0m\n\u001b[0m\u001b[1;32m     46\u001b[0m     \u001b[0mq_values\u001b[0m \u001b[0;34m=\u001b[0m \u001b[0mget_q_values\u001b[0m\u001b[0;34m(\u001b[0m\u001b[0mvalues\u001b[0m\u001b[0;34m,\u001b[0m \u001b[0mgamma\u001b[0m\u001b[0;34m)\u001b[0m\u001b[0;34m\u001b[0m\u001b[0;34m\u001b[0m\u001b[0m\n\u001b[1;32m     47\u001b[0m     \u001b[0;32mreturn\u001b[0m \u001b[0mq_values\u001b[0m\u001b[0;34m\u001b[0m\u001b[0;34m\u001b[0m\u001b[0m\n",
      "\u001b[0;32m<ipython-input-15-c1c0c2a6ad92>\u001b[0m in \u001b[0;36mpolicy_evaluation_step\u001b[0;34m(policy, values, gamma)\u001b[0m\n\u001b[1;32m     14\u001b[0m \u001b[0;34m\u001b[0m\u001b[0m\n\u001b[1;32m     15\u001b[0m \u001b[0;32mdef\u001b[0m \u001b[0mpolicy_evaluation_step\u001b[0m\u001b[0;34m(\u001b[0m\u001b[0mpolicy\u001b[0m\u001b[0;34m,\u001b[0m \u001b[0mvalues\u001b[0m\u001b[0;34m,\u001b[0m \u001b[0mgamma\u001b[0m\u001b[0;34m)\u001b[0m\u001b[0;34m:\u001b[0m\u001b[0;34m\u001b[0m\u001b[0;34m\u001b[0m\u001b[0m\n\u001b[0;32m---> 16\u001b[0;31m     \u001b[0mq_values\u001b[0m \u001b[0;34m=\u001b[0m \u001b[0mget_q_values\u001b[0m\u001b[0;34m(\u001b[0m\u001b[0mvalues\u001b[0m\u001b[0;34m,\u001b[0m \u001b[0mgamma\u001b[0m\u001b[0;34m)\u001b[0m\u001b[0;34m\u001b[0m\u001b[0;34m\u001b[0m\u001b[0m\n\u001b[0m\u001b[1;32m     17\u001b[0m \u001b[0;34m\u001b[0m\u001b[0m\n\u001b[1;32m     18\u001b[0m     \u001b[0mnew_values\u001b[0m \u001b[0;34m=\u001b[0m \u001b[0;34m{\u001b[0m\u001b[0;34m}\u001b[0m\u001b[0;34m\u001b[0m\u001b[0;34m\u001b[0m\u001b[0m\n",
      "\u001b[0;32m<ipython-input-15-c1c0c2a6ad92>\u001b[0m in \u001b[0;36mget_q_values\u001b[0;34m(values, gamma)\u001b[0m\n\u001b[1;32m     34\u001b[0m             \u001b[0mq_values\u001b[0m\u001b[0;34m[\u001b[0m\u001b[0mstate\u001b[0m\u001b[0;34m]\u001b[0m\u001b[0;34m[\u001b[0m\u001b[0maction\u001b[0m\u001b[0;34m]\u001b[0m \u001b[0;34m=\u001b[0m \u001b[0;36m0\u001b[0m\u001b[0;34m\u001b[0m\u001b[0;34m\u001b[0m\u001b[0m\n\u001b[1;32m     35\u001b[0m             \u001b[0;32mfor\u001b[0m \u001b[0mnext_state\u001b[0m \u001b[0;32min\u001b[0m \u001b[0menv\u001b[0m\u001b[0;34m.\u001b[0m\u001b[0mget_next_states\u001b[0m\u001b[0;34m(\u001b[0m\u001b[0mstate\u001b[0m\u001b[0;34m,\u001b[0m \u001b[0maction\u001b[0m\u001b[0;34m)\u001b[0m\u001b[0;34m:\u001b[0m\u001b[0;34m\u001b[0m\u001b[0;34m\u001b[0m\u001b[0m\n\u001b[0;32m---> 36\u001b[0;31m                 \u001b[0mreward\u001b[0m \u001b[0;34m=\u001b[0m \u001b[0menv\u001b[0m\u001b[0;34m.\u001b[0m\u001b[0mget_reward\u001b[0m\u001b[0;34m(\u001b[0m\u001b[0mstate\u001b[0m\u001b[0;34m,\u001b[0m \u001b[0maction\u001b[0m\u001b[0;34m,\u001b[0m \u001b[0mnext_state\u001b[0m\u001b[0;34m)\u001b[0m\u001b[0;34m\u001b[0m\u001b[0;34m\u001b[0m\u001b[0m\n\u001b[0m\u001b[1;32m     37\u001b[0m                 \u001b[0mtransition_prob\u001b[0m \u001b[0;34m=\u001b[0m \u001b[0menv\u001b[0m\u001b[0;34m.\u001b[0m\u001b[0mget_transition_prob\u001b[0m\u001b[0;34m(\u001b[0m\u001b[0mstate\u001b[0m\u001b[0;34m,\u001b[0m \u001b[0maction\u001b[0m\u001b[0;34m,\u001b[0m \u001b[0mnext_state\u001b[0m\u001b[0;34m)\u001b[0m\u001b[0;34m\u001b[0m\u001b[0;34m\u001b[0m\u001b[0m\n\u001b[1;32m     38\u001b[0m                 \u001b[0mnext_value\u001b[0m \u001b[0;34m=\u001b[0m \u001b[0mvalues\u001b[0m\u001b[0;34m[\u001b[0m\u001b[0mnext_state\u001b[0m\u001b[0;34m]\u001b[0m\u001b[0;34m\u001b[0m\u001b[0;34m\u001b[0m\u001b[0m\n",
      "\u001b[0;32m/mnt/wd2_small/projects/ods_rl/hmw3/Frozen_Lake.py\u001b[0m in \u001b[0;36mget_reward\u001b[0;34m(self, state, action, next_state)\u001b[0m\n\u001b[1;32m     81\u001b[0m         \u001b[0;32mreturn\u001b[0m \u001b[0mself\u001b[0m\u001b[0;34m.\u001b[0m\u001b[0mget_next_states\u001b[0m\u001b[0;34m(\u001b[0m\u001b[0mstate\u001b[0m\u001b[0;34m,\u001b[0m \u001b[0maction\u001b[0m\u001b[0;34m)\u001b[0m\u001b[0;34m.\u001b[0m\u001b[0mget\u001b[0m\u001b[0;34m(\u001b[0m\u001b[0mnext_state\u001b[0m\u001b[0;34m,\u001b[0m \u001b[0;36m0.0\u001b[0m\u001b[0;34m)\u001b[0m\u001b[0;34m\u001b[0m\u001b[0;34m\u001b[0m\u001b[0m\n\u001b[1;32m     82\u001b[0m \u001b[0;34m\u001b[0m\u001b[0m\n\u001b[0;32m---> 83\u001b[0;31m     \u001b[0;32mdef\u001b[0m \u001b[0mget_reward\u001b[0m\u001b[0;34m(\u001b[0m\u001b[0mself\u001b[0m\u001b[0;34m,\u001b[0m \u001b[0mstate\u001b[0m\u001b[0;34m,\u001b[0m \u001b[0maction\u001b[0m\u001b[0;34m,\u001b[0m \u001b[0mnext_state\u001b[0m\u001b[0;34m)\u001b[0m\u001b[0;34m:\u001b[0m\u001b[0;34m\u001b[0m\u001b[0;34m\u001b[0m\u001b[0m\n\u001b[0m\u001b[1;32m     84\u001b[0m         \u001b[0;34m\"\"\" return the reward you get for taking action in state and landing on next_state\"\"\"\u001b[0m\u001b[0;34m\u001b[0m\u001b[0;34m\u001b[0m\u001b[0m\n\u001b[1;32m     85\u001b[0m         assert action in self.get_possible_actions(\n",
      "\u001b[0;31mKeyboardInterrupt\u001b[0m: "
     ]
    }
   ],
   "source": [
    "from Frozen_Lake import FrozenLakeEnv\n",
    "import numpy as np\n",
    "import time\n",
    "\n",
    "env = FrozenLakeEnv()\n",
    "\n",
    "def init_policy():\n",
    "    policy = {}\n",
    "    for state in env.get_all_states():\n",
    "        policy[state] = {}\n",
    "        for action in env.get_possible_actions(state):\n",
    "            policy[state][action] = 1 / len(env.get_possible_actions(state))\n",
    "    return policy\n",
    "\n",
    "def policy_evaluation_step(policy, values, gamma):\n",
    "    q_values = get_q_values(values, gamma)\n",
    "    \n",
    "    new_values = {}\n",
    "    for state in env.get_all_states():\n",
    "        new_values[state] = 0\n",
    "        for action in env.get_possible_actions(state):\n",
    "            new_values[state] += policy[state][action] * q_values[state][action]\n",
    "    \n",
    "    return new_values\n",
    "\n",
    "def init_values():\n",
    "    return {state: 0 for state in env.get_all_states()}\n",
    "\n",
    "def get_q_values(values, gamma):\n",
    "    q_values = {}\n",
    "    for state in env.get_all_states():\n",
    "        q_values[state] = {}\n",
    "        for action in env.get_possible_actions(state):\n",
    "            q_values[state][action] = 0\n",
    "            for next_state in env.get_next_states(state, action):\n",
    "                reward = env.get_reward(state, action, next_state)\n",
    "                transition_prob = env.get_transition_prob(state, action, next_state)\n",
    "                next_value = values[next_state]\n",
    "                q_values[state][action] += transition_prob * (reward + gamma * next_value)\n",
    "    return q_values\n",
    "\n",
    "def policy_evaluation(policy, gamma, evaluation_step_n):\n",
    "    values = init_values()\n",
    "    for _ in range(evaluation_step_n):\n",
    "        values = policy_evaluation_step(policy, values, gamma)\n",
    "    q_values = get_q_values(values, gamma)\n",
    "    return q_values\n",
    "\n",
    "def policy_improvement(q_values):\n",
    "    new_policy = {}\n",
    "    for state in env.get_all_states():\n",
    "        new_policy[state] = {}\n",
    "        max_action = None\n",
    "        max_q_value = float('-inf')\n",
    "        for action in env.get_possible_actions(state):\n",
    "            if q_values[state][action] > max_q_value:\n",
    "                max_q_value = q_values[state][action]\n",
    "                max_action = action\n",
    "        for action in env.get_possible_actions(state):\n",
    "            new_policy[state][action] = 1 if action == max_action else 0\n",
    "    return new_policy\n",
    "\n",
    "\n",
    "iteration_n = 100\n",
    "evaluation_step_n = 100\n",
    "gamma = 0.9\n",
    "\n",
    "policy = init_policy()\n",
    "for k in tqdm.tqdm(range(iteration_n), position=0):\n",
    "    \n",
    "    q_values = policy_evaluation(policy, gamma, evaluation_step_n)\n",
    "    policy = policy_improvement(q_values)\n",
    "    \n",
    "\n",
    "total_reward = 0\n",
    "state = env.reset()\n",
    "for _ in range(100):\n",
    "    action = np.random.choice(env.get_possible_actions(state), p=list(policy[state].values()))\n",
    "    state, reward, done, _ = env.step(action)\n",
    "    \n",
    "    time.sleep(1)\n",
    "    env.render()\n",
    "    \n",
    "    total_reward += reward\n",
    "    \n",
    "    if done or env.is_terminal(state):\n",
    "        break\n",
    "\n",
    "print(f'total reward = {total_reward}')"
   ]
  },
  {
   "cell_type": "code",
   "execution_count": 49,
   "id": "63c73e95",
   "metadata": {},
   "outputs": [
    {
     "name": "stderr",
     "output_type": "stream",
     "text": [
      "/home/shmalex/anaconda3/lib/python3.7/site-packages/ipykernel/ipkernel.py:287: DeprecationWarning: `should_run_async` will not call `transform_cell` automatically in the future. Please pass the result to `transformed_cell` argument and any exception that happen during thetransform in `preprocessing_exc_tuple` in IPython 7.17 and above.\n",
      "  and should_run_async(code)\n"
     ]
    }
   ],
   "source": [
    "plc = np.zeros((4,4,4))\n",
    "for (y,x),a  in policy.items():\n",
    "    for k,v in a.items():\n",
    "        plc[y][x][actions_dict[k]] = v"
   ]
  }
 ],
 "metadata": {
  "kernelspec": {
   "display_name": "Python 3",
   "language": "python",
   "name": "python3"
  },
  "language_info": {
   "codemirror_mode": {
    "name": "ipython",
    "version": 3
   },
   "file_extension": ".py",
   "mimetype": "text/x-python",
   "name": "python",
   "nbconvert_exporter": "python",
   "pygments_lexer": "ipython3",
   "version": "3.7.10"
  }
 },
 "nbformat": 4,
 "nbformat_minor": 5
}
