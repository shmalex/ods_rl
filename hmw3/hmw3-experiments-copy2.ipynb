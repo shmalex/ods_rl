{
 "cells": [
  {
   "cell_type": "markdown",
   "id": "ff10eec3",
   "metadata": {},
   "source": [
    "## Home Work"
   ]
  },
  {
   "cell_type": "code",
   "execution_count": 46,
   "id": "640941c9",
   "metadata": {},
   "outputs": [
    {
     "name": "stderr",
     "output_type": "stream",
     "text": [
      "/home/shmalex/anaconda3/lib/python3.7/site-packages/ipykernel/ipkernel.py:287: DeprecationWarning: `should_run_async` will not call `transform_cell` automatically in the future. Please pass the result to `transformed_cell` argument and any exception that happen during thetransform in `preprocessing_exc_tuple` in IPython 7.17 and above.\n",
      "  and should_run_async(code)\n"
     ]
    }
   ],
   "source": [
    "import tqdm\n",
    "import matplotlib.pyplot as plt\n",
    "import graphviz\n",
    "import numpy as np\n",
    "import Frozen_Lake as fl"
   ]
  },
  {
   "cell_type": "code",
   "execution_count": 2,
   "id": "d4f3ce04",
   "metadata": {},
   "outputs": [
    {
     "name": "stderr",
     "output_type": "stream",
     "text": [
      "/home/shmalex/anaconda3/lib/python3.7/site-packages/ipykernel/ipkernel.py:287: DeprecationWarning: `should_run_async` will not call `transform_cell` automatically in the future. Please pass the result to `transformed_cell` argument and any exception that happen during thetransform in `preprocessing_exc_tuple` in IPython 7.17 and above.\n",
      "  and should_run_async(code)\n"
     ]
    }
   ],
   "source": [
    "def init_policy(env):\n",
    "\n",
    "    actions_set = set()\n",
    "\n",
    "    row_max = 0\n",
    "    col_max = 0\n",
    "    for state in env.get_all_states():\n",
    "        actions_set.update(env.get_possible_actions(state))\n",
    "        row_max = max(row_max, state[0])\n",
    "        col_max = max(col_max, state[1])\n",
    "\n",
    "    actions = {i:action for i,action in enumerate(sorted(actions_set))}\n",
    "\n",
    "    policy = np.zeros((row_max+1, col_max+1, len(actions_set)))\n",
    "\n",
    "#     print('policies    |states')\n",
    "    for y,x in env.get_all_states():\n",
    "        possible_actions = env.get_possible_actions((y,x))\n",
    "        if len(possible_actions)!=0:\n",
    "            uniform_prob = 1/len(possible_actions)\n",
    "            policy[y][x] = uniform_prob\n",
    "#         print(policy[y][x], y, x,)\n",
    "    return policy, list(sorted(actions_set))\n",
    "\n",
    "def init_values(policy):\n",
    "     return np.zeros((policy.shape[0]*policy.shape[1],))\n",
    "\n",
    "def policy_evaluation_step(policy, values, gamma):\n",
    "    new_values = np.zeros(policy.shape[0]*policy.shape[1])\n",
    "\n",
    "    for state in env.get_all_states():\n",
    "        state_y, state_x = state\n",
    "        idx_state_values = state_y*policy.shape[0] + state_x\n",
    "        for action in env.get_possible_actions(state):\n",
    "            policy_prob = policy[state_y][state_x][actions_dict[action]]\n",
    "            for next_state in env.get_next_states(state, action):\n",
    "                next_state_y, next_state_x = next_state\n",
    "                idx_next_state_values = next_state_y*policy.shape[0] + next_state_x\n",
    "\n",
    "                # reward\n",
    "                reward = env.get_reward(state, action, next_state)\n",
    "#                 total_reward += reward\n",
    "                # value\n",
    "                trans_prob = env.get_transition_prob(state, action, next_state)\n",
    "                next_value = values[idx_next_state_values]\n",
    "#                 total_value += gamma * trans_prob * value_func\n",
    "                new_values[idx_state_values] += \\\n",
    "                    policy_prob * trans_prob * (reward + gamma * next_value)\n",
    "#             new_values[idx_state_values] += \\\n",
    "#                 policy_prob * (total_reward + total_value)\n",
    "\n",
    "    return new_values\n",
    "\n",
    "def Q(policy, values, actions_dict):\n",
    "    new_q = np.zeros(policy.shape)\n",
    "\n",
    "    for state in env.get_all_states():\n",
    "        state_y, state_x = state\n",
    "        # actions_dict[action]\n",
    "        for action in env.get_possible_actions(state):\n",
    "            for next_state in env.get_next_states(state, action):\n",
    "                next_state_y, next_state_x = next_state\n",
    "\n",
    "                reward = env.get_reward(state, action, next_state)\n",
    "                prob = env.get_transition_prob(state, action, next_state)\n",
    "                next_value = values[next_state_y*policy.shape[0]+next_state_x]\n",
    "\n",
    "                new_q[state_y][state_x][actions_dict[action]] \\\n",
    "                    += prob *(reward + gamma * next_value)\n",
    "    return new_q\n",
    "\n",
    "def policy_improvement(policy, q):\n",
    "    next_policy = np.zeros(policy.shape)\n",
    "    for state in env.get_all_states():\n",
    "        state_y,state_x = state\n",
    "\n",
    "        idx_action = np.argmax(q[state_y][state_x])\n",
    "        next_policy[state_y][state_x][idx_action] = 1\n",
    "    return next_policy"
   ]
  },
  {
   "cell_type": "code",
   "execution_count": 165,
   "id": "657555ba",
   "metadata": {},
   "outputs": [
    {
     "data": {
      "text/plain": [
       "(0, 0)"
      ]
     },
     "execution_count": 165,
     "metadata": {},
     "output_type": "execute_result"
    }
   ],
   "source": [
    "env = fl.FrozenLakeEnv(map_name=\"4x4\")\n",
    "env.reset()"
   ]
  },
  {
   "cell_type": "code",
   "execution_count": 166,
   "id": "6e71b801",
   "metadata": {},
   "outputs": [
    {
     "data": {
      "text/plain": [
       "array([0., 0., 0., 0., 0., 0., 0., 0., 0., 0., 0., 0., 0., 0., 0., 0.])"
      ]
     },
     "execution_count": 166,
     "metadata": {},
     "output_type": "execute_result"
    }
   ],
   "source": [
    "policy,actions_set = init_policy(env)\n",
    "actions_dict ={action:i for i,action in enumerate(sorted(actions_set))}\n",
    "values = init_values(policy)\n",
    "values"
   ]
  },
  {
   "cell_type": "code",
   "execution_count": 83,
   "id": "66e16a8a",
   "metadata": {},
   "outputs": [
    {
     "name": "stdout",
     "output_type": "stream",
     "text": [
      "down 0\n",
      "left 1\n",
      "right 2\n",
      "up 3\n"
     ]
    }
   ],
   "source": [
    "for action in actions_set:\n",
    "    print(action, actions_dict[action])"
   ]
  },
  {
   "cell_type": "code",
   "execution_count": 84,
   "id": "e3058cb7",
   "metadata": {},
   "outputs": [],
   "source": [
    "import tqdm"
   ]
  },
  {
   "cell_type": "code",
   "execution_count": 85,
   "id": "8b30a6bf",
   "metadata": {},
   "outputs": [
    {
     "data": {
      "text/plain": [
       "['down', 'left', 'right', 'up']"
      ]
     },
     "execution_count": 85,
     "metadata": {},
     "output_type": "execute_result"
    }
   ],
   "source": [
    "actions_set"
   ]
  },
  {
   "cell_type": "code",
   "execution_count": 151,
   "id": "313c29a9",
   "metadata": {},
   "outputs": [
    {
     "name": "stderr",
     "output_type": "stream",
     "text": [
      "100%|██████████| 100/100 [00:06<00:00, 16.46it/s]\n"
     ]
    },
    {
     "data": {
      "text/plain": [
       "array([[[1., 0., 0., 0.],\n",
       "        [0., 0., 1., 0.],\n",
       "        [1., 0., 0., 0.],\n",
       "        [0., 1., 0., 0.]],\n",
       "\n",
       "       [[1., 0., 0., 0.],\n",
       "        [1., 0., 0., 0.],\n",
       "        [1., 0., 0., 0.],\n",
       "        [1., 0., 0., 0.]],\n",
       "\n",
       "       [[0., 0., 1., 0.],\n",
       "        [1., 0., 0., 0.],\n",
       "        [1., 0., 0., 0.],\n",
       "        [1., 0., 0., 0.]],\n",
       "\n",
       "       [[1., 0., 0., 0.],\n",
       "        [0., 0., 1., 0.],\n",
       "        [0., 0., 1., 0.],\n",
       "        [1., 0., 0., 0.]]])"
      ]
     },
     "execution_count": 151,
     "metadata": {},
     "output_type": "execute_result"
    }
   ],
   "source": [
    "L = 100\n",
    "K = 100\n",
    "gamma = 0.8\n",
    "\n",
    "values = init_values(policy)\n",
    "for k in tqdm.tqdm(range(K), position=0):\n",
    "    for l in range(L):\n",
    "        values = policy_evaluation_step(policy, values, gamma)\n",
    "    q = Q(policy, values, actions_dict)\n",
    "    policy = policy_improvement(policy, q)\n",
    "\n",
    "policy\n"
   ]
  },
  {
   "cell_type": "code",
   "execution_count": 153,
   "id": "8eda5f69",
   "metadata": {},
   "outputs": [
    {
     "name": "stdout",
     "output_type": "stream",
     "text": [
      "d d r d\n",
      "r d d r\n",
      "d d d r\n",
      "l d d d\n"
     ]
    }
   ],
   "source": [
    "actions_arr = [0]*4\n",
    "for k,v in actions_dict.items():\n",
    "    actions_arr[v]=k\n",
    "actions_arr\n",
    "\n",
    "field = []\n",
    "row = []\n",
    "for y, x in env.get_all_states():\n",
    "    row.append(actions_arr[np.argmax(policy[x][y])][0])\n",
    "    if x == 3:\n",
    "        field.append(' '.join(row))\n",
    "        row = []\n",
    "print('\\n'.join(field))"
   ]
  },
  {
   "cell_type": "code",
   "execution_count": null,
   "id": "4e5fcded",
   "metadata": {},
   "outputs": [],
   "source": [
    "def run_test(policy):\n",
    "    total_reward = 0\n",
    "    state = env.reset()\n",
    "    \n",
    "    for i in range(100):\n",
    "        possible_actions = list(sorted(env.get_possible_actions(state)))\n",
    "#         print(possible_actions)\n",
    "        state_y, state_x = state\n",
    "        actions_distr = policy[state_y][state_x]\n",
    "\n",
    "        action = np.random.choice(possible_actions,p=actions_distr)\n",
    "        state, reward, done, _ = env.step(action)\n",
    "#         print(state, reward, done, _,action, actions_distr)\n",
    "#         env.render()\n",
    "        total_reward += reward\n",
    "\n",
    "        if done: break\n",
    "    return total_reward, i"
   ]
  },
  {
   "cell_type": "code",
   "execution_count": 185,
   "id": "f5f78da5",
   "metadata": {},
   "outputs": [
    {
     "name": "stderr",
     "output_type": "stream",
     "text": [
      "\r",
      "0it [00:00, ?it/s]"
     ]
    }
   ],
   "source": [
    "t = tqdm.tqdm(position=0)"
   ]
  },
  {
   "cell_type": "code",
   "execution_count": 170,
   "id": "5f58c220",
   "metadata": {},
   "outputs": [
    {
     "name": "stderr",
     "output_type": "stream",
     "text": [
      "/home/shmalex/anaconda3/lib/python3.7/site-packages/ipykernel/ipkernel.py:287: DeprecationWarning: `should_run_async` will not call `transform_cell` automatically in the future. Please pass the result to `transformed_cell` argument and any exception that happen during thetransform in `preprocessing_exc_tuple` in IPython 7.17 and above.\n",
      "  and should_run_async(code)\n",
      "\r",
      "0it [00:00, ?it/s]"
     ]
    }
   ],
   "source": [
    "t.reset()\n"
   ]
  },
  {
   "cell_type": "code",
   "execution_count": 195,
   "id": "08f86eed",
   "metadata": {},
   "outputs": [
    {
     "name": "stderr",
     "output_type": "stream",
     "text": [
      "\r",
      "7it [04:27,  3.67it/s, start=0]"
     ]
    }
   ],
   "source": [
    "t.set_postfix({'start':0})"
   ]
  },
  {
   "cell_type": "code",
   "execution_count": 201,
   "id": "0e9e6b8e",
   "metadata": {},
   "outputs": [
    {
     "ename": "NameError",
     "evalue": "name 'at' is not defined",
     "output_type": "error",
     "traceback": [
      "\u001b[0;31m------------------------------------\u001b[0m",
      "\u001b[0;31mNameError\u001b[0mTraceback (most recent call last)",
      "\u001b[0;32m<ipython-input-201-57d2d42f4458>\u001b[0m in \u001b[0;36m<module>\u001b[0;34m\u001b[0m\n\u001b[0;32m----> 1\u001b[0;31m \u001b[0mat\u001b[0m\u001b[0;34m.\u001b[0m\u001b[0mupdate\u001b[0m\u001b[0;34m(\u001b[0m\u001b[0;34m)\u001b[0m\u001b[0;34m\u001b[0m\u001b[0;34m\u001b[0m\u001b[0m\n\u001b[0m",
      "\u001b[0;31mNameError\u001b[0m: name 'at' is not defined"
     ]
    }
   ],
   "source": [
    "at.update()"
   ]
  },
  {
   "cell_type": "code",
   "execution_count": 288,
   "id": "313dc0e6",
   "metadata": {},
   "outputs": [],
   "source": [
    "def stats(g, r, s):\n",
    "    sucess = np.sum(r[r==1])/len(r)\n",
    "    fail = 1 - sucess\n",
    "    sucess_len = np.mean(s[r==1])\n",
    "    fail_len = np.mean(s[r==0])\n",
    "    return g, sucess, fail, sucess_len, fail_len"
   ]
  },
  {
   "cell_type": "code",
   "execution_count": 289,
   "id": "1f288e90",
   "metadata": {},
   "outputs": [],
   "source": [
    "def experiment(L, K, NN, gamma, tqdm_train, tqdm_test):\n",
    "\n",
    "    tqdm_train.reset()\n",
    "    tqdm_test.reset()\n",
    "    # gamma = 0.8\n",
    "    policy,actions_set = init_policy(env)\n",
    "    actions_dict ={action:i for i,action in enumerate(sorted(actions_set))}\n",
    "    values = init_values(policy)\n",
    "    values\n",
    "    for k in range(K):\n",
    "        tqdm_train.update()\n",
    "        for l in range(L):\n",
    "            values = policy_evaluation_step(policy, values, gamma)\n",
    "        q = Q(policy, values, actions_dict)\n",
    "        policy = policy_improvement(policy, q)\n",
    "    policy\n",
    "    runs = []\n",
    "    for _ in range(NN):\n",
    "        runs.append(run_test())\n",
    "        tqdm_test.update()\n",
    "    runs = np.array(runs)\n",
    "    rewards, steps = runs[::,0], runs[::,1]\n",
    "    return rewards, steps"
   ]
  },
  {
   "cell_type": "code",
   "execution_count": 290,
   "id": "1ac75813",
   "metadata": {},
   "outputs": [],
   "source": [
    "def experiments(L, K, NN, gammas):\n",
    "    exps=[]\n",
    "    tqdm_gammas = tqdm.tqdm_notebook(total=len(gammas), desc='gammas', position=0)\n",
    "    tqdm_train = tqdm.tqdm_notebook(total=K, desc='train', position=1)\n",
    "    tqdm_test  = tqdm.tqdm_notebook(total=NN, desc='test', position=2)\n",
    "    for gamma in gammas:\n",
    "        tqdm_gammas.set_description('gamma:'+f\"{gamma:0.5}\")\n",
    "        rewards, steps = experiment(L, K, NN, gamma, tqdm_train, tqdm_test)\n",
    "        exps.append(stats(gamma, rewards, steps))\n",
    "        tqdm_gammas.update()\n",
    "    return exps"
   ]
  },
  {
   "cell_type": "code",
   "execution_count": null,
   "id": "40059598",
   "metadata": {},
   "outputs": [
    {
     "name": "stderr",
     "output_type": "stream",
     "text": [
      "/home/shmalex/anaconda3/lib/python3.7/site-packages/ipykernel_launcher.py:3: TqdmDeprecationWarning: This function will be removed in tqdm==5.0.0\n",
      "Please use `tqdm.notebook.tqdm` instead of `tqdm.tqdm_notebook`\n",
      "  This is separate from the ipykernel package so we can avoid doing imports until\n"
     ]
    },
    {
     "data": {
      "application/vnd.jupyter.widget-view+json": {
       "model_id": "fcb1c6177adb473e83615fdd7a40bba2",
       "version_major": 2,
       "version_minor": 0
      },
      "text/plain": [
       "gammas:   0%|          | 0/30 [00:00<?, ?it/s]"
      ]
     },
     "metadata": {},
     "output_type": "display_data"
    },
    {
     "data": {
      "application/vnd.jupyter.widget-view+json": {
       "model_id": "eb62d46b333841f2be8650c0711588a5",
       "version_major": 2,
       "version_minor": 0
      },
      "text/plain": [
       "train:   0%|          | 0/100 [00:00<?, ?it/s]"
      ]
     },
     "metadata": {},
     "output_type": "display_data"
    },
    {
     "data": {
      "application/vnd.jupyter.widget-view+json": {
       "model_id": "c1c6cd5793dd48a2b8b4557e55227dbe",
       "version_major": 2,
       "version_minor": 0
      },
      "text/plain": [
       "test:   0%|          | 0/10000 [00:00<?, ?it/s]"
      ]
     },
     "metadata": {},
     "output_type": "display_data"
    }
   ],
   "source": [
    "gammas = np.linspace(0,1, num=30)\n",
    "gammas\n",
    "\n",
    "NN = 10000\n",
    "L = 100\n",
    "K = 100\n",
    "exps = experiments(L, K, NN, gammas)"
   ]
  },
  {
   "cell_type": "code",
   "execution_count": 295,
   "id": "ddf8f67d",
   "metadata": {},
   "outputs": [],
   "source": [
    "exps = np.array(exps)\n"
   ]
  },
  {
   "cell_type": "code",
   "execution_count": 296,
   "id": "5c0e9291",
   "metadata": {},
   "outputs": [
    {
     "data": {
      "text/plain": [
       "<matplotlib.collections.PathCollection at 0x7f727cc98250>"
      ]
     },
     "execution_count": 296,
     "metadata": {},
     "output_type": "execute_result"
    },
    {
     "data": {
      "image/png": "[encoded data removed]",
      "text/plain": [
       "<Figure size 432x288 with 1 Axes>"
      ]
     },
     "metadata": {
      "needs_background": "light"
     },
     "output_type": "display_data"
    }
   ],
   "source": [
    "plt.scatter(exps[::,0],exps[::,1])"
   ]
  },
  {
   "cell_type": "code",
   "execution_count": 297,
   "id": "2eb8b373",
   "metadata": {},
   "outputs": [
    {
     "data": {
      "text/plain": [
       "array([[ 0.        ,  0.0147    ,  0.9853    , 11.96598639,  6.61230082],\n",
       "       [ 0.11111111,  0.0142    ,  0.9858    , 12.92957746,  6.57892067],\n",
       "       [ 0.22222222,  0.0139    ,  0.9861    , 12.33093525,  6.65175946],\n",
       "       [ 0.33333333,  0.0157    ,  0.9843    , 12.21656051,  6.63679772],\n",
       "       [ 0.44444444,  0.0155    ,  0.9845    , 11.75483871,  6.5523616 ],\n",
       "       [ 0.55555556,  0.0167    ,  0.9833    , 13.4251497 ,  6.5096105 ],\n",
       "       [ 0.66666667,  0.0151    ,  0.9849    , 11.96688742,  6.66422987],\n",
       "       [ 0.77777778,  0.0148    ,  0.9852    , 12.38513514,  6.60535932],\n",
       "       [ 0.88888889,  0.0156    ,  0.9844    , 12.30128205,  6.51787891],\n",
       "       [ 1.        ,  0.014     ,  0.986     , 12.40714286,  6.64371197]])"
      ]
     },
     "execution_count": 297,
     "metadata": {},
     "output_type": "execute_result"
    }
   ],
   "source": [
    "exps"
   ]
  },
  {
   "cell_type": "code",
   "execution_count": 230,
   "id": "1f9c0354",
   "metadata": {},
   "outputs": [
    {
     "data": {
      "text/plain": [
       "3"
      ]
     },
     "execution_count": 230,
     "metadata": {},
     "output_type": "execute_result"
    }
   ],
   "source": [
    "len(exps)"
   ]
  },
  {
   "cell_type": "code",
   "execution_count": 246,
   "id": "e9761ff9",
   "metadata": {},
   "outputs": [
    {
     "ename": "ValueError",
     "evalue": "too many values to unpack (expected 3)",
     "output_type": "error",
     "traceback": [
      "\u001b[0;31m------------------------------------\u001b[0m",
      "\u001b[0;31mValueError\u001b[0mTraceback (most recent call last)",
      "\u001b[0;32m<ipython-input-246-224bc98e7af6>\u001b[0m in \u001b[0;36m<module>\u001b[0;34m\u001b[0m\n\u001b[0;32m----> 1\u001b[0;31m \u001b[0mg\u001b[0m\u001b[0;34m,\u001b[0m \u001b[0mr\u001b[0m\u001b[0;34m,\u001b[0m \u001b[0ms\u001b[0m \u001b[0;34m=\u001b[0m \u001b[0mexps\u001b[0m\u001b[0;34m[\u001b[0m\u001b[0;36m0\u001b[0m\u001b[0;34m]\u001b[0m\u001b[0;34m\u001b[0m\u001b[0;34m\u001b[0m\u001b[0m\n\u001b[0m",
      "\u001b[0;31mValueError\u001b[0m: too many values to unpack (expected 3)"
     ]
    }
   ],
   "source": [
    "g, r, s = exps[0]"
   ]
  },
  {
   "cell_type": "code",
   "execution_count": 233,
   "id": "2873eb75",
   "metadata": {},
   "outputs": [
    {
     "data": {
      "text/plain": [
       "0.0"
      ]
     },
     "execution_count": 233,
     "metadata": {},
     "output_type": "execute_result"
    }
   ],
   "source": [
    "g"
   ]
  },
  {
   "cell_type": "code",
   "execution_count": 245,
   "id": "6c2a49f7",
   "metadata": {},
   "outputs": [
    {
     "data": {
      "text/plain": [
       "(0.012, 0.988, 11.666666666666666, 6.618421052631579)"
      ]
     },
     "execution_count": 245,
     "metadata": {},
     "output_type": "execute_result"
    }
   ],
   "source": [
    "stats(g, r, s)"
   ]
  },
  {
   "cell_type": "code",
   "execution_count": 158,
   "id": "b0b5a794",
   "metadata": {},
   "outputs": [],
   "source": [
    "def test_policy(policy):\n",
    "    total_reward = 0\n",
    "    state = env.reset()\n",
    "    for i in range(100):\n",
    "        possible_actions = list(sorted(env.get_possible_actions(state)))\n",
    "#         print(possible_actions)\n",
    "        state_y, state_x = state\n",
    "        actions_distr = policy[state_y][state_x]\n",
    "\n",
    "        action = np.random.choice(possible_actions,p=actions_distr)\n",
    "        state, reward, done, _ = env.step(action)\n",
    "#         print(state, reward, done, _,action, actions_distr)\n",
    "#         env.render()\n",
    "        total_reward += reward\n",
    "\n",
    "        if done: break\n",
    "    return total_reward, i"
   ]
  },
  {
   "cell_type": "code",
   "execution_count": 126,
   "id": "8ac707b7",
   "metadata": {},
   "outputs": [
    {
     "name": "stderr",
     "output_type": "stream",
     "text": [
      "100%|██████████| 10000/10000 [00:06<00:00, 1459.44it/s]\n"
     ]
    }
   ],
   "source": [
    "NN = 10000\n",
    "runs = [run_test()for _ in tqdm.tqdm(range(NN))]\n",
    "runs = np.array(runs)"
   ]
  },
  {
   "cell_type": "code",
   "execution_count": 114,
   "id": "5d2db967",
   "metadata": {},
   "outputs": [
    {
     "name": "stderr",
     "output_type": "stream",
     "text": [
      "/home/shmalex/anaconda3/lib/python3.7/site-packages/ipykernel/ipkernel.py:287: DeprecationWarning: `should_run_async` will not call `transform_cell` automatically in the future. Please pass the result to `transformed_cell` argument and any exception that happen during thetransform in `preprocessing_exc_tuple` in IPython 7.17 and above.\n",
      "  and should_run_async(code)\n"
     ]
    }
   ],
   "source": [
    "import matplotlib.pyplot as plt"
   ]
  },
  {
   "cell_type": "code",
   "execution_count": 129,
   "id": "59d804af",
   "metadata": {},
   "outputs": [
    {
     "name": "stdout",
     "output_type": "stream",
     "text": [
      "0.7276 0.2724\n"
     ]
    }
   ],
   "source": [
    "success = np.sum(runs[::,0]==1.)/NN\n",
    "fail = 1-success\n",
    "print(success, fail)"
   ]
  },
  {
   "cell_type": "code",
   "execution_count": 128,
   "id": "362cd117",
   "metadata": {},
   "outputs": [
    {
     "data": {
      "image/png": "[encoded data removed]",
      "text/plain": [
       "<Figure size 432x288 with 1 Axes>"
      ]
     },
     "metadata": {
      "needs_background": "light"
     },
     "output_type": "display_data"
    }
   ],
   "source": [
    "plt.hist(runs[runs[::,0]==0.][::,1], color='red' , alpha=0.3, bins=50)\n",
    "plt.hist(runs[runs[::,0]==1.][::,1], color='blue', alpha=0.3, bins=50)\n",
    "plt.show()"
   ]
  },
  {
   "cell_type": "code",
   "execution_count": 40,
   "id": "2cddcafe",
   "metadata": {},
   "outputs": [
    {
     "data": {
      "text/plain": [
       "1.0"
      ]
     },
     "execution_count": 40,
     "metadata": {},
     "output_type": "execute_result"
    }
   ],
   "source": [
    "total_reward"
   ]
  },
  {
   "cell_type": "code",
   "execution_count": 61,
   "id": "5d413184",
   "metadata": {},
   "outputs": [
    {
     "data": {
      "text/plain": [
       "inf"
      ]
     },
     "execution_count": 61,
     "metadata": {},
     "output_type": "execute_result"
    }
   ],
   "source": [
    "float('Inf')"
   ]
  },
  {
   "cell_type": "code",
   "execution_count": 54,
   "id": "c267338e",
   "metadata": {},
   "outputs": [
    {
     "name": "stderr",
     "output_type": "stream",
     "text": [
      "100%|██████████| 100/100 [00:04<00:00, 24.76it/s]\n"
     ]
    },
    {
     "name": "stdout",
     "output_type": "stream",
     "text": [
      "SFFF\n",
      "*HFH\n",
      "FFFH\n",
      "HFFG\n",
      "\n",
      "SFFF\n",
      "FHFH\n",
      "*FFH\n",
      "HFFG\n",
      "\n",
      "SFFF\n",
      "FHFH\n",
      "F*FH\n",
      "HFFG\n",
      "\n",
      "SFFF\n",
      "FHFH\n",
      "FFFH\n",
      "H*FG\n",
      "\n",
      "SFFF\n",
      "FHFH\n",
      "FFFH\n",
      "H*FG\n",
      "\n",
      "SFFF\n",
      "FHFH\n",
      "FFFH\n",
      "HF*G\n",
      "\n"
     ]
    },
    {
     "ename": "KeyboardInterrupt",
     "evalue": "",
     "output_type": "error",
     "traceback": [
      "\u001b[0;31m---------------------------------------------------------------------------\u001b[0m",
      "\u001b[0;31mKeyboardInterrupt\u001b[0m                         Traceback (most recent call last)",
      "\u001b[0;32m<ipython-input-54-c1c0c2a6ad92>\u001b[0m in \u001b[0;36m<module>\u001b[0;34m\u001b[0m\n\u001b[1;32m     79\u001b[0m     \u001b[0mstate\u001b[0m\u001b[0;34m,\u001b[0m \u001b[0mreward\u001b[0m\u001b[0;34m,\u001b[0m \u001b[0mdone\u001b[0m\u001b[0;34m,\u001b[0m \u001b[0m_\u001b[0m \u001b[0;34m=\u001b[0m \u001b[0menv\u001b[0m\u001b[0;34m.\u001b[0m\u001b[0mstep\u001b[0m\u001b[0;34m(\u001b[0m\u001b[0maction\u001b[0m\u001b[0;34m)\u001b[0m\u001b[0;34m\u001b[0m\u001b[0;34m\u001b[0m\u001b[0m\n\u001b[1;32m     80\u001b[0m \u001b[0;34m\u001b[0m\u001b[0m\n\u001b[0;32m---> 81\u001b[0;31m     \u001b[0mtime\u001b[0m\u001b[0;34m.\u001b[0m\u001b[0msleep\u001b[0m\u001b[0;34m(\u001b[0m\u001b[0;36m1\u001b[0m\u001b[0;34m)\u001b[0m\u001b[0;34m\u001b[0m\u001b[0;34m\u001b[0m\u001b[0m\n\u001b[0m\u001b[1;32m     82\u001b[0m     \u001b[0menv\u001b[0m\u001b[0;34m.\u001b[0m\u001b[0mrender\u001b[0m\u001b[0;34m(\u001b[0m\u001b[0;34m)\u001b[0m\u001b[0;34m\u001b[0m\u001b[0;34m\u001b[0m\u001b[0m\n\u001b[1;32m     83\u001b[0m \u001b[0;34m\u001b[0m\u001b[0m\n",
      "\u001b[0;31mKeyboardInterrupt\u001b[0m: "
     ]
    }
   ],
   "source": [
    "from Frozen_Lake import FrozenLakeEnv\n",
    "import numpy as np\n",
    "import time\n",
    "\n",
    "env = FrozenLakeEnv()\n",
    "\n",
    "def init_policy():\n",
    "    policy = {}\n",
    "    for state in env.get_all_states():\n",
    "        policy[state] = {}\n",
    "        for action in env.get_possible_actions(state):\n",
    "            policy[state][action] = 1 / len(env.get_possible_actions(state))\n",
    "    return policy\n",
    "\n",
    "def policy_evaluation_step(policy, values, gamma):\n",
    "    q_values = get_q_values(values, gamma)\n",
    "    \n",
    "    new_values = {}\n",
    "    for state in env.get_all_states():\n",
    "        new_values[state] = 0\n",
    "        for action in env.get_possible_actions(state):\n",
    "            new_values[state] += policy[state][action] * q_values[state][action]\n",
    "    \n",
    "    return new_values\n",
    "\n",
    "def init_values():\n",
    "    return {state: 0 for state in env.get_all_states()}\n",
    "\n",
    "def get_q_values(values, gamma):\n",
    "    q_values = {}\n",
    "    for state in env.get_all_states():\n",
    "        q_values[state] = {}\n",
    "        for action in env.get_possible_actions(state):\n",
    "            q_values[state][action] = 0\n",
    "            for next_state in env.get_next_states(state, action):\n",
    "                reward = env.get_reward(state, action, next_state)\n",
    "                transition_prob = env.get_transition_prob(state, action, next_state)\n",
    "                next_value = values[next_state]\n",
    "                q_values[state][action] += transition_prob * (reward + gamma * next_value)\n",
    "    return q_values\n",
    "\n",
    "def policy_evaluation(policy, gamma, evaluation_step_n):\n",
    "    values = init_values()\n",
    "    for _ in range(evaluation_step_n):\n",
    "        values = policy_evaluation_step(policy, values, gamma)\n",
    "    q_values = get_q_values(values, gamma)\n",
    "    return q_values\n",
    "\n",
    "def policy_improvement(q_values):\n",
    "    new_policy = {}\n",
    "    for state in env.get_all_states():\n",
    "        new_policy[state] = {}\n",
    "        max_action = None\n",
    "        max_q_value = float('-inf')\n",
    "        for action in env.get_possible_actions(state):\n",
    "            if q_values[state][action] > max_q_value:\n",
    "                max_q_value = q_values[state][action]\n",
    "                max_action = action\n",
    "        for action in env.get_possible_actions(state):\n",
    "            new_policy[state][action] = 1 if action == max_action else 0\n",
    "    return new_policy\n",
    "\n",
    "\n",
    "iteration_n = 100\n",
    "evaluation_step_n = 100\n",
    "gamma = 0.9\n",
    "\n",
    "policy = init_policy()\n",
    "for k in tqdm.tqdm(range(iteration_n), position=0):\n",
    "    \n",
    "    q_values = policy_evaluation(policy, gamma, evaluation_step_n)\n",
    "    policy = policy_improvement(q_values)\n",
    "    \n",
    "\n",
    "total_reward = 0\n",
    "state = env.reset()\n",
    "for _ in range(100):\n",
    "    action = np.random.choice(env.get_possible_actions(state), p=list(policy[state].values()))\n",
    "    state, reward, done, _ = env.step(action)\n",
    "    \n",
    "    time.sleep(1)\n",
    "    env.render()\n",
    "    \n",
    "    total_reward += reward\n",
    "    \n",
    "    if done or env.is_terminal(state):\n",
    "        break\n",
    "\n",
    "print(f'total reward = {total_reward}')"
   ]
  },
  {
   "cell_type": "code",
   "execution_count": 10,
   "id": "ae065944",
   "metadata": {},
   "outputs": [],
   "source": [
    "def stats(g, r, s):\n",
    "    sucess = np.sum(r[r==1])/len(r)\n",
    "    fail = 1 - sucess\n",
    "    sucess_len = np.mean(s[r==1])\n",
    "    fail_len = np.mean(s[r==0])\n",
    "    return g, sucess, fail, sucess_len, fail_len"
   ]
  },
  {
   "cell_type": "code",
   "execution_count": 60,
   "id": "5fe83062",
   "metadata": {},
   "outputs": [],
   "source": [
    "def experiment(L, K, NN, gamma, tqdm_train, tqdm_test):\n",
    "\n",
    "    tqdm_train.reset()\n",
    "    tqdm_test.reset()\n",
    "    # gamma = 0.8\n",
    "    policy = init_policy()\n",
    "    for k in range(K):\n",
    "        q_values = policy_evaluation(policy, gamma, L)\n",
    "#         q_values = policy_evaluation(policy, gamma, evaluation_step_n)\n",
    "        policy = policy_improvement(q_values)\n",
    "    runs = []\n",
    "    for _ in range(NN):\n",
    "        runs.append(run_test(policy))\n",
    "        tqdm_test.update()\n",
    "    runs = np.array(runs)\n",
    "    rewards, steps = runs[::,0], runs[::,1]\n",
    "    return rewards, steps"
   ]
  },
  {
   "cell_type": "code",
   "execution_count": 61,
   "id": "d7f8d972",
   "metadata": {},
   "outputs": [],
   "source": [
    "def stats(g, r, s):\n",
    "    sucess = np.sum(r[r==1])/len(r)\n",
    "    fail = 1 - sucess\n",
    "    sucess_len = np.mean(s[r==1])\n",
    "    fail_len = np.mean(s[r==0])\n",
    "    return g, sucess, fail, sucess_len, fail_len"
   ]
  },
  {
   "cell_type": "code",
   "execution_count": 62,
   "id": "cbe200b6",
   "metadata": {},
   "outputs": [],
   "source": [
    "def run_test(policy):\n",
    "    \n",
    "    total_reward = 0\n",
    "    state = env.reset()\n",
    "    for i in range(100):\n",
    "        action = np.random.choice(env.get_possible_actions(state), p=list(policy[state].values()))\n",
    "        state, reward, done, _ = env.step(action)\n",
    "        total_reward += reward\n",
    "\n",
    "        if done or env.is_terminal(state):\n",
    "            break\n",
    "\n",
    "    return total_reward, i\n"
   ]
  },
  {
   "cell_type": "code",
   "execution_count": 63,
   "id": "c6da8b36",
   "metadata": {},
   "outputs": [],
   "source": [
    "def experiments(L, K, NN, gammas):\n",
    "    exps=[]\n",
    "    tqdm_gammas = tqdm.tqdm_notebook(total=len(gammas), desc='gammas', position=0)\n",
    "    tqdm_train = tqdm.tqdm_notebook(total=K, desc='train', position=1)\n",
    "    tqdm_test  = tqdm.tqdm_notebook(total=NN, desc='test', position=2)\n",
    "    for gamma in gammas:\n",
    "        tqdm_gammas.set_description('gamma:'+f\"{gamma:0.5}\")\n",
    "        rewards, steps = experiment(L, K, NN, gamma, tqdm_train, tqdm_test)\n",
    "        exps.append(stats(gamma, rewards, steps))\n",
    "        tqdm_gammas.update()\n",
    "    return exps"
   ]
  },
  {
   "cell_type": "code",
   "execution_count": 64,
   "id": "2927b917",
   "metadata": {},
   "outputs": [
    {
     "data": {
      "text/plain": [
       "array([0.988     , 0.98911111, 0.99022222, 0.99133333, 0.99244444,\n",
       "       0.99355556, 0.99466667, 0.99577778, 0.99688889, 0.998     ])"
      ]
     },
     "execution_count": 64,
     "metadata": {},
     "output_type": "execute_result"
    }
   ],
   "source": [
    "gammas = np.linspace(0.9880,0.998, num=10)\n",
    "gammas"
   ]
  },
  {
   "cell_type": "code",
   "execution_count": 65,
   "id": "8c5f80a0",
   "metadata": {},
   "outputs": [
    {
     "name": "stderr",
     "output_type": "stream",
     "text": [
      "/home/shmalex/anaconda3/lib/python3.7/site-packages/ipykernel_launcher.py:3: TqdmDeprecationWarning: This function will be removed in tqdm==5.0.0\n",
      "Please use `tqdm.notebook.tqdm` instead of `tqdm.tqdm_notebook`\n",
      "  This is separate from the ipykernel package so we can avoid doing imports until\n"
     ]
    },
    {
     "data": {
      "application/vnd.jupyter.widget-view+json": {
       "model_id": "76db119486184cd3afdc415290833cb4",
       "version_major": 2,
       "version_minor": 0
      },
      "text/plain": [
       "gammas:   0%|          | 0/10 [00:00<?, ?it/s]"
      ]
     },
     "metadata": {},
     "output_type": "display_data"
    },
    {
     "data": {
      "application/vnd.jupyter.widget-view+json": {
       "model_id": "1adc7a1c1cf5400f8edd28b5ef4538be",
       "version_major": 2,
       "version_minor": 0
      },
      "text/plain": [
       "train:   0%|          | 0/100 [00:00<?, ?it/s]"
      ]
     },
     "metadata": {},
     "output_type": "display_data"
    },
    {
     "data": {
      "application/vnd.jupyter.widget-view+json": {
       "model_id": "cad1bf0bb5f14834bf88f44ae003b31e",
       "version_major": 2,
       "version_minor": 0
      },
      "text/plain": [
       "test:   0%|          | 0/5000 [00:00<?, ?it/s]"
      ]
     },
     "metadata": {},
     "output_type": "display_data"
    }
   ],
   "source": [
    "NN = 5000\n",
    "L = 100\n",
    "K = 100\n",
    "exps = experiments(L, K, NN, gammas)"
   ]
  },
  {
   "cell_type": "code",
   "execution_count": 66,
   "id": "d4f6514f",
   "metadata": {},
   "outputs": [],
   "source": [
    "exps = np.array(exps)"
   ]
  },
  {
   "cell_type": "code",
   "execution_count": 68,
   "id": "c6ad6e55",
   "metadata": {},
   "outputs": [
    {
     "data": {
      "text/plain": [
       "(0.0, 1.0)"
      ]
     },
     "execution_count": 68,
     "metadata": {},
     "output_type": "execute_result"
    },
    {
     "data": {
      "image/png": "[encoded data removed]",
      "text/plain": [
       "<Figure size 432x288 with 1 Axes>"
      ]
     },
     "metadata": {
      "needs_background": "light"
     },
     "output_type": "display_data"
    }
   ],
   "source": [
    "plt.scatter(exps[::,0],exps[::,1])\n",
    "plt.ylim((0,1))"
   ]
  },
  {
   "cell_type": "code",
   "execution_count": null,
   "id": "c1bcc99b",
   "metadata": {},
   "outputs": [],
   "source": []
  }
 ],
 "metadata": {
  "kernelspec": {
   "display_name": "Python 3",
   "language": "python",
   "name": "python3"
  },
  "language_info": {
   "codemirror_mode": {
    "name": "ipython",
    "version": 3
   },
   "file_extension": ".py",
   "mimetype": "text/x-python",
   "name": "python",
   "nbconvert_exporter": "python",
   "pygments_lexer": "ipython3",
   "version": "3.7.10"
  }
 },
 "nbformat": 4,
 "nbformat_minor": 5
}
